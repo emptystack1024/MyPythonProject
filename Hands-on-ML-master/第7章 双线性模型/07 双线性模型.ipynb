{
 "cells": [
  {
   "cell_type": "code",
   "execution_count": 1,
   "metadata": {
    "cell_id": "57654ce51cf5479db3e9250a67bc21be",
    "deepnote_app_coordinates": {
     "h": 5,
     "w": 12,
     "x": 0,
     "y": 25
    },
    "deepnote_cell_type": "code"
   },
   "outputs": [
    {
     "name": "stdout",
     "output_type": "stream",
     "text": [
      "数据集大小： 100000\n",
      "用户数：943，电影数：1682\n",
      "[215  47  42  19 139 170 320  47  18 156]\n",
      "[371 109  70 172  70  21 308 158 240  68]\n"
     ]
    }
   ],
   "source": [
    "import numpy as np\n",
    "import matplotlib.pyplot as plt\n",
    "from tqdm import tqdm # 进度条工具\n",
    "\n",
    "data = np.loadtxt('movielens_100k.csv', delimiter=',', dtype=int)\n",
    "print('数据集大小：', len(data))\n",
    "# 用户和电影都是从1开始编号的，我们将其转化为从0开始\n",
    "data[:, :2] = data[:, :2] - 1\n",
    "\n",
    "# 计算用户和电影数量\n",
    "users = set()\n",
    "items = set()\n",
    "for i, j, k in data:\n",
    "    users.add(i)\n",
    "    items.add(j)\n",
    "user_num = len(users)\n",
    "item_num = len(items)\n",
    "print(f'用户数：{user_num}，电影数：{item_num}')\n",
    "\n",
    "# 设置随机种子，划分训练集与测试集\n",
    "np.random.seed(0)\n",
    "\n",
    "ratio = 0.8\n",
    "split = int(len(data) * ratio)\n",
    "np.random.shuffle(data)\n",
    "train = data[:split]\n",
    "test = data[split:]\n",
    "\n",
    "# 统计训练集中每个用户和电影出现的数量，作为正则化的权重\n",
    "user_cnt = np.bincount(train[:, 0], minlength=user_num)\n",
    "item_cnt = np.bincount(train[:, 1], minlength=item_num)\n",
    "print(user_cnt[:10])\n",
    "print(item_cnt[:10])\n",
    "\n",
    "# 用户和电影的编号要作为下标，必须保存为整数\n",
    "user_train, user_test = train[:, 0], test[:, 0]\n",
    "item_train, item_test = train[:, 1], test[:, 1]\n",
    "y_train, y_test = train[:, 2], test[:, 2]"
   ]
  },
  {
   "cell_type": "code",
   "execution_count": 2,
   "metadata": {
    "cell_id": "eb7e34b4066c44c584f557951884b425",
    "deepnote_app_coordinates": {
     "h": 5,
     "w": 12,
     "x": 0,
     "y": 37
    },
    "deepnote_cell_type": "code"
   },
   "outputs": [],
   "source": [
    "class MF:\n",
    "    \n",
    "    def __init__(self, N, M, d):\n",
    "        # N是用户数量，M是电影数量，d是特征维度\n",
    "        # 定义模型参数\n",
    "        self.user_params = np.ones((N, d))\n",
    "        self.item_params = np.ones((M, d))\n",
    "        \n",
    "    def pred(self, user_id, item_id):\n",
    "        # 预测用户user_id对电影item_id的打分\n",
    "        # 获得用户偏好和电影特征\n",
    "        user_param = self.user_params[user_id]\n",
    "        item_param = self.item_params[item_id]\n",
    "        # 返回预测的评分\n",
    "        rating_pred = np.sum(user_param * item_param, axis=1)\n",
    "        return rating_pred\n",
    "    \n",
    "    def update(self, user_grad, item_grad, lr):\n",
    "        # 根据参数的梯度更新参数\n",
    "        self.user_params -= lr * user_grad\n",
    "        self.item_params -= lr * item_grad"
   ]
  },
  {
   "cell_type": "code",
   "execution_count": 3,
   "metadata": {
    "cell_id": "e4c6edbad5dd4d33924f22998316f8ac",
    "deepnote_app_coordinates": {
     "h": 5,
     "w": 12,
     "x": 0,
     "y": 49
    },
    "deepnote_cell_type": "code"
   },
   "outputs": [],
   "source": [
    "def train(model, learning_rate, lbd, max_training_step, batch_size):\n",
    "    train_losses = []\n",
    "    test_losses = []\n",
    "    batch_num = int(np.ceil(len(user_train) / batch_size))\n",
    "    with tqdm(range(max_training_step * batch_num)) as pbar:\n",
    "        for epoch in range(max_training_step):\n",
    "            # 随机梯度下降\n",
    "            train_rmse = 0\n",
    "            for i in range(batch_num):\n",
    "                # 获取当前批量\n",
    "                st = i * batch_size\n",
    "                ed = min(len(user_train), st + batch_size)\n",
    "                user_batch = user_train[st: ed]\n",
    "                item_batch = item_train[st: ed]\n",
    "                y_batch = y_train[st: ed]\n",
    "                # 计算模型预测\n",
    "                y_pred = model.pred(user_batch, item_batch)\n",
    "                # 计算梯度\n",
    "                P = model.user_params\n",
    "                Q = model.item_params\n",
    "                errs = y_batch - y_pred\n",
    "                P_grad = np.zeros_like(P)\n",
    "                Q_grad = np.zeros_like(Q)\n",
    "                for user, item, err in zip(user_batch, item_batch, errs):\n",
    "                    P_grad[user] = P_grad[user] - err * Q[item] + lbd * P[user]\n",
    "                    Q_grad[item] = Q_grad[item] - err * P[user] + lbd * Q[item]\n",
    "                model.update(P_grad / len(user_batch), Q_grad / len(user_batch), learning_rate)\n",
    "                \n",
    "                train_rmse += np.mean(errs ** 2)\n",
    "                # 更新进度条\n",
    "                pbar.set_postfix({\n",
    "                    'Epoch': epoch,\n",
    "                    'Train RMSE': f'{np.sqrt(train_rmse / (i + 1)):.4f}',\n",
    "                    'Test RMSE': f'{test_losses[-1]:.4f}' if test_losses else None\n",
    "                })\n",
    "                pbar.update(1)\n",
    "\n",
    "            # 计算 RMSE 损失\n",
    "            train_rmse = np.sqrt(train_rmse / len(user_train))\n",
    "            train_losses.append(train_rmse)\n",
    "            y_test_pred = model.pred(user_test, item_test)\n",
    "            test_rmse = np.sqrt(np.mean((y_test - y_test_pred) ** 2))\n",
    "            test_losses.append(test_rmse)\n",
    "    \n",
    "    return train_losses, test_losses"
   ]
  },
  {
   "cell_type": "code",
   "execution_count": 4,
   "metadata": {
    "cell_id": "f9c3bdf9f8134ae191f480013f31b916",
    "deepnote_app_coordinates": {
     "h": 5,
     "w": 12,
     "x": 0,
     "y": 61
    },
    "deepnote_cell_type": "code"
   },
   "outputs": [
    {
     "name": "stderr",
     "output_type": "stream",
     "text": [
      "100%|████████████████████████████| 37500/37500 [02:34<00:00, 242.78it/s, Epoch=29, Train RMSE=0.9673, Test RMSE=1.0048]\n"
     ]
    },
    {
     "data": {
      "image/png": "[encoded data removed]",
      "text/plain": [
       "<Figure size 640x480 with 1 Axes>"
      ]
     },
     "metadata": {},
     "output_type": "display_data"
    }
   ],
   "source": [
    "# 超参数\n",
    "feature_num = 16 # 特征数\n",
    "learning_rate = 0.1 # 学习率\n",
    "lbd = 1e-4 # 正则化强度\n",
    "max_training_step = 30\n",
    "batch_size = 64 # 批量大小\n",
    "\n",
    "# 建立模型\n",
    "model = MF(user_num, item_num, feature_num)\n",
    "# 训练部分\n",
    "train_losses, test_losses = train(model, learning_rate, lbd, \n",
    "    max_training_step, batch_size)\n",
    "\n",
    "plt.figure()\n",
    "x = np.arange(max_training_step) + 1\n",
    "plt.plot(x, train_losses, color='blue', label='train loss')\n",
    "plt.plot(x, test_losses, color='red', ls='--', label='test loss')\n",
    "plt.xlabel('Epoch')\n",
    "plt.ylabel('RMSE')\n",
    "plt.legend()\n",
    "plt.show()"
   ]
  },
  {
   "cell_type": "code",
   "execution_count": 5,
   "metadata": {
    "cell_id": "49e35d9ebe1f4722aba0b8a2d3283441",
    "deepnote_app_coordinates": {
     "h": 5,
     "w": 12,
     "x": 0,
     "y": 73
    },
    "deepnote_cell_type": "code"
   },
   "outputs": [
    {
     "name": "stdout",
     "output_type": "stream",
     "text": [
      "[2.57712395 3.48622005 3.76150216 3.58604004 4.8058418  3.47284112\n",
      " 3.37246031 4.0917956  3.02605747 3.45742155]\n",
      "[2 4 4 4 5 2 3 1 4 4]\n"
     ]
    }
   ],
   "source": [
    "y_test_pred = model.pred(user_test, item_test)\n",
    "print(y_test_pred[:10]) # 把张量转换为numpy数组\n",
    "print(y_test[:10])"
   ]
  },
  {
   "cell_type": "code",
   "execution_count": 6,
   "metadata": {
    "cell_id": "bb235f3ac34d403cb7e561122d8f4714",
    "deepnote_app_coordinates": {
     "h": 5,
     "w": 12,
     "x": 0,
     "y": 103
    },
    "deepnote_cell_type": "code"
   },
   "outputs": [
    {
     "name": "stdout",
     "output_type": "stream",
     "text": [
      "训练集大小： 800\n",
      "测试集大小： 200\n",
      "特征数： 24\n"
     ]
    }
   ],
   "source": [
    "import numpy as np\n",
    "import matplotlib.pyplot as plt\n",
    "from sklearn import metrics # sklearn中的评价指标函数库\n",
    "from tqdm import tqdm\n",
    "\n",
    "# 导入数据集\n",
    "data = np.loadtxt('fm_dataset.csv', delimiter=',')\n",
    "\n",
    "# 划分数据集\n",
    "np.random.seed(0)\n",
    "ratio = 0.8\n",
    "split = int(ratio * len(data))\n",
    "x_train = data[:split, :-1]\n",
    "y_train = data[:split, -1]\n",
    "x_test = data[split:, :-1]\n",
    "y_test = data[split:, -1]\n",
    "# 特征数\n",
    "feature_num = x_train.shape[1]\n",
    "print('训练集大小：', len(x_train))\n",
    "print('测试集大小：', len(x_test))\n",
    "print('特征数：', feature_num)"
   ]
  },
  {
   "cell_type": "code",
   "execution_count": 7,
   "metadata": {
    "cell_id": "a2fe9d6caf574c71833830292d742d28",
    "deepnote_app_coordinates": {
     "h": 5,
     "w": 12,
     "x": 0,
     "y": 115
    },
    "deepnote_cell_type": "code"
   },
   "outputs": [],
   "source": [
    "class FM:\n",
    "\n",
    "    def __init__(self, feature_num, vector_dim):\n",
    "        # vector_dim代表公式中的k，为向量v的维度\n",
    "        self.theta0 = 0.0 # 常数项\n",
    "        self.theta = np.zeros(feature_num) # 线性参数\n",
    "        self.v = np.random.normal(size=(feature_num, vector_dim)) # 双线性参数\n",
    "        self.eps = 1e-6 # 精度参数\n",
    "        \n",
    "    def _logistic(self, x):\n",
    "        # 工具函数，用于将预测转化为概率\n",
    "        return 1 / (1 + np.exp(-x))\n",
    "\n",
    "    def pred(self, x):\n",
    "        # 线性部分\n",
    "        linear_term = self.theta0 + x @ self.theta\n",
    "        # 双线性部分\n",
    "        square_of_sum = np.square(x @ self.v)\n",
    "        sum_of_square = np.square(x) @ np.square(self.v)\n",
    "        # 最终预测\n",
    "        y_pred = self._logistic(linear_term \\\n",
    "            + 0.5 * np.sum(square_of_sum - sum_of_square, axis=1))\n",
    "        # 为了防止后续梯度过大，对预测值进行裁剪，将其限制在某一范围内\n",
    "        y_pred = np.clip(y_pred, self.eps, 1 - self.eps)\n",
    "        return y_pred\n",
    "    \n",
    "    def update(self, grad0, grad_theta, grad_v, lr):\n",
    "        self.theta0 -= lr * grad0\n",
    "        self.theta -= lr * grad_theta\n",
    "        self.v -= lr * grad_v"
   ]
  },
  {
   "cell_type": "code",
   "execution_count": 8,
   "metadata": {
    "cell_id": "e624d0064abc4464a471f7587a9ccc0d",
    "deepnote_app_coordinates": {
     "h": 5,
     "w": 12,
     "x": 0,
     "y": 127
    },
    "deepnote_cell_type": "code"
   },
   "outputs": [
    {
     "name": "stderr",
     "output_type": "stream",
     "text": [
      "100%|████████| 200/200 [01:00<00:00,  3.31it/s, 训练轮数=199, 训练损失=11.3006, 训练集准确率=0.816, 测试集准确率=0.785]200 [00:00<?, ?it/s]"
     ]
    },
    {
     "name": "stdout",
     "output_type": "stream",
     "text": [
      "测试集准确率：0.79，\t测试集AUC：0.7201320910484726\n"
     ]
    },
    {
     "name": "stderr",
     "output_type": "stream",
     "text": [
      "\n"
     ]
    }
   ],
   "source": [
    "# 超参数设置，包括学习率、训练轮数等\n",
    "vector_dim = 16\n",
    "learning_rate = 0.01\n",
    "lbd = 0.05\n",
    "max_training_step = 200\n",
    "batch_size = 32\n",
    "\n",
    "# 初始化模型\n",
    "np.random.seed(0)\n",
    "model = FM(feature_num, vector_dim)\n",
    "\n",
    "train_acc = []\n",
    "test_acc = []\n",
    "train_auc = []\n",
    "test_auc = []\n",
    "\n",
    "with tqdm(range(max_training_step)) as pbar:\n",
    "    for epoch in pbar:\n",
    "        st = 0\n",
    "        while st < len(x_train):\n",
    "            ed = min(st + batch_size, len(x_train))\n",
    "            X = x_train[st: ed]\n",
    "            Y = y_train[st: ed]\n",
    "            st += batch_size\n",
    "            # 计算模型预测\n",
    "            y_pred = model.pred(X)\n",
    "            # 计算交叉熵损失\n",
    "            cross_entropy = -Y * np.log(y_pred) \\\n",
    "                - (1 - Y) * np.log(1 - y_pred)\n",
    "            loss = np.sum(cross_entropy)\n",
    "            # 计算损失函数对y的梯度，再根据链式法则得到总梯度\n",
    "            grad_y = (y_pred - Y).reshape(-1, 1)\n",
    "            # 计算y对参数的梯度\n",
    "            # 常数项\n",
    "            grad0 = np.sum(grad_y * (1 / len(X) + lbd))\n",
    "            # 线性项\n",
    "            grad_theta = np.sum(grad_y * (X / len(X) \\\n",
    "                + lbd * model.theta), axis=0)\n",
    "            # 双线性项\n",
    "            grad_v = np.zeros((feature_num, vector_dim))\n",
    "            for i, x in enumerate(X):\n",
    "                # 先计算sum(x_i * v_i)\n",
    "                xv = x @ model.v\n",
    "                grad_vi = np.zeros((feature_num, vector_dim))\n",
    "                for s in range(feature_num):\n",
    "                    grad_vi[s] += x[s] * xv - (x[s] ** 2) * model.v[s]\n",
    "                grad_v += grad_y[i] * grad_vi\n",
    "            grad_v = grad_v / len(X) + lbd * model.v\n",
    "            model.update(grad0, grad_theta, grad_v, learning_rate)\n",
    "\n",
    "            pbar.set_postfix({\n",
    "                '训练轮数': epoch,\n",
    "                '训练损失': f'{loss:.4f}',\n",
    "                '训练集准确率': train_acc[-1] if train_acc else None,\n",
    "                '测试集准确率': test_acc[-1] if test_acc else None\n",
    "            })\n",
    "        # 计算模型预测的准确率和AUC\n",
    "        # 预测准确率，阈值设置为0.5\n",
    "        y_train_pred = (model.pred(x_train) >= 0.5)\n",
    "        acc = np.mean(y_train_pred == y_train)\n",
    "        train_acc.append(acc)\n",
    "        auc = metrics.roc_auc_score(y_train, y_train_pred) # sklearn中的AUC函数\n",
    "        train_auc.append(auc)\n",
    "\n",
    "        y_test_pred = (model.pred(x_test) >= 0.5)\n",
    "        acc = np.mean(y_test_pred == y_test)\n",
    "        test_acc.append(acc)\n",
    "        auc = metrics.roc_auc_score(y_test, y_test_pred) \n",
    "        test_auc.append(auc)\n",
    "            \n",
    "print(f'测试集准确率：{test_acc[-1]}，\\t测试集AUC：{test_auc[-1]}')"
   ]
  },
  {
   "cell_type": "code",
   "execution_count": 9,
   "metadata": {
    "cell_id": "a0f21191b7da4a109e2748dda3d89fa6",
    "deepnote_app_coordinates": {
     "h": 5,
     "w": 12,
     "x": 0,
     "y": 139
    },
    "deepnote_cell_type": "code"
   },
   "outputs": [
    {
     "data": {
      "image/png": "[encoded data removed]",
      "text/plain": [
       "<Figure size 1300x500 with 2 Axes>"
      ]
     },
     "metadata": {},
     "output_type": "display_data"
    }
   ],
   "source": [
    "# 绘制训练曲线            \n",
    "plt.figure(figsize=(13, 5))\n",
    "x_plot = np.arange(len(train_acc)) + 1\n",
    "\n",
    "plt.subplot(121)\n",
    "plt.plot(x_plot, train_acc, color='blue', label='train acc')\n",
    "plt.plot(x_plot, test_acc, color='red', ls='--', label='test acc')\n",
    "plt.xlabel('Epoch')\n",
    "plt.ylabel('Accuracy')\n",
    "plt.legend()\n",
    "\n",
    "plt.subplot(122)\n",
    "plt.plot(x_plot, train_auc, color='blue', label='train AUC')\n",
    "plt.plot(x_plot, test_auc, color='red', ls='--', label='test AUC')\n",
    "plt.xlabel('Epoch')\n",
    "plt.ylabel('AUC')\n",
    "plt.legend()\n",
    "plt.show()"
   ]
  }
 ],
 "metadata": {
  "deepnote": {},
  "deepnote_app_layout": "article",
  "deepnote_execution_queue": [],
  "deepnote_notebook_id": "8930ea4aee414a189695f7cc8680b391",
  "kernelspec": {
   "display_name": "Python 3 (ipykernel)",
   "language": "python",
   "name": "python3"
  },
  "language_info": {
   "codemirror_mode": {
    "name": "ipython",
    "version": 3
   },
   "file_extension": ".py",
   "mimetype": "text/x-python",
   "name": "python",
   "nbconvert_exporter": "python",
   "pygments_lexer": "ipython3",
   "version": "3.9.13"
  }
 },
 "nbformat": 4,
 "nbformat_minor": 1
}
