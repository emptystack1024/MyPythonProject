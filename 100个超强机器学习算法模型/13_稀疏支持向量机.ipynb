{
 "cells": [
  {
   "cell_type": "markdown",
   "source": [
    "https://www.ml-zhuang.club/5513/233/"
   ],
   "metadata": {
    "collapsed": false
   },
   "id": "2657ed9c7fee8443"
  },
  {
   "cell_type": "code",
   "execution_count": 11,
   "id": "initial_id",
   "metadata": {
    "collapsed": true,
    "ExecuteTime": {
     "end_time": "2024-03-11T05:36:19.834750400Z",
     "start_time": "2024-03-11T05:36:19.808707800Z"
    }
   },
   "outputs": [],
   "source": [
    "from sklearn.datasets import load_boston\n",
    "from sklearn.model_selection import train_test_split\n",
    "import pandas as pd\n",
    "\n",
    "# 加载波士顿房屋数据集\n",
    "boston_df = pd.read_csv('./data/1_boston_housing.csv')\n",
    "# 分离特征和目标变量 \n",
    "X = boston_df.drop('TARGET', axis=1).values\n",
    "y = boston_df['TARGET']\n",
    "\n",
    "X_train, X_test, y_train, y_test = train_test_split(X, y, test_size=0.2, random_state=42)"
   ]
  },
  {
   "cell_type": "code",
   "execution_count": 12,
   "outputs": [
    {
     "name": "stdout",
     "output_type": "stream",
     "text": [
      "Mean Squared Error: 35.59933733161028\n"
     ]
    },
    {
     "name": "stderr",
     "output_type": "stream",
     "text": [
      "C:\\Users\\33398\\.conda\\envs\\pythonProject\\Lib\\site-packages\\sklearn\\svm\\_base.py:1225: ConvergenceWarning: Liblinear failed to converge, increase the number of iterations.\n",
      "  warnings.warn(\n"
     ]
    }
   ],
   "source": [
    "from sklearn.preprocessing import StandardScaler\n",
    "from sklearn.svm import LinearSVR\n",
    "from sklearn.metrics import mean_squared_error\n",
    "\n",
    "scaler = StandardScaler()\n",
    "X_train_scaled = scaler.fit_transform(X_train)\n",
    "X_test_scaled = scaler.transform(X_test)\n",
    "\n",
    "# 创建稀疏支持向量机对象\n",
    "svr = LinearSVR(epsilon=0.0, C=1.0, max_iter=10000)\n",
    "\n",
    "# 模型训练\n",
    "svr.fit(X_train, y_train)\n",
    "\n",
    "# 模型预测\n",
    "y_pred = svr.predict(X_test)\n",
    "\n",
    "# 计算均方误差\n",
    "mse = mean_squared_error(y_test, y_pred)\n",
    "print(\"Mean Squared Error:\", mse)"
   ],
   "metadata": {
    "collapsed": false,
    "ExecuteTime": {
     "end_time": "2024-03-11T05:36:41.845499Z",
     "start_time": "2024-03-11T05:36:41.355612600Z"
    }
   },
   "id": "ecd612cd6ac400ef"
  },
  {
   "cell_type": "code",
   "execution_count": null,
   "outputs": [],
   "source": [],
   "metadata": {
    "collapsed": false
   },
   "id": "8b5fca34ae337042"
  }
 ],
 "metadata": {
  "kernelspec": {
   "display_name": "Python 3",
   "language": "python",
   "name": "python3"
  },
  "language_info": {
   "codemirror_mode": {
    "name": "ipython",
    "version": 2
   },
   "file_extension": ".py",
   "mimetype": "text/x-python",
   "name": "python",
   "nbconvert_exporter": "python",
   "pygments_lexer": "ipython2",
   "version": "2.7.6"
  }
 },
 "nbformat": 4,
 "nbformat_minor": 5
}
