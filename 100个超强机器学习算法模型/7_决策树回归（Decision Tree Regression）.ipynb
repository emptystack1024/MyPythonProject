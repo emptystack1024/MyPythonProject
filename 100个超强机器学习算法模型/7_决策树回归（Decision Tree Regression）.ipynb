{
 "cells": [
  {
   "cell_type": "markdown",
   "source": [
    "- 从sklearn.datasets导入load_boston，用于加载波士顿房屋价格数据集。\n",
    "\n",
    "- 从sklearn.model_selection导入train_test_split，用于划分数据集为训练集和测试集。\n",
    "\n",
    "- 从sklearn.tree导入DecisionTreeRegressor，用于创建决策树回归模型。\n",
    "\n",
    "- 从sklearn.metrics导入mean_absolute_error和mean_squared_error，用于计算模型性能指标。\n",
    "\n",
    "- 从sklearn.tree导入export_graphviz，用于可视化决策树模型。\n",
    "\n",
    "- 加载波士顿房屋价格数据集，并将数据集划分为训练集和测试集。\n",
    "\n",
    "- 创建决策树回归模型，并设置相关参数，如最大深度。\n",
    "\n",
    "- 使用训练集训练模型。\n",
    "\n",
    "- 使用测试集进行预测。\n",
    "\n",
    "- 计算预测结果的平均绝对误差和均方根误差。\n",
    "\n",
    "- 可视化决策树模型，并保存为PNG格式的图片文件。"
   ],
   "metadata": {
    "collapsed": false
   },
   "id": "cb561656fdfb5f9b"
  },
  {
   "cell_type": "markdown",
   "source": [
    "https://www.ml-zhuang.club/2941/227/"
   ],
   "metadata": {
    "collapsed": false
   },
   "id": "17b714a94a2ddbea"
  },
  {
   "cell_type": "code",
   "execution_count": 12,
   "id": "initial_id",
   "metadata": {
    "collapsed": true,
    "ExecuteTime": {
     "end_time": "2024-03-11T01:52:58.825556700Z",
     "start_time": "2024-03-11T01:52:58.768537Z"
    }
   },
   "outputs": [],
   "source": [
    "# 导入所需的库和模块\n",
    "from sklearn.datasets import load_boston\n",
    "from sklearn.model_selection import train_test_split\n",
    "from sklearn.tree import DecisionTreeRegressor\n",
    "from sklearn.metrics import mean_absolute_error, mean_squared_error\n",
    "from sklearn.tree import export_graphviz\n",
    "import pydot\n",
    "import pandas as pd"
   ]
  },
  {
   "cell_type": "code",
   "execution_count": 16,
   "outputs": [],
   "source": [
    "# 加载波士顿房屋数据集\n",
    "boston_df = pd.read_csv('./data/1_boston_housing.csv')\n",
    "# 分离特征和目标变量 \n",
    "X = boston_df.drop('TARGET', axis=1)\n",
    "y = boston_df['TARGET']\n",
    "\n",
    "# 划分数据集为训练集和测试集\n",
    "# X_train, X_test, y_train, y_test = train_test_split(boston.data, boston.target, test_size=0.2, random_state=42)\n",
    "X_train, X_test, y_train, y_test = train_test_split(X, y, test_size=0.2, random_state=42)"
   ],
   "metadata": {
    "collapsed": false,
    "ExecuteTime": {
     "end_time": "2024-03-11T01:54:37.181642600Z",
     "start_time": "2024-03-11T01:54:37.146046100Z"
    }
   },
   "id": "7b7acb7c108da11d"
  },
  {
   "cell_type": "code",
   "execution_count": 17,
   "outputs": [],
   "source": [
    "# 创建决策树回归模型\n",
    "regressor = DecisionTreeRegressor(max_depth=4)\n",
    "\n",
    "# 训练模型\n",
    "regressor.fit(X_train, y_train)\n",
    "\n",
    "# 预测\n",
    "y_pred = regressor.predict(X_test)\n"
   ],
   "metadata": {
    "collapsed": false,
    "ExecuteTime": {
     "end_time": "2024-03-11T01:54:37.799981400Z",
     "start_time": "2024-03-11T01:54:37.779121400Z"
    }
   },
   "id": "14873fb3fd7ace81"
  },
  {
   "cell_type": "code",
   "execution_count": 24,
   "outputs": [
    {
     "name": "stdout",
     "output_type": "stream",
     "text": [
      "Mean Absolute Error: 2.6130508279734284\n",
      "Mean Squared Error: 10.616592447744546\n"
     ]
    }
   ],
   "source": [
    "# 计算平均绝对误差和均方根误差\n",
    "mae = mean_absolute_error(y_test, y_pred)\n",
    "mse = mean_squared_error(y_test, y_pred)\n",
    "print(\"Mean Absolute Error:\", mae)\n",
    "print(\"Mean Squared Error:\", mse)\n",
    "\n",
    "# 可视化决策树模型\n",
    "dot_data = export_graphviz(regressor, out_file=None, feature_names=X.columns, filled=True)\n",
    "graph = pydot.graph_from_dot_data(dot_data)[0]\n",
    "graph.write_png('7_decision_tree.png')"
   ],
   "metadata": {
    "collapsed": false,
    "ExecuteTime": {
     "end_time": "2024-03-11T02:02:10.820550600Z",
     "start_time": "2024-03-11T02:02:09.905516900Z"
    }
   },
   "id": "dbb29d0839bea4b7"
  },
  {
   "cell_type": "code",
   "execution_count": 27,
   "outputs": [],
   "source": [
    "# 读取决策树图像\n",
    "from PIL import Image\n",
    "import cv2\n",
    "img = cv2.imread('7_decision_tree.png')\n",
    "\n",
    "cv2.imshow(\"呆宝\", img)\n",
    "cv2.waitKey(0)\n",
    "cv2.destroyAllWindows()"
   ],
   "metadata": {
    "collapsed": false,
    "ExecuteTime": {
     "end_time": "2024-03-11T02:04:12.090536500Z",
     "start_time": "2024-03-11T02:04:09.529770700Z"
    }
   },
   "id": "2d397c74e0886611"
  },
  {
   "cell_type": "code",
   "execution_count": null,
   "outputs": [],
   "source": [],
   "metadata": {
    "collapsed": false
   },
   "id": "2daddd757d489b15"
  }
 ],
 "metadata": {
  "kernelspec": {
   "display_name": "Python 3",
   "language": "python",
   "name": "python3"
  },
  "language_info": {
   "codemirror_mode": {
    "name": "ipython",
    "version": 2
   },
   "file_extension": ".py",
   "mimetype": "text/x-python",
   "name": "python",
   "nbconvert_exporter": "python",
   "pygments_lexer": "ipython2",
   "version": "2.7.6"
  }
 },
 "nbformat": 4,
 "nbformat_minor": 5
}
