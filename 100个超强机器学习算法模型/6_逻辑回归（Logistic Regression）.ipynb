{
 "cells": [
  {
   "cell_type": "markdown",
   "source": [
    "https://www.ml-zhuang.club/5439/226/"
   ],
   "metadata": {
    "collapsed": false
   },
   "id": "e4f39b93e9737e36"
  },
  {
   "cell_type": "code",
   "execution_count": 1,
   "id": "initial_id",
   "metadata": {
    "collapsed": true,
    "ExecuteTime": {
     "end_time": "2024-03-11T01:32:15.567511500Z",
     "start_time": "2024-03-11T01:32:13.620172700Z"
    }
   },
   "outputs": [],
   "source": [
    "import pandas as pd\n",
    "from sklearn.model_selection import train_test_split\n",
    "from sklearn.preprocessing import StandardScaler\n",
    "from sklearn.datasets import load_breast_cancer"
   ]
  },
  {
   "cell_type": "code",
   "execution_count": 2,
   "outputs": [],
   "source": [
    "# 加载乳腺癌数据集\n",
    "data = load_breast_cancer()"
   ],
   "metadata": {
    "collapsed": false,
    "ExecuteTime": {
     "end_time": "2024-03-11T01:32:17.543911600Z",
     "start_time": "2024-03-11T01:32:17.461711100Z"
    }
   },
   "id": "32a61ae01d9dc8b2"
  },
  {
   "cell_type": "code",
   "execution_count": 3,
   "outputs": [],
   "source": [
    "# 特征选择\n",
    "features = ['mean radius', 'mean texture', 'mean perimeter', 'mean area', 'mean smoothness']\n",
    "target = 'target'"
   ],
   "metadata": {
    "collapsed": false,
    "ExecuteTime": {
     "end_time": "2024-03-11T01:32:22.115633300Z",
     "start_time": "2024-03-11T01:32:22.077582100Z"
    }
   },
   "id": "e30da1a547365b1d"
  },
  {
   "cell_type": "code",
   "execution_count": 4,
   "outputs": [],
   "source": [
    "# 划分特征和目标变量\n",
    "X = pd.DataFrame(data.data, columns=data.feature_names)[features]\n",
    "y = data.target\n",
    "\n",
    "# 数据集划分\n",
    "X_train, X_test, y_train, y_test = train_test_split(X, y, test_size=0.2, random_state=42)\n",
    "\n",
    "# 特征缩放\n",
    "scaler = StandardScaler()\n",
    "X_train = scaler.fit_transform(X_train)\n",
    "X_test = scaler.transform(X_test)"
   ],
   "metadata": {
    "collapsed": false,
    "ExecuteTime": {
     "end_time": "2024-03-11T01:32:30.635078200Z",
     "start_time": "2024-03-11T01:32:30.556104400Z"
    }
   },
   "id": "f48488afb990667d"
  },
  {
   "cell_type": "code",
   "execution_count": 5,
   "outputs": [],
   "source": [
    "from sklearn.linear_model import LogisticRegression\n",
    "\n",
    "# 创建逻辑回归模型\n",
    "model = LogisticRegression()\n",
    "\n",
    "# 模型训练\n",
    "model.fit(X_train, y_train)\n",
    "\n",
    "# 估计特征的权重\n",
    "weights = model.coef_\n",
    "intercept = model.intercept_"
   ],
   "metadata": {
    "collapsed": false,
    "ExecuteTime": {
     "end_time": "2024-03-11T01:32:35.194564200Z",
     "start_time": "2024-03-11T01:32:35.035270900Z"
    }
   },
   "id": "f6bdb2f1a8a150cb"
  },
  {
   "cell_type": "code",
   "execution_count": 6,
   "outputs": [
    {
     "name": "stdout",
     "output_type": "stream",
     "text": [
      "Accuracy: 0.9385964912280702\n",
      "Precision: 0.9444444444444444\n",
      "Recall: 0.9577464788732394\n",
      "F1 score: 0.951048951048951\n"
     ]
    }
   ],
   "source": [
    "from sklearn.metrics import accuracy_score, precision_score, recall_score, f1_score\n",
    "\n",
    "# 预测测试数据集\n",
    "y_pred = model.predict(X_test)\n",
    "\n",
    "# 计算评估指标\n",
    "accuracy = accuracy_score(y_test, y_pred)\n",
    "precision = precision_score(y_test, y_pred)\n",
    "recall = recall_score(y_test, y_pred)\n",
    "f1 = f1_score(y_test, y_pred)\n",
    "\n",
    "print(\"Accuracy:\", accuracy)\n",
    "print(\"Precision:\", precision)\n",
    "print(\"Recall:\", recall)\n",
    "print(\"F1 score:\", f1)"
   ],
   "metadata": {
    "collapsed": false,
    "ExecuteTime": {
     "end_time": "2024-03-11T01:32:39.312440500Z",
     "start_time": "2024-03-11T01:32:39.237370900Z"
    }
   },
   "id": "1894847164ac5009"
  },
  {
   "cell_type": "code",
   "execution_count": 10,
   "outputs": [
    {
     "name": "stdout",
     "output_type": "stream",
     "text": [
      "Prediction: True\n"
     ]
    },
    {
     "name": "stderr",
     "output_type": "stream",
     "text": [
      "C:\\Users\\33398\\.conda\\envs\\pythonProject\\Lib\\site-packages\\sklearn\\base.py:450: UserWarning: X does not have valid feature names, but StandardScaler was fitted with feature names\n",
      "  warnings.warn(\n"
     ]
    }
   ],
   "source": [
    "import numpy as np\n",
    "\n",
    "# 新样本特征\n",
    "new_sample = np.array([15.12, 15.16, 97.67, 712.2, 0.0898]).reshape(1, -1)\n",
    "\n",
    "# 特征缩放\n",
    "new_sample_scaled = scaler.transform(new_sample)\n",
    "\n",
    "# 预测新样本的分类\n",
    "prediction = model.predict(new_sample_scaled)\n",
    "\n",
    "if prediction:\n",
    "    print(\"Prediction: True\")\n",
    "else:\n",
    "    print(\"Prediction: False\")"
   ],
   "metadata": {
    "collapsed": false,
    "ExecuteTime": {
     "end_time": "2024-03-11T01:34:30.727769400Z",
     "start_time": "2024-03-11T01:34:30.708254300Z"
    }
   },
   "id": "cd5a86678aaa434b"
  },
  {
   "cell_type": "code",
   "execution_count": null,
   "outputs": [],
   "source": [],
   "metadata": {
    "collapsed": false
   },
   "id": "1cf963e14e8ca4f3"
  }
 ],
 "metadata": {
  "kernelspec": {
   "display_name": "Python 3",
   "language": "python",
   "name": "python3"
  },
  "language_info": {
   "codemirror_mode": {
    "name": "ipython",
    "version": 2
   },
   "file_extension": ".py",
   "mimetype": "text/x-python",
   "name": "python",
   "nbconvert_exporter": "python",
   "pygments_lexer": "ipython2",
   "version": "2.7.6"
  }
 },
 "nbformat": 4,
 "nbformat_minor": 5
}
