{
 "cells": [
  {
   "cell_type": "markdown",
   "source": [
    "- 第1行：导入所需的Python库。\n",
    "\n",
    "- 第4-5行：加载波士顿房屋价格数据集，并将特征矩阵存储为X，目标变量存储为y。\n",
    "\n",
    "- 第8-9行：将数据集分割为训练集和测试集。\n",
    "\n",
    "- 第12-14行：使用StandardScaler对特征矩阵进行特征缩放。这里使用训练集进行fit_transform，然后对测试集进行transform操作。\n",
    "\n",
    "- 第17行：初始化ElasticNet回归模型，并设置正则化强度参数alpha和混合参数l1_ratio。\n",
    "\n",
    "- 第20行：使用拟合模型。这里使用训练集的特征矩阵和目标变量进行模型拟合。\n",
    "\n",
    "- 第23行：使用训练后的模型对测试集的特征矩阵进行预测。\n",
    "\n",
    "- 第26-28行：使用均方根误差（Root Mean Squared Error, RMSE）评估模型在测试集上的性能。"
   ],
   "metadata": {
    "collapsed": false
   },
   "id": "cd605ea5e5f8579a"
  },
  {
   "cell_type": "code",
   "execution_count": 3,
   "id": "initial_id",
   "metadata": {
    "collapsed": true,
    "ExecuteTime": {
     "end_time": "2024-03-11T01:30:43.652016500Z",
     "start_time": "2024-03-11T01:30:42.145709300Z"
    }
   },
   "outputs": [],
   "source": [
    "import numpy as np\n",
    "import pandas as pd\n",
    "from sklearn.datasets import load_boston\n",
    "from sklearn.model_selection import train_test_split\n",
    "from sklearn.preprocessing import StandardScaler\n",
    "from sklearn.linear_model import ElasticNet\n",
    "from sklearn.metrics import mean_squared_error"
   ]
  },
  {
   "cell_type": "code",
   "execution_count": 4,
   "outputs": [],
   "source": [
    "# 加载波士顿房屋数据集\n",
    "boston_df = pd.read_csv('./data/1_boston_housing.csv')\n",
    "# 分离特征和目标变量 \n",
    "X = boston_df.drop('TARGET', axis=1).values\n",
    "y = boston_df['TARGET']"
   ],
   "metadata": {
    "collapsed": false,
    "ExecuteTime": {
     "end_time": "2024-03-11T01:30:43.706293900Z",
     "start_time": "2024-03-11T01:30:43.658029400Z"
    }
   },
   "id": "aa97d93d2a253db5"
  },
  {
   "cell_type": "code",
   "execution_count": 5,
   "outputs": [],
   "source": [
    "# 分割数据集为训练集和测试集\n",
    "X_train, X_test, y_train, y_test = train_test_split(X, y, test_size=0.2, random_state=42)\n",
    "\n",
    "# 特征缩放\n",
    "scaler = StandardScaler()\n",
    "X_train_scaled = scaler.fit_transform(X_train)\n",
    "X_test_scaled = scaler.transform(X_test)"
   ],
   "metadata": {
    "collapsed": false,
    "ExecuteTime": {
     "end_time": "2024-03-11T01:30:49.128322700Z",
     "start_time": "2024-03-11T01:30:49.035864300Z"
    }
   },
   "id": "7fcd7fa3a7a1466e"
  },
  {
   "cell_type": "code",
   "execution_count": 6,
   "outputs": [],
   "source": [
    "# 初始化ElasticNet回归模型\n",
    "elastic_net = ElasticNet(alpha=0.5, l1_ratio=0.5, random_state=42)\n",
    "\n",
    "# 拟合模型\n",
    "elastic_net.fit(X_train_scaled, y_train)\n",
    "\n",
    "# 在测试集上进行预测\n",
    "y_pred = elastic_net.predict(X_test_scaled)"
   ],
   "metadata": {
    "collapsed": false,
    "ExecuteTime": {
     "end_time": "2024-03-11T01:30:55.769469500Z",
     "start_time": "2024-03-11T01:30:55.671493100Z"
    }
   },
   "id": "950558f37a52186a"
  },
  {
   "cell_type": "code",
   "execution_count": 7,
   "outputs": [
    {
     "name": "stdout",
     "output_type": "stream",
     "text": [
      "Root Mean Squared Error: 5.177134971775457\n"
     ]
    }
   ],
   "source": [
    "# 评估模型性能\n",
    "mse = mean_squared_error(y_test, y_pred)\n",
    "rmse = np.sqrt(mse)\n",
    "print('Root Mean Squared Error:', rmse)"
   ],
   "metadata": {
    "collapsed": false,
    "ExecuteTime": {
     "end_time": "2024-03-11T01:31:00.249945200Z",
     "start_time": "2024-03-11T01:31:00.179887800Z"
    }
   },
   "id": "b7aca5bbb412502b"
  },
  {
   "cell_type": "code",
   "execution_count": null,
   "outputs": [],
   "source": [],
   "metadata": {
    "collapsed": false
   },
   "id": "c9303a47388991ab"
  }
 ],
 "metadata": {
  "kernelspec": {
   "display_name": "Python 3",
   "language": "python",
   "name": "python3"
  },
  "language_info": {
   "codemirror_mode": {
    "name": "ipython",
    "version": 2
   },
   "file_extension": ".py",
   "mimetype": "text/x-python",
   "name": "python",
   "nbconvert_exporter": "python",
   "pygments_lexer": "ipython2",
   "version": "2.7.6"
  }
 },
 "nbformat": 4,
 "nbformat_minor": 5
}
