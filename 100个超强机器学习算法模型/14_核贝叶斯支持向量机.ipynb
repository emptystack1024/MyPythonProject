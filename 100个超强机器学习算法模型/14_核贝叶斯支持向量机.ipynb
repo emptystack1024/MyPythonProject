{
 "cells": [
  {
   "cell_type": "code",
   "execution_count": 16,
   "id": "initial_id",
   "metadata": {
    "collapsed": true,
    "ExecuteTime": {
     "end_time": "2024-03-11T12:24:46.810061600Z",
     "start_time": "2024-03-11T12:24:46.092139400Z"
    }
   },
   "outputs": [
    {
     "ename": "ImportError",
     "evalue": "cannot import name 'local_bitwidth' from 'theano.configdefaults' (C:\\Users\\33398\\.conda\\envs\\pythonProject\\Lib\\site-packages\\theano\\configdefaults.py)",
     "output_type": "error",
     "traceback": [
      "\u001B[1;31m---------------------------------------------------------------------------\u001B[0m",
      "\u001B[1;31mImportError\u001B[0m                               Traceback (most recent call last)",
      "Cell \u001B[1;32mIn[16], line 8\u001B[0m\n\u001B[0;32m      6\u001B[0m \u001B[38;5;28;01mfrom\u001B[39;00m \u001B[38;5;21;01msklearn\u001B[39;00m\u001B[38;5;21;01m.\u001B[39;00m\u001B[38;5;21;01mpreprocessing\u001B[39;00m \u001B[38;5;28;01mimport\u001B[39;00m StandardScaler\n\u001B[0;32m      7\u001B[0m \u001B[38;5;28;01mimport\u001B[39;00m \u001B[38;5;21;01mpandas\u001B[39;00m \u001B[38;5;28;01mas\u001B[39;00m \u001B[38;5;21;01mpd\u001B[39;00m\n\u001B[1;32m----> 8\u001B[0m \u001B[38;5;28;01mimport\u001B[39;00m \u001B[38;5;21;01mpymc3\u001B[39;00m \u001B[38;5;28;01mas\u001B[39;00m \u001B[38;5;21;01mpm\u001B[39;00m\n",
      "File \u001B[1;32m~\\.conda\\envs\\pythonProject\\Lib\\site-packages\\pymc3\\__init__.py:23\u001B[0m\n\u001B[0;32m     20\u001B[0m \u001B[38;5;28;01mimport\u001B[39;00m \u001B[38;5;21;01mplatform\u001B[39;00m\n\u001B[0;32m     22\u001B[0m \u001B[38;5;28;01mimport\u001B[39;00m \u001B[38;5;21;01msemver\u001B[39;00m\n\u001B[1;32m---> 23\u001B[0m \u001B[38;5;28;01mimport\u001B[39;00m \u001B[38;5;21;01mtheano\u001B[39;00m\n\u001B[0;32m     25\u001B[0m _log \u001B[38;5;241m=\u001B[39m logging\u001B[38;5;241m.\u001B[39mgetLogger(\u001B[38;5;124m\"\u001B[39m\u001B[38;5;124mpymc3\u001B[39m\u001B[38;5;124m\"\u001B[39m)\n\u001B[0;32m     27\u001B[0m \u001B[38;5;28;01mif\u001B[39;00m \u001B[38;5;129;01mnot\u001B[39;00m logging\u001B[38;5;241m.\u001B[39mroot\u001B[38;5;241m.\u001B[39mhandlers:\n",
      "File \u001B[1;32m~\\.conda\\envs\\pythonProject\\Lib\\site-packages\\theano\\__init__.py:99\u001B[0m\n\u001B[0;32m     97\u001B[0m \u001B[38;5;28;01mfrom\u001B[39;00m \u001B[38;5;21;01mtheano\u001B[39;00m\u001B[38;5;21;01m.\u001B[39;00m\u001B[38;5;21;01mgradient\u001B[39;00m \u001B[38;5;28;01mimport\u001B[39;00m Lop, Rop, grad, subgraph_grad\n\u001B[0;32m     98\u001B[0m \u001B[38;5;28;01mfrom\u001B[39;00m \u001B[38;5;21;01mtheano\u001B[39;00m\u001B[38;5;21;01m.\u001B[39;00m\u001B[38;5;21;01mprinting\u001B[39;00m \u001B[38;5;28;01mimport\u001B[39;00m pp, pprint\n\u001B[1;32m---> 99\u001B[0m \u001B[38;5;28;01mfrom\u001B[39;00m \u001B[38;5;21;01mtheano\u001B[39;00m\u001B[38;5;21;01m.\u001B[39;00m\u001B[38;5;21;01mupdates\u001B[39;00m \u001B[38;5;28;01mimport\u001B[39;00m OrderedUpdates\n\u001B[0;32m    102\u001B[0m \u001B[38;5;28;01mif\u001B[39;00m (\n\u001B[0;32m    103\u001B[0m     config\u001B[38;5;241m.\u001B[39mdevice\u001B[38;5;241m.\u001B[39mstartswith(\u001B[38;5;124m\"\u001B[39m\u001B[38;5;124mcuda\u001B[39m\u001B[38;5;124m\"\u001B[39m)\n\u001B[0;32m    104\u001B[0m     \u001B[38;5;129;01mor\u001B[39;00m config\u001B[38;5;241m.\u001B[39mdevice\u001B[38;5;241m.\u001B[39mstartswith(\u001B[38;5;124m\"\u001B[39m\u001B[38;5;124mopencl\u001B[39m\u001B[38;5;124m\"\u001B[39m)\n\u001B[1;32m   (...)\u001B[0m\n\u001B[0;32m    107\u001B[0m     \u001B[38;5;129;01mor\u001B[39;00m config\u001B[38;5;241m.\u001B[39mcontexts \u001B[38;5;241m!=\u001B[39m \u001B[38;5;124m\"\u001B[39m\u001B[38;5;124m\"\u001B[39m\n\u001B[0;32m    108\u001B[0m ):\n\u001B[0;32m    109\u001B[0m     \u001B[38;5;28;01mimport\u001B[39;00m \u001B[38;5;21;01mtheano\u001B[39;00m\u001B[38;5;21;01m.\u001B[39;00m\u001B[38;5;21;01mgpuarray\u001B[39;00m\n",
      "File \u001B[1;32m~\\.conda\\envs\\pythonProject\\Lib\\site-packages\\theano\\gof\\__init__.py:40\u001B[0m\n\u001B[0;32m      1\u001B[0m \u001B[38;5;124;03m\"\"\"\u001B[39;00m\n\u001B[0;32m      2\u001B[0m \u001B[38;5;124;03mgof.py\u001B[39;00m\n\u001B[0;32m      3\u001B[0m \n\u001B[1;32m   (...)\u001B[0m\n\u001B[0;32m     36\u001B[0m \n\u001B[0;32m     37\u001B[0m \u001B[38;5;124;03m\"\"\"\u001B[39;00m\n\u001B[0;32m     38\u001B[0m \u001B[38;5;28;01mfrom\u001B[39;00m \u001B[38;5;21;01m__future__\u001B[39;00m \u001B[38;5;28;01mimport\u001B[39;00m absolute_import, print_function, division\n\u001B[1;32m---> 40\u001B[0m \u001B[38;5;28;01mfrom\u001B[39;00m \u001B[38;5;21;01mtheano\u001B[39;00m\u001B[38;5;21;01m.\u001B[39;00m\u001B[38;5;21;01mgof\u001B[39;00m\u001B[38;5;21;01m.\u001B[39;00m\u001B[38;5;21;01mcc\u001B[39;00m \u001B[38;5;28;01mimport\u001B[39;00m \\\n\u001B[0;32m     41\u001B[0m     CLinker, OpWiseCLinker, DualLinker, HideC\n\u001B[0;32m     43\u001B[0m \u001B[38;5;28;01mfrom\u001B[39;00m \u001B[38;5;21;01mtheano\u001B[39;00m\u001B[38;5;21;01m.\u001B[39;00m\u001B[38;5;21;01mgof\u001B[39;00m\u001B[38;5;21;01m.\u001B[39;00m\u001B[38;5;21;01mfg\u001B[39;00m \u001B[38;5;28;01mimport\u001B[39;00m \\\n\u001B[0;32m     44\u001B[0m     CachedConstantError, InconsistencyError, MissingInputError, FunctionGraph\n\u001B[0;32m     46\u001B[0m \u001B[38;5;28;01mfrom\u001B[39;00m \u001B[38;5;21;01mtheano\u001B[39;00m\u001B[38;5;21;01m.\u001B[39;00m\u001B[38;5;21;01mgof\u001B[39;00m\u001B[38;5;21;01m.\u001B[39;00m\u001B[38;5;21;01mdestroyhandler\u001B[39;00m \u001B[38;5;28;01mimport\u001B[39;00m \\\n\u001B[0;32m     47\u001B[0m     DestroyHandler\n",
      "File \u001B[1;32m~\\.conda\\envs\\pythonProject\\Lib\\site-packages\\theano\\gof\\cc.py:25\u001B[0m\n\u001B[0;32m     23\u001B[0m \u001B[38;5;66;03m# gof imports\u001B[39;00m\n\u001B[0;32m     24\u001B[0m \u001B[38;5;28;01mfrom\u001B[39;00m \u001B[38;5;21;01mtheano\u001B[39;00m\u001B[38;5;21;01m.\u001B[39;00m\u001B[38;5;21;01mgof\u001B[39;00m \u001B[38;5;28;01mimport\u001B[39;00m graph\n\u001B[1;32m---> 25\u001B[0m \u001B[38;5;28;01mfrom\u001B[39;00m \u001B[38;5;21;01mtheano\u001B[39;00m\u001B[38;5;21;01m.\u001B[39;00m\u001B[38;5;21;01mgof\u001B[39;00m \u001B[38;5;28;01mimport\u001B[39;00m link\n\u001B[0;32m     26\u001B[0m \u001B[38;5;28;01mfrom\u001B[39;00m \u001B[38;5;21;01mtheano\u001B[39;00m\u001B[38;5;21;01m.\u001B[39;00m\u001B[38;5;21;01mgof\u001B[39;00m \u001B[38;5;28;01mimport\u001B[39;00m utils\n\u001B[0;32m     27\u001B[0m \u001B[38;5;28;01mfrom\u001B[39;00m \u001B[38;5;21;01mtheano\u001B[39;00m\u001B[38;5;21;01m.\u001B[39;00m\u001B[38;5;21;01mgof\u001B[39;00m \u001B[38;5;28;01mimport\u001B[39;00m cmodule\n",
      "File \u001B[1;32m~\\.conda\\envs\\pythonProject\\Lib\\site-packages\\theano\\gof\\link.py:18\u001B[0m\n\u001B[0;32m     16\u001B[0m \u001B[38;5;28;01mfrom\u001B[39;00m \u001B[38;5;21;01mtheano\u001B[39;00m\u001B[38;5;21;01m.\u001B[39;00m\u001B[38;5;21;01mgof\u001B[39;00m \u001B[38;5;28;01mimport\u001B[39;00m utils\n\u001B[0;32m     17\u001B[0m \u001B[38;5;28;01mfrom\u001B[39;00m \u001B[38;5;21;01mtheano\u001B[39;00m\u001B[38;5;21;01m.\u001B[39;00m\u001B[38;5;21;01mgof\u001B[39;00m \u001B[38;5;28;01mimport\u001B[39;00m graph\n\u001B[1;32m---> 18\u001B[0m \u001B[38;5;28;01mfrom\u001B[39;00m \u001B[38;5;21;01mtheano\u001B[39;00m\u001B[38;5;21;01m.\u001B[39;00m\u001B[38;5;21;01mgof\u001B[39;00m\u001B[38;5;21;01m.\u001B[39;00m\u001B[38;5;21;01mtype\u001B[39;00m \u001B[38;5;28;01mimport\u001B[39;00m Type\n\u001B[0;32m     20\u001B[0m \u001B[38;5;28;01mfrom\u001B[39;00m \u001B[38;5;21;01m.\u001B[39;00m\u001B[38;5;21;01mutils\u001B[39;00m \u001B[38;5;28;01mimport\u001B[39;00m undef\n\u001B[0;32m     22\u001B[0m __excepthook \u001B[38;5;241m=\u001B[39m sys\u001B[38;5;241m.\u001B[39mexcepthook\n",
      "File \u001B[1;32m~\\.conda\\envs\\pythonProject\\Lib\\site-packages\\theano\\gof\\type.py:23\u001B[0m\n\u001B[0;32m     18\u001B[0m \u001B[38;5;28;01mfrom\u001B[39;00m \u001B[38;5;21;01mtheano\u001B[39;00m \u001B[38;5;28;01mimport\u001B[39;00m change_flags\n\u001B[0;32m     20\u001B[0m \u001B[38;5;66;03m########\u001B[39;00m\n\u001B[0;32m     21\u001B[0m \u001B[38;5;66;03m# Type #\u001B[39;00m\n\u001B[0;32m     22\u001B[0m \u001B[38;5;66;03m########\u001B[39;00m\n\u001B[1;32m---> 23\u001B[0m \u001B[38;5;28;01mfrom\u001B[39;00m \u001B[38;5;21;01mtheano\u001B[39;00m\u001B[38;5;21;01m.\u001B[39;00m\u001B[38;5;21;01mgof\u001B[39;00m\u001B[38;5;21;01m.\u001B[39;00m\u001B[38;5;21;01mop\u001B[39;00m \u001B[38;5;28;01mimport\u001B[39;00m CLinkerObject, Op\n\u001B[0;32m     25\u001B[0m __docformat__ \u001B[38;5;241m=\u001B[39m \u001B[38;5;124m\"\u001B[39m\u001B[38;5;124mrestructuredtext en\u001B[39m\u001B[38;5;124m\"\u001B[39m\n\u001B[0;32m     28\u001B[0m \u001B[38;5;28;01mclass\u001B[39;00m \u001B[38;5;21;01mCLinkerType\u001B[39;00m(CLinkerObject):\n",
      "File \u001B[1;32m~\\.conda\\envs\\pythonProject\\Lib\\site-packages\\theano\\gof\\op.py:25\u001B[0m\n\u001B[0;32m     23\u001B[0m \u001B[38;5;28;01mfrom\u001B[39;00m \u001B[38;5;21;01mtheano\u001B[39;00m\u001B[38;5;21;01m.\u001B[39;00m\u001B[38;5;21;01mgof\u001B[39;00m \u001B[38;5;28;01mimport\u001B[39;00m graph\n\u001B[0;32m     24\u001B[0m \u001B[38;5;28;01mfrom\u001B[39;00m \u001B[38;5;21;01mtheano\u001B[39;00m\u001B[38;5;21;01m.\u001B[39;00m\u001B[38;5;21;01mgof\u001B[39;00m \u001B[38;5;28;01mimport\u001B[39;00m utils\n\u001B[1;32m---> 25\u001B[0m \u001B[38;5;28;01mfrom\u001B[39;00m \u001B[38;5;21;01mtheano\u001B[39;00m\u001B[38;5;21;01m.\u001B[39;00m\u001B[38;5;21;01mgof\u001B[39;00m\u001B[38;5;21;01m.\u001B[39;00m\u001B[38;5;21;01mcmodule\u001B[39;00m \u001B[38;5;28;01mimport\u001B[39;00m GCC_compiler\n\u001B[0;32m     26\u001B[0m \u001B[38;5;28;01mfrom\u001B[39;00m \u001B[38;5;21;01mtheano\u001B[39;00m\u001B[38;5;21;01m.\u001B[39;00m\u001B[38;5;21;01mgof\u001B[39;00m\u001B[38;5;21;01m.\u001B[39;00m\u001B[38;5;21;01mfg\u001B[39;00m \u001B[38;5;28;01mimport\u001B[39;00m FunctionGraph\n\u001B[0;32m     28\u001B[0m __authors__ \u001B[38;5;241m=\u001B[39m \u001B[38;5;124m\"\u001B[39m\u001B[38;5;124mtheano-dev\u001B[39m\u001B[38;5;124m\"\u001B[39m\n",
      "File \u001B[1;32m~\\.conda\\envs\\pythonProject\\Lib\\site-packages\\theano\\gof\\cmodule.py:37\u001B[0m\n\u001B[0;32m     35\u001B[0m \u001B[38;5;66;03m# we will abuse the lockfile mechanism when reading and writing the registry\u001B[39;00m\n\u001B[0;32m     36\u001B[0m \u001B[38;5;28;01mfrom\u001B[39;00m \u001B[38;5;21;01mtheano\u001B[39;00m\u001B[38;5;21;01m.\u001B[39;00m\u001B[38;5;21;01mgof\u001B[39;00m \u001B[38;5;28;01mimport\u001B[39;00m compilelock\n\u001B[1;32m---> 37\u001B[0m \u001B[38;5;28;01mfrom\u001B[39;00m \u001B[38;5;21;01mtheano\u001B[39;00m\u001B[38;5;21;01m.\u001B[39;00m\u001B[38;5;21;01mconfigdefaults\u001B[39;00m \u001B[38;5;28;01mimport\u001B[39;00m gcc_version_str, local_bitwidth\n\u001B[0;32m     39\u001B[0m importlib \u001B[38;5;241m=\u001B[39m \u001B[38;5;28;01mNone\u001B[39;00m\n\u001B[0;32m     40\u001B[0m \u001B[38;5;28;01mtry\u001B[39;00m:\n",
      "\u001B[1;31mImportError\u001B[0m: cannot import name 'local_bitwidth' from 'theano.configdefaults' (C:\\Users\\33398\\.conda\\envs\\pythonProject\\Lib\\site-packages\\theano\\configdefaults.py)"
     ]
    }
   ],
   "source": [
    "# 导入必要的库\n",
    "import numpy as np\n",
    "from sklearn.svm import SVC\n",
    "from sklearn.datasets import load_boston\n",
    "from sklearn.model_selection import train_test_split\n",
    "from sklearn.preprocessing import StandardScaler\n",
    "import pandas as pd\n",
    "import pymc3 as pm"
   ]
  },
  {
   "cell_type": "code",
   "execution_count": 13,
   "outputs": [],
   "source": [
    "# 加载波士顿房屋数据集\n",
    "boston_df = pd.read_csv('./data/1_boston_housing.csv')\n",
    "# 分离特征和目标变量\n",
    "X = boston_df.drop('TARGET', axis=1).values\n",
    "y = boston_df['TARGET']\n",
    "\n",
    "X_train, X_test, y_train, y_test = train_test_split(X, y, test_size=0.2)\n",
    "\n",
    "# 数据标准化\n",
    "scaler = StandardScaler()\n",
    "X_train_scaled = scaler.fit_transform(X_train)\n",
    "X_test_scaled = scaler.transform(X_test)"
   ],
   "metadata": {
    "collapsed": false,
    "ExecuteTime": {
     "end_time": "2024-03-11T12:06:46.814691700Z",
     "start_time": "2024-03-11T12:06:46.808767500Z"
    }
   },
   "id": "1b89b6072e23bb70"
  },
  {
   "cell_type": "code",
   "execution_count": 10,
   "outputs": [
    {
     "ename": "NameError",
     "evalue": "name 'pm' is not defined",
     "output_type": "error",
     "traceback": [
      "\u001B[1;31m---------------------------------------------------------------------------\u001B[0m",
      "\u001B[1;31mNameError\u001B[0m                                 Traceback (most recent call last)",
      "Cell \u001B[1;32mIn[10], line 2\u001B[0m\n\u001B[0;32m      1\u001B[0m \u001B[38;5;66;03m#使用贝叶斯方法进行模型构建\u001B[39;00m\n\u001B[1;32m----> 2\u001B[0m \u001B[38;5;28;01mwith\u001B[39;00m pm\u001B[38;5;241m.\u001B[39mModel() \u001B[38;5;28;01mas\u001B[39;00m model:\n\u001B[0;32m      3\u001B[0m     \u001B[38;5;66;03m# 定义模型\u001B[39;00m\n\u001B[0;32m      4\u001B[0m     \u001B[38;5;66;03m# 先验分布\u001B[39;00m\n\u001B[0;32m      5\u001B[0m     alpha \u001B[38;5;241m=\u001B[39m pm\u001B[38;5;241m.\u001B[39mNormal(\u001B[38;5;124m'\u001B[39m\u001B[38;5;124malpha\u001B[39m\u001B[38;5;124m'\u001B[39m, mu\u001B[38;5;241m=\u001B[39m\u001B[38;5;241m0\u001B[39m, sd\u001B[38;5;241m=\u001B[39m\u001B[38;5;241m20\u001B[39m)\n\u001B[0;32m      6\u001B[0m     beta \u001B[38;5;241m=\u001B[39m pm\u001B[38;5;241m.\u001B[39mNormal(\u001B[38;5;124m'\u001B[39m\u001B[38;5;124mbeta\u001B[39m\u001B[38;5;124m'\u001B[39m, mu\u001B[38;5;241m=\u001B[39m\u001B[38;5;241m0\u001B[39m, sd\u001B[38;5;241m=\u001B[39m\u001B[38;5;241m20\u001B[39m, shape\u001B[38;5;241m=\u001B[39mX_train_scaled\u001B[38;5;241m.\u001B[39mshape[\u001B[38;5;241m1\u001B[39m])\n",
      "\u001B[1;31mNameError\u001B[0m: name 'pm' is not defined"
     ]
    }
   ],
   "source": [
    "#使用贝叶斯方法进行模型构建\n",
    "with pm.Model() as model:\n",
    "    # 定义模型\n",
    "    # 先验分布\n",
    "    alpha = pm.Normal('alpha', mu=0, sd=20)\n",
    "    beta = pm.Normal('beta', mu=0, sd=20, shape=X_train_scaled.shape[1])\n",
    "    sigma = pm.HalfNormal('sigma', sd=1)\n",
    "    # 线性模型\n",
    "    mu = alpha + pm.math.dot(beta, X_train_scaled.T)\n",
    "    # 观测值\n",
    "    y_obs = pm.Normal('y_obs', mu=mu, sd=sigma, observed=y_train)\n",
    "    # 采样\n",
    "    trace = pm.sample(2000, tune=1000, cores=2)\n",
    "    "
   ],
   "metadata": {
    "collapsed": false,
    "ExecuteTime": {
     "end_time": "2024-03-11T11:53:57.282476200Z",
     "start_time": "2024-03-11T11:53:57.264397100Z"
    }
   },
   "id": "3686ed79d590ed59"
  },
  {
   "cell_type": "code",
   "execution_count": null,
   "outputs": [],
   "source": [],
   "metadata": {
    "collapsed": false
   },
   "id": "aa5eea2d51821b38"
  }
 ],
 "metadata": {
  "kernelspec": {
   "display_name": "Python 3",
   "language": "python",
   "name": "python3"
  },
  "language_info": {
   "codemirror_mode": {
    "name": "ipython",
    "version": 2
   },
   "file_extension": ".py",
   "mimetype": "text/x-python",
   "name": "python",
   "nbconvert_exporter": "python",
   "pygments_lexer": "ipython2",
   "version": "2.7.6"
  }
 },
 "nbformat": 4,
 "nbformat_minor": 5
}
