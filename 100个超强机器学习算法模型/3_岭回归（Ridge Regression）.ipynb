{
 "cells": [
  {
   "cell_type": "markdown",
   "source": [
    "- 我们首先导入了所需的库和数据集，包括波士顿房屋数据集。\n",
    "\n",
    "- 我们使用 load_boston() 加载数据集，并将特征矩阵和目标向量分别赋值给变量 X 和 y。\n",
    "\n",
    "- 然后，我们使用 train_test_split() 函数将数据集拆分为训练集和测试集，在代码中将测试集大小设置为 20%。\n",
    "\n",
    "- 接下来，我们使用 StandardScaler() 对特征矩阵进行归一化，将每个特征的平均值缩放到 0，标准差缩放到 1。\n",
    "\n",
    "- 我们创建了一个岭回归对象 Ridge()，并使用 fit() 方法对训练集进行拟合（训练）。\n",
    "\n",
    "- 然后，我们使用 predict() 方法对测试集进行预测，得到预测结果。\n",
    "\n",
    "- 最后，我们使用 mean_squared_error() 函数计算真实值与预测值之间的均方误差（MSE）作为模型性能的评估指标，并将散点图绘制出来以可视化预测结果。"
   ],
   "metadata": {
    "collapsed": false
   },
   "id": "3f13df9644f3b0f1"
  },
  {
   "cell_type": "markdown",
   "source": [
    "https://www.ml-zhuang.club/3034/223/"
   ],
   "metadata": {
    "collapsed": false
   },
   "id": "6d3b045dbbaf6237"
  },
  {
   "cell_type": "code",
   "execution_count": 7,
   "id": "initial_id",
   "metadata": {
    "collapsed": true,
    "ExecuteTime": {
     "end_time": "2024-03-10T02:42:37.206506400Z",
     "start_time": "2024-03-10T02:42:37.198436700Z"
    }
   },
   "outputs": [],
   "source": [
    "# 导入必要的库和数据集\n",
    "from sklearn.datasets import load_boston\n",
    "from sklearn.model_selection import train_test_split\n",
    "from sklearn.preprocessing import StandardScaler\n",
    "from sklearn.linear_model import Ridge\n",
    "from sklearn.metrics import mean_squared_error\n",
    "import numpy as np\n",
    "import pandas as pd\n",
    "import matplotlib.pyplot as plt"
   ]
  },
  {
   "cell_type": "code",
   "execution_count": 8,
   "outputs": [],
   "source": [
    "# 加载波士顿房屋数据集\n",
    "boston_df = pd.read_csv('./data/1_boston_housing.csv')\n",
    "# 分离特征和目标变量 \n",
    "X = boston_df.drop('TARGET', axis=1).values\n",
    "y = boston_df['TARGET']"
   ],
   "metadata": {
    "collapsed": false,
    "ExecuteTime": {
     "end_time": "2024-03-10T02:42:37.491490300Z",
     "start_time": "2024-03-10T02:42:37.481369600Z"
    }
   },
   "id": "b00667778431885f"
  },
  {
   "cell_type": "code",
   "execution_count": 9,
   "outputs": [],
   "source": [
    "# 拆分数据集为训练集和测试集\n",
    "X_train, X_test, y_train, y_test = train_test_split(X, y, test_size=0.2, random_state=42)"
   ],
   "metadata": {
    "collapsed": false,
    "ExecuteTime": {
     "end_time": "2024-03-10T02:42:37.671099900Z",
     "start_time": "2024-03-10T02:42:37.659578700Z"
    }
   },
   "id": "a3b3d8a6b512c986"
  },
  {
   "cell_type": "code",
   "execution_count": 10,
   "outputs": [],
   "source": [
    "# 归一化特征矩阵\n",
    "scaler = StandardScaler()\n",
    "X_train_scaled = scaler.fit_transform(X_train)\n",
    "X_test_scaled = scaler.transform(X_test)"
   ],
   "metadata": {
    "collapsed": false,
    "ExecuteTime": {
     "end_time": "2024-03-10T02:42:37.889317900Z",
     "start_time": "2024-03-10T02:42:37.880737900Z"
    }
   },
   "id": "3067ce30d693d5e8"
  },
  {
   "cell_type": "code",
   "execution_count": 11,
   "outputs": [],
   "source": [
    "# 岭回归模型训练和预测\n",
    "ridge = Ridge(alpha=1.0) # 正则化参数 alpha 默认为 1.0\n",
    "ridge.fit(X_train_scaled, y_train)\n",
    "y_pred = ridge.predict(X_test_scaled)"
   ],
   "metadata": {
    "collapsed": false,
    "ExecuteTime": {
     "end_time": "2024-03-10T02:42:38.100624700Z",
     "start_time": "2024-03-10T02:42:38.078921400Z"
    }
   },
   "id": "c904a83ad619880e"
  },
  {
   "cell_type": "code",
   "execution_count": 12,
   "outputs": [
    {
     "name": "stdout",
     "output_type": "stream",
     "text": [
      "均方误差： 24.31290383049161\n"
     ]
    },
    {
     "data": {
      "text/plain": "<Figure size 640x480 with 1 Axes>",
      "image/png": "[encoded data removed]"
     },
     "metadata": {},
     "output_type": "display_data"
    }
   ],
   "source": [
    "# 评估模型性能\n",
    "mse = mean_squared_error(y_test, y_pred)\n",
    "print(\"均方误差：\", mse)\n",
    "\n",
    "# 绘制预测值与真实值的散点图\n",
    "plt.scatter(y_test, y_pred)\n",
    "plt.xlabel(\"actual\")\n",
    "plt.ylabel(\"predict\")\n",
    "plt.title(\"ridge\")\n",
    "plt.show()"
   ],
   "metadata": {
    "collapsed": false,
    "ExecuteTime": {
     "end_time": "2024-03-10T02:42:38.514758100Z",
     "start_time": "2024-03-10T02:42:38.291330900Z"
    }
   },
   "id": "10428a3f92b3823f"
  },
  {
   "cell_type": "code",
   "execution_count": null,
   "outputs": [],
   "source": [],
   "metadata": {
    "collapsed": false
   },
   "id": "1601ae2227aa2744"
  }
 ],
 "metadata": {
  "kernelspec": {
   "display_name": "Python 3",
   "language": "python",
   "name": "python3"
  },
  "language_info": {
   "codemirror_mode": {
    "name": "ipython",
    "version": 2
   },
   "file_extension": ".py",
   "mimetype": "text/x-python",
   "name": "python",
   "nbconvert_exporter": "python",
   "pygments_lexer": "ipython2",
   "version": "2.7.6"
  }
 },
 "nbformat": 4,
 "nbformat_minor": 5
}
