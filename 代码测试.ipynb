{
 "cells": [
  {
   "cell_type": "code",
   "execution_count": 1,
   "outputs": [
    {
     "name": "stdout",
     "output_type": "stream",
     "text": [
      "hello world\n"
     ]
    }
   ],
   "source": [
    "import re\n",
    "\n",
    "import numpy as np\n",
    "import pandas as pd\n",
    "\n",
    "print(\"hello world\")"
   ],
   "metadata": {
    "collapsed": false,
    "ExecuteTime": {
     "end_time": "2023-06-23T11:20:55.367239300Z",
     "start_time": "2023-06-23T11:20:53.681908300Z"
    }
   }
  },
  {
   "cell_type": "code",
   "execution_count": 2,
   "outputs": [
    {
     "name": "stdout",
     "output_type": "stream",
     "text": [
      "C:\\Users\\33398\\Desktop\\1.cpp\n"
     ]
    }
   ],
   "source": [
    "print(\"C:\\\\Users\\\\33398\\\\Desktop\\\\1.cpp\")"
   ],
   "metadata": {
    "collapsed": false,
    "ExecuteTime": {
     "end_time": "2023-06-23T11:20:55.457081300Z",
     "start_time": "2023-06-23T11:20:55.370138100Z"
    }
   }
  },
  {
   "cell_type": "code",
   "execution_count": 3,
   "outputs": [
    {
     "name": "stdout",
     "output_type": "stream",
     "text": [
      "C:\\Users\\33398\\Desktop\\1.cpp\n"
     ]
    }
   ],
   "source": [
    "print(r\"C:\\Users\\33398\\Desktop\\1.cpp\")"
   ],
   "metadata": {
    "collapsed": false,
    "ExecuteTime": {
     "end_time": "2023-06-23T11:20:55.465322400Z",
     "start_time": "2023-06-23T11:20:55.386047100Z"
    }
   }
  },
  {
   "cell_type": "code",
   "execution_count": 4,
   "outputs": [
    {
     "name": "stdout",
     "output_type": "stream",
     "text": [
      "hello world\n"
     ]
    }
   ],
   "source": [
    "print(\"{0} {1}\".format(\"hello\",\"world\"))\n",
    "#用的是点.不是逗号,"
   ],
   "metadata": {
    "collapsed": false,
    "ExecuteTime": {
     "end_time": "2023-06-23T11:20:55.466321600Z",
     "start_time": "2023-06-23T11:20:55.403913800Z"
    }
   }
  },
  {
   "cell_type": "code",
   "execution_count": 11,
   "outputs": [
    {
     "name": "stdout",
     "output_type": "stream",
     "text": [
      "dlrow olleh\n",
      "hlowrd\n"
     ]
    }
   ],
   "source": [
    "a = \"hello world\"\n",
    "print(\"{}\" .format(a[ : : -1]))\n",
    "print(\"{}\".format(a[ : : 2]))"
   ],
   "metadata": {
    "collapsed": false,
    "ExecuteTime": {
     "end_time": "2023-06-23T11:20:59.205390800Z",
     "start_time": "2023-06-23T11:20:59.184257500Z"
    }
   }
  },
  {
   "cell_type": "code",
   "execution_count": 12,
   "outputs": [
    {
     "name": "stdout",
     "output_type": "stream",
     "text": [
      "[]\n",
      "\n",
      "hi\n",
      "\n",
      "\\nhi\\n\n"
     ]
    }
   ],
   "source": [
    "import re\n",
    "s = r'abc'\n",
    "\n",
    "print(re.findall(s,'aabaab'))\n",
    "\n",
    "print(\"\\nhi\\n\")\n",
    "\n",
    "print(r\"\\nhi\\n\")"
   ],
   "metadata": {
    "collapsed": false,
    "ExecuteTime": {
     "end_time": "2023-06-23T11:21:00.960240700Z",
     "start_time": "2023-06-23T11:21:00.936800600Z"
    }
   }
  },
  {
   "cell_type": "code",
   "execution_count": 7,
   "outputs": [
    {
     "name": "stdout",
     "output_type": "stream",
     "text": [
      "['i', 'i', 'i']\n"
     ]
    }
   ],
   "source": [
    "import re\n",
    "s = \"hi,i am a student my name is tom\"\n",
    "print(re.findall(r\"i\",s))\n"
   ],
   "metadata": {
    "collapsed": false,
    "ExecuteTime": {
     "end_time": "2023-06-23T11:20:55.467316900Z",
     "start_time": "2023-06-23T11:20:55.457081300Z"
    }
   }
  },
  {
   "cell_type": "code",
   "execution_count": 8,
   "outputs": [
    {
     "name": "stdout",
     "output_type": "stream",
     "text": [
      "['hello', 'hello', 'hello', 'hello']\n",
      "['hello']\n",
      "[]\n",
      "\n",
      "['hello']\n"
     ]
    }
   ],
   "source": [
    "import re\n",
    "\n",
    "s = \"hello hello hello hello cadwa \"\n",
    "\n",
    "print(re.findall(r\"hello\",s))\n",
    "print(re.findall(r\"^hello\",s))\n",
    "print(re.findall(r\"hello$\",s))\n",
    "\n",
    "s1= \"hello hello hello hello cadwa hello\"\n",
    "print()\n",
    "print(re.findall(r\"hello$\",s1))"
   ],
   "metadata": {
    "collapsed": false,
    "ExecuteTime": {
     "end_time": "2023-06-23T11:20:55.478890Z",
     "start_time": "2023-06-23T11:20:55.462313Z"
    }
   }
  },
  {
   "cell_type": "code",
   "execution_count": 9,
   "outputs": [
    {
     "name": "stdout",
     "output_type": "stream",
     "text": [
      "['a', 'av', 'avvvvv', 'avvvvvv', 'a']\n"
     ]
    }
   ],
   "source": [
    "import re\n",
    "\n",
    "s = 'a av avvvvv avvvvvvxa'\n",
    "\n",
    "print(re.findall(r\"av*\",s))"
   ],
   "metadata": {
    "collapsed": false,
    "ExecuteTime": {
     "end_time": "2023-06-23T11:20:55.626859Z",
     "start_time": "2023-06-23T11:20:55.479899900Z"
    }
   }
  },
  {
   "cell_type": "code",
   "execution_count": 10,
   "outputs": [
    {
     "name": "stdout",
     "output_type": "stream",
     "text": [
      "['ab', 'abbbbb', 'abbbbbb']\n"
     ]
    }
   ],
   "source": [
    "import re\n",
    "\n",
    "s = 'a ab abbbbb abbbbbbxa'\n",
    "\n",
    "print(re.findall(r\"ab+\",s))\n"
   ],
   "metadata": {
    "collapsed": false,
    "ExecuteTime": {
     "end_time": "2023-06-23T11:20:55.628843800Z",
     "start_time": "2023-06-23T11:20:55.497028600Z"
    }
   }
  },
  {
   "cell_type": "code",
   "execution_count": 10,
   "outputs": [],
   "source": [],
   "metadata": {
    "collapsed": false,
    "ExecuteTime": {
     "end_time": "2023-06-23T11:20:55.629351100Z",
     "start_time": "2023-06-23T11:20:55.508789400Z"
    }
   }
  }
 ],
 "metadata": {
  "kernelspec": {
   "name": "python3",
   "language": "python",
   "display_name": "Python 3 (ipykernel)"
  },
  "language_info": {
   "codemirror_mode": {
    "name": "ipython",
    "version": 2
   },
   "file_extension": ".py",
   "mimetype": "text/x-python",
   "name": "python",
   "nbconvert_exporter": "python",
   "pygments_lexer": "ipython2",
   "version": "2.7.6"
  }
 },
 "nbformat": 4,
 "nbformat_minor": 0
}
