{
 "cells": [
  {
   "cell_type": "code",
   "execution_count": 34,
   "id": "initial_id",
   "metadata": {
    "ExecuteTime": {
     "end_time": "2024-03-07T08:07:07.339066400Z",
     "start_time": "2024-03-07T08:07:07.318456800Z"
    },
    "collapsed": true,
    "jupyter": {
     "outputs_hidden": true
    }
   },
   "outputs": [],
   "source": [
    "import random\n",
    "import numpy as np\n",
    "import matplotlib.pyplot as plt"
   ]
  },
  {
   "cell_type": "code",
   "execution_count": 35,
   "id": "6071bedc99a84169",
   "metadata": {
    "ExecuteTime": {
     "end_time": "2024-03-07T08:07:07.340067600Z",
     "start_time": "2024-03-07T08:07:07.324465500Z"
    },
    "collapsed": false,
    "jupyter": {
     "outputs_hidden": false
    }
   },
   "outputs": [],
   "source": [
    "dataMat = []\n",
    "labelMat = []\n",
    "\n",
    "fr = open(\"./data.txt\")\n",
    "for line in fr.readlines():\n",
    "    curLine = line.strip().split()\n",
    "    \n",
    "    dataMat.append([1.0,float(curLine[0]),float(curLine[1])])\n",
    "    labelMat.append(int(curLine[-1]))"
   ]
  },
  {
   "cell_type": "code",
   "execution_count": 36,
   "id": "f9e095aa4c16c973",
   "metadata": {
    "ExecuteTime": {
     "end_time": "2024-03-07T08:07:07.340067600Z",
     "start_time": "2024-03-07T08:07:07.329977500Z"
    },
    "collapsed": false,
    "jupyter": {
     "outputs_hidden": false
    }
   },
   "outputs": [
    {
     "name": "stdout",
     "output_type": "stream",
     "text": [
      "[[1.0, -0.017612, 14.053064], [1.0, -1.395634, 4.662541], [1.0, -0.752157, 6.53862], [1.0, -1.322371, 7.152853], [1.0, 0.423363, 11.054677], [1.0, -0.017612, 14.053064], [1.0, -1.395634, 4.662541], [1.0, -0.752157, 6.53862], [1.0, -1.322371, 7.152853], [1.0, 0.423363, 11.054677], [1.0, -0.017612, 14.053064], [1.0, -1.395634, 4.662541], [1.0, -0.752157, 6.53862], [1.0, -1.322371, 7.152853], [1.0, 0.423363, 11.054677]]\n",
      "----\n",
      "[0, 1, 0, 1, 0, 0, 1, 0, 1, 0, 0, 1, 0, 1, 0]\n"
     ]
    }
   ],
   "source": [
    "print(dataMat)\n",
    "print(\"----\")\n",
    "print(labelMat)"
   ]
  },
  {
   "cell_type": "code",
   "execution_count": 37,
   "id": "a9720b2103ddc566",
   "metadata": {
    "ExecuteTime": {
     "end_time": "2024-03-07T08:07:07.341070700Z",
     "start_time": "2024-03-07T08:07:07.335979300Z"
    },
    "collapsed": false,
    "jupyter": {
     "outputs_hidden": false
    }
   },
   "outputs": [],
   "source": [
    "# 定义Sigmoid函数\n",
    "def Sigmoid(intx):\n",
    "    return 1.0 / (1 + np.exp(-intx))"
   ]
  },
  {
   "cell_type": "code",
   "execution_count": 45,
   "id": "2942e3b392ad75d9",
   "metadata": {
    "ExecuteTime": {
     "end_time": "2024-03-07T08:09:33.391012600Z",
     "start_time": "2024-03-07T08:09:33.356287300Z"
    },
    "collapsed": false,
    "jupyter": {
     "outputs_hidden": false
    }
   },
   "outputs": [
    {
     "name": "stdout",
     "output_type": "stream",
     "text": [
      "0 : weights:  [0.99205718 1.00094502 0.9194028 ] errors:  0.001936982356310124\n",
      "50 : weights:  [ 0.97826947  0.7473503  -0.15682927] errors:  0.7636783729275793\n",
      "100 : weights:  [ 1.05603814  0.48302258 -0.19572448] errors:  0.7354269194045486\n",
      "150 : weights:  [ 1.13294104  0.23563196 -0.16823912] errors:  0.49815871657825506\n",
      "200 : weights:  [ 1.18765823  0.03029941 -0.21630366] errors:  0.6064204666123826\n",
      "250 : weights:  [ 1.23194329 -0.14203875 -0.2387549 ] errors:  -0.10918223816014791\n",
      "300 : weights:  [ 1.26620116 -0.29349151 -0.26749046] errors:  0.5719593109323343\n",
      "350 : weights:  [ 1.29715989 -0.42844178 -0.28506677] errors:  0.36424648770457557\n",
      "400 : weights:  [ 1.32464064 -0.55394507 -0.30006976] errors:  -0.4499666077865867\n",
      "450 : weights:  [ 1.34681928 -0.66398033 -0.32949432] errors:  -0.07122980295092252\n"
     ]
    }
   ],
   "source": [
    "dataArr = np.array(dataMat)\n",
    "\n",
    "m,n = np.shape(dataArr)\n",
    "weights = np.ones(n)\n",
    "\n",
    "# 随机梯度，循环500次，观察是否收敛\n",
    "alpha = 0.001\n",
    "for j in range(500):\n",
    "    dataIndex = range(m)\n",
    "    for i in range(m):\n",
    "        randIndex = int(random.uniform(0,len(dataIndex)))\n",
    "        h = Sigmoid(sum(dataArr[dataIndex[randIndex]]*weights))\n",
    "        errors = labelMat[dataIndex[randIndex]] - h\n",
    "        weights = weights + alpha * errors * dataArr[dataIndex[randIndex]]\n",
    "    \n",
    "    if j%50 == 0:\n",
    "        print(j,\": weights: \",weights,\"errors: \",errors)"
   ]
  },
  {
   "cell_type": "code",
   "execution_count": 41,
   "id": "cb27650d3f7f3663",
   "metadata": {
    "ExecuteTime": {
     "end_time": "2024-03-07T08:07:55.029972500Z",
     "start_time": "2024-03-07T08:07:54.741034200Z"
    },
    "collapsed": false,
    "jupyter": {
     "outputs_hidden": false
    }
   },
   "outputs": [
    {
     "data": {
      "image/png": "[encoded data removed]",
      "text/plain": [
       "<Figure size 640x480 with 1 Axes>"
      ]
     },
     "metadata": {},
     "output_type": "display_data"
    }
   ],
   "source": [
    "# 数据可视化\n",
    "n = np.shape(dataArr)[0]\n",
    "xcord1 = []\n",
    "ycord1 = []\n",
    "xcord2 = []\n",
    "ycord2 = []\n",
    "\n",
    "for i in range(n):\n",
    "    if int(labelMat[i]) == 1:\n",
    "        xcord1.append(dataArr[i, 1])\n",
    "        ycord1.append(dataArr[i, 2])\n",
    "    else:\n",
    "        xcord2.append(dataArr[i, 1])\n",
    "        ycord2.append(dataArr[i, 2])\n",
    "        \n",
    "fig = plt.figure()\n",
    "ax = fig.add_subplot(111)\n",
    "ax.scatter(xcord1, ycord1, s=30, c='red', marker='s')\n",
    "ax.scatter(xcord2, ycord2, s=30, c='green')\n",
    "x = np.arange(-3.0, 3.0, 0.1)\n",
    "\n",
    "y = (-weights[0] - weights[1] * x) / weights[2]\n",
    "ax.plot(x, y)\n",
    "plt.xlabel('X')\n",
    "plt.ylabel('Y')\n",
    "plt.show()"
   ]
  },
  {
   "cell_type": "code",
   "execution_count": 41,
   "id": "9648cdd3fa655dc7",
   "metadata": {
    "ExecuteTime": {
     "end_time": "2024-03-07T08:07:55.155247100Z",
     "start_time": "2024-03-07T08:07:55.123147500Z"
    },
    "collapsed": false,
    "jupyter": {
     "outputs_hidden": false
    }
   },
   "outputs": [],
   "source": []
  },
  {
   "cell_type": "code",
   "execution_count": null,
   "id": "2b3e27d5a1dc04f2",
   "metadata": {
    "collapsed": false,
    "jupyter": {
     "outputs_hidden": false
    }
   },
   "outputs": [],
   "source": []
  }
 ],
 "metadata": {
  "kernelspec": {
   "display_name": "Python 3 (ipykernel)",
   "language": "python",
   "name": "python3"
  },
  "language_info": {
   "codemirror_mode": {
    "name": "ipython",
    "version": 3
   },
   "file_extension": ".py",
   "mimetype": "text/x-python",
   "name": "python",
   "nbconvert_exporter": "python",
   "pygments_lexer": "ipython3",
   "version": "3.11.5"
  }
 },
 "nbformat": 4,
 "nbformat_minor": 5
}
