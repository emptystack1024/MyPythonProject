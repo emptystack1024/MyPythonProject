{
 "cells": [
  {
   "cell_type": "markdown",
   "source": [
    "### 数据集介绍：\n",
    "\n",
    "#### covid.train.csv\n",
    "\n",
    "文件中包含了94列的数据，其中前40列数据表示美国的州，其后的每18列作为一天内产生的数据。这18列中，前17列是被调查者的实际情况，第18列是测试为阳性的比例。\n",
    "\n",
    "#### covid.test.csv\n",
    "\n",
    "文件形式与前面的训练数据相同，不同的是第三天的第18列（测试为阳性的比例）需要通过模型来预测，这也是本次作业的目的。"
   ],
   "metadata": {
    "collapsed": false
   },
   "id": "420c91af71a17552"
  },
  {
   "cell_type": "code",
   "execution_count": 2,
   "outputs": [
    {
     "name": "stderr",
     "output_type": "stream",
     "text": [
      "2024-03-09 00:30:06.146175: E external/local_xla/xla/stream_executor/cuda/cuda_dnn.cc:9261] Unable to register cuDNN factory: Attempting to register factory for plugin cuDNN when one has already been registered\n",
      "2024-03-09 00:30:06.146229: E external/local_xla/xla/stream_executor/cuda/cuda_fft.cc:607] Unable to register cuFFT factory: Attempting to register factory for plugin cuFFT when one has already been registered\n",
      "2024-03-09 00:30:06.147955: E external/local_xla/xla/stream_executor/cuda/cuda_blas.cc:1515] Unable to register cuBLAS factory: Attempting to register factory for plugin cuBLAS when one has already been registered\n",
      "2024-03-09 00:30:06.158387: I tensorflow/core/platform/cpu_feature_guard.cc:182] This TensorFlow binary is optimized to use available CPU instructions in performance-critical operations.\n",
      "To enable the following instructions: AVX2 FMA, in other operations, rebuild TensorFlow with the appropriate compiler flags.\n",
      "2024-03-09 00:30:07.498703: W tensorflow/compiler/tf2tensorrt/utils/py_utils.cc:38] TF-TRT Warning: Could not find TensorRT\n"
     ]
    },
    {
     "ename": "ModuleNotFoundError",
     "evalue": "No module named 'tensor'",
     "output_type": "error",
     "traceback": [
      "\u001B[0;31m---------------------------------------------------------------------------\u001B[0m",
      "\u001B[0;31mModuleNotFoundError\u001B[0m                       Traceback (most recent call last)",
      "Cell \u001B[0;32mIn[2], line 5\u001B[0m\n\u001B[1;32m      3\u001B[0m \u001B[38;5;28;01mimport\u001B[39;00m \u001B[38;5;21;01mnumpy\u001B[39;00m\n\u001B[1;32m      4\u001B[0m \u001B[38;5;28;01mimport\u001B[39;00m \u001B[38;5;21;01mtensorflow\u001B[39;00m \u001B[38;5;28;01mas\u001B[39;00m \u001B[38;5;21;01mtensor\u001B[39;00m\n\u001B[0;32m----> 5\u001B[0m \u001B[38;5;28;01mfrom\u001B[39;00m \u001B[38;5;21;01mtensor\u001B[39;00m\u001B[38;5;21;01m.\u001B[39;00m\u001B[38;5;21;01mutils\u001B[39;00m\u001B[38;5;21;01m.\u001B[39;00m\u001B[38;5;21;01mdata\u001B[39;00m \u001B[38;5;28;01mimport\u001B[39;00m Dataset, DataLoader\n\u001B[1;32m      7\u001B[0m \u001B[38;5;28;01mclass\u001B[39;00m \u001B[38;5;21;01mCovid19dataset\u001B[39;00m(Dataset):\n\u001B[1;32m      8\u001B[0m     \u001B[38;5;28;01mdef\u001B[39;00m \u001B[38;5;21m__init__\u001B[39m(\u001B[38;5;28mself\u001B[39m, path, mode\u001B[38;5;241m=\u001B[39m\u001B[38;5;124m'\u001B[39m\u001B[38;5;124mtrain\u001B[39m\u001B[38;5;124m'\u001B[39m):\n",
      "\u001B[0;31mModuleNotFoundError\u001B[0m: No module named 'tensor'"
     ]
    }
   ],
   "source": [
    "# 这一模块需要引入的库：\n",
    "import csv\n",
    "import numpy\n",
    "import tensor\n",
    "from tensor.utils.data import Dataset, DataLoader\n",
    "\n",
    "class Covid19dataset(Dataset):\n",
    "    def __init__(self, path, mode='train'):\n",
    "        super().__init__()\n",
    "        self.mode = mode\n",
    "\n",
    "        # 读取数据\n",
    "        with open(path) as file:\n",
    "            data_csv = list(csv.reader(file))   # 将csv文件中获取的数据转换为列表类型\n",
    "            data = np.array(data_csv[1:])[:, 1:].astype(float)  # 获取文件中的【数值数据】\n",
    "\n",
    "        if mode == 'test':  # 由于训练集、验证集与测试集的数据有所不同（最后一列数据），在此分情况运行\n",
    "            data = data[:, 0:93]    # 测试集中，由于最后一行是得预测的数据，故只有93列\n",
    "            self.data = torch.FloatTensor(data)     # 将numpy类型数据转换为tensor类型\n",
    "        else:\n",
    "            target = data[:, -1]    # 训练集和验证集中用于对比结果的“目标”\n",
    "            data = data[:, 0:93]\n",
    "            train_index = []\n",
    "            dev_index = []\n",
    "            for i in range(data.shape[0]):     # 这个循环用于将covid.train.csv文件中的数据分为训练集和验证集\n",
    "                if i % 10 != 0:                # 取序号为整十数的样本作为验证集\n",
    "                    train_index.append(i)\n",
    "                else:\n",
    "                    dev_index.append(i)\n",
    "            if mode == 'train':     # 训练集的数据\n",
    "                self.target = torch.FloatTensor(target[train_index])\n",
    "                self.data = torch.FloatTensor(data[train_index, 0:93])\n",
    "            else:       # 测试集的数据\n",
    "                self.target = torch.FloatTensor(target[dev_index])\n",
    "                self.data = torch.FloatTensor(data[dev_index, 0:93])\n",
    "\n",
    "        # 此处是对数据进行标准化处理，可以将不同量纲的不同特征，变为同一个数量级，使得损失函数更加平滑\n",
    "        # 标准化的优点：①提升模型的精度   ②提升收敛速度\n",
    "        # 采用均值标准化： （第i维数据 - 第i维数据的平均值）/（第i维数据的标准差）\n",
    "        self.data[:, 40:] = (self.data[:, 40:] - self.data[:, 40:].mean(dim=0)) / self.data[:, 40:].std(dim=0)\n",
    "\n",
    "        self.dim = self.data.shape[1]   # 获取数据的列数\n",
    "\n",
    "    def __getitem__(self, item):        # 【注】这是Dataset必须重写的类函数，意在按索引返回数据\n",
    "        if self.mode == 'train' or self.mode == 'dev':  # 训练集和验证集包含特征和目标数据\n",
    "            return self.data[item], self.target[item]\n",
    "        else:\n",
    "            return self.data[item]      # 测试集仅含有特征数据\n",
    "\n",
    "    def __len__(self):                  # 【注】返回数据的行数\n",
    "        return len(self.data)\n",
    "\n",
    "\n",
    "def prep_dataloader(path, mode, batch_size, n_jobs=0):\n",
    "    dataset = Covid19dataset(path, mode)    # 定义一个Dataset类\n",
    "    dataloader = DataLoader(dataset, batch_size,\n",
    "                            shuffle=(mode == 'train'),  # 【是否打乱数据后再读取】\n",
    "                            drop_last=False,            # 【False表示不丢弃不能被batch_size整除的部分】\n",
    "                            num_workers=n_jobs,         # 【采用多少个进程读取数据】\n",
    "                            pin_memory=False)           # 【是否将数据载入CUDA的内存当中】\n",
    "    print(mode, 'data done!')\n",
    "    return dataloader"
   ],
   "metadata": {
    "collapsed": false,
    "ExecuteTime": {
     "end_time": "2024-03-08T16:30:08.977816676Z",
     "start_time": "2024-03-08T16:30:05.666313271Z"
    }
   },
   "id": "ecd2d25ad8a14f1b"
  },
  {
   "cell_type": "code",
   "execution_count": null,
   "id": "initial_id",
   "metadata": {
    "collapsed": true
   },
   "outputs": [],
   "source": []
  }
 ],
 "metadata": {
  "kernelspec": {
   "display_name": "Python 3",
   "language": "python",
   "name": "python3"
  },
  "language_info": {
   "codemirror_mode": {
    "name": "ipython",
    "version": 2
   },
   "file_extension": ".py",
   "mimetype": "text/x-python",
   "name": "python",
   "nbconvert_exporter": "python",
   "pygments_lexer": "ipython2",
   "version": "2.7.6"
  }
 },
 "nbformat": 4,
 "nbformat_minor": 5
}
