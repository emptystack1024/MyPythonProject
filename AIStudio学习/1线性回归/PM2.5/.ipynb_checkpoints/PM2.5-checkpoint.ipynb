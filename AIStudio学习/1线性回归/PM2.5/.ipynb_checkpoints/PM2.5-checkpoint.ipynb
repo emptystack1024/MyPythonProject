{
 "cells": [
  {
   "cell_type": "code",
   "execution_count": 88,
   "id": "initial_id",
   "metadata": {
    "collapsed": true,
    "ExecuteTime": {
     "end_time": "2024-03-07T04:47:10.535925400Z",
     "start_time": "2024-03-07T04:47:10.503822700Z"
    }
   },
   "outputs": [],
   "source": [
    "import sys\n",
    "import numpy as np\n",
    "import matplotlib.pyplot as plt"
   ]
  },
  {
   "cell_type": "code",
   "execution_count": 89,
   "outputs": [
    {
     "name": "stdout",
     "output_type": "stream",
     "text": [
      "<_io.TextIOWrapper name='./data.txt' mode='r' encoding='cp936'>\n"
     ]
    }
   ],
   "source": [
    "# 加载数据集\n",
    "file = open(\"./data.txt\")\n",
    "print(file)"
   ],
   "metadata": {
    "collapsed": false,
    "ExecuteTime": {
     "end_time": "2024-03-07T04:47:10.574103800Z",
     "start_time": "2024-03-07T04:47:10.511370800Z"
    }
   },
   "id": "7a94922e573e3ca2"
  },
  {
   "cell_type": "markdown",
   "source": [
    "```\n",
    "---------------------------------------------------------------------------\n",
    "TypeError                                 Traceback (most recent call last)\n",
    "Cell In[28], line 8\n",
    "      6 curLine = line.strip().split('\\t')\n",
    "      7 print(curLine)\n",
    "----> 8 lineArray.append(float(curLine[0:2]))\n",
    "     10 dataMat.append(lineArray)\n",
    "     11 labelMat.append(float(curLine[-1]))\n",
    "\n",
    "TypeError: float() argument must be a string or a real number, not 'list'\n",
    "```\n",
    "不能使用切片"
   ],
   "metadata": {
    "collapsed": false
   },
   "id": "23f5700f6ecb4bb4"
  },
  {
   "cell_type": "code",
   "execution_count": 90,
   "outputs": [
    {
     "name": "stdout",
     "output_type": "stream",
     "text": [
      "['1.000000', '0.067732', '3.176513']\n",
      "['1.000000', '0.427810', '3.816464']\n",
      "['1.000000', '0.995731', '4.550095']\n",
      "['1.000000', '0.738336', '4.256571']\n"
     ]
    }
   ],
   "source": [
    "dataMat = []\n",
    "labelMat = []\n",
    "\n",
    "for line in file.readlines():\n",
    "    lineArray = []\n",
    "    curLine = line.strip().split('\\t')\n",
    "    print(curLine)\n",
    "    for i in range(2):\n",
    "        lineArray.append(float(curLine[i]))\n",
    "    \n",
    "    dataMat.append(lineArray)\n",
    "    labelMat.append(float(curLine[-1]))"
   ],
   "metadata": {
    "collapsed": false,
    "ExecuteTime": {
     "end_time": "2024-03-07T04:47:10.637346900Z",
     "start_time": "2024-03-07T04:47:10.523600900Z"
    }
   },
   "id": "562b90caef028c3b"
  },
  {
   "cell_type": "code",
   "execution_count": 91,
   "outputs": [
    {
     "name": "stdout",
     "output_type": "stream",
     "text": [
      "[[1.0, 0.067732], [1.0, 0.42781], [1.0, 0.995731], [1.0, 0.738336]]\n",
      "---------\n",
      "[3.176513, 3.816464, 4.550095, 4.256571]\n"
     ]
    }
   ],
   "source": [
    "print(dataMat)\n",
    "print(\"---------\")\n",
    "print(labelMat)"
   ],
   "metadata": {
    "collapsed": false,
    "ExecuteTime": {
     "end_time": "2024-03-07T04:47:10.637346900Z",
     "start_time": "2024-03-07T04:47:10.528122200Z"
    }
   },
   "id": "9aade225a1b67963"
  },
  {
   "cell_type": "code",
   "execution_count": 92,
   "outputs": [],
   "source": [
    "xMat = np.mat(dataMat)\n",
    "yMat = np.mat(labelMat).T"
   ],
   "metadata": {
    "collapsed": false,
    "ExecuteTime": {
     "end_time": "2024-03-07T04:47:10.639388300Z",
     "start_time": "2024-03-07T04:47:10.534092300Z"
    }
   },
   "id": "f0da90754529525"
  },
  {
   "cell_type": "code",
   "execution_count": 93,
   "outputs": [
    {
     "name": "stdout",
     "output_type": "stream",
     "text": [
      "[[1.       0.067732]\n",
      " [1.       0.42781 ]\n",
      " [1.       0.995731]\n",
      " [1.       0.738336]]\n",
      "---------\n",
      "[[3.176513]\n",
      " [3.816464]\n",
      " [4.550095]\n",
      " [4.256571]]\n"
     ]
    }
   ],
   "source": [
    "print(xMat)\n",
    "print(\"---------\")\n",
    "print(yMat)"
   ],
   "metadata": {
    "collapsed": false,
    "ExecuteTime": {
     "end_time": "2024-03-07T04:47:10.640388300Z",
     "start_time": "2024-03-07T04:47:10.541577700Z"
    }
   },
   "id": "1ed0c0dbfc43700"
  },
  {
   "cell_type": "code",
   "execution_count": 94,
   "outputs": [],
   "source": [
    "xT_x = xMat.T * xMat\n",
    "ws = xT_x.I * (xMat.T * yMat)"
   ],
   "metadata": {
    "collapsed": false,
    "ExecuteTime": {
     "end_time": "2024-03-07T04:47:10.650779800Z",
     "start_time": "2024-03-07T04:47:10.549350400Z"
    }
   },
   "id": "61cdcf80f41944c"
  },
  {
   "cell_type": "code",
   "execution_count": 95,
   "outputs": [
    {
     "name": "stdout",
     "output_type": "stream",
     "text": [
      "[[0.067732, 0.42781, 0.995731, 0.738336]]\n",
      "----\n",
      "[3.176513]\n"
     ]
    }
   ],
   "source": [
    "print(xMat[:,1].flatten().tolist())\n",
    "print(\"----\")\n",
    "print(yMat.T[:,0].flatten().A[0].tolist())"
   ],
   "metadata": {
    "collapsed": false,
    "ExecuteTime": {
     "end_time": "2024-03-07T04:47:10.651773800Z",
     "start_time": "2024-03-07T04:47:10.555867400Z"
    }
   },
   "id": "ca909f97f287c517"
  },
  {
   "cell_type": "markdown",
   "source": [
    "1. `flatten`：\n",
    "- `flatten` 方法返回一个迭代器，该迭代器遍历数组的元素，按照多维数组的“C”顺序（即先遍历最外层的维度，然后是次外层的维度，依此类推）生成一维数组。这个迭代器可以被用来创建一个新的一维数组，或者直接在需要一维数据的地方使用。\n",
    "\n",
    "2. `tolist`：\n",
    "- `tolist` 方法将数组（或其子集）转换为Python列表。这个方法通常在你需要将NumPy数组的数据转换为Python原生列表时使用，例如，当你需要将数据传递给不支持NumPy数组的函数或方法时。"
   ],
   "metadata": {
    "collapsed": false
   },
   "id": "aea6a5aa64804161"
  },
  {
   "cell_type": "code",
   "execution_count": 96,
   "outputs": [
    {
     "data": {
      "text/plain": "<Figure size 640x480 with 1 Axes>",
      "image/png": "[encoded data removed]"
     },
     "metadata": {},
     "output_type": "display_data"
    }
   ],
   "source": [
    "# 画图\n",
    "fig = plt.figure()\n",
    "#add_subplot(349)函数的参数的意思是，将画布分成3行4列图像画在从左到右从上到下第9块\n",
    "ax = fig.add_subplot(111)\n",
    "#scatter 的x是xMat中的第二列，y是yMat的第一列\n",
    "ax.scatter(xMat[:,1].flatten().tolist(),\n",
    "           yMat[:,0].flatten().A[0].tolist())\n",
    "\n",
    "xCopy = xMat.copy()\n",
    "xCopy.sort(0)\n",
    "yHat = xCopy * ws\n",
    "ax.plot(xCopy[:,1],yHat)\n",
    "plt.show()"
   ],
   "metadata": {
    "collapsed": false,
    "ExecuteTime": {
     "end_time": "2024-03-07T04:47:10.766582100Z",
     "start_time": "2024-03-07T04:47:10.576100900Z"
    }
   },
   "id": "1fd458b144a33503"
  },
  {
   "cell_type": "code",
   "execution_count": 96,
   "outputs": [],
   "source": [],
   "metadata": {
    "collapsed": false,
    "ExecuteTime": {
     "end_time": "2024-03-07T04:47:10.768089Z",
     "start_time": "2024-03-07T04:47:10.729739300Z"
    }
   },
   "id": "fd35c7d811d06606"
  }
 ],
 "metadata": {
  "kernelspec": {
   "display_name": "Python 3",
   "language": "python",
   "name": "python3"
  },
  "language_info": {
   "codemirror_mode": {
    "name": "ipython",
    "version": 2
   },
   "file_extension": ".py",
   "mimetype": "text/x-python",
   "name": "python",
   "nbconvert_exporter": "python",
   "pygments_lexer": "ipython2",
   "version": "2.7.6"
  }
 },
 "nbformat": 4,
 "nbformat_minor": 5
}
