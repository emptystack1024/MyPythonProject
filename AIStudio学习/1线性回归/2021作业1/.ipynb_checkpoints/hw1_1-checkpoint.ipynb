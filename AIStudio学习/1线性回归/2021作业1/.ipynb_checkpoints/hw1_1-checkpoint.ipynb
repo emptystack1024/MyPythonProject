{
 "cells": [
  {
   "cell_type": "markdown",
   "source": [
    "### 数据集介绍：\n",
    "\n",
    "#### covid.train.csv\n",
    "\n",
    "文件中包含了94列的数据，其中前40列数据表示美国的州，其后的每18列作为一天内产生的数据。这18列中，前17列是被调查者的实际情况，第18列是测试为阳性的比例。\n",
    "\n",
    "#### covid.test.csv\n",
    "\n",
    "文件形式与前面的训练数据相同，不同的是第三天的第18列（测试为阳性的比例）需要通过模型来预测，这也是本次作业的目的。"
   ],
   "metadata": {
    "collapsed": false
   },
   "id": "420c91af71a17552"
  },
  {
   "cell_type": "code",
   "execution_count": 12,
   "outputs": [
    {
     "data": {
      "text/plain": "<torch._C.Generator at 0x188361829d0>"
     },
     "execution_count": 12,
     "metadata": {},
     "output_type": "execute_result"
    }
   ],
   "source": [
    "import torch\n",
    "from torch import nn, optim\n",
    "from torch.utils.data import DataLoader, Dataset\n",
    "\n",
    "import csv\n",
    "import numpy as np\n",
    "import os\n",
    "import matplotlib.pyplot as plt\n",
    "\n",
    "myseed = 42069  # 作用是为了其他人复现的时候更接近作者的结果\n",
    "np.random.seed(myseed)\n",
    "torch.manual_seed(myseed)"
   ],
   "metadata": {
    "collapsed": false,
    "ExecuteTime": {
     "end_time": "2024-03-09T01:57:31.830386200Z",
     "start_time": "2024-03-09T01:57:31.792374900Z"
    }
   },
   "id": "e0457cc2b6c94c14"
  },
  {
   "cell_type": "code",
   "execution_count": 13,
   "outputs": [],
   "source": [
    "# 数据类的处理\n",
    "class Covid19dataset(Dataset):\n",
    "    def __init__(self, path, mode='train'):\n",
    "        super().__init__()\n",
    "        self.mode = mode\n",
    "\n",
    "        # 读取数据\n",
    "        with open(path) as file:\n",
    "            data_csv = list(csv.reader(file))   # 将csv文件中获取的数据转换为列表类型\n",
    "            data = np.array(data_csv[1:])[:, 1:].astype(float)  # 获取文件中的【数值数据】\n",
    "\n",
    "        if mode == 'test':  # 由于训练集、验证集与测试集的数据有所不同（最后一列数据），在此分情况运行\n",
    "            data = data[:, 0:93]    # 测试集中，由于最后一行是得预测的数据，故只有93列\n",
    "            self.data = torch.FloatTensor(data)     # 将numpy类型数据转换为tensor类型\n",
    "        else:\n",
    "            target = data[:, -1]    # 训练集和验证集中用于对比结果的“目标”\n",
    "            data = data[:, 0:93]\n",
    "            train_index = []\n",
    "            dev_index = []\n",
    "            for i in range(data.shape[0]):     # 这个循环用于将covid.train.csv文件中的数据分为训练集和验证集\n",
    "                if i % 10 != 0:                # 取序号为整十数的样本作为验证集\n",
    "                    train_index.append(i)\n",
    "                else:\n",
    "                    dev_index.append(i)\n",
    "            if mode == 'train':     # 训练集的数据\n",
    "                self.target = torch.FloatTensor(target[train_index])\n",
    "                self.data = torch.FloatTensor(data[train_index, 0:93])\n",
    "            else:       # 测试集的数据\n",
    "                self.target = torch.FloatTensor(target[dev_index])\n",
    "                self.data = torch.FloatTensor(data[dev_index, 0:93])\n",
    "\n",
    "        # 此处是对数据进行标准化处理，可以将不同量纲的不同特征，变为同一个数量级，使得损失函数更加平滑\n",
    "        # 标准化的优点：①提升模型的精度   ②提升收敛速度\n",
    "        # 采用均值标准化： （第i维数据 - 第i维数据的平均值）/（第i维数据的标准差）\n",
    "        self.data[:, 40:] = (self.data[:, 40:] - self.data[:, 40:].mean(dim=0)) / self.data[:, 40:].std(dim=0)\n",
    "\n",
    "        self.dim = self.data.shape[1]   # 获取数据的列数\n",
    "\n",
    "    def __getitem__(self, item):        # 【注】这是Dataset必须重写的类函数，意在按索引返回数据\n",
    "        if self.mode == 'train' or self.mode == 'dev':  # 训练集和验证集包含特征和目标数据\n",
    "            return self.data[item], self.target[item]\n",
    "        else:\n",
    "            return self.data[item]      # 测试集仅含有特征数据\n",
    "\n",
    "    def __len__(self):                  # 【注】返回数据的行数\n",
    "        return len(self.data)"
   ],
   "metadata": {
    "collapsed": false,
    "ExecuteTime": {
     "end_time": "2024-03-09T01:57:31.850770300Z",
     "start_time": "2024-03-09T01:57:31.804705400Z"
    }
   },
   "id": "48b4d8a4819b4c57"
  },
  {
   "cell_type": "code",
   "execution_count": 14,
   "outputs": [],
   "source": [
    "def prep_dataloader(path, mode, batch_size, n_jobs=0):\n",
    "    dataset = Covid19dataset(path, mode)    # 定义一个Dataset类\n",
    "    dataloader = DataLoader(dataset, batch_size,\n",
    "                            shuffle=(mode == 'train'),  # 【是否打乱数据后再读取】\n",
    "                            drop_last=False,            # 【False表示不丢弃不能被batch_size整除的部分】\n",
    "                            num_workers=n_jobs,         # 【采用多少个进程读取数据】\n",
    "                            pin_memory=False)           # 【是否将数据载入CUDA的内存当中】\n",
    "    print(mode, 'data done!')\n",
    "    return dataloader\n"
   ],
   "metadata": {
    "collapsed": false,
    "ExecuteTime": {
     "end_time": "2024-03-09T01:57:31.850770300Z",
     "start_time": "2024-03-09T01:57:31.809757500Z"
    }
   },
   "id": "f6aad72259abbc77"
  },
  {
   "cell_type": "code",
   "execution_count": 15,
   "outputs": [],
   "source": [
    "# 这部分可以直接到pytorch的官方文档中查看对应类或函数的使用方法\n",
    "class Mymodel(nn.Module):\n",
    "    def __init__(self, input_dim):\n",
    "        super(Mymodel, self).__init__()\n",
    "        self.net = nn.Sequential(           # 设置好模型的结构，可在forward函数中直接按顺序运行\n",
    "            nn.Linear(input_dim, 100),\n",
    "            nn.ReLU(),\n",
    "            nn.Linear(100, 1)\n",
    "        )\n",
    "\n",
    "        self.criterion = nn.MSELoss(reduction='mean')   # 计算Loss\n",
    "\n",
    "    def forward(self, x):\n",
    "        return self.net(x).squeeze(1)       # 对数据的维度进行压缩，方便预测值与实际值的对比\n",
    "\n",
    "    def cal_loss(self, pred, target):\n",
    "        return self.criterion(pred, target)     # 计算Loss"
   ],
   "metadata": {
    "collapsed": false,
    "ExecuteTime": {
     "end_time": "2024-03-09T01:57:31.894015300Z",
     "start_time": "2024-03-09T01:57:31.815538900Z"
    }
   },
   "id": "9ca7435e415875a3"
  },
  {
   "cell_type": "code",
   "execution_count": 16,
   "outputs": [],
   "source": [
    "def train(model, train_data, dev_data):\n",
    "    max_epoch = 3000    # 至多训练次数\n",
    "    epoch = 1\n",
    "    optimizer = optim.SGD(model.parameters(), lr=0.001, momentum=0.9)   # 初始化梯度下降法\n",
    "    train_loss = []     # 存储训练集的Loss\n",
    "    dev_loss = []       # 存储测试集的Loss\n",
    "    min_mse = 1000\n",
    "    break_flag = 0\n",
    "    while epoch < max_epoch:\n",
    "        model.train()               # 设置模式\n",
    "        for x, y in train_data:     # x，y 每次包含一个batch_size的样本\n",
    "            optimizer.zero_grad()   # 每次必须先将梯度清零\n",
    "            pred = model(x)\n",
    "            loss = model.cal_loss(pred, y)  # 计算Loss\n",
    "            train_loss.append(loss.detach())\n",
    "            loss.backward()         # 计算梯度\n",
    "            optimizer.step()        # 模型的参数更新\n",
    "\n",
    "        dev_mse = dev(model, dev_data)\n",
    "        if dev_mse < min_mse:       # 如果测试验证集的Loss比上一次小，则存储当前模型\n",
    "            min_mse = dev_mse\n",
    "            print('Saving model (epoch = {:4d}, loss = {:.4f})'\n",
    "                  .format(epoch + 1, min_mse))\n",
    "\n",
    "            # 存储当前最好的模型，此处需要导入os库，创建相应的目录\n",
    "            torch.save(model.state_dict(), 'my_models/mymodel.pth')\n",
    "\n",
    "            break_flag = 0\n",
    "        else:\n",
    "            break_flag += 1\n",
    "\n",
    "        dev_loss.append(dev_mse.detach())\n",
    "\n",
    "        if break_flag > 200:    # 如果连续200个周期，Loss都没有下降，则结束训练\n",
    "            break\n",
    "\n",
    "        epoch += 1\n",
    "    return train_loss, dev_loss"
   ],
   "metadata": {
    "collapsed": false,
    "ExecuteTime": {
     "end_time": "2024-03-09T01:57:31.894015300Z",
     "start_time": "2024-03-09T01:57:31.823697800Z"
    }
   },
   "id": "a18728c6f20b7756"
  },
  {
   "cell_type": "code",
   "execution_count": 17,
   "outputs": [],
   "source": [
    "def dev(model, dev_data):\n",
    "    model.eval()            # 设置模式\n",
    "    total_loss = []\n",
    "\n",
    "    for x, y in dev_data:       # 得到当前模型下验证集的Loss\n",
    "        pred = model(x)\n",
    "        dev_loss = model.cal_loss(pred, y)\n",
    "        total_loss.append(dev_loss)\n",
    "\n",
    "    return sum(total_loss) / len(total_loss)    # 取Loss的平均数"
   ],
   "metadata": {
    "collapsed": false,
    "ExecuteTime": {
     "end_time": "2024-03-09T01:57:31.895657400Z",
     "start_time": "2024-03-09T01:57:31.828735400Z"
    }
   },
   "id": "5c6391e41edca753"
  },
  {
   "cell_type": "code",
   "execution_count": 18,
   "outputs": [],
   "source": [
    "def test(model, test_data):\n",
    "    model.eval()            # 设置模式\n",
    "    preds = []\n",
    "    for x in test_data:     # 计算获得【预测值】\n",
    "        pred = model(x)\n",
    "        preds.append(pred.detach().cpu())\n",
    "    preds = torch.cat(preds, dim=0).numpy()\n",
    "    return preds"
   ],
   "metadata": {
    "collapsed": false,
    "ExecuteTime": {
     "end_time": "2024-03-09T01:57:31.895657400Z",
     "start_time": "2024-03-09T01:57:31.834899900Z"
    }
   },
   "id": "7efe6755c0add9be"
  },
  {
   "cell_type": "code",
   "execution_count": 19,
   "outputs": [],
   "source": [
    "def plot_learning_curve(train_loss, dev_loss, title=''):\n",
    "    total_steps = len(train_loss)\n",
    "    x_1 = range(total_steps)\n",
    "    x_2 = x_1[::len(train_loss) // len(dev_loss)]\n",
    "    plt.figure(1, figsize=(6, 4))\n",
    "    plt.plot(x_1, train_loss, c='tab:red', label='train')\n",
    "    plt.plot(x_2, dev_loss, c='tab:cyan', label='dev')\n",
    "    plt.ylim(0.0, 5.)\n",
    "    plt.xlabel('Training steps')\n",
    "    plt.ylabel('MSE loss')\n",
    "    plt.title('Learning curve of {}'.format(title))\n",
    "    plt.legend()\n",
    "    plt.show()"
   ],
   "metadata": {
    "collapsed": false,
    "ExecuteTime": {
     "end_time": "2024-03-09T01:57:31.895657400Z",
     "start_time": "2024-03-09T01:57:31.842122700Z"
    }
   },
   "id": "201bec791b6660af"
  },
  {
   "cell_type": "code",
   "execution_count": 20,
   "outputs": [],
   "source": [
    "def plot_pred(dv_set, model, device, lim=35., preds=None, targets=None):\n",
    "    if preds is None or targets is None:\n",
    "        model.eval()\n",
    "        preds, targets = [], []\n",
    "        for x, y in dv_set:\n",
    "            x, y = x.to(device), y.to(device)\n",
    "            with torch.no_grad():\n",
    "                pred = model(x)\n",
    "                preds.append(pred.detach().cpu())\n",
    "                targets.append(y.detach().cpu())\n",
    "        preds = torch.cat(preds, dim=0).numpy()\n",
    "        targets = torch.cat(targets, dim=0).numpy()\n",
    "    plt.figure(2, figsize=(5, 5))\n",
    "    plt.scatter(targets, preds, c='r', alpha=0.5)\n",
    "    plt.plot([-0.2, lim], [-0.2, lim], c='b')\n",
    "    plt.xlim(-0.2, lim)\n",
    "    plt.ylim(-0.2, lim)\n",
    "    plt.xlabel('ground truth value')\n",
    "    plt.ylabel('predicted value')\n",
    "    plt.title('Ground Truth v.s. Prediction')\n",
    "    plt.show()"
   ],
   "metadata": {
    "collapsed": false,
    "ExecuteTime": {
     "end_time": "2024-03-09T01:57:31.896673800Z",
     "start_time": "2024-03-09T01:57:31.847795800Z"
    }
   },
   "id": "41ccb13f7c768357"
  },
  {
   "cell_type": "code",
   "execution_count": 21,
   "outputs": [],
   "source": [
    "def save_pred(preds, file):\n",
    "    print('Saving results to {}'.format(file))\n",
    "    with open(file, 'w') as fp:\n",
    "        writer = csv.writer(fp)\n",
    "        writer.writerow(['id', 'tested_positive'])\n",
    "        for i, p in enumerate(preds):   # enumerate() 函数用于将一个可遍历的数据对象组合为一个索引序列，同时列出数据和数据下标\n",
    "            writer.writerow([i, p])"
   ],
   "metadata": {
    "collapsed": false,
    "ExecuteTime": {
     "end_time": "2024-03-09T01:57:31.897680900Z",
     "start_time": "2024-03-09T01:57:31.855279200Z"
    }
   },
   "id": "eaef26a8652b7573"
  },
  {
   "cell_type": "code",
   "execution_count": 22,
   "outputs": [
    {
     "name": "stdout",
     "output_type": "stream",
     "text": [
      "train data done!\n",
      "dev data done!\n",
      "test data done!\n",
      "Saving model (epoch =    2, loss = 51.0681)\n",
      "Saving model (epoch =    3, loss = 12.6505)\n",
      "Saving model (epoch =    4, loss = 5.6752)\n",
      "Saving model (epoch =    5, loss = 4.0360)\n",
      "Saving model (epoch =    6, loss = 3.3920)\n",
      "Saving model (epoch =    7, loss = 2.8617)\n",
      "Saving model (epoch =    8, loss = 2.4789)\n",
      "Saving model (epoch =    9, loss = 2.2375)\n",
      "Saving model (epoch =   10, loss = 2.0216)\n",
      "Saving model (epoch =   11, loss = 1.8489)\n",
      "Saving model (epoch =   12, loss = 1.7353)\n",
      "Saving model (epoch =   13, loss = 1.5770)\n",
      "Saving model (epoch =   14, loss = 1.5064)\n",
      "Saving model (epoch =   15, loss = 1.4060)\n",
      "Saving model (epoch =   16, loss = 1.3681)\n",
      "Saving model (epoch =   17, loss = 1.3126)\n",
      "Saving model (epoch =   18, loss = 1.2665)\n",
      "Saving model (epoch =   19, loss = 1.2314)\n",
      "Saving model (epoch =   20, loss = 1.1806)\n",
      "Saving model (epoch =   22, loss = 1.1721)\n",
      "Saving model (epoch =   26, loss = 1.1052)\n",
      "Saving model (epoch =   27, loss = 1.0713)\n",
      "Saving model (epoch =   30, loss = 1.0334)\n",
      "Saving model (epoch =   31, loss = 1.0146)\n",
      "Saving model (epoch =   34, loss = 1.0106)\n",
      "Saving model (epoch =   37, loss = 1.0025)\n",
      "Saving model (epoch =   38, loss = 0.9877)\n",
      "Saving model (epoch =   40, loss = 0.9654)\n",
      "Saving model (epoch =   42, loss = 0.9639)\n",
      "Saving model (epoch =   45, loss = 0.9574)\n",
      "Saving model (epoch =   47, loss = 0.9543)\n",
      "Saving model (epoch =   48, loss = 0.9490)\n",
      "Saving model (epoch =   49, loss = 0.9289)\n",
      "Saving model (epoch =   50, loss = 0.9289)\n",
      "Saving model (epoch =   54, loss = 0.8931)\n",
      "Saving model (epoch =   57, loss = 0.8862)\n",
      "Saving model (epoch =   65, loss = 0.8727)\n",
      "Saving model (epoch =   66, loss = 0.8583)\n",
      "Saving model (epoch =   75, loss = 0.8431)\n",
      "Saving model (epoch =   80, loss = 0.8295)\n",
      "Saving model (epoch =  113, loss = 0.8215)\n",
      "Saving model (epoch =  122, loss = 0.8073)\n",
      "Saving model (epoch =  138, loss = 0.8071)\n",
      "Saving model (epoch =  151, loss = 0.7913)\n",
      "Saving model (epoch =  166, loss = 0.7912)\n",
      "Saving model (epoch =  173, loss = 0.7885)\n",
      "Saving model (epoch =  199, loss = 0.7805)\n",
      "Saving model (epoch =  239, loss = 0.7804)\n",
      "Saving model (epoch =  262, loss = 0.7791)\n",
      "Saving model (epoch =  269, loss = 0.7762)\n",
      "Saving model (epoch =  303, loss = 0.7707)\n",
      "Saving model (epoch =  330, loss = 0.7672)\n",
      "Saving model (epoch =  340, loss = 0.7636)\n",
      "Saving model (epoch =  381, loss = 0.7623)\n",
      "Saving model (epoch =  386, loss = 0.7604)\n",
      "Saving model (epoch =  403, loss = 0.7574)\n",
      "Saving model (epoch =  407, loss = 0.7495)\n",
      "Saving model (epoch =  419, loss = 0.7477)\n",
      "Saving model (epoch =  427, loss = 0.7417)\n",
      "Saving model (epoch =  446, loss = 0.7346)\n",
      "Saving model (epoch =  465, loss = 0.7310)\n",
      "Saving model (epoch =  468, loss = 0.7277)\n",
      "Saving model (epoch =  471, loss = 0.7275)\n",
      "Saving model (epoch =  480, loss = 0.7252)\n",
      "Saving model (epoch =  508, loss = 0.7230)\n",
      "Saving model (epoch =  541, loss = 0.7213)\n",
      "Saving model (epoch =  554, loss = 0.7211)\n",
      "Saving model (epoch =  572, loss = 0.7111)\n",
      "Saving model (epoch =  615, loss = 0.6990)\n",
      "Saving model (epoch =  657, loss = 0.6963)\n",
      "Saving model (epoch =  684, loss = 0.6926)\n",
      "Saving model (epoch =  744, loss = 0.6909)\n",
      "Saving model (epoch =  796, loss = 0.6887)\n",
      "Saving model (epoch =  801, loss = 0.6853)\n",
      "Saving model (epoch =  847, loss = 0.6795)\n",
      "Saving model (epoch =  893, loss = 0.6753)\n",
      "Saving model (epoch =  912, loss = 0.6721)\n",
      "Saving model (epoch =  975, loss = 0.6679)\n",
      "Saving model (epoch = 1024, loss = 0.6634)\n",
      "Saving model (epoch = 1137, loss = 0.6535)\n",
      "Saving model (epoch = 1321, loss = 0.6519)\n",
      "Saving model (epoch = 1394, loss = 0.6444)\n",
      "Saving model (epoch = 1422, loss = 0.6423)\n"
     ]
    },
    {
     "data": {
      "text/plain": "<Figure size 600x400 with 1 Axes>",
      "image/png": "[encoded data removed]"
     },
     "metadata": {},
     "output_type": "display_data"
    },
    {
     "data": {
      "text/plain": "<Figure size 500x500 with 1 Axes>",
      "image/png": "[encoded data removed]"
     },
     "metadata": {},
     "output_type": "display_data"
    },
    {
     "name": "stdout",
     "output_type": "stream",
     "text": [
      "Saving results to mypred.csv\n",
      "All Done!\n"
     ]
    }
   ],
   "source": [
    "# 设置存储模型的目录\n",
    "os.makedirs('my_models', exist_ok=True)\n",
    "\n",
    "# 加载数据\n",
    "train_data = prep_dataloader('covid.train.csv', 'train', batch_size=135)\n",
    "dev_data = prep_dataloader('covid.train.csv', 'dev', batch_size=135)\n",
    "test_data = prep_dataloader('covid.test.csv', 'test', batch_size=135)\n",
    "\n",
    "# 设置模型与训练\n",
    "mymodel = Mymodel(train_data.dataset.dim)\n",
    "train_loss, dev_loss = train(mymodel, train_data, dev_data)\n",
    "plot_learning_curve(train_loss, dev_loss, title='deep model')\n",
    "del mymodel\n",
    "\n",
    "# 加载最好的模型进行预测\n",
    "model = Mymodel(train_data.dataset.dim)\n",
    "ckpt = torch.load('my_models/mymodel.pth', map_location='cpu')  # 加载最好的模型\n",
    "model.load_state_dict(ckpt)\n",
    "plot_pred(dev_data, model, 'cpu')\n",
    "preds = test(model, test_data)\n",
    "\n",
    "# 储存预测结果\n",
    "save_pred(preds, 'mypred.csv')\n",
    "print('All Done!')"
   ],
   "metadata": {
    "collapsed": false,
    "ExecuteTime": {
     "end_time": "2024-03-09T01:58:33.714813200Z",
     "start_time": "2024-03-09T01:57:31.858801600Z"
    }
   },
   "id": "ecd2d25ad8a14f1b"
  },
  {
   "cell_type": "code",
   "execution_count": 22,
   "id": "initial_id",
   "metadata": {
    "collapsed": true,
    "ExecuteTime": {
     "end_time": "2024-03-09T01:58:33.715818Z",
     "start_time": "2024-03-09T01:58:33.700772900Z"
    }
   },
   "outputs": [],
   "source": []
  }
 ],
 "metadata": {
  "kernelspec": {
   "display_name": "Python 3",
   "language": "python",
   "name": "python3"
  },
  "language_info": {
   "codemirror_mode": {
    "name": "ipython",
    "version": 2
   },
   "file_extension": ".py",
   "mimetype": "text/x-python",
   "name": "python",
   "nbconvert_exporter": "python",
   "pygments_lexer": "ipython2",
   "version": "2.7.6"
  }
 },
 "nbformat": 4,
 "nbformat_minor": 5
}
