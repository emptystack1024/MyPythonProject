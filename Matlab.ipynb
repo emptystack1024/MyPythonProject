{
 "cells": [
  {
   "cell_type": "markdown",
   "source": [
    "### Gauss消元法\n",
    "高斯消元法是一种用于求解线性方程组的方法，通过行变换将线性方程组转化为上三角形式，然后回代求解。"
   ],
   "metadata": {
    "collapsed": false
   }
  },
  {
   "cell_type": "code",
   "execution_count": 1,
   "outputs": [
    {
     "name": "stdout",
     "output_type": "stream",
     "text": [
      "Solution: [1.191304347826087, 1.1157190635451504, 0.811371237458194, 0.09230769230769226]\n"
     ]
    }
   ],
   "source": [
    "def gaussian_elimination(matrix):\n",
    "    n = len(matrix)\n",
    "\n",
    "    for i in range(n):\n",
    "        # 找到主元素的行\n",
    "        max_row = i\n",
    "        for j in range(i + 1, n):\n",
    "            if abs(matrix[j][i]) > abs(matrix[max_row][i]):\n",
    "                max_row = j\n",
    "\n",
    "        # 交换行\n",
    "        matrix[i], matrix[max_row] = matrix[max_row], matrix[i]\n",
    "\n",
    "        # 主元素归一化\n",
    "        pivot = matrix[i][i]\n",
    "        for j in range(i, n + 1):\n",
    "            matrix[i][j] /= pivot\n",
    "\n",
    "        # 消元\n",
    "        for j in range(i + 1, n):\n",
    "            factor = matrix[j][i]\n",
    "            for k in range(i, n + 1):\n",
    "                matrix[j][k] -= factor * matrix[i][k]\n",
    "\n",
    "    # 回代求解\n",
    "    solution = [0] * n\n",
    "    for i in range(n - 1, -1, -1):\n",
    "        solution[i] = matrix[i][n]\n",
    "        for j in range(i + 1, n):\n",
    "            solution[i] -= matrix[i][j] * solution[j]\n",
    "\n",
    "    return solution\n",
    "\n",
    "# 示例\n",
    "matrix = [\n",
    "    [2, -3, 5, -1, 3],\n",
    "    [1, 4, 2, -3, 7],\n",
    "    [-2, 4, -3, -7, -1],\n",
    "    [8, 0, -2, 1, 8]\n",
    "]\n",
    "\n",
    "solution = gaussian_elimination(matrix)\n",
    "print(\"Solution:\", solution)"
   ],
   "metadata": {
    "collapsed": false,
    "ExecuteTime": {
     "end_time": "2023-11-27T13:26:23.443333735Z",
     "start_time": "2023-11-27T13:26:23.438084359Z"
    }
   }
  },
  {
   "cell_type": "markdown",
   "source": [
    "### [雅可比迭代法（Jacobi Iteration）](https://zh.wikipedia.org/wiki/%E9%9B%85%E5%8F%AF%E6%AF%94%E6%B3%95)\n",
    "\n",
    "是一种用于解线性方程组的迭代方法，适用于对角占优矩阵。该方法通过不断迭代来逐步逼近线性方程组的解。\n",
    "\n",
    "假设线性方程组为 Ax = b，其中 A 是系数矩阵，x 是未知向量，b 是常数向量。雅可比迭代法的基本思想是将系数矩阵 A 拆分为一个对角矩阵 D 和一个非对角矩阵 R，然后不断迭代以下公式来逼近解 x：\n",
    "\n",
    "x^(k+1)^ = D^(-1)^ * (b - R * x^(k)^)\n",
    "\n",
    "其中 x^(k)^ 是第 k 次迭代的近似解。"
   ],
   "metadata": {
    "collapsed": false
   }
  },
  {
   "cell_type": "code",
   "execution_count": 3,
   "outputs": [
    {
     "ename": "ModuleNotFoundError",
     "evalue": "No module named 'numpy'",
     "output_type": "error",
     "traceback": [
      "\u001B[0;31m---------------------------------------------------------------------------\u001B[0m",
      "\u001B[0;31mModuleNotFoundError\u001B[0m                       Traceback (most recent call last)",
      "Cell \u001B[0;32mIn[3], line 1\u001B[0m\n\u001B[0;32m----> 1\u001B[0m \u001B[38;5;28;01mimport\u001B[39;00m \u001B[38;5;21;01mnumpy\u001B[39;00m \u001B[38;5;28;01mas\u001B[39;00m \u001B[38;5;21;01mnp\u001B[39;00m\n\u001B[1;32m      3\u001B[0m \u001B[38;5;28;01mdef\u001B[39;00m \u001B[38;5;21mjacobi_iteration\u001B[39m(A, b, max_iterations\u001B[38;5;241m=\u001B[39m\u001B[38;5;241m100\u001B[39m, tolerance\u001B[38;5;241m=\u001B[39m\u001B[38;5;241m1e-6\u001B[39m):\n\u001B[1;32m      4\u001B[0m     n \u001B[38;5;241m=\u001B[39m \u001B[38;5;28mlen\u001B[39m(A)\n",
      "\u001B[0;31mModuleNotFoundError\u001B[0m: No module named 'numpy'"
     ]
    }
   ],
   "source": [
    "import numpy as np\n",
    "\n",
    "def jacobi_iteration(A, b, max_iterations=100, tolerance=1e-6):\n",
    "    n = len(A)\n",
    "    x = np.zeros(n)\n",
    "\n",
    "    for _ in range(max_iterations):\n",
    "        x_new = np.zeros(n)\n",
    "        for i in range(n):\n",
    "            sum_ax = np.dot(A[i, :], x) - A[i, i] * x[i]\n",
    "            x_new[i] = (b[i] - sum_ax) / A[i, i]\n",
    "\n",
    "        if np.linalg.norm(x_new - x) < tolerance:\n",
    "            return x_new\n",
    "\n",
    "        x = x_new\n",
    "\n",
    "    return x\n",
    "\n",
    "# 示例\n",
    "A = np.array([\n",
    "    [2, 1],\n",
    "    [5, 7]\n",
    "])\n",
    "\n",
    "b = np.array([11, 13])\n",
    "\n",
    "solution = jacobi_iteration(A, b)\n",
    "print(\"Solution:\", solution)\n"
   ],
   "metadata": {
    "collapsed": false,
    "ExecuteTime": {
     "end_time": "2023-11-27T13:40:10.730034906Z",
     "start_time": "2023-11-27T13:40:10.685278661Z"
    }
   }
  },
  {
   "cell_type": "markdown",
   "source": [
    "### [拉格朗日插值函数算法](https://zh.wikipedia.org/zh-cn/%E6%8B%89%E6%A0%BC%E6%9C%97%E6%97%A5%E6%8F%92%E5%80%BC%E6%B3%95)\n",
    "\n",
    "拉格朗日插值法是一种用于在给定数据点的情况下，通过一个多项式来逼近这些数据点的方法。它可以用来估计两个数据点之间的值，或者用来插值一组数据点来构造一个多项式函数。\n",
    "\n",
    "假设有一组已知的数据点 (x_i, y_i)，其中 x_i 是自变量，y_i 是因变量。拉格朗日插值法的目标是找到一个多项式 P(x) = a_0 + a_1*x + a_2*x^2^ + ... + a_n*x^n^，使得 P(x_i) = y_i 对所有数据点成立。\n",
    "\n",
    "多项式 P(x) 的表达式为：\n",
    "\n",
    "P(x) = Σ (y_i * L_i(x))\n",
    "\n",
    "其中 L_i(x) 是拉格朗日基函数：\n",
    "\n",
    "L_i(x) = Π [(x - x_j) / (x_i - x_j)]，j ≠ i"
   ],
   "metadata": {
    "collapsed": false
   }
  },
  {
   "cell_type": "code",
   "execution_count": 6,
   "outputs": [
    {
     "name": "stdout",
     "output_type": "stream",
     "text": [
      "Interpolated value at x = 18: -11.0\n"
     ]
    }
   ],
   "source": [
    "def lagrange_interpolation(x_vals, y_vals, x):\n",
    "    n = len(x_vals)\n",
    "    result = 0\n",
    "\n",
    "    for i in range(n):\n",
    "        term = y_vals[i]\n",
    "        for j in range(n):\n",
    "            if j != i:\n",
    "                term *= (x - x_vals[j]) / (x_vals[i] - x_vals[j])\n",
    "        result += term\n",
    "\n",
    "    return result\n",
    "\n",
    "# 示例\n",
    "x_vals = [4, 5, 6]\n",
    "y_vals = [10, 5.25, 1]\n",
    "\n",
    "x = 18\n",
    "y = lagrange_interpolation(x_vals, y_vals, x)\n",
    "print(f\"Interpolated value at x = {x}: {y}\")"
   ],
   "metadata": {
    "collapsed": false,
    "ExecuteTime": {
     "end_time": "2023-08-10T08:48:09.516698900Z",
     "start_time": "2023-08-10T08:48:09.494120300Z"
    }
   }
  },
  {
   "cell_type": "markdown",
   "source": [
    "## 图论相关算法"
   ],
   "metadata": {
    "collapsed": false
   }
  },
  {
   "cell_type": "markdown",
   "source": [
    "### 最小生成树"
   ],
   "metadata": {
    "collapsed": false
   }
  },
  {
   "cell_type": "code",
   "execution_count": 16,
   "outputs": [
    {
     "name": "stdout",
     "output_type": "stream",
     "text": [
      "Minimum Spanning Tree Edges:\n",
      "1 -- 2 : 3\n",
      "0 -- 1 : 5\n",
      "2 -- 3 : 7\n"
     ]
    }
   ],
   "source": [
    "class DisjointSet:\n",
    "    def __init__(self, n):\n",
    "        self.parent = list(range(n))\n",
    "        self.rank = [0] * n\n",
    "\n",
    "    def find(self, x):\n",
    "        if x != self.parent[x]:\n",
    "            self.parent[x] = self.find(self.parent[x])\n",
    "        return self.parent[x]\n",
    "\n",
    "    def union(self, x, y):\n",
    "        root_x, root_y = self.find(x), self.find(y)\n",
    "        if root_x == root_y:\n",
    "            return False\n",
    "\n",
    "        if self.rank[root_x] < self.rank[root_y]:\n",
    "            self.parent[root_x] = root_y\n",
    "        elif self.rank[root_x] > self.rank[root_y]:\n",
    "            self.parent[root_y] = root_x\n",
    "        else:\n",
    "            self.parent[root_x] = root_y\n",
    "            self.rank[root_y] += 1\n",
    "\n",
    "        return True\n",
    "\n",
    "def kruskal_mst(graph):\n",
    "    n = len(graph)\n",
    "    edges = []\n",
    "    for u in range(n):\n",
    "        for v, weight in graph[u]:\n",
    "            edges.append((weight, u, v))\n",
    "    edges.sort()\n",
    "\n",
    "    mst = []\n",
    "    dsu = DisjointSet(n)\n",
    "    for weight, u, v in edges:\n",
    "        if dsu.union(u, v):\n",
    "            mst.append((u, v, weight))\n",
    "\n",
    "    return mst\n",
    "\n",
    "# Example usage\n",
    "n = 4  # Number of vertices\n",
    "graph = [\n",
    "    [(1, 5), (3, 10)],  # (neighbor, weight)\n",
    "    [(0, 5), (2, 3)],\n",
    "    [(1, 3), (3, 7)],\n",
    "    [(0, 10), (2, 7)]\n",
    "]\n",
    "\n",
    "mst = kruskal_mst(graph)\n",
    "print(\"Minimum Spanning Tree Edges:\")\n",
    "for u, v, weight in mst:\n",
    "    print(f\"{u} -- {v} : {weight}\")\n"
   ],
   "metadata": {
    "collapsed": false,
    "ExecuteTime": {
     "end_time": "2023-08-10T10:31:15.332751800Z",
     "start_time": "2023-08-10T10:31:15.325754500Z"
    }
   }
  },
  {
   "cell_type": "code",
   "execution_count": 15,
   "outputs": [
    {
     "name": "stdout",
     "output_type": "stream",
     "text": [
      "Minimum Spanning Tree Edges:\n",
      "1 -- 0 : 5\n",
      "2 -- 1 : 3\n",
      "3 -- 2 : 7\n"
     ]
    }
   ],
   "source": [
    "# Prim算法\n",
    "import heapq\n",
    "\n",
    "def prim_mst(graph):\n",
    "    n = len(graph)\n",
    "    mst = []\n",
    "    visited = set()\n",
    "    start_vertex = 0  # 选择一个起始顶点\n",
    "\n",
    "    # 使用优先队列来存储顶点和权重的信息\n",
    "    priority_queue = [(0, start_vertex)]  # (权重, 顶点)\n",
    "\n",
    "    while priority_queue:\n",
    "        weight, vertex = heapq.heappop(priority_queue)\n",
    "        if vertex not in visited:\n",
    "            visited.add(vertex)\n",
    "            if vertex != start_vertex:\n",
    "                mst.append((vertex, parent[vertex], weight))\n",
    "            for neighbor, edge_weight in graph[vertex]:\n",
    "                if neighbor not in visited:\n",
    "                    heapq.heappush(priority_queue, (edge_weight, neighbor))\n",
    "                    parent[neighbor] = vertex\n",
    "\n",
    "    return mst\n",
    "\n",
    "# Example usage\n",
    "n = 4  # Number of vertices\n",
    "graph = [\n",
    "    [(1, 5), (3, 10)],  # (neighbor, weight)\n",
    "    [(0, 5), (2, 3)],\n",
    "    [(1, 3), (3, 7)],\n",
    "    [(0, 10), (2, 7)]\n",
    "]\n",
    "\n",
    "parent = [None] * n  # 存储每个顶点的父节点，用于构建最小生成树\n",
    "\n",
    "mst = prim_mst(graph)\n",
    "print(\"Minimum Spanning Tree Edges:\")\n",
    "for u, v, weight in mst:\n",
    "    print(f\"{u} -- {v} : {weight}\")\n"
   ],
   "metadata": {
    "collapsed": false,
    "ExecuteTime": {
     "end_time": "2023-08-10T10:30:32.006431700Z",
     "start_time": "2023-08-10T10:30:31.998842300Z"
    }
   }
  },
  {
   "cell_type": "markdown",
   "source": [
    "### 最短路的Dijkstra算法"
   ],
   "metadata": {
    "collapsed": false
   }
  },
  {
   "cell_type": "code",
   "execution_count": 17,
   "outputs": [
    {
     "name": "stdout",
     "output_type": "stream",
     "text": [
      "Shortest distances from vertex A\n",
      "To vertex A: 0\n",
      "To vertex B: 1\n",
      "To vertex C: 3\n",
      "To vertex D: 4\n"
     ]
    }
   ],
   "source": [
    "import heapq\n",
    "\n",
    "def dijkstra(graph, start):\n",
    "    distances = {vertex: float('infinity') for vertex in graph}\n",
    "    distances[start] = 0\n",
    "    priority_queue = [(0, start)]\n",
    "\n",
    "    while priority_queue:\n",
    "        current_distance, current_vertex = heapq.heappop(priority_queue)\n",
    "\n",
    "        if current_distance > distances[current_vertex]:\n",
    "            continue\n",
    "\n",
    "        for neighbor, weight in graph[current_vertex].items():\n",
    "            distance = current_distance + weight\n",
    "            if distance < distances[neighbor]:\n",
    "                distances[neighbor] = distance\n",
    "                heapq.heappush(priority_queue, (distance, neighbor))\n",
    "\n",
    "    return distances\n",
    "\n",
    "# Example usage\n",
    "graph = {\n",
    "    'A': {'B': 1, 'C': 4},\n",
    "    'B': {'A': 1, 'C': 2, 'D': 5},\n",
    "    'C': {'A': 4, 'B': 2, 'D': 1},\n",
    "    'D': {'B': 5, 'C': 1}\n",
    "}\n",
    "\n",
    "start_vertex = 'A'\n",
    "shortest_distances = dijkstra(graph, start_vertex)\n",
    "print(\"Shortest distances from vertex\", start_vertex)\n",
    "for vertex, distance in shortest_distances.items():\n",
    "    print(f\"To vertex {vertex}: {distance}\")"
   ],
   "metadata": {
    "collapsed": false,
    "ExecuteTime": {
     "end_time": "2023-08-10T10:50:48.686748300Z",
     "start_time": "2023-08-10T10:50:48.627111900Z"
    }
   }
  },
  {
   "cell_type": "code",
   "execution_count": 18,
   "outputs": [
    {
     "name": "stdout",
     "output_type": "stream",
     "text": [
      "Forwarding Table for 1\n",
      "        To       Cost       Path\n",
      "         2          1       1 -(1)-> 2\n",
      "         5          4       1 -(2)-> 6 -(1)-> 4 -(1)-> 5\n",
      "Forwarding Table for 3\n",
      "        To       Cost       Path\n",
      "         2          2       3 -(1)-> 1 -(1)-> 2\n",
      "         5          5       3 -(1)-> 1 -(2)-> 6 -(1)-> 4 -(1)-> 5\n",
      "Forwarding Table for 4\n",
      "        To       Cost       Path\n",
      "         2          4       4 -(2)-> 3 -(1)-> 1 -(1)-> 2\n",
      "         5          1       4 -(1)-> 5\n",
      "Forwarding Table for 6\n",
      "        To       Cost       Path\n",
      "         2          5       6 -(1)-> 4 -(2)-> 3 -(1)-> 1 -(1)-> 2\n",
      "         5          2       6 -(1)-> 4 -(1)-> 5\n"
     ]
    }
   ],
   "source": [
    "import sys\n",
    "max = sys.maxsize\n",
    "\n",
    "vertices_number = 6\n",
    "adjacency_matrix = [\n",
    "    [0, 1, 10, -1, -1, 2],\n",
    "    [10, 0, 1, -1, -1, -1],\n",
    "    [1, 10, 0, -1, -1, -1],\n",
    "    [-1, -1, 2, 0, 1, 10],\n",
    "    [-1, -1, -1, 10, 0, 1],\n",
    "    [-1, -1, -1, 1, 10, 0]]\n",
    "start = []\n",
    "dest = [\"2\", \"5\"]\n",
    "key = []\n",
    "\n",
    "\n",
    "def init_keys(s: int):\n",
    "    global key\n",
    "    key = [ max ] * vertices_number\n",
    "    key[s] = 0\n",
    "\n",
    "\n",
    "def dijkstra(from_vertex, dest_vertex):\n",
    "    fid = int(from_vertex) - 1\n",
    "    tid = int(dest_vertex) - 1\n",
    "    init_keys(fid)\n",
    "    rel = [fid]\n",
    "    min_vertex = fid\n",
    "    hop_path = {}\n",
    "\n",
    "    while len(rel) <= vertices_number and min_vertex != tid:\n",
    "        for i in range(vertices_number):\n",
    "            if i != min_vertex and i not in rel and \\\n",
    "                adjacency_matrix[min_vertex][i] > 0 \\\n",
    "                and key[i] > key[min_vertex] + adjacency_matrix[min_vertex][i]:\n",
    "                key[i] = key[min_vertex] + adjacency_matrix[min_vertex][i]\n",
    "                hop_path.update({i + 1: {\"from\": min_vertex + 1, \"cost\": adjacency_matrix[min_vertex][i]}})\n",
    "\n",
    "        if min_vertex not in rel:\n",
    "            rel.append(min_vertex)\n",
    "\n",
    "        min_vertex = tid\n",
    "        for i in range(vertices_number):\n",
    "            if i not in rel and key[i] < key[min_vertex]:\n",
    "                min_vertex = i\n",
    "\n",
    "    if len(hop_path) == 0 or int(dest_vertex) not in hop_path:\n",
    "        return -1, -1\n",
    "    else:\n",
    "        next_hop = int(dest_vertex)\n",
    "        path_str = dest_vertex\n",
    "        while hop_path[next_hop][\"from\"] != int(from_vertex):\n",
    "            cost = hop_path[next_hop][\"cost\"]\n",
    "            next_hop = hop_path[next_hop][\"from\"]\n",
    "            path_str =  \"{} -({})-> {}\".format(str(next_hop), cost ,path_str)\n",
    "        path_str =  \"{} -({})-> {}\".format(str(hop_path[next_hop][\"from\"]), hop_path[next_hop][\"cost\"], path_str)\n",
    "\n",
    "        return key[tid], path_str\n",
    "\n",
    "\n",
    "\n",
    "def find_shortest_router():\n",
    "    for s in start:\n",
    "        print(\"Forwarding Table for {}\".format(s))\n",
    "        print(\"{:>10} {:>10}       {}\".format(\"To\", \"Cost\", \"Path\"))\n",
    "        for d in dest:\n",
    "            c, n = dijkstra(s, d)\n",
    "            print(\"{:>10} {:>10}       {}\".format(d, c, n))\n",
    "\n",
    "\n",
    "def main():\n",
    "    for i in range(1, vertices_number + 1):\n",
    "        if str(i) not in dest:\n",
    "            start.append(str(i))\n",
    "    find_shortest_router()\n",
    "\n",
    "if __name__ == '__main__':\n",
    "    main()"
   ],
   "metadata": {
    "collapsed": false,
    "ExecuteTime": {
     "end_time": "2023-08-10T10:55:25.858342Z",
     "start_time": "2023-08-10T10:55:25.805832500Z"
    }
   }
  },
  {
   "cell_type": "markdown",
   "source": [
    "### Ford最短路算法"
   ],
   "metadata": {
    "collapsed": false
   }
  },
  {
   "cell_type": "code",
   "execution_count": 19,
   "outputs": [
    {
     "name": "stdout",
     "output_type": "stream",
     "text": [
      "Shortest distances from vertex A\n",
      "To vertex A: 0\n",
      "To vertex B: -1\n",
      "To vertex C: 2\n",
      "To vertex D: -2\n",
      "To vertex E: 1\n"
     ]
    }
   ],
   "source": [
    "def bellman_ford(graph, start):\n",
    "    distances = {vertex: float('infinity') for vertex in graph}\n",
    "    distances[start] = 0\n",
    "\n",
    "    for _ in range(len(graph) - 1):\n",
    "        for vertex in graph:\n",
    "            for neighbor, weight in graph[vertex].items():\n",
    "                if distances[vertex] + weight < distances[neighbor]:\n",
    "                    distances[neighbor] = distances[vertex] + weight\n",
    "\n",
    "    # Check for negative-weight cycles\n",
    "    for vertex in graph:\n",
    "        for neighbor, weight in graph[vertex].items():\n",
    "            if distances[vertex] + weight < distances[neighbor]:\n",
    "                raise ValueError(\"Graph contains negative-weight cycle\")\n",
    "\n",
    "    return distances\n",
    "\n",
    "# Example usage\n",
    "graph = {\n",
    "    'A': {'B': -1, 'C': 4},\n",
    "    'B': {'C': 3, 'D': 2, 'E': 2},\n",
    "    'C': {},\n",
    "    'D': {'B': 1, 'C': 5},\n",
    "    'E': {'D': -3}\n",
    "}\n",
    "\n",
    "start_vertex = 'A'\n",
    "shortest_distances = bellman_ford(graph, start_vertex)\n",
    "print(\"Shortest distances from vertex\", start_vertex)\n",
    "for vertex, distance in shortest_distances.items():\n",
    "    print(f\"To vertex {vertex}: {distance}\")\n"
   ],
   "metadata": {
    "collapsed": false,
    "ExecuteTime": {
     "end_time": "2023-08-10T11:21:39.692326400Z",
     "start_time": "2023-08-10T11:21:39.642467Z"
    }
   }
  },
  {
   "cell_type": "code",
   "execution_count": null,
   "outputs": [],
   "source": [],
   "metadata": {
    "collapsed": false
   }
  }
 ],
 "metadata": {
  "kernelspec": {
   "display_name": "Python 3",
   "language": "python",
   "name": "python3"
  },
  "language_info": {
   "codemirror_mode": {
    "name": "ipython",
    "version": 2
   },
   "file_extension": ".py",
   "mimetype": "text/x-python",
   "name": "python",
   "nbconvert_exporter": "python",
   "pygments_lexer": "ipython2",
   "version": "2.7.6"
  }
 },
 "nbformat": 4,
 "nbformat_minor": 0
}
