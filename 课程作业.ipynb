{
 "cells": [
  {
   "cell_type": "code",
   "execution_count": 1,
   "outputs": [
    {
     "name": "stdout",
     "output_type": "stream",
     "text": [
      "[(0, 25, 75), (4, 18, 78), (8, 11, 81), (12, 4, 84)]\n"
     ]
    }
   ],
   "source": [
    "#4月20日作业1\n",
    "T = [5,3,1/3]\n",
    "M = list(range(51))\n",
    "ans = [(a,b,(100-a-b)) for a in M[0:21]\n",
    "                       for b in M[0:34] if T[0]*a + T[1]*b + T[2]*(100-a-b) == 100]\n",
    "print(ans)"
   ],
   "metadata": {
    "collapsed": false,
    "ExecuteTime": {
     "start_time": "2023-04-22T14:46:09.146288Z",
     "end_time": "2023-04-22T14:46:09.168731Z"
    }
   }
  },
  {
   "cell_type": "code",
   "execution_count": 2,
   "outputs": [
    {
     "name": "stdout",
     "output_type": "stream",
     "text": [
      "['红心1', '红心2', '红心3', '红心4', '红心5', '红心6', '红心7', '红心8', '红心9', '红心10', '红心11', '红心12', '红心13', '黑桃1', '黑桃2', '黑桃3', '黑桃4', '黑桃5', '黑桃6', '黑桃7', '黑桃8', '黑桃9', '黑桃10', '黑桃11', '黑桃12', '黑桃13', '方块1', '方块2', '方块3', '方块4', '方块5', '方块6', '方块7', '方块8', '方块9', '方块10', '方块11', '方块12', '方块13', '梅花1', '梅花2', '梅花3', '梅花4', '梅花5', '梅花6', '梅花7', '梅花8', '梅花9', '梅花10', '梅花11', '梅花12', '梅花13']\n"
     ]
    }
   ],
   "source": [
    "#4月20日作业2\n",
    "str1 = ['红心','黑桃','方块','梅花']\n",
    "res = []\n",
    "\n",
    "for i in range(4):\n",
    "    for j in range(13):\n",
    "        res += [str1[i]+str(j+1)]\n",
    "\n",
    "print(res)"
   ],
   "metadata": {
    "collapsed": false,
    "ExecuteTime": {
     "start_time": "2023-04-22T14:46:09.170732Z",
     "end_time": "2023-04-22T14:46:09.252107Z"
    }
   }
  },
  {
   "cell_type": "markdown",
   "source": [
    "第二次作业"
   ],
   "metadata": {
    "collapsed": false
   }
  },
  {
   "cell_type": "code",
   "execution_count": 4,
   "outputs": [
    {
     "name": "stdout",
     "output_type": "stream",
     "text": [
      "5海里等于9.26公里\n"
     ]
    }
   ],
   "source": [
    "s1 = input(\"输入3个数据：\")\n",
    "d1 = input()\n",
    "d2 = input()\n",
    "\n",
    "rate = 9.26/5\n",
    "\n",
    "if(d1 == '海里'):\n",
    "    if(d2 == '海里'):\n",
    "        o = s1\n",
    "    if(d2 == '公里'):\n",
    "        o = float(s1)*rate\n",
    "\n",
    "if(d1 == '公里'):\n",
    "    if(d2 == '海里'):\n",
    "        o = float(s1)/rate\n",
    "    if(d2 == '公里'):\n",
    "        o = s1\n",
    "\n",
    "print(\"{0}{1}等于{2}{3}\".format(s1,d1,o,d2))"
   ],
   "metadata": {
    "collapsed": false,
    "ExecuteTime": {
     "start_time": "2023-04-24T22:25:44.945144Z",
     "end_time": "2023-04-24T22:25:51.847548Z"
    }
   }
  },
  {
   "cell_type": "code",
   "execution_count": 2,
   "outputs": [
    {
     "name": "stdout",
     "output_type": "stream",
     "text": [
      "  0    1    2    3    4  \n",
      "['2', '4', '5', '7', '9']\n",
      "5.4\n",
      "['7', '9']\n"
     ]
    }
   ],
   "source": [
    "s = input(\"输入五个变量\").split()\n",
    "print (\"  0    1    2    3    4  \")\n",
    "print(s)\n",
    "\n",
    "sum1 = 0\n",
    "for i in range(5):\n",
    "    sum1 += int(s[i])\n",
    "\n",
    "ep = sum1/5\n",
    "print(ep)\n",
    "\n",
    "s2 = [(s[i])  for i in range(5)\n",
    "                  if(int(s[i]) > ep)]\n",
    "\n",
    "print(s2)"
   ],
   "metadata": {
    "collapsed": false,
    "ExecuteTime": {
     "start_time": "2023-04-24T22:24:51.823933Z",
     "end_time": "2023-04-24T22:24:55.680946Z"
    }
   }
  },
  {
   "cell_type": "code",
   "execution_count": 5,
   "outputs": [
    {
     "name": "stdout",
     "output_type": "stream",
     "text": [
      "[1, 9, 8, 7, 6, 5, 13, 3, 2, 1]\n",
      "[8, 6, 2]\n"
     ]
    }
   ],
   "source": [
    "s = [1,9,8,7,6,5,13,3,2,1]\n",
    "print(s)\n",
    "\n",
    "s1 = [(s[i])   for i in range(10)\n",
    "                  if(int(s[i]) % 2 == 0)]\n",
    "print(s1)"
   ],
   "metadata": {
    "collapsed": false,
    "ExecuteTime": {
     "start_time": "2023-04-24T22:28:32.878151Z",
     "end_time": "2023-04-24T22:28:32.892594Z"
    }
   }
  }
 ],
 "metadata": {
  "kernelspec": {
   "name": "tensorflow",
   "language": "python",
   "display_name": "tensorflow"
  },
  "language_info": {
   "codemirror_mode": {
    "name": "ipython",
    "version": 2
   },
   "file_extension": ".py",
   "mimetype": "text/x-python",
   "name": "python",
   "nbconvert_exporter": "python",
   "pygments_lexer": "ipython2",
   "version": "2.7.6"
  }
 },
 "nbformat": 4,
 "nbformat_minor": 0
}
