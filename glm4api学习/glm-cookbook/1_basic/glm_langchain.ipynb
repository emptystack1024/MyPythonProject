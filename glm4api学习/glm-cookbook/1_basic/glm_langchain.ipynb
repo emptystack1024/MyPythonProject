{
 "cells": [
  {
   "cell_type": "markdown",
   "id": "71c55dc5a09277b",
   "metadata": {
    "collapsed": false,
    "jupyter": {
     "outputs_hidden": false
    }
   },
   "source": [
    "# Using ZhipuAI GLM-4 in Langchain\n",
    "\n",
    "**This tutorial is available in English and is attached below the Chinese explanation**\n",
    "\n",
    "本代码，我们将带领大家如何使用 Langchain 来调用 ZhipuAI 的 GLM-4 模型。\n",
    "你将在本章节学习到如何使用 Langchain 的 `ChatZhipuAI` 类来调用 ZhipuAI 的 GLM-4 模型，以及如何使用 `ChatZhipuAI` 类来实现类似 `ChatOpenAI` 的方法来进行调用。\n",
    "\n",
    "In this notebook, I will show you how to use Langchain to call ZhipuAI's GLM-4 model.\n",
    "In this chapter, you will learn how to use Langchain's `ChatZhipuAI` class to call ZhipuAI's GLM-4 model, and how to use the `ChatZhipuAI` class to implement methods similar to `ChatOpenAI` to make calls."
   ]
  },
  {
   "cell_type": "markdown",
   "id": "4d50b54cbc991843",
   "metadata": {
    "collapsed": false,
    "jupyter": {
     "outputs_hidden": false
    }
   },
   "source": [
    "## 1. Install Langchain\n",
    "\n",
    "由于本教程需要使用 Langchain进行调用，因此我们首先需要安装 Langchain 和 对应的依赖包。 请确保 langchain_community 的版本在 0.0.32 以上。\n",
    "\n",
    "Since this tutorial requires Langchain to be called, you first need to install Langchain and the corresponding dependency packages. Make sure that the version of langchain_community is above 0.0.32."
   ]
  },
  {
   "cell_type": "code",
   "execution_count": 1,
   "id": "56028f01ac7638e0",
   "metadata": {
    "ExecuteTime": {
     "end_time": "2024-04-27T10:39:30.680433Z",
     "start_time": "2024-04-27T10:39:08.720963Z"
    },
    "collapsed": false,
    "jupyter": {
     "outputs_hidden": false
    }
   },
   "outputs": [],
   "source": [
    "# ! pip install pydantic\n",
    "# ! pip install --upgrade langchain_core\n",
    "# ! pip install --upgrade langchainhub httpx_sse -i http://mirrors.aliyun.com/pypi/simple/\n",
    "# ! pip install --upgrade langchain langchain_community -i https://pypi.mirrors.ustc.edu.cn/simple/"
   ]
  },
  {
   "cell_type": "markdown",
   "id": "d5e70f847aa90565",
   "metadata": {
    "collapsed": false,
    "jupyter": {
     "outputs_hidden": false
    }
   },
   "source": [
    "现在，设置好 ZhipuAI 的 API Key，这样我们就可以使用 ZhipuAI 的 GLM-4 模型了。\n",
    "Now, you need to set up ZhipuAI’s API Key so that you can use ZhipuAI’s GLM-4 model.\n",
    "> 如果你需要使用本章节的第 4 部分教程，你需要填写 TAVILY_API_KEY，该工具用于执行 Langchain 的 工具调用。\n",
    "If you need to use the fourth part of the tutorial in this chapter, you need to fill in TAVILY_API_KEY, which is used to execute Langchain’s tool calls."
   ]
  },
  {
   "cell_type": "code",
   "execution_count": 2,
   "id": "e5c8299e0683b8b",
   "metadata": {
    "ExecuteTime": {
     "end_time": "2024-04-27T10:39:49.201234Z",
     "start_time": "2024-04-27T10:39:49.196725Z"
    },
    "collapsed": false,
    "jupyter": {
     "outputs_hidden": false
    }
   },
   "outputs": [],
   "source": [
    "import os\n",
    "\n",
    "os.environ[\"ZHIPUAI_API_KEY\"] = \"7cc2d454b5b31371f5c6c990fddc7636.EPXYYOmeKYWvDEqW\"\n",
    "os.environ[\"TAVILY_API_KEY\"] = \"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\""
   ]
  },
  {
   "cell_type": "markdown",
   "id": "e31b191a56f0f6ec",
   "metadata": {
    "collapsed": false,
    "jupyter": {
     "outputs_hidden": false
    }
   },
   "source": [
    "## 2. Use the method of `ChatZhipuAI` class to call ZhipuAI’s GLM-4 model\n",
    "\n",
    "和 `ChatOpenAI` 类一样，`ChatZhipuAI` 类也是一个可以调用 ZhipuAI 的 GLM-4 模型的类，我们可以使用 `ChatZhipuAI`来替换 `ChatOpenAI` 类，直接无缝对接到自己的项目中。这里展现了一个最基本的调用方法。\n",
    "\n",
    "Like the `ChatOpenAI` class, the `ChatZhipuAI` class is also a class that can call ZhipuAI's GLM-4 model. you can use `ChatZhipuAI` to replace the `ChatOpenAI` class and directly and seamlessly connect it to our own projects. Here is a basic calling method."
   ]
  },
  {
   "cell_type": "code",
   "execution_count": 3,
   "id": "88e74dc43ab33e2",
   "metadata": {
    "ExecuteTime": {
     "end_time": "2024-04-27T10:42:29.508164Z",
     "start_time": "2024-04-27T10:42:24.491311Z"
    },
    "collapsed": false,
    "jupyter": {
     "outputs_hidden": false
    }
   },
   "outputs": [
    {
     "name": "stdout",
     "output_type": "stream",
     "text": [
      "Initially, there were 9 birds on the tree. After the hunter shot and killed one, there would be 8 birds remaining on the tree. However, if you're asking for the total number of birds including the one that was shot, then there were still 9 birds in existence, but only 8 of them remained on the tree. The question is a bit tricky because it depends on whether you're asking about the number left on the tree or the total number of birds.\n"
     ]
    }
   ],
   "source": [
    "from langchain_community.chat_models import ChatZhipuAI\n",
    "from langchain_core.messages import AIMessage, HumanMessage, SystemMessage\n",
    "\n",
    "messages = [\n",
    "    AIMessage(\n",
    "        content=\"Hi,\"\n",
    "    ),\n",
    "    SystemMessage(\n",
    "        content=\"You are a smart assistant, please reply to me smartly.\"\n",
    "    ),\n",
    "    HumanMessage(\n",
    "        content=\"There were 9 birds on the tree. The hunter shot and killed one. How many birds were there?\"\n",
    "    ),\n",
    "]\n",
    "\n",
    "llm = ChatZhipuAI(\n",
    "    temperature=0.95,\n",
    "    model=\"glm-4\"\n",
    ")\n",
    "\n",
    "response = llm.invoke(messages)\n",
    "\n",
    "print(response.content)"
   ]
  },
  {
   "cell_type": "markdown",
   "id": "94dd61f74ceb10f5",
   "metadata": {
    "collapsed": false,
    "jupyter": {
     "outputs_hidden": false
    }
   },
   "source": [
    "## 3. Use Langchain to call your own fine-tuned model.\n",
    "\n",
    "ZhipuAI 已经支持使用 Langchain 调用微调的 ChatGLM 系列模型，如果你想学习如何微调模型，请查看[微调教程](../finetune/glm_lora_finetune_pysdk.ipynb) 来微调自己的模型。\n",
    "\n",
    "ZhipuAI already supports using Langchain to call the fine-tuned ChatGLM series models. If you want to learn how to fine-tune the model, please view the [Fine-tuning Tutorial](../finetune/glm_lora_finetune_pysdk.ipynb) to fine-tune your own model"
   ]
  },
  {
   "cell_type": "code",
   "execution_count": 7,
   "id": "e6f5773c7a88debb",
   "metadata": {
    "ExecuteTime": {
     "end_time": "2024-04-27T10:44:42.895138Z",
     "start_time": "2024-04-27T10:44:28.512830Z"
    },
    "collapsed": false,
    "jupyter": {
     "outputs_hidden": false
    }
   },
   "outputs": [
    {
     "data": {
      "text/plain": [
       "AIMessage(content='根据您提供的信息，如果想要打造一种简约英伦风格的裤装搭配，可以遵循以下建议：\\n\\n### 裤子选择：\\n1. **色彩**：选择纯色、中性色调的裤子，如深蓝、灰色或是经典的白色，这些都是英伦风格中常见的颜色。\\n2. **款式**：简约的直筒裤或休闲裤能够修饰腿型，同时保持整体的简洁感。宽松的裤型不仅舒适，还能营造出复古的氛围。\\n\\n### 搭配建议：\\n1. **上衣**：可以搭配纯色系的针织衫或是有质感的衬衫。例如，一件粉色的衬衫搭配灰色直筒裤，既甜美又干练。\\n   \\n2. **外套**：可以选择大衣或是风衣作为外套，特别是简约纯色的大衣，它能够提供一种简洁大方的感觉，同时也能很好地融入英伦风格中。\\n\\n3. **配饰**：简约的配饰如小巧的包包或是鸭舌帽可以增加复古感，但要注意不要过多，以免破坏整体的简约风格。\\n\\n### 完整搭配示例：\\n- **日常休闲**：白色宽松直筒裤搭配深蓝色圆领针织衫，外搭一件简约的灰色风衣，再加上一双经典的小白鞋，既舒适又不失英伦风格。\\n- **办公室职场**：深色直筒裤搭配浅色衬衫，外搭一件简约剪裁的西装外套，既正式又带有复古的英伦气息。\\n\\n通过这样的搭配，即使是小个子女性也能轻松驾驭简约的英伦风格，既大方高级，又能展现个人的独特魅力。', response_metadata={'token_usage': {'completion_tokens': 331, 'prompt_tokens': 946, 'total_tokens': 1277}, 'model_name': 'glm-4', 'finish_reason': 'stop'}, id='run-b20b4d72-39ae-4b3c-842d-be16c97e0b33-0')"
      ]
     },
     "execution_count": 7,
     "metadata": {},
     "output_type": "execute_result"
    }
   ],
   "source": [
    "messages = [\n",
    "    HumanMessage(\n",
    "        content=\"类型#裤*风格#英伦*风格#简约\"\n",
    "    ),\n",
    "]\n",
    "\n",
    "fine_tuned_model = ChatZhipuAI(\n",
    "    temperature=0.2, model=\"glm-4\"\n",
    ")\n",
    "\n",
    "fine_tuned_model(messages)"
   ]
  },
  {
   "cell_type": "markdown",
   "id": "d812902132ada30e",
   "metadata": {
    "collapsed": false,
    "jupyter": {
     "outputs_hidden": false
    }
   },
   "source": [
    "## 4. 使用 Langchain 来完成一个简单的 Function Call 调用\n",
    "\n",
    "得益于 ZhipuAI 也具有极强的 工具调用能力，你可以使用它来完成 Langchain中的 `Agent` 类的功能，这里我们展示了一个简单的调用方法。\n",
    "\n",
    "我参考 [Langchain 官方教程](https://python.langchain.com/docs/modules/agents/agent_types/openai_functions_agent) 的方案，并仅仅将 `ChatOpenAI`替换为`ChatZhipuAI`，除了模型加载方式，在 Agent 代码中完全不用进行任何代码修改。\n",
    "\n",
    "Thanks to ZhipuAI's strong tool calling capabilities, you can use it to complete the functions of the `Agent` class in Langchain. Here we show a simple calling method.\n",
    "\n",
    "I refer to the solution of [Langchain official tutorial](https://python.langchain.com/docs/modules/agents/agent_types/openai_functions_agent) and just replace `ChatOpenAI` with `ChatZhipuAI`. Except for the model loading method, in Agent There is absolutely no need to make any code modifications in the code.\n",
    "\n"
   ]
  },
  {
   "cell_type": "code",
   "execution_count": 8,
   "id": "8ade454081305502",
   "metadata": {
    "ExecuteTime": {
     "end_time": "2024-04-27T10:44:59.462801Z",
     "start_time": "2024-04-27T10:44:48.329050Z"
    },
    "collapsed": false,
    "jupyter": {
     "outputs_hidden": false
    }
   },
   "outputs": [],
   "source": [
    "from langchain import hub\n",
    "from langchain.agents import AgentExecutor, create_json_chat_agent\n",
    "from langchain_community.tools.tavily_search import TavilySearchResults\n",
    "tools = [TavilySearchResults(max_results=1)]\n",
    "prompt = hub.pull(\"hwchase17/react-chat-json\")\n",
    "agent = create_json_chat_agent(llm, tools, prompt)\n",
    "agent_executor = AgentExecutor(\n",
    "    agent=agent, tools=tools, verbose=True, handle_parsing_errors=True\n",
    ")"
   ]
  },
  {
   "cell_type": "markdown",
   "id": "7bd4dd9dd81c448",
   "metadata": {
    "collapsed": false,
    "jupyter": {
     "outputs_hidden": false
    }
   },
   "source": [
    "接着，我们执行这个代码，就可以获得正确的答案。观察到智谱AI 能直接无缝的使用 Langchain 的 `Agent` 类的功能。\n",
    "\n",
    "Then, we execute this code and get the correct answer. It is observed that Zhipu AI can directly and seamlessly use the functions of Langchain's `Agent` class."
   ]
  },
  {
   "cell_type": "code",
   "execution_count": 9,
   "id": "e5bc6d699ea277a5",
   "metadata": {
    "ExecuteTime": {
     "end_time": "2024-04-27T10:45:11.731886Z",
     "start_time": "2024-04-27T10:45:01.546666Z"
    },
    "collapsed": false,
    "jupyter": {
     "outputs_hidden": false
    }
   },
   "outputs": [
    {
     "name": "stdout",
     "output_type": "stream",
     "text": [
      "\n",
      "\n",
      "\u001b[1m> Entering new AgentExecutor chain...\u001b[0m\n",
      "\u001b[32;1m\u001b[1;3m```json\n",
      "{\n",
      "    \"action\": \"tavily_search_results_json\",\n",
      "    \"action_input\": \"LangChain\"\n",
      "}\n",
      "```\u001b[0m\u001b[36;1m\u001b[1;3m[{'url': 'https://www.langchain.com/', 'content': 'Join Discord\\nContribute on GitHub\\n5.3M\\nMonthly Downloads\\n67k\\nGithub Stars\\n1800+\\nContributors\\n34k+\\nApps Powered\\nReady to build?\\nGo To Docs\\nGo To Docs\\nGo To Docs\\nContact Sales\\nContact Sales\\nContact Sales\\nProducts and use-cases\\nLangChain\\nLangSmith\\nRetrieval\\nAgents\\nInspiration\\nCode\\nGitHub\\nLangChain Hub\\nPython Docs\\nJS/TS Docs\\nSocial\\nTwitter\\nDiscord\\nBlog\\nLinkedIn\\nYouTube\\nTerms of Service\\nSign up for our newsletter\\nProducts and use-cases\\nLangChain\\nLangSmith\\nRetrieval\\nAgents\\nInspiration\\nCode\\nGitHub\\nLangChain Hub\\nPython Docs\\nJS/TS Docs\\nSocial\\nTwitter\\nDiscord\\nBlog\\nLinkedIn\\nYouTube\\nTerms of Service\\nSign up for our newsletter\\nProducts and use-cases\\nLangChain\\nLangSmith\\nRetrieval\\nAgents\\nInspiration\\nCode\\nGitHub\\nLangChain Hub\\nPython Docs\\nJS/TS Docs\\nSocial\\nTwitter\\nDiscord\\nBlog\\nLinkedIn\\nYouTube\\nTerms of Service\\nSign up for our newsletter Chatbots\\nQ&A Over Docs\\nSummarization\\nCopilots\\nWorkflow Automation\\nDocument Analysis\\nCustom Search\\nHarness the power–and wrangle the complexity– of LLMs\\nGet from proof-of-concept to production on one platform\\nRely on a set of tools built especially for non-deterministic models\\nLeverage new cognitive architectures and battle-tested orchestration\\nThanks to our contributors and partners for making LangChain awesome\\nWhen you build with LangChain, you build alongside a community of developers advancing the frontier of what’s possible with LLMs.\\n 🦜🔗 LangChain\\nLangSmith\\nLangServe\\nAgents\\nRetrieval\\nEvaluation\\nBlog\\nDocs\\n🦜🔗 LangChain\\n🦜🔗 LangChain\\nLangChain Expression Language makes it easy to create custom chains.\\n Go To Docs\\nGo To Docs\\nGo To Docs\\nContact Sales\\nglobal corporations, STARTUPS, and TINKERERS build with LangChain\\nglobal corporations, STARTUPS, and TINKERERS build with LangChain\\nglobal corporations, STARTUPS, and TINKERERS build with LangChain\\nA complete set of powerful building blocks\\nA complete set of powerful building blocks\\n Try it out here\\nGet your LLM application from prototype to production\\nGet your LLM application from prototype to production\\nBuild context-aware, reasoning applications with LangChain’s flexible abstractions and AI-first toolkit.\\n'}]\u001b[0m\u001b[32;1m\u001b[1;3m```json\n",
      "{\n",
      "    \"action\": \"Final Answer\",\n",
      "    \"action_input\": \"LangChain is a platform that allows developers to build applications using large language models. It provides a set of tools and resources to help with the development process, from prototyping to production. LangChain is used by global corporations, startups, and individual developers to create context-aware, reasoning applications with the help of its flexible abstractions and AI-first toolkit.\"\n",
      "}\n",
      "```\u001b[0m\n",
      "\n",
      "\u001b[1m> Finished chain.\u001b[0m\n"
     ]
    },
    {
     "data": {
      "text/plain": [
       "{'input': 'what is LangChain?',\n",
       " 'output': 'LangChain is a platform that allows developers to build applications using large language models. It provides a set of tools and resources to help with the development process, from prototyping to production. LangChain is used by global corporations, startups, and individual developers to create context-aware, reasoning applications with the help of its flexible abstractions and AI-first toolkit.'}"
      ]
     },
     "execution_count": 9,
     "metadata": {},
     "output_type": "execute_result"
    }
   ],
   "source": [
    "agent_executor.invoke({\"input\": \"what is LangChain?\"})"
   ]
  },
  {
   "cell_type": "markdown",
   "id": "d9f3b64b6ef3fd40",
   "metadata": {
    "collapsed": false,
    "jupyter": {
     "outputs_hidden": false
    }
   },
   "source": [
    "## Conclusion\n",
    "\n",
    "通过本教程，您将能快速的切换 `Langchain` 的模型读入，将模型切换为 ZhipuAI 的 GLM-4 系列模型。本代码只是基础教程，我将于之后推出更多进阶的使用 GLM-4 系列模型和 Langchain 的配合作品。\n",
    "\n",
    "Through this tutorial, you will be able to quickly switch to `Langchain` model reading and switch the model to ZhipuAI's GLM-4 series model. This code is just a basic tutorial. I will launch more advanced works using GLM-4 series models and Langchain in the future."
   ]
  },
  {
   "cell_type": "code",
   "execution_count": null,
   "id": "fa9ec1a9ddd16a8e",
   "metadata": {},
   "outputs": [],
   "source": []
  }
 ],
 "metadata": {
  "kernelspec": {
   "display_name": "Python 3 (ipykernel)",
   "language": "python",
   "name": "python3"
  },
  "language_info": {
   "codemirror_mode": {
    "name": "ipython",
    "version": 3
   },
   "file_extension": ".py",
   "mimetype": "text/x-python",
   "name": "python",
   "nbconvert_exporter": "python",
   "pygments_lexer": "ipython3",
   "version": "3.11.5"
  }
 },
 "nbformat": 4,
 "nbformat_minor": 5
}
