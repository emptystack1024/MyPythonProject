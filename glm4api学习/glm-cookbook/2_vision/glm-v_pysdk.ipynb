{
 "cells": [
  {
   "cell_type": "markdown",
   "source": [
    "# Python SDK to access the ZhipuAI GLM-4 Vision API\n",
    "\n",
    "**This tutorial is available in English and is attached below the Chinese explanation**\n",
    "\n",
    "此代码将讲述如何使用Python SDK 调用 GLM-4V API，来完成简单的视觉理解和分析工作。\n",
    "\n",
    "This cookbook will describe how to use the Python SDK to call the GLM-4V API to complete simple visual understanding and analysis work."
   ],
   "metadata": {
    "collapsed": false
   },
   "id": "b9d2202d7ce04a48"
  },
  {
   "cell_type": "code",
   "execution_count": 1,
   "outputs": [],
   "source": [
    "import os\n",
    "\n",
    "os.environ[\"ZHIPUAI_API_KEY\"] = \"your api key\""
   ],
   "metadata": {
    "collapsed": false,
    "ExecuteTime": {
     "end_time": "2024-01-23T05:14:28.331708Z",
     "start_time": "2024-01-23T05:14:28.327133Z"
    }
   },
   "id": "f03a65879fc8edb8"
  },
  {
   "cell_type": "markdown",
   "source": [
    "首先，我们需要将图片转为可以上传的base64格式，这里我们使用PIL库来完成这个工作"
   ],
   "metadata": {
    "collapsed": false
   },
   "id": "524d71278f724da1"
  },
  {
   "cell_type": "code",
   "execution_count": 2,
   "outputs": [],
   "source": [
    "import base64\n",
    "import io\n",
    "from zhipuai import ZhipuAI\n",
    "from PIL import Image\n",
    "\n",
    "client = ZhipuAI()\n",
    "\n",
    "\n",
    "def image_to_base64(image_path):\n",
    "    \"\"\"\n",
    "    Convert an image to base64 encoding.\n",
    "    \"\"\"\n",
    "    with Image.open(image_path) as image:\n",
    "        buffered = io.BytesIO()\n",
    "        image.save(buffered, format=\"JPEG\")  # or format=\"PNG\", depending on your image.\n",
    "        img_str = base64.b64encode(buffered.getvalue()).decode()\n",
    "    return img_str\n",
    "\n",
    "\n",
    "base64_image = image_to_base64(\"data/zR.jpg\")"
   ],
   "metadata": {
    "collapsed": false,
    "ExecuteTime": {
     "end_time": "2024-01-23T05:14:28.534918Z",
     "start_time": "2024-01-23T05:14:28.331784Z"
    }
   },
   "id": "4f3135b451b85400"
  },
  {
   "cell_type": "code",
   "execution_count": 3,
   "outputs": [],
   "source": [
    "messages = [\n",
    "    {\n",
    "        \"role\": \"user\",\n",
    "        \"content\": [\n",
    "            {\n",
    "                \"type\": \"text\",\n",
    "                \"text\": \"what is this image describe?\"\n",
    "            },\n",
    "            {\n",
    "                \"type\": \"image_url\",\n",
    "                \"image_url\": {\n",
    "                    \"url\": base64_image\n",
    "                }\n",
    "\n",
    "            }\n",
    "        ]\n",
    "    }\n",
    "]"
   ],
   "metadata": {
    "collapsed": false,
    "ExecuteTime": {
     "end_time": "2024-01-23T05:14:28.537715Z",
     "start_time": "2024-01-23T05:14:28.535371Z"
    }
   },
   "id": "7898ce8f4610930e"
  },
  {
   "cell_type": "markdown",
   "source": [
    "我们已经组织好了信息和图片，现在让我们按照[官方文档](https://open.bigmodel.cn/dev/api#glm-4v)的内容传入对应的参数并获取模型的回答\n",
    "\n",
    "We have organized the information and pictures, now let us follow the [official document](https://open.bigmodel.cn/dev/api#glm-4v) to pass in the corresponding parameters and get the model's answer"
   ],
   "metadata": {
    "collapsed": false
   },
   "id": "5637a50d4f7c7383"
  },
  {
   "cell_type": "code",
   "execution_count": 4,
   "outputs": [],
   "source": [
    "response = client.chat.completions.create(\n",
    "    model=\"glm-4v\",\n",
    "    messages=messages,\n",
    ")"
   ],
   "metadata": {
    "collapsed": false,
    "ExecuteTime": {
     "end_time": "2024-01-23T05:14:30.722500Z",
     "start_time": "2024-01-23T05:14:28.538680Z"
    }
   },
   "id": "b9ba237babf6fb35"
  },
  {
   "cell_type": "markdown",
   "source": [
    "通过这个操作，我们将能得到模型对这张图的描述。\n",
    "\n",
    "Through this operation, we will be able to get the model's description of this picture."
   ],
   "metadata": {
    "collapsed": false
   },
   "id": "fd97d54e0506c728"
  },
  {
   "cell_type": "code",
   "execution_count": 5,
   "outputs": [
    {
     "data": {
      "text/plain": "Completion(model='glm-4v', created=1705986870, choices=[CompletionChoice(index=0, finish_reason='stop', message=CompletionMessage(content='This is a black and white painting of a woman, with long hair flowing behind her. She wears a black dress that reaches the ground. The background is all dark.', role='assistant', tool_calls=None))], request_id='8313808876867429596', id='8313808876867429596', usage=CompletionUsage(prompt_tokens=1040, completion_tokens=35, total_tokens=1075))"
     },
     "execution_count": 5,
     "metadata": {},
     "output_type": "execute_result"
    }
   ],
   "source": [
    "response"
   ],
   "metadata": {
    "collapsed": false,
    "ExecuteTime": {
     "end_time": "2024-01-23T05:14:30.733127Z",
     "start_time": "2024-01-23T05:14:30.728457Z"
    }
   },
   "id": "584b816346cec5b9"
  },
  {
   "cell_type": "markdown",
   "source": [
    "你还可以对这张图片进行更多的提问，并使用历史记录的方式保留之前的提问和回答。现在，我将为这一段对话添加一段新的历史\n",
    "\n",
    "You can also ask more questions about this picture and use historical records to retain previous questions and answers. Now I'm going to add a new history to your conversation"
   ],
   "metadata": {
    "collapsed": false
   },
   "id": "ebf92a68c1a51e8c"
  },
  {
   "cell_type": "code",
   "execution_count": 6,
   "outputs": [
    {
     "data": {
      "text/plain": "{'role': 'user',\n 'content': [{'type': 'text',\n   'text': 'what is the color of hair and dress the this women?'}]}"
     },
     "execution_count": 6,
     "metadata": {},
     "output_type": "execute_result"
    }
   ],
   "source": [
    "messages +=[\n",
    "        {\n",
    "            \"role\": \"user\",\n",
    "            \"content\": [\n",
    "                {\n",
    "                    \"type\": \"text\",\n",
    "                    \"text\": \"what is the color of the hair?\"\n",
    "                }\n",
    "            ]\n",
    "        },\n",
    "        {\n",
    "            \"role\": \"assistant\",\n",
    "            \"content\": \"It is pink\"\n",
    "        },\n",
    "        {\n",
    "            \"role\": \"user\",\n",
    "            \"content\": [\n",
    "                {\n",
    "                    \"type\": \"text\",\n",
    "                    \"text\": \"what is the color of hair and dress the this women?\"\n",
    "                }\n",
    "            ]\n",
    "        },\n",
    "    ]\n",
    "messages[-1]"
   ],
   "metadata": {
    "collapsed": false,
    "ExecuteTime": {
     "end_time": "2024-01-23T05:14:30.739884Z",
     "start_time": "2024-01-23T05:14:30.734633Z"
    }
   },
   "id": "eb264e5c17d6eba7"
  },
  {
   "cell_type": "markdown",
   "source": [
    "现在，我们再次请求，看看模型返回的结果\n",
    "\n",
    "Now, we request again and see the results returned by the model"
   ],
   "metadata": {
    "collapsed": false
   },
   "id": "b9decda6959a9498"
  },
  {
   "cell_type": "code",
   "execution_count": 7,
   "outputs": [
    {
     "data": {
      "text/plain": "Completion(model='glm-4v', created=1705986872, choices=[CompletionChoice(index=0, finish_reason='stop', message=CompletionMessage(content='The woman has pink hair and a black dress.', role='assistant', tool_calls=None))], request_id='8313807158880493247', id='8313807158880493247', usage=CompletionUsage(prompt_tokens=1078, completion_tokens=11, total_tokens=1089))"
     },
     "execution_count": 7,
     "metadata": {},
     "output_type": "execute_result"
    }
   ],
   "source": [
    "response = client.chat.completions.create(\n",
    "    model=\"glm-4v\",\n",
    "    messages=messages,\n",
    ")\n",
    "response"
   ],
   "metadata": {
    "collapsed": false,
    "ExecuteTime": {
     "end_time": "2024-01-23T05:14:32.032232Z",
     "start_time": "2024-01-23T05:14:30.739967Z"
    }
   },
   "id": "f57b9cae71780d3"
  }
 ],
 "metadata": {
  "kernelspec": {
   "display_name": "Python 3",
   "language": "python",
   "name": "python3"
  },
  "language_info": {
   "codemirror_mode": {
    "name": "ipython",
    "version": 2
   },
   "file_extension": ".py",
   "mimetype": "text/x-python",
   "name": "python",
   "nbconvert_exporter": "python",
   "pygments_lexer": "ipython2",
   "version": "2.7.6"
  }
 },
 "nbformat": 4,
 "nbformat_minor": 5
}
