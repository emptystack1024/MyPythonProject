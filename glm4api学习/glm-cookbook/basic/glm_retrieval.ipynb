{
 "cells": [
  {
   "cell_type": "markdown",
   "id": "390920eee68ee290",
   "metadata": {
    "collapsed": false,
    "jupyter": {
     "outputs_hidden": false
    }
   },
   "source": [
    "## Use the GLM-4 model combined with the knowledge base function of Zhipu AI to answer questions\n",
    "\n",
    "**This tutorial is available in English and is attached below the Chinese explanation**\n",
    "\n",
    "本代码中，我将使用在 [智谱大模型开放平台](https://open.bigmodel.cn/knowledge) 可视化构建的知识库作为参考，使用智谱自带的知识库调用插件，结合我上传的知识库回答问题。\n",
    "本代码仅包含使用代码进行调用，关于如何创建知识库，你可以访问这里：[智谱知识库创建方法](https://open.bigmodel.cn/appcenter/myapp)。\n",
    "\n",
    "In this cookbook, I will use the knowledge base visually constructed on [ZhipuAI LLM Open Platform](https://open.bigmodel.cn/knowledge) as a reference, use the knowledge base call plug-in that comes with Zhipu, and combine it with my Upload the knowledge base to answer questions.\n",
    "This code only includes calls using code. For information on how to create a knowledge base, you can visit here: [How to create a knowledge base](https://open.bigmodel.cn/appcenter/myapp).\n"
   ]
  },
  {
   "cell_type": "markdown",
   "id": "67d1dcfa723f2b58",
   "metadata": {
    "collapsed": false,
    "jupyter": {
     "outputs_hidden": false
    }
   },
   "source": [
    "## 1. Import the ZhipuAI package and set the API key\n",
    "\n",
    "首先，需要安装智谱AI 的 Python SDK，然后设置 API key。\n",
    "\n",
    "First, you need to install the ZhipuAI Python SDK, and then set the API key."
   ]
  },
  {
   "cell_type": "code",
   "execution_count": 1,
   "id": "4920299b115b2638",
   "metadata": {
    "collapsed": false,
    "jupyter": {
     "is_executing": true,
     "outputs_hidden": false
    }
   },
   "outputs": [],
   "source": [
    "import os\n",
    "from zhipuai import ZhipuAI\n",
    "\n",
    "os.environ[\"ZHIPUAI_API_KEY\"] = \"7cc2d454b5b31371f5c6c990fddc7636.EPXYYOmeKYWvDEqW\"\n",
    "client = ZhipuAI()\n"
   ]
  },
  {
   "cell_type": "markdown",
   "id": "369d15cd60ffe7fe",
   "metadata": {
    "collapsed": false,
    "jupyter": {
     "outputs_hidden": false
    }
   },
   "source": [
    "## 2. Use the GLM-4 model combined with the knowledge base function of Zhipu AI to answer questions\n",
    "\n",
    "接着，设置知识库的 ID，这个 ID 是在创建知识库时生成的。\n",
    "同时，你应该设置 prompt_template，这是一个模板，用于告诉模型如何使用知识库来回答问题。\n",
    "这样，我们就能请求模型根据知识库回答我们的问题了\n",
    "\n",
    "Next, set the ID of the knowledge base, which is generated when the knowledge base is created.\n",
    "At the same time, you should set prompt_template, which is a template that tells the model how to use the knowledge base to answer questions.\n",
    "In this way, we can request the model to answer our questions based on the knowledge base."
   ]
  },
  {
   "cell_type": "code",
   "execution_count": 2,
   "id": "initial_id",
   "metadata": {
    "ExecuteTime": {
     "end_time": "2024-02-05T06:32:06.360962Z",
     "start_time": "2024-02-05T06:32:01.283105Z"
    }
   },
   "outputs": [],
   "source": [
    "prompt_template = \"\"\"\n",
    "从文档\n",
    "{{knowledge}}\n",
    "中找问题\n",
    "{{question}}\n",
    "的答案，\n",
    "找到答案就仅使用文档语句回答，找不到答案就用自身知识回答并告诉用户该信息不是来自文档。\n",
    "不要复述问题，直接开始回答。\n",
    "\"\"\"\n",
    "knowledge_id = 1748261416734965760 ## my knowledge base id\n",
    "response = client.chat.completions.create(\n",
    "    model=\"glm-4\", \n",
    "    messages=[\n",
    "        {\"role\": \"user\", \"content\": \"大数据专业未来的升学情况\"},\n",
    "    ],\n",
    "    tools=[\n",
    "        {\n",
    "            \"type\": \"retrieval\",\n",
    "            \"retrieval\": {\n",
    "                \"knowledge_id\": knowledge_id,\n",
    "                \"prompt_template\": prompt_template,\n",
    "            }\n",
    "        }\n",
    "    ],\n",
    "    stream=False,\n",
    ")"
   ]
  },
  {
   "cell_type": "markdown",
   "id": "ed50fa0606ec8157",
   "metadata": {
    "collapsed": false,
    "jupyter": {
     "outputs_hidden": false
    }
   },
   "source": [
    "## 3. Print the response\n",
    "\n",
    "通过打印的回答，我们看到，模型使用了知识库中的信息回答了我们的问题。而不是使用模型自带的知识，这种调用方式比自己创建和管理知识库更加方便。大大降低了学习成本。\n",
    "\n",
    "By printing the answer, we see that the model used the information in the knowledge base to answer our question. Instead of using the knowledge base built into the model, this method of calling is more convenient than creating and managing the knowledge base by yourself. Greatly reduces the learning cost."
   ]
  },
  {
   "cell_type": "code",
   "execution_count": 3,
   "id": "8001646eb7ca6bfd",
   "metadata": {
    "ExecuteTime": {
     "end_time": "2024-02-05T06:32:06.366878Z",
     "start_time": "2024-02-05T06:32:06.362606Z"
    },
    "collapsed": false,
    "jupyter": {
     "outputs_hidden": false
    }
   },
   "outputs": [
    {
     "data": {
      "text/plain": [
       "Completion(model='glm-4', created=1714215215, choices=[CompletionChoice(index=0, finish_reason='stop', message=CompletionMessage(content='大数据专业是当前及未来一段很长时间内都极为热门的专业之一。随着数字化、信息化进程的加速，大数据技术已经广泛应用于各个行业，对专业人才的需求也在不断增长。关于大数据专业的升学情况，以下是一些可能的方向和建议：\\n\\n1. **研究生深造**：\\n   - **国内研究生**：可以选择在国内攻读硕士或博士学位，进一步深化在数据科学、大数据技术、人工智能等领域的知识和技能。\\n   - **海外研究生**：有条件的同学可以选择去海外知名高校深造，学习先进的大数据处理技术和理论，拓宽国际视野。\\n\\n2. **专业方向**：\\n   - **技术方向**：如数据挖掘、机器学习、数据分析等，适合对技术有浓厚兴趣的学生。\\n   - **应用方向**：如商业分析、金融大数据、健康信息学等，这些方向侧重于大数据在各行各业的应用。\\n   - **管理方向**：如信息管理、知识管理、项目管理等，适合对管理有热情的学生。\\n\\n3. **升学准备**：\\n   - **学术研究**：积极参与科研项目，发表学术论文，有助于申请研究生。\\n   - **实践能力**：通过实习、参与实际项目等方式，提升自己的实际操作能力和解决实际问题的能力。\\n   - **语言能力**：若考虑海外升学，需要提前准备语言考试，如托福、雅思等。\\n\\n4. **就业与升学相结合**：\\n   - 部分学生可能会选择先就业，积累一定的工作经验和实际案例后再考虑升学，这种路径有助于将理论和实践更好地结合。\\n\\n5. **行业认证与培训**：\\n   - 获取相关的行业认证，如数据分析师证书等，也可以增加就业和升学的竞争力。\\n\\n6. **职业规划**：\\n   - 结合个人兴趣和职业规划，选择适合自己的升学路径和方向。\\n   - 关注国家大数据战略和发展规划，结合国家需要和市场需求进行专业选择。\\n\\n总之，大数据专业的升学前景广阔，无论是在学术研究还是职业发展方面都有很大的潜力和空间。学生应根据自身条件、兴趣和职业规划，做好全面规划，为未来的升学和就业打下坚实的基础。', role='assistant', tool_calls=None))], request_id='8605591946932238568', id='8605591946932238568', usage=CompletionUsage(prompt_tokens=10, completion_tokens=430, total_tokens=440))"
      ]
     },
     "execution_count": 3,
     "metadata": {},
     "output_type": "execute_result"
    }
   ],
   "source": [
    "response"
   ]
  }
 ],
 "metadata": {
  "kernelspec": {
   "display_name": "Python 3 (ipykernel)",
   "language": "python",
   "name": "python3"
  },
  "language_info": {
   "codemirror_mode": {
    "name": "ipython",
    "version": 3
   },
   "file_extension": ".py",
   "mimetype": "text/x-python",
   "name": "python",
   "nbconvert_exporter": "python",
   "pygments_lexer": "ipython3",
   "version": "3.11.5"
  }
 },
 "nbformat": 4,
 "nbformat_minor": 5
}
