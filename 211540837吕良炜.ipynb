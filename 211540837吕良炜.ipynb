{
 "cells": [
  {
   "cell_type": "code",
   "execution_count": 1,
   "metadata": {},
   "outputs": [],
   "source": [
    "import pandas as pd\n",
    "import sklearn"
   ]
  },
  {
   "cell_type": "code",
   "execution_count": 2,
   "metadata": {},
   "outputs": [
    {
     "data": {
      "text/html": [
       "<div>\n",
       "<style scoped>\n",
       "    .dataframe tbody tr th:only-of-type {\n",
       "        vertical-align: middle;\n",
       "    }\n",
       "\n",
       "    .dataframe tbody tr th {\n",
       "        vertical-align: top;\n",
       "    }\n",
       "\n",
       "    .dataframe thead th {\n",
       "        text-align: right;\n",
       "    }\n",
       "</style>\n",
       "<table border=\"1\" class=\"dataframe\">\n",
       "  <thead>\n",
       "    <tr style=\"text-align: right;\">\n",
       "      <th></th>\n",
       "      <th>Region</th>\n",
       "      <th>Temp</th>\n",
       "      <th>Rainfall</th>\n",
       "      <th>Humidity</th>\n",
       "      <th>Apples</th>\n",
       "      <th>Oranges</th>\n",
       "    </tr>\n",
       "  </thead>\n",
       "  <tbody>\n",
       "    <tr>\n",
       "      <th>0</th>\n",
       "      <td>Guangyuan</td>\n",
       "      <td>73</td>\n",
       "      <td>67</td>\n",
       "      <td>43</td>\n",
       "      <td>56</td>\n",
       "      <td>70</td>\n",
       "    </tr>\n",
       "    <tr>\n",
       "      <th>1</th>\n",
       "      <td>Loudi</td>\n",
       "      <td>91</td>\n",
       "      <td>88</td>\n",
       "      <td>64</td>\n",
       "      <td>81</td>\n",
       "      <td>101</td>\n",
       "    </tr>\n",
       "    <tr>\n",
       "      <th>2</th>\n",
       "      <td>Sinnva</td>\n",
       "      <td>87</td>\n",
       "      <td>134</td>\n",
       "      <td>58</td>\n",
       "      <td>119</td>\n",
       "      <td>133</td>\n",
       "    </tr>\n",
       "    <tr>\n",
       "      <th>3</th>\n",
       "      <td>Shenzhen</td>\n",
       "      <td>102</td>\n",
       "      <td>43</td>\n",
       "      <td>37</td>\n",
       "      <td>22</td>\n",
       "      <td>37</td>\n",
       "    </tr>\n",
       "    <tr>\n",
       "      <th>4</th>\n",
       "      <td>Pingxiang</td>\n",
       "      <td>69</td>\n",
       "      <td>96</td>\n",
       "      <td>70</td>\n",
       "      <td>103</td>\n",
       "      <td>119</td>\n",
       "    </tr>\n",
       "  </tbody>\n",
       "</table>\n",
       "</div>"
      ],
      "text/plain": [
       "      Region  Temp  Rainfall  Humidity  Apples  Oranges\n",
       "0  Guangyuan    73        67        43      56       70\n",
       "1      Loudi    91        88        64      81      101\n",
       "2     Sinnva    87       134        58     119      133\n",
       "3   Shenzhen   102        43        37      22       37\n",
       "4  Pingxiang    69        96        70     103      119"
      ]
     },
     "execution_count": 2,
     "metadata": {},
     "output_type": "execute_result"
    }
   ],
   "source": [
    "data = pd.read_csv('oranapp1.csv')\n",
    "\n",
    "data"
   ]
  },
  {
   "cell_type": "code",
   "execution_count": 3,
   "metadata": {},
   "outputs": [
    {
     "name": "stdout",
     "output_type": "stream",
     "text": [
      "   Temp  Rainfall  Humidity\n",
      "0    73        67        43\n",
      "1    91        88        64\n",
      "2    87       134        58\n",
      "3   102        43        37\n",
      "   Apples  Oranges\n",
      "0      56       70\n",
      "1      81      101\n",
      "2     119      133\n",
      "3      22       37\n"
     ]
    }
   ],
   "source": [
    "input_data = data.iloc[:-1, 1:4]\n",
    "output_data = data.iloc[:-1, 4:]\n",
    "\n",
    "print(input_data)\n",
    "print(output_data)"
   ]
  },
  {
   "cell_type": "markdown",
   "metadata": {},
   "source": [
    "## 线性回归——scikit-learn实现"
   ]
  },
  {
   "cell_type": "code",
   "execution_count": 4,
   "metadata": {},
   "outputs": [
    {
     "name": "stdout",
     "output_type": "stream",
     "text": [
      "[[ 98.71937639 119.30003182]]\n"
     ]
    },
    {
     "name": "stderr",
     "output_type": "stream",
     "text": [
      "c:\\Users\\33398\\.conda\\envs\\pythonProject\\Lib\\site-packages\\sklearn\\base.py:450: UserWarning: X does not have valid feature names, but LinearRegression was fitted with feature names\n",
      "  warnings.warn(\n"
     ]
    }
   ],
   "source": [
    "from sklearn import linear_model\n",
    "\n",
    "lr = linear_model.LinearRegression()\n",
    "lr.fit(input_data, output_data)\n",
    "\n",
    "input = [[69,96,70]]\n",
    "output = lr.predict(input)\n",
    "print(output)"
   ]
  },
  {
   "cell_type": "markdown",
   "metadata": {},
   "source": [
    "## 线性回归——pyotch实现"
   ]
  },
  {
   "cell_type": "code",
   "execution_count": 22,
   "metadata": {},
   "outputs": [],
   "source": [
    "from torch.utils.data import TensorDataset,DataLoader\n",
    "import torch.nn.functional as F\n",
    "from torch import nn\n",
    "import  torch\n",
    "\n",
    "inputs = torch.tensor(input_data.values,dtype=torch.float32)\n",
    "outputs = torch.tensor(output_data.values,dtype=torch.float32)\n",
    "\n",
    "train_ds = TensorDataset(inputs,outputs)\n",
    "train_dl= DataLoader(train_ds,shuffle=True)\n",
    "\n",
    "loss_fn = F.mse_loss\n",
    "\n",
    "model = nn.Linear(3,2)\n",
    "opt = torch.optim.SGD(model.parameters(), lr=10**-5)\n",
    "\n",
    "predict = model(inputs)"
   ]
  },
  {
   "cell_type": "code",
   "execution_count": 23,
   "metadata": {},
   "outputs": [],
   "source": [
    "def fit(train_d1,num_epochs, model, loss_fn,opt):\n",
    "    # 迭代num_epochs次\n",
    "    for epoch in range(num_epochs):\n",
    "        # 使用分批数据进行训练\n",
    "        for xb,yb in train_d1:\n",
    "            #训练模型\n",
    "            pred = model(xb)\n",
    "            # mse损失函数\n",
    "            loss = loss_fn(pred,yb)\n",
    "            # 计算梯度，反向传播\n",
    "            loss.backward()\n",
    "            # 使用梯度更新参数\n",
    "            opt.step()\n",
    "\n",
    "            # 重置梯度为 0\n",
    "\n",
    "            opt.zero_grad()\n",
    "        if(epoch+1) % 100 == 0:\n",
    "            pass\n",
    "            # print('Epoch [{}/{}], Loss:{:0.4f}'.format(epoch+1,num_epochs,loss.item()))"
   ]
  },
  {
   "cell_type": "code",
   "execution_count": 24,
   "metadata": {},
   "outputs": [
    {
     "name": "stdout",
     "output_type": "stream",
     "text": [
      "tensor([[57.4487,  6.4894],\n",
      "        [79.1562, 12.5545],\n",
      "        [96.0733,  5.2211],\n",
      "        [45.5891,  2.9437]], grad_fn=<AddmmBackward0>)\n"
     ]
    }
   ],
   "source": [
    "fit(train_dl,700,model,loss_fn,opt)\n",
    "\n",
    "print(predict)"
   ]
  },
  {
   "cell_type": "markdown",
   "metadata": {},
   "source": [
    "## 分类问题——scikitlearn"
   ]
  },
  {
   "cell_type": "code",
   "execution_count": 28,
   "metadata": {},
   "outputs": [
    {
     "name": "stdout",
     "output_type": "stream",
     "text": [
      "[[5.1 3.5 1.4 0.2]\n",
      " [4.9 3.  1.4 0.2]\n",
      " [4.7 3.2 1.3 0.2]\n",
      " [4.6 3.1 1.5 0.2]\n",
      " [5.  3.6 1.4 0.2]]\n",
      "[0 0 0 0 0]\n"
     ]
    }
   ],
   "source": [
    "# 鸢尾花分类\n",
    "import sklearn.datasets\n",
    "import numpy as np\n",
    "\n",
    "iris = sklearn.datasets.load_iris()\n",
    "data = iris.data\n",
    "target = iris.target\n",
    "\n",
    "print(data[:5])\n",
    "print(target[:5])"
   ]
  },
  {
   "cell_type": "code",
   "execution_count": 34,
   "metadata": {},
   "outputs": [
    {
     "name": "stdout",
     "output_type": "stream",
     "text": [
      "[0 1 0 2 1 1 1 0 1 2 0 0 2 0 1 2 0 1 1 1 0 1 0 0 2 2 2 0 1 2]\n",
      "[0 1 0 2 1 1 1 0 2 2 0 0 2 0 1 2 0 1 1 1 0 1 0 0 2 2 2 0 1 2]\n"
     ]
    },
    {
     "name": "stderr",
     "output_type": "stream",
     "text": [
      "c:\\Users\\33398\\.conda\\envs\\pythonProject\\Lib\\site-packages\\sklearn\\linear_model\\_logistic.py:444: ConvergenceWarning: lbfgs failed to converge (status=1):\n",
      "STOP: TOTAL NO. of ITERATIONS REACHED LIMIT.\n",
      "\n",
      "Increase the number of iterations (max_iter) or scale the data as shown in:\n",
      "    https://scikit-learn.org/stable/modules/preprocessing.html\n",
      "Please also refer to the documentation for alternative solver options:\n",
      "    https://scikit-learn.org/stable/modules/linear_model.html#logistic-regression\n",
      "  n_iter_i = _check_optimize_result(\n"
     ]
    },
    {
     "ename": "",
     "evalue": "",
     "output_type": "error",
     "traceback": [
      "\u001b[1;31m在当前单元格或上一个单元格中执行代码时 Kernel 崩溃。\n",
      "\u001b[1;31m请查看单元格中的代码，以确定故障的可能原因。\n",
      "\u001b[1;31m单击<a href='https://aka.ms/vscodeJupyterKernelCrash'>此处</a>了解详细信息。\n",
      "\u001b[1;31m有关更多详细信息，请查看 Jupyter <a href='command:jupyter.viewOutput'>log</a>。"
     ]
    }
   ],
   "source": [
    "from sklearn.model_selection import train_test_split\n",
    "from sklearn.linear_model import LogisticRegression\n",
    "\n",
    "x_train,x_test,y_train,y_test = train_test_split(data,target,test_size=0.2)\n",
    "\n",
    "lr = LogisticRegression()\n",
    "lr.fit(x_train,y_train)\n",
    "\n",
    "print(lr.predict(x_test))\n",
    "print(y_test)"
   ]
  },
  {
   "cell_type": "code",
   "execution_count": null,
   "metadata": {},
   "outputs": [],
   "source": [
    "print()"
   ]
  },
  {
   "cell_type": "markdown",
   "metadata": {},
   "source": [
    "## 分类问题——pytorch"
   ]
  },
  {
   "cell_type": "code",
   "execution_count": null,
   "metadata": {},
   "outputs": [],
   "source": []
  }
 ],
 "metadata": {
  "kernelspec": {
   "display_name": "Python 3",
   "language": "python",
   "name": "python3"
  },
  "language_info": {
   "codemirror_mode": {
    "name": "ipython",
    "version": 3
   },
   "file_extension": ".py",
   "mimetype": "text/x-python",
   "name": "python",
   "nbconvert_exporter": "python",
   "pygments_lexer": "ipython3",
   "version": "3.11.5"
  }
 },
 "nbformat": 4,
 "nbformat_minor": 2
}
