{
 "cells": [
  {
   "cell_type": "code",
   "execution_count": 1,
   "id": "initial_id",
   "metadata": {
    "collapsed": true,
    "ExecuteTime": {
     "end_time": "2023-11-08T14:12:02.575686600Z",
     "start_time": "2023-11-08T14:12:02.561446800Z"
    }
   },
   "outputs": [
    {
     "name": "stdout",
     "output_type": "stream",
     "text": [
      "0.2f   format 1234.56789: 1234.57\n",
      ">10.1f format 1234.56789:     1234.6\n",
      "<10.1f format 1234.56789: 1234.6    \n",
      "^10.1f format 1234.56789:   1234.6  \n",
      ",      format 1234.56789:  1,234.56789\n",
      "0,.1f  format 1234.56789:  1,234.6\n"
     ]
    }
   ],
   "source": [
    "x = 1234.56789\n",
    "print(f'0.2f   format {x}: {x:0.2f}')\n",
    "print(f'>10.1f format {x}: {x: >10.1f}')\n",
    "print(f'<10.1f format {x}: {x: <10.1f}')\n",
    "print(f'^10.1f format {x}: {x: ^10.1f}')\n",
    "print(f',      format {x}: {x: ,}')\n",
    "print(f'0,.1f  format {x}: {x: 0,.1f}')"
   ]
  },
  {
   "cell_type": "code",
   "execution_count": 3,
   "outputs": [
    {
     "name": "stdout",
     "output_type": "stream",
     "text": [
      "e    format 1234.56789 is:  1.234568e+03\n",
      "0.2E format 1234.56789 is:  1.23E+03\n"
     ]
    }
   ],
   "source": [
    "print(f'e    format {x} is: {x: e}')\n",
    "print(f'0.2E format {x} is: {x: 0.2E}')"
   ],
   "metadata": {
    "collapsed": false,
    "ExecuteTime": {
     "end_time": "2023-11-08T14:24:52.542768Z",
     "start_time": "2023-11-08T14:24:52.533762Z"
    }
   },
   "id": "1692daf4cb53334e"
  },
  {
   "cell_type": "code",
   "execution_count": 1,
   "outputs": [
    {
     "name": "stdout",
     "output_type": "stream",
     "text": [
      "binary      of 1234 is: 0b10011010010\n",
      "octal       of 1234 is: 0o2322\n",
      "hexadecimal of 1234 is: 0x4d2\n"
     ]
    }
   ],
   "source": [
    "x = 1234\n",
    "print(f'binary      of {x} is: {bin(x)}')\n",
    "print(f'octal       of {x} is: {oct(x)}')\n",
    "print(f'hexadecimal of {x} is: {hex(x)}')"
   ],
   "metadata": {
    "collapsed": false,
    "ExecuteTime": {
     "end_time": "2023-11-09T00:44:50.342251800Z",
     "start_time": "2023-11-09T00:44:50.314985700Z"
    }
   },
   "id": "949cbd1744f7a884"
  },
  {
   "cell_type": "code",
   "execution_count": 3,
   "outputs": [
    {
     "name": "stdout",
     "output_type": "stream",
     "text": [
      "binary      not show 0b:  10011010010\n",
      "octal       not show 0o:  2322\n",
      "hexadecimal not show 0x:  4d2\n"
     ]
    }
   ],
   "source": [
    "print(f'binary      not show 0b: {x: b}')\n",
    "print(f'octal       not show 0o: {x: o}')\n",
    "print(f'hexadecimal not show 0x: {x: x}')"
   ],
   "metadata": {
    "collapsed": false,
    "ExecuteTime": {
     "end_time": "2023-11-09T00:49:48.160332200Z",
     "start_time": "2023-11-09T00:49:48.140102900Z"
    }
   },
   "id": "e947ed160e52c30f"
  },
  {
   "cell_type": "code",
   "execution_count": 4,
   "outputs": [
    {
     "name": "stdout",
     "output_type": "stream",
     "text": [
      "binary      of -1234 is: -10011010010\n",
      "hexadecimal of -1234 is: -4d2\n"
     ]
    }
   ],
   "source": [
    "x = -1234\n",
    "print(f'binary      of {x} is: {x: b}')\n",
    "print(f'hexadecimal of {x} is: {x: x}')"
   ],
   "metadata": {
    "collapsed": false,
    "ExecuteTime": {
     "end_time": "2023-11-09T00:52:56.437323600Z",
     "start_time": "2023-11-09T00:52:56.398498700Z"
    }
   },
   "id": "5b8022035c702fc1"
  },
  {
   "cell_type": "code",
   "execution_count": 5,
   "outputs": [
    {
     "name": "stdout",
     "output_type": "stream",
     "text": [
      "(2**32 + x) binary      result: 11111111111111111111101100101110\n",
      "(2**32 + x) hexadecimal result: fffffb2e\n"
     ]
    }
   ],
   "source": [
    "print(f'(2**32 + x) binary      result:{2**32 + x: b}')\n",
    "print(f'(2**32 + x) hexadecimal result: {2**32 + x:x}')"
   ],
   "metadata": {
    "collapsed": false,
    "ExecuteTime": {
     "end_time": "2023-11-09T00:54:56.156839600Z",
     "start_time": "2023-11-09T00:54:56.130250900Z"
    }
   },
   "id": "f0c6bfdcd44c5595"
  },
  {
   "cell_type": "code",
   "execution_count": 6,
   "outputs": [
    {
     "name": "stdout",
     "output_type": "stream",
     "text": [
      "1234\n",
      "1234\n"
     ]
    }
   ],
   "source": [
    "print(int('4d2', 16))\n",
    "print(int('10011010010', 2))"
   ],
   "metadata": {
    "collapsed": false,
    "ExecuteTime": {
     "end_time": "2023-11-09T00:58:27.951599400Z",
     "start_time": "2023-11-09T00:58:27.928342400Z"
    }
   },
   "id": "18ab21aceda81881"
  },
  {
   "cell_type": "code",
   "execution_count": null,
   "outputs": [],
   "source": [],
   "metadata": {
    "collapsed": false
   },
   "id": "e7da49d2382fbc0a"
  }
 ],
 "metadata": {
  "kernelspec": {
   "display_name": "Python 3",
   "language": "python",
   "name": "python3"
  },
  "language_info": {
   "codemirror_mode": {
    "name": "ipython",
    "version": 2
   },
   "file_extension": ".py",
   "mimetype": "text/x-python",
   "name": "python",
   "nbconvert_exporter": "python",
   "pygments_lexer": "ipython2",
   "version": "2.7.6"
  }
 },
 "nbformat": 4,
 "nbformat_minor": 5
}
