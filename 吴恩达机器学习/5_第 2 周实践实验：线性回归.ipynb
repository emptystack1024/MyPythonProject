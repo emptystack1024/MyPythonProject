{
 "cells": [
  {
   "cell_type": "markdown",
   "source": [
    "1 - 软件包\n",
    "首先，让我们运行下面的单元格，导入本作业中需要的所有软件包。\n",
    "\n",
    "numpy 是在 Python 中处理矩阵的基本软件包。\n",
    "matplotlib 是在 Python 中绘制图形的著名库。\n",
    "utils.py 包含本作业的辅助函数。您无需修改此文件中的代码。"
   ],
   "metadata": {
    "collapsed": false
   },
   "id": "9fd8555d71c33703"
  },
  {
   "cell_type": "code",
   "execution_count": 3,
   "id": "initial_id",
   "metadata": {
    "collapsed": true,
    "ExecuteTime": {
     "end_time": "2024-01-26T11:44:50.640328300Z",
     "start_time": "2024-01-26T11:44:49.499362500Z"
    }
   },
   "outputs": [],
   "source": [
    "import numpy as np\n",
    "import matplotlib.pyplot as plt\n",
    "from utils import *\n",
    "import copy\n",
    "import math\n",
    "%matplotlib inline"
   ]
  },
  {
   "cell_type": "markdown",
   "source": [
    "2 - 问题陈述\n",
    "假设您是一家餐饮加盟店的首席执行官，正在考虑在不同的城市开设新的分店。\n",
    "\n",
    "您希望将业务扩展到那些能给您的餐厅带来更高利润的城市。\n",
    "该连锁餐厅已经在多个城市开设了分店，您拥有这些城市的利润和人口数据。\n",
    "您还掌握了一些候选城市的数据。\n",
    "您还掌握了这些城市的人口数据。\n",
    "您能否利用这些数据来帮助您确定哪些城市可能会给您的企业带来更高的利润？\n",
    "\n",
    "3 - 数据集\n",
    "首先，您要为这项任务加载数据集。\n",
    "\n",
    "下图所示的 load_data() 函数将数据加载到变量 x_train 和 y_train 中\n",
    "    x_train 是一个城市的人口数量\n",
    "    y_train 是某城市餐馆的利润。利润的负值表示亏损。\n",
    "    X_train 和 y_train 都是 numpy 数组。"
   ],
   "metadata": {
    "collapsed": false
   },
   "id": "6b6d799ebdd7e8ca"
  },
  {
   "cell_type": "code",
   "execution_count": 4,
   "outputs": [
    {
     "ename": "FileNotFoundError",
     "evalue": "data/ex1data1.txt not found.",
     "output_type": "error",
     "traceback": [
      "\u001B[1;31m---------------------------------------------------------------------------\u001B[0m",
      "\u001B[1;31mFileNotFoundError\u001B[0m                         Traceback (most recent call last)",
      "Cell \u001B[1;32mIn[4], line 2\u001B[0m\n\u001B[0;32m      1\u001B[0m \u001B[38;5;66;03m# load the dataset\u001B[39;00m\n\u001B[1;32m----> 2\u001B[0m x_train, y_train \u001B[38;5;241m=\u001B[39m load_data()\n",
      "File \u001B[1;32mC:\\code\\pythonProject\\pythonProject\\吴恩达机器学习\\utils.py:4\u001B[0m, in \u001B[0;36mload_data\u001B[1;34m()\u001B[0m\n\u001B[0;32m      3\u001B[0m \u001B[38;5;28;01mdef\u001B[39;00m \u001B[38;5;21mload_data\u001B[39m():\n\u001B[1;32m----> 4\u001B[0m     data \u001B[38;5;241m=\u001B[39m np\u001B[38;5;241m.\u001B[39mloadtxt(\u001B[38;5;124m\"\u001B[39m\u001B[38;5;124mdata/ex1data1.txt\u001B[39m\u001B[38;5;124m\"\u001B[39m, delimiter\u001B[38;5;241m=\u001B[39m\u001B[38;5;124m'\u001B[39m\u001B[38;5;124m,\u001B[39m\u001B[38;5;124m'\u001B[39m)\n\u001B[0;32m      5\u001B[0m     X \u001B[38;5;241m=\u001B[39m data[:,\u001B[38;5;241m0\u001B[39m]\n\u001B[0;32m      6\u001B[0m     y \u001B[38;5;241m=\u001B[39m data[:,\u001B[38;5;241m1\u001B[39m]\n",
      "File \u001B[1;32m~\\.conda\\envs\\pythonProject\\Lib\\site-packages\\numpy\\lib\\npyio.py:1356\u001B[0m, in \u001B[0;36mloadtxt\u001B[1;34m(fname, dtype, comments, delimiter, converters, skiprows, usecols, unpack, ndmin, encoding, max_rows, quotechar, like)\u001B[0m\n\u001B[0;32m   1353\u001B[0m \u001B[38;5;28;01mif\u001B[39;00m \u001B[38;5;28misinstance\u001B[39m(delimiter, \u001B[38;5;28mbytes\u001B[39m):\n\u001B[0;32m   1354\u001B[0m     delimiter \u001B[38;5;241m=\u001B[39m delimiter\u001B[38;5;241m.\u001B[39mdecode(\u001B[38;5;124m'\u001B[39m\u001B[38;5;124mlatin1\u001B[39m\u001B[38;5;124m'\u001B[39m)\n\u001B[1;32m-> 1356\u001B[0m arr \u001B[38;5;241m=\u001B[39m _read(fname, dtype\u001B[38;5;241m=\u001B[39mdtype, comment\u001B[38;5;241m=\u001B[39mcomment, delimiter\u001B[38;5;241m=\u001B[39mdelimiter,\n\u001B[0;32m   1357\u001B[0m             converters\u001B[38;5;241m=\u001B[39mconverters, skiplines\u001B[38;5;241m=\u001B[39mskiprows, usecols\u001B[38;5;241m=\u001B[39musecols,\n\u001B[0;32m   1358\u001B[0m             unpack\u001B[38;5;241m=\u001B[39munpack, ndmin\u001B[38;5;241m=\u001B[39mndmin, encoding\u001B[38;5;241m=\u001B[39mencoding,\n\u001B[0;32m   1359\u001B[0m             max_rows\u001B[38;5;241m=\u001B[39mmax_rows, quote\u001B[38;5;241m=\u001B[39mquotechar)\n\u001B[0;32m   1361\u001B[0m \u001B[38;5;28;01mreturn\u001B[39;00m arr\n",
      "File \u001B[1;32m~\\.conda\\envs\\pythonProject\\Lib\\site-packages\\numpy\\lib\\npyio.py:975\u001B[0m, in \u001B[0;36m_read\u001B[1;34m(fname, delimiter, comment, quote, imaginary_unit, usecols, skiplines, max_rows, converters, ndmin, unpack, dtype, encoding)\u001B[0m\n\u001B[0;32m    973\u001B[0m     fname \u001B[38;5;241m=\u001B[39m os\u001B[38;5;241m.\u001B[39mfspath(fname)\n\u001B[0;32m    974\u001B[0m \u001B[38;5;28;01mif\u001B[39;00m \u001B[38;5;28misinstance\u001B[39m(fname, \u001B[38;5;28mstr\u001B[39m):\n\u001B[1;32m--> 975\u001B[0m     fh \u001B[38;5;241m=\u001B[39m np\u001B[38;5;241m.\u001B[39mlib\u001B[38;5;241m.\u001B[39m_datasource\u001B[38;5;241m.\u001B[39mopen(fname, \u001B[38;5;124m'\u001B[39m\u001B[38;5;124mrt\u001B[39m\u001B[38;5;124m'\u001B[39m, encoding\u001B[38;5;241m=\u001B[39mencoding)\n\u001B[0;32m    976\u001B[0m     \u001B[38;5;28;01mif\u001B[39;00m encoding \u001B[38;5;129;01mis\u001B[39;00m \u001B[38;5;28;01mNone\u001B[39;00m:\n\u001B[0;32m    977\u001B[0m         encoding \u001B[38;5;241m=\u001B[39m \u001B[38;5;28mgetattr\u001B[39m(fh, \u001B[38;5;124m'\u001B[39m\u001B[38;5;124mencoding\u001B[39m\u001B[38;5;124m'\u001B[39m, \u001B[38;5;124m'\u001B[39m\u001B[38;5;124mlatin1\u001B[39m\u001B[38;5;124m'\u001B[39m)\n",
      "File \u001B[1;32m~\\.conda\\envs\\pythonProject\\Lib\\site-packages\\numpy\\lib\\_datasource.py:193\u001B[0m, in \u001B[0;36mopen\u001B[1;34m(path, mode, destpath, encoding, newline)\u001B[0m\n\u001B[0;32m    156\u001B[0m \u001B[38;5;250m\u001B[39m\u001B[38;5;124;03m\"\"\"\u001B[39;00m\n\u001B[0;32m    157\u001B[0m \u001B[38;5;124;03mOpen `path` with `mode` and return the file object.\u001B[39;00m\n\u001B[0;32m    158\u001B[0m \n\u001B[1;32m   (...)\u001B[0m\n\u001B[0;32m    189\u001B[0m \n\u001B[0;32m    190\u001B[0m \u001B[38;5;124;03m\"\"\"\u001B[39;00m\n\u001B[0;32m    192\u001B[0m ds \u001B[38;5;241m=\u001B[39m DataSource(destpath)\n\u001B[1;32m--> 193\u001B[0m \u001B[38;5;28;01mreturn\u001B[39;00m ds\u001B[38;5;241m.\u001B[39mopen(path, mode, encoding\u001B[38;5;241m=\u001B[39mencoding, newline\u001B[38;5;241m=\u001B[39mnewline)\n",
      "File \u001B[1;32m~\\.conda\\envs\\pythonProject\\Lib\\site-packages\\numpy\\lib\\_datasource.py:533\u001B[0m, in \u001B[0;36mDataSource.open\u001B[1;34m(self, path, mode, encoding, newline)\u001B[0m\n\u001B[0;32m    530\u001B[0m     \u001B[38;5;28;01mreturn\u001B[39;00m _file_openers[ext](found, mode\u001B[38;5;241m=\u001B[39mmode,\n\u001B[0;32m    531\u001B[0m                               encoding\u001B[38;5;241m=\u001B[39mencoding, newline\u001B[38;5;241m=\u001B[39mnewline)\n\u001B[0;32m    532\u001B[0m \u001B[38;5;28;01melse\u001B[39;00m:\n\u001B[1;32m--> 533\u001B[0m     \u001B[38;5;28;01mraise\u001B[39;00m \u001B[38;5;167;01mFileNotFoundError\u001B[39;00m(\u001B[38;5;124mf\u001B[39m\u001B[38;5;124m\"\u001B[39m\u001B[38;5;132;01m{\u001B[39;00mpath\u001B[38;5;132;01m}\u001B[39;00m\u001B[38;5;124m not found.\u001B[39m\u001B[38;5;124m\"\u001B[39m)\n",
      "\u001B[1;31mFileNotFoundError\u001B[0m: data/ex1data1.txt not found."
     ]
    }
   ],
   "source": [
    "# load the dataset\n",
    "x_train, y_train = load_data()"
   ],
   "metadata": {
    "collapsed": false,
    "ExecuteTime": {
     "end_time": "2024-01-26T11:44:53.984542400Z",
     "start_time": "2024-01-26T11:44:53.475991Z"
    }
   },
   "id": "feb7c92838b3f3bc"
  },
  {
   "cell_type": "markdown",
   "source": [
    "查看变量\n",
    "在开始执行任何任务之前，最好先熟悉一下数据集。\n",
    "    一个好的开始是打印出每个变量，看看它包含什么。\n",
    "下面的代码会打印出变量 x_train 以及变量的类型。"
   ],
   "metadata": {
    "collapsed": false
   },
   "id": "eab358933c6a94fb"
  },
  {
   "cell_type": "code",
   "execution_count": 5,
   "outputs": [
    {
     "ename": "NameError",
     "evalue": "name 'x_train' is not defined",
     "output_type": "error",
     "traceback": [
      "\u001B[1;31m---------------------------------------------------------------------------\u001B[0m",
      "\u001B[1;31mNameError\u001B[0m                                 Traceback (most recent call last)",
      "Cell \u001B[1;32mIn[5], line 2\u001B[0m\n\u001B[0;32m      1\u001B[0m \u001B[38;5;66;03m# print x_train\u001B[39;00m\n\u001B[1;32m----> 2\u001B[0m \u001B[38;5;28mprint\u001B[39m(\u001B[38;5;124m\"\u001B[39m\u001B[38;5;124mType of x_train:\u001B[39m\u001B[38;5;124m\"\u001B[39m,\u001B[38;5;28mtype\u001B[39m(x_train))\n\u001B[0;32m      3\u001B[0m \u001B[38;5;28mprint\u001B[39m(\u001B[38;5;124m\"\u001B[39m\u001B[38;5;124mFirst five elements of x_train are:\u001B[39m\u001B[38;5;130;01m\\n\u001B[39;00m\u001B[38;5;124m\"\u001B[39m, x_train[:\u001B[38;5;241m5\u001B[39m])\n\u001B[0;32m      5\u001B[0m \u001B[38;5;66;03m# print y_train\u001B[39;00m\n",
      "\u001B[1;31mNameError\u001B[0m: name 'x_train' is not defined"
     ]
    }
   ],
   "source": [
    "# print x_train\n",
    "print(\"Type of x_train:\",type(x_train))\n",
    "print(\"First five elements of x_train are:\\n\", x_train[:5])\n",
    "\n",
    "# print y_train\n",
    "print(\"Type of y_train:\",type(y_train))\n",
    "print(\"First five elements of y_train are:\\n\", y_train[:5])"
   ],
   "metadata": {
    "collapsed": false,
    "ExecuteTime": {
     "end_time": "2024-01-26T11:44:56.005100400Z",
     "start_time": "2024-01-26T11:44:55.951954700Z"
    }
   },
   "id": "b459949ba994746"
  },
  {
   "cell_type": "code",
   "execution_count": null,
   "outputs": [],
   "source": [],
   "metadata": {
    "collapsed": false
   },
   "id": "783747e5c82cf6d6"
  }
 ],
 "metadata": {
  "kernelspec": {
   "display_name": "Python 3",
   "language": "python",
   "name": "python3"
  },
  "language_info": {
   "codemirror_mode": {
    "name": "ipython",
    "version": 2
   },
   "file_extension": ".py",
   "mimetype": "text/x-python",
   "name": "python",
   "nbconvert_exporter": "python",
   "pygments_lexer": "ipython2",
   "version": "2.7.6"
  }
 },
 "nbformat": 4,
 "nbformat_minor": 5
}
