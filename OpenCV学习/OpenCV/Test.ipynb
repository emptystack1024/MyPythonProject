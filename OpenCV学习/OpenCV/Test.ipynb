{
 "cells": [
  {
   "cell_type": "code",
   "execution_count": 1,
   "id": "initial_id",
   "metadata": {
    "collapsed": true,
    "ExecuteTime": {
     "end_time": "2023-10-17T08:59:53.175080400Z",
     "start_time": "2023-10-17T08:59:47.484047500Z"
    }
   },
   "outputs": [
    {
     "name": "stdout",
     "output_type": "stream",
     "text": [
      "Image loaded successfully.\n"
     ]
    }
   ],
   "source": [
    "import cv2\n",
    "\n",
    "# 尝试加载一张图片\n",
    "image = cv2.imread(r'C:\\Users\\33398\\Pictures\\1.png')\n",
    "\n",
    "# 检查图像是否成功加载\n",
    "if image is not None:\n",
    "    print('Image loaded successfully.')\n",
    "    # 显示图像窗口\n",
    "    cv2.imshow('Test Image', image)\n",
    "    # 等待用户按下任意键，然后关闭图像窗口\n",
    "    cv2.waitKey(0)\n",
    "    cv2.destroyAllWindows()\n",
    "else:\n",
    "    print('Failed to load image.')\n",
    "\n",
    "# 确保在关闭窗口之前按下任意键以关闭窗口\n",
    "cv2.waitKey(0)\n",
    "cv2.destroyAllWindows()"
   ]
  },
  {
   "cell_type": "code",
   "execution_count": null,
   "outputs": [],
   "source": [
    "import cv2\n",
    "\n",
    "# multi 中文是多的意思\n",
    "res = cv2.imreadmulti(\"src_tiff.tiff\")\n",
    "\n",
    "if not res:\n",
    "    print(\"Image Read Error!\")\n",
    "else:\n",
    "    index = 1\n",
    "    for img in res[1]:\n",
    "        cv2.imshow(\"Image\" + str(index), img) # 显示图像\n",
    "        cv2.waitKey(0)                        # 等待按键按下\n",
    "        index += 1\n",
    "    cv2.destroyAllWindows()                   # 关闭所有窗口"
   ],
   "metadata": {
    "collapsed": false
   },
   "id": "57182fff017de9b9"
  },
  {
   "cell_type": "code",
   "execution_count": null,
   "outputs": [],
   "source": [
    "import cv2\n",
    "\n",
    "img = cv2.imread(\"src.jpg\", cv2.IMREAD_REDUCED_GRAYSCALE_2)  #图像读取\n",
    "\n",
    "if img is None:\n",
    "    print(\"Image Read Error!\")\n",
    "else:\n",
    "    stat = cv2.imwrite(\"dst.jpg\", img)  #图像写入\n",
    "    if stat:\n",
    "        print(\"Image Write Successfully!\")\n",
    "    else:\n",
    "        print(\"Image Write Error!\")"
   ],
   "metadata": {
    "collapsed": false
   },
   "id": "7c0b84ebb46f884e"
  },
  {
   "cell_type": "code",
   "execution_count": null,
   "outputs": [],
   "source": [
    "import cv2\n",
    "\n",
    "img1 = cv2.imread(\"src.jpg\")  #读取第一幅图像\n",
    "img2 = cv2.imread(\"dst.jpg\")  #读取第二幅图像\n",
    "img3 = cv2.imread(\"src.jpg\")  #读取第三幅图像\n",
    "\n",
    "img = [img1, img2, img3]  #将三幅图像放入列表中\n",
    "stat = cv2.imwrite(\"multi.jpg\", img)  #将列表中的图像写入到文件中\n",
    "\n",
    "if stat:\n",
    "    print(\"Image Write Successfully!\")\n",
    "else:\n",
    "    print(\"Image Write Error!\")"
   ],
   "metadata": {
    "collapsed": false
   },
   "id": "c5310ffc38562efa"
  },
  {
   "cell_type": "code",
   "execution_count": null,
   "outputs": [],
   "source": [
    "import cv2\n",
    "import numpy as np\n",
    "\n",
    "img = cv2.imread(\"daibao.jpg\")  #读取图像\n",
    "img_encode = cv2.imencode(\".jpg\", img)[1]  #编码图像\n",
    "data_encode = np.array(img_encode)  #转换为numpy数组\n",
    "bytes_encode = data_encode.tobytes()  #转换为bytes格式数据\n",
    "print(type(bytes_encode)) # 类型打印为： <class 'bytes'>\n",
    "\n",
    "# 将数据写入文件\n",
    "with open(\"daibao_encode.jpg\", \"wb\") as f:\n",
    "    f.write(bytes_encode)"
   ],
   "metadata": {
    "collapsed": false
   },
   "id": "dce787c9dbf07d7e"
  }
 ],
 "metadata": {
  "kernelspec": {
   "display_name": "Python 3",
   "language": "python",
   "name": "python3"
  },
  "language_info": {
   "codemirror_mode": {
    "name": "ipython",
    "version": 2
   },
   "file_extension": ".py",
   "mimetype": "text/x-python",
   "name": "python",
   "nbconvert_exporter": "python",
   "pygments_lexer": "ipython2",
   "version": "2.7.6"
  }
 },
 "nbformat": 4,
 "nbformat_minor": 5
}
