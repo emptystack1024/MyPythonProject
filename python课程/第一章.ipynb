{
 "cells": [
  {
   "cell_type": "markdown",
   "source": [
    "# 1.1 导入模块"
   ],
   "metadata": {
    "collapsed": false
   }
  },
  {
   "cell_type": "code",
   "execution_count": 12,
   "metadata": {
    "collapsed": true,
    "ExecuteTime": {
     "end_time": "2023-06-12T08:16:05.664371400Z",
     "start_time": "2023-06-12T08:16:03.255136400Z"
    }
   },
   "outputs": [],
   "source": [
    "#import modulename1[, modulename2[,... modulenameN]]"
   ]
  },
  {
   "cell_type": "markdown",
   "source": [
    "这种方法可以一次导入多个模块，每个模块之间用逗号隔开\n",
    "但在使用模块中的类、方法、变量时，必须加上模块名"
   ],
   "metadata": {
    "collapsed": false
   }
  },
  {
   "cell_type": "code",
   "execution_count": 13,
   "outputs": [
    {
     "name": "stdout",
     "output_type": "stream",
     "text": [
      "3.141592653589793\n",
      "3.141592653589793\n"
     ]
    }
   ],
   "source": [
    "import math\n",
    "print(math.pi)"
   ],
   "metadata": {
    "collapsed": false,
    "ExecuteTime": {
     "end_time": "2023-06-12T08:16:05.820295900Z",
     "start_time": "2023-06-12T08:16:03.276123800Z"
    }
   }
  },
  {
   "cell_type": "markdown",
   "source": [
    "# 1.2 导入模块中的部分内容"
   ],
   "metadata": {
    "collapsed": false
   }
  },
  {
   "cell_type": "code",
   "execution_count": 14,
   "outputs": [],
   "source": [
    "#from modulename import name1[, name2[, ... nameN]]"
   ],
   "metadata": {
    "collapsed": false,
    "ExecuteTime": {
     "end_time": "2023-06-12T08:16:05.944286300Z",
     "start_time": "2023-06-12T08:16:03.304346900Z"
    }
   }
  },
  {
   "cell_type": "markdown",
   "source": [
    "这种方式一次导入一个模块中的所有内容\n",
    "使用时不需要添加模块名为前缀，但是容易与当前程序中的变量名冲突"
   ],
   "metadata": {
    "collapsed": false
   }
  },
  {
   "cell_type": "code",
   "execution_count": 15,
   "outputs": [
    {
     "name": "stdout",
     "output_type": "stream",
     "text": [
      "3.141592653589793\n",
      "5.0\n",
      "3.141592653589793\n",
      "5.0\n"
     ]
    }
   ],
   "source": [
    "from math import *\n",
    "#上述代码中，利用from math import *导入math模块中的所有内容后，可以调用这个模块里定义的所有函数等内容，不需要添加模块名为前缀。\n",
    "print(pi)\n",
    "print(sqrt(25))"
   ],
   "metadata": {
    "collapsed": false,
    "ExecuteTime": {
     "end_time": "2023-06-12T08:16:05.999233400Z",
     "start_time": "2023-06-12T08:16:03.320283Z"
    }
   }
  },
  {
   "cell_type": "markdown",
   "source": [
    "# 1.3 导入模块中的部分内容"
   ],
   "metadata": {
    "collapsed": false
   }
  },
  {
   "cell_type": "code",
   "execution_count": 16,
   "outputs": [],
   "source": [
    "#form modulename import object1[, object2[, ... objectN]]"
   ],
   "metadata": {
    "collapsed": false,
    "ExecuteTime": {
     "end_time": "2023-06-12T08:16:06.000231900Z",
     "start_time": "2023-06-12T08:16:03.333828800Z"
    }
   }
  },
  {
   "cell_type": "markdown",
   "source": [
    "这种方法一次导入一个模块中指定的内容，如某个函数。调用时不需要添加模块名为前缀。使用这种方法的程序可读性介于前两者。"
   ],
   "metadata": {
    "collapsed": false
   }
  },
  {
   "cell_type": "code",
   "execution_count": 17,
   "outputs": [
    {
     "name": "stdout",
     "output_type": "stream",
     "text": [
      "2.718281828459045\n",
      "5.0\n",
      "2.718281828459045\n",
      "5.0\n"
     ]
    }
   ],
   "source": [
    "from math import e, sqrt\n",
    "print(e)\n",
    "print(sqrt(25))"
   ],
   "metadata": {
    "collapsed": false,
    "ExecuteTime": {
     "end_time": "2023-06-12T08:16:06.039756200Z",
     "start_time": "2023-06-12T08:16:03.352850300Z"
    }
   }
  },
  {
   "cell_type": "markdown",
   "source": [
    "上述程序中，from math import sqrt, e表示导入模块math中的sqrt函数和常量e，程序中只可以使用sqrt函数和e的值，不能使用该模块中的其他内容。"
   ],
   "metadata": {
    "collapsed": false
   }
  },
  {
   "cell_type": "markdown",
   "source": [
    "# 2.1 包及其定义\n",
    "\n",
    "为了方便管理，通常将程序文件（模块）以特定目录的形式进行打包。\n",
    "\n",
    "作为包的目录中必须至少包含一个名为__init__.py的文件，也可以包含一些模块文件和作为子包的子目录。作为子包的子目录中同样至少包含一个名为__init__.py的文件。文件__init__.py的内容可以为空。\n",
    "\n",
    "__init__.py文件的主要作用为：\n",
    "    作为python中包与普通目录的区别标识；\n",
    "    编写代码，定义类、函数、变量等对象；\n",
    "    定义__all__变量来确定采用from moduleName import *时导入的模块名称。"
   ],
   "metadata": {
    "collapsed": false
   }
  },
  {
   "cell_type": "markdown",
   "source": [
    "# 2.2 库及其安装\n",
    "\n",
    "库是为实现某一功能的模块和包的集合。\n",
    "\n",
    "将模块和包封装为库进行发布，方便安装和管理。\n",
    "\n",
    "根据库是否已经包含在Python的官方安装包中，通常将其区分为\n",
    "    标准库：安装好Python后，本身就带有的库被称为标准库。标准库中的模块被称为标准模块。\n",
    "    第三方库：没有随官方发行版本安装的库；非标准库中的模块称为第三方模块。"
   ],
   "metadata": {
    "collapsed": false
   }
  },
  {
   "cell_type": "markdown",
   "source": [
    "# 2.3 常用的第三方库\n",
    "\n",
    "Python的第三方库有很多，常用的有：\n",
    "\n",
    "    time：提供了一套用于处理时间的Python工具，可以用来获取当前时间、获取时间戳、获取时间元组、格式化时间等。\n",
    "    datetime：提供了一套用于处理日期和时间的Python工具，可以用来获取当前日期和时间、获取日期和时间元组、格式化日期和时间等。\n",
    "    copy：提供了一套用于复制对象的Python工具，可以用来复制对象、复制列表、复制字典等。\n",
    "    os：提供了一套用于处理文件和目录的Python工具，可以用来获取当前目录、改变当前目录、获取目录列表、创建目录、删除目录、重命名文件、删除文件等。\n",
    "    sys：提供了一套用于处理Python运行时环境的Python工具，可以用来获取Python解释器的版本、获取Python解释器的安装路径、获取命令行参数等。\n",
    "    math：提供了一套用于数学运算的Python工具，可以用来计算绝对值、计算三角函数、计算对数函数、计算指数函数、计算幂函数、计算最大公约数、计算最小公倍数等。\n",
    "    random：提供了一套用于生成随机数的Python工具，可以用来生成随机整数、生成随机浮点数、生成随机序列、打乱列表元素顺序等。\n",
    "    re：提供了一套用于正则表达式的Python工具，可以用来进行正则表达式匹配、正则表达式替换等。\n",
    "    pickle：提供了一套用于序列化和反序列化Python对象的Python工具，可以用来将Python对象序列化为字符串、将字符串反序列化为Python对象等。\n",
    "\n",
    "    其它第三方库：\n",
    "\n",
    "        NumPy：提供了python对多维数组对象的支持，以及对数组进行运算的各种函数。是进行科学计算的基础库。\n",
    "        SciPy：基于NumPy，提供了一些高级的数值计算功能。\n",
    "        Matplotlib：提供了一套类似于MATLAB的绘图框架，可以生成高质量的图形。\n",
    "        Pandas：提供了一套数据分析的高级工具，使得使用Python进行数据分析变得更加简单。\n",
    "        Scikit-learn：基于SciPy，提供了一套简单高效的数据挖掘和数据分析工具。\n",
    "        Requests：提供了一套简单易用的HTTP库，可以用来发送各种HTTP请求。\n",
    "        Beautiful Soup：提供了一套简单易用的API，用于网页信息的提取。\n",
    "        Django：提供了一套完整的Web开发框架，可以用来快速开发高质量的Web应用。\n",
    "        Flask：提供了一套简洁的Web开发框架，可以用来快速开发Web应用。\n",
    "        SymPy：提供了一套完整的符号计算工具，可以用来进行符号计算，从而能够解决各种数学问题。\n",
    "        PyTables：提供了一套完整的用于处理大型数据的Python工具，可以用来进行数据的存储、检索、查询等操作。\n",
    "        PyGame：提供了一套用于编写游戏的Python工具，可以用来开发各种2D游戏。\n",
    "        PyGTK：提供了一套用于编写GUI应用的Python工具，可以用来开发各种GUI应用。\n",
    "        PyQT：提供了一套用于编写GUI应用的Python工具，可以用来开发各种GUI应用。\n"
   ],
   "metadata": {
    "collapsed": false
   }
  },
  {
   "cell_type": "markdown",
   "source": [
    "# 2.4 安装matplotlib库"
   ],
   "metadata": {
    "collapsed": false
   }
  },
  {
   "cell_type": "code",
   "execution_count": 23,
   "outputs": [
    {
     "name": "stdout",
     "output_type": "stream",
     "text": [
      "3.7.1\n"
     ]
    },
    {
     "data": {
      "text/plain": "<Figure size 640x480 with 1 Axes>",
      "image/png": "[encoded data removed]"
     },
     "metadata": {},
     "output_type": "display_data"
    }
   ],
   "source": [
    "import matplotlib\n",
    "print(matplotlib.__version__)\n",
    "import matplotlib.pyplot as plt\n",
    "plt.plot([1, 4, 9, 16, 25, 36, 49, 64, 81, 100])\n",
    "plt.show()"
   ],
   "metadata": {
    "collapsed": false,
    "ExecuteTime": {
     "end_time": "2023-06-12T08:35:28.721007500Z",
     "start_time": "2023-06-12T08:35:28.530093600Z"
    }
   }
  },
  {
   "cell_type": "markdown",
   "source": [
    "# 3.1 使用帮助\n",
    "\n",
    "Python提供了dir和help函数供用户查看模块、函数等的相关说明。\n",
    "\n",
    "以查看math模块的相关说明为例，在Python命令窗口中输入dir(math)即可查看math模块的可用属性和函数。"
   ],
   "metadata": {
    "collapsed": false
   }
  },
  {
   "cell_type": "code",
   "execution_count": 24,
   "outputs": [
    {
     "data": {
      "text/plain": "['__doc__',\n '__loader__',\n '__name__',\n '__package__',\n '__spec__',\n 'acos',\n 'acosh',\n 'asin',\n 'asinh',\n 'atan',\n 'atan2',\n 'atanh',\n 'ceil',\n 'comb',\n 'copysign',\n 'cos',\n 'cosh',\n 'degrees',\n 'dist',\n 'e',\n 'erf',\n 'erfc',\n 'exp',\n 'expm1',\n 'fabs',\n 'factorial',\n 'floor',\n 'fmod',\n 'frexp',\n 'fsum',\n 'gamma',\n 'gcd',\n 'hypot',\n 'inf',\n 'isclose',\n 'isfinite',\n 'isinf',\n 'isnan',\n 'isqrt',\n 'lcm',\n 'ldexp',\n 'lgamma',\n 'log',\n 'log10',\n 'log1p',\n 'log2',\n 'modf',\n 'nan',\n 'nextafter',\n 'perm',\n 'pi',\n 'pow',\n 'prod',\n 'radians',\n 'remainder',\n 'sin',\n 'sinh',\n 'sqrt',\n 'tan',\n 'tanh',\n 'tau',\n 'trunc',\n 'ulp']"
     },
     "execution_count": 24,
     "metadata": {},
     "output_type": "execute_result"
    }
   ],
   "source": [
    "import math\n",
    "dir(math)"
   ],
   "metadata": {
    "collapsed": false,
    "ExecuteTime": {
     "end_time": "2023-06-12T08:35:46.238712600Z",
     "start_time": "2023-06-12T08:35:46.232163900Z"
    }
   }
  },
  {
   "cell_type": "markdown",
   "source": [
    "help函数可以查看模块、函数等的详细说明信息。例如在import math后，输入命令help(math)，将列出math模块中所有的常量和函数详细说明。如果输入help(math.sqrt)将只列出math.sqrt函数的详细信息。\n",
    "也可以用print函数在屏幕上打印帮助信息。例如，要查看math.sqrt函数的帮助信息，只需要在命令窗口输入print(math.sqrt.__doc__)即可："
   ],
   "metadata": {
    "collapsed": false
   }
  },
  {
   "cell_type": "code",
   "execution_count": 20,
   "outputs": [
    {
     "name": "stdout",
     "output_type": "stream",
     "text": [
      "Return the square root of x.\n",
      "Return the square root of x.\n"
     ]
    }
   ],
   "source": [
    "import math\n",
    "print(math.sqrt.__doc__)"
   ],
   "metadata": {
    "collapsed": false,
    "ExecuteTime": {
     "end_time": "2023-06-12T08:16:06.423366600Z",
     "start_time": "2023-06-12T08:16:05.392201400Z"
    }
   }
  },
  {
   "cell_type": "markdown",
   "source": [
    "# 4.1 模块的_name_属性\n",
    "\n",
    "每个模块都有一个__name__属性（注意__name__两端各有两个下划线），该属性保存当前模块执行过程中的名称。\n",
    "\n",
    "当一个程序模块独立运行时，该__name__属性自动被赋予值为__main__的字符串。\n",
    "如果一个程序模块被其他程序通过import导入使用，则其__name__属性自动被赋予值为模块名（文件名）的字符串。"
   ],
   "metadata": {
    "collapsed": false
   }
  },
  {
   "cell_type": "code",
   "execution_count": 21,
   "outputs": [
    {
     "name": "stdout",
     "output_type": "stream",
     "text": [
      "模块名为：__main__\n",
      "模块名为：__main__\n"
     ]
    }
   ],
   "source": [
    "#编写一个函数printName()，打印当前模块的_name_属性的值，主函数中调用该函数，程序保存为nametest.py文件。\n",
    "\n",
    "#nametest.py\n",
    "#coding=utf-8\n",
    "\n",
    "def printName():\n",
    "    print(\"模块名为：\" + __name__)\n",
    "\n",
    "#主函数\n",
    "printName()"
   ],
   "metadata": {
    "collapsed": false,
    "ExecuteTime": {
     "end_time": "2023-06-12T08:16:06.424637800Z",
     "start_time": "2023-06-12T08:16:05.429780900Z"
    }
   }
  },
  {
   "cell_type": "markdown",
   "source": [
    "因为nametest.py文件是独立运行的，所以其_name_属性的值为__main__，因此上述程序的输出结果为：\n",
    "\n",
    "模块名为：__main__"
   ],
   "metadata": {
    "collapsed": false
   }
  },
  {
   "cell_type": "code",
   "execution_count": 22,
   "outputs": [
    {
     "name": "stdout",
     "output_type": "stream",
     "text": [
      "C:\\Users\\33398\\.conda\\envs\\jupy_test\\python.exe C:\\code\\pythonProject\\jupy_test\\python课程\\第一章\\nametestimport.py\n",
      "模块名为：nametest\n",
      "模块名为：nametest\n",
      "\n",
      "进程已结束,退出代码0\n",
      "C:\\Users\\33398\\.conda\\envs\\jupy_test\\python.exe C:\\code\\pythonProject\\jupy_test\\python课程\\第一章\\nametestimport.py\n",
      "模块名为：nametest\n",
      "模块名为：nametest\n",
      "\n",
      "进程已结束,退出代码0\n"
     ]
    }
   ],
   "source": [
    "#编写一个程序，调用nametest.py文件中的printName()函数，程序保存为nametestimport.py文件。为了简化阐述，程序与nametest.py保存到同一个目录下。\n",
    "\n",
    "#nametestimport.py\n",
    "#coding=utf-8\n",
    "\n",
    "#此处无法正常运行，所以只输出结果\n",
    "#import nametest\n",
    "#nametest.printName()\n",
    "\n",
    "print('''C:\\\\Users\\\\33398\\\\.conda\\\\envs\\\\jupy_test\\\\python.exe C:\\\\code\\\\pythonProject\\\\jupy_test\\\\python课程\\\\第一章\\\\nametestimport.py\n",
    "模块名为：nametest\n",
    "模块名为：nametest\n",
    "\n",
    "进程已结束,退出代码0''')"
   ],
   "metadata": {
    "collapsed": false,
    "ExecuteTime": {
     "end_time": "2023-06-12T08:16:06.445952200Z",
     "start_time": "2023-06-12T08:16:05.470006800Z"
    }
   }
  },
  {
   "cell_type": "markdown",
   "source": [
    "因为nametest.py文件是被nametestimport.py文件导入的，所以其_name_属性的值为nametest，因此上述程序的输出结果为：\n",
    "\n",
    "    C:\\Users\\33398\\.conda\\envs\\jupy_test\\python.exe C:\\code\\pythonProject\\jupy_test\\python课程\\第一章\\nametestimport.py\n",
    "    模块名为：nametest\n",
    "    模块名为：nametest\n",
    "\n",
    "    进程已结束,退出代码0\n",
    "\n",
    "因为nametest.py作为一个模块被nametestimport.py程序通过import引用，因此其__name__属性值为模块的名称\"nametest\"。\n",
    "\n",
    "为什么执行结果的字符串重复打印两次呢？因为被import的nametest.py中，有主程序调用printName()函数的语句，因此在import nametest的时候执行了一次printName()，输出了“当前__name__值为： nametest”。nametestimport.py中接着通过语句nametest.printName()调用了printName()函数，再一次输出“当前__name__值为： nametest”。\n",
    "\n",
    "因此，如果一个程序模块可能被其他程序通过import引用，最好在主程序开始之前添加“if __name__=='__main__' :”的条件语句，这样该模块在被其他程序通过import引用时，因为其__name__属性的值不为“__main__”，主程序不会执行。"
   ],
   "metadata": {
    "collapsed": false
   }
  },
  {
   "cell_type": "markdown",
   "source": [
    "修改例1-4的程序如下：\n",
    "\n",
    "    #nametest2.py\n",
    "    #coding=utf-8\n",
    "    def printName():\n",
    "        print(\"当前__name__值为：\",__name__)\n",
    "\n",
    "    #主程序\n",
    "    if __name__=='__main__':    #添加了判断语句\n",
    "        printName()\n",
    "\n",
    "\n",
    "直接运行该程序的执行结果与原来一样。\n",
    "\n",
    "\n",
    "    #编写一个程序，调用nametest.py文件中的printName()函数，程序保存为nametestimport.py文件。为了简化阐述，程序与nametest.py保存到同一个目录下。\n",
    "\n",
    "    #new_nametestimport.py\n",
    "    #coding=utf-8\n",
    "\n",
    "    import new_nametest\n",
    "    new_nametest.printName()\n",
    "\n",
    "\n",
    "此时，程序的运行结果为：\n",
    "当前__name__值为： nametest2\n",
    "\n",
    "因为，当nametest2.py被nametestimport2.py引用时，nametest2中的__name__属性值为'__nametest2__'，此时nametest2中的主程序if后面的条件为假，因此printName()没有被调用。直到nametestimport2.py执行nametest2.printName()函数时，才打印一次。"
   ],
   "metadata": {
    "collapsed": false
   }
  }
 ],
 "metadata": {
  "kernelspec": {
   "display_name": "Python 3",
   "language": "python",
   "name": "python3"
  },
  "language_info": {
   "codemirror_mode": {
    "name": "ipython",
    "version": 2
   },
   "file_extension": ".py",
   "mimetype": "text/x-python",
   "name": "python",
   "nbconvert_exporter": "python",
   "pygments_lexer": "ipython2",
   "version": "2.7.6"
  }
 },
 "nbformat": 4,
 "nbformat_minor": 0
}
