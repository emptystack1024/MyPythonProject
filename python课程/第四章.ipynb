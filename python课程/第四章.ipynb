{
 "cells": [
  {
   "cell_type": "code",
   "execution_count": 1,
   "metadata": {
    "collapsed": true,
    "ExecuteTime": {
     "end_time": "2023-06-13T08:25:04.729342100Z",
     "start_time": "2023-06-13T08:25:04.709100800Z"
    }
   },
   "outputs": [
    {
     "name": "stdout",
     "output_type": "stream",
     "text": [
      "6\n"
     ]
    }
   ],
   "source": [
    "vehicle = ['train', 'bus', 'car', 'subway', 'ship', 'bicycle']\n",
    "print(len(vehicle))"
   ]
  },
  {
   "cell_type": "code",
   "execution_count": 2,
   "outputs": [
    {
     "name": "stdout",
     "output_type": "stream",
     "text": [
      "99\n"
     ]
    }
   ],
   "source": [
    "number = [12,34,3.14,99,-10]\n",
    "print(max(number)"
   ],
   "metadata": {
    "collapsed": false,
    "ExecuteTime": {
     "end_time": "2023-06-13T08:26:00.500564100Z",
     "start_time": "2023-06-13T08:26:00.441190600Z"
    }
   }
  },
  {
   "cell_type": "code",
   "execution_count": 3,
   "outputs": [
    {
     "name": "stdout",
     "output_type": "stream",
     "text": [
      "train\n"
     ]
    }
   ],
   "source": [
    "vehicle = ['train', 'bus', 'car', 'subway', 'ship', 'bicycle']\n",
    "print(max(vehicle))"
   ],
   "metadata": {
    "collapsed": false,
    "ExecuteTime": {
     "end_time": "2023-06-13T08:28:25.621159800Z",
     "start_time": "2023-06-13T08:28:25.596842500Z"
    }
   }
  },
  {
   "cell_type": "code",
   "execution_count": 4,
   "outputs": [
    {
     "name": "stdout",
     "output_type": "stream",
     "text": [
      "<list_reverseiterator object at 0x000001550AEF26B0>\n",
      "['bicycle', 'ship', 'subway', 'car', 'bus', 'train']\n",
      "<list_reverseiterator object at 0x000001550AEF2C50>\n",
      "['train', 3.14, 'bus', 12]\n"
     ]
    }
   ],
   "source": [
    "vehicle = ['train', 'bus', 'car', 'subway', 'ship', 'bicycle']\n",
    "print(reversed(vehicle))\n",
    "print(list(reversed(vehicle)))\n",
    "\n",
    "nv = [12,'bus',3.14,'train']\n",
    "print(reversed(nv))\n",
    "print(list(reversed(nv)))"
   ],
   "metadata": {
    "collapsed": false,
    "ExecuteTime": {
     "end_time": "2023-06-13T08:31:37.143607600Z",
     "start_time": "2023-06-13T08:31:37.136062900Z"
    }
   }
  },
  {
   "cell_type": "code",
   "execution_count": 5,
   "outputs": [
    {
     "name": "stdout",
     "output_type": "stream",
     "text": [
      "[-10, 3.14, 12, 34, 99]\n",
      "[12, 34, 3.14, 99, -10]\n",
      "[99, 34, 12, 3.14, -10]\n",
      "[-10, 12, 3.14, 34, 99]\n"
     ]
    }
   ],
   "source": [
    "number1 = [12,34,3.14,99,-10]\n",
    "n1 = sorted(number1)\n",
    "print(n1)\n",
    "print(number1)\n",
    "\n",
    "n2 = sorted(number1, reverse=True)\n",
    "print(n2)\n",
    "\n",
    "n3 = sorted(number1, key=str)\n",
    "print(n3)"
   ],
   "metadata": {
    "collapsed": false,
    "ExecuteTime": {
     "end_time": "2023-06-13T08:37:43.233632700Z",
     "start_time": "2023-06-13T08:37:43.176739900Z"
    }
   }
  },
  {
   "cell_type": "code",
   "execution_count": 6,
   "outputs": [
    {
     "name": "stdout",
     "output_type": "stream",
     "text": [
      "['bicycle', 'bus', 'car', 'ship', 'subway', 'train']\n",
      "['train', 'subway', 'ship', 'car', 'bus', 'bicycle']\n",
      "['bus', 'car', 'ship', 'train', 'subway', 'bicycle']\n",
      "['bicycle', 'subway', 'train', 'ship', 'bus', 'car']\n"
     ]
    }
   ],
   "source": [
    "vehicle = ['train', 'bus', 'car', 'subway', 'ship', 'bicycle']\n",
    "v1 = sorted(vehicle)\n",
    "print(v1)\n",
    "\n",
    "v2 = sorted(vehicle, reverse=True)\n",
    "print(v2)\n",
    "\n",
    "v3 = sorted(vehicle, key=len)\n",
    "print(v3)\n",
    "\n",
    "v4 = sorted(vehicle, key=len, reverse=True)\n",
    "print(v4)"
   ],
   "metadata": {
    "collapsed": false,
    "ExecuteTime": {
     "end_time": "2023-06-13T08:39:03.273051500Z",
     "start_time": "2023-06-13T08:39:03.207182200Z"
    }
   }
  },
  {
   "cell_type": "code",
   "execution_count": 7,
   "outputs": [
    {
     "name": "stdout",
     "output_type": "stream",
     "text": [
      "train bus car subway ship bicycle "
     ]
    }
   ],
   "source": [
    "vehicle = ['train', 'bus', 'car', 'subway', 'ship', 'bicycle']\n",
    "for i in vehicle:\n",
    "    print(i,end=' ')"
   ],
   "metadata": {
    "collapsed": false,
    "ExecuteTime": {
     "end_time": "2023-06-13T08:48:46.013109200Z",
     "start_time": "2023-06-13T08:48:45.942959100Z"
    }
   }
  },
  {
   "cell_type": "code",
   "execution_count": 8,
   "outputs": [
    {
     "name": "stdout",
     "output_type": "stream",
     "text": [
      "train bus car subway ship bicycle "
     ]
    }
   ],
   "source": [
    "vehicle = ['train', 'bus', 'car', 'subway', 'ship', 'bicycle']\n",
    "for i in range(len(vehicle)):\n",
    "    print(vehicle[i],end=' ')"
   ],
   "metadata": {
    "collapsed": false,
    "ExecuteTime": {
     "end_time": "2023-06-13T08:48:59.310163300Z",
     "start_time": "2023-06-13T08:48:59.257706Z"
    }
   }
  },
  {
   "cell_type": "code",
   "execution_count": 9,
   "outputs": [
    {
     "name": "stdout",
     "output_type": "stream",
     "text": [
      "train bus car subway ship bicycle "
     ]
    }
   ],
   "source": [
    "i = 0\n",
    "while i < len(vehicle):\n",
    "    print(vehicle[i],end=' ')\n",
    "    i += 1"
   ],
   "metadata": {
    "collapsed": false,
    "ExecuteTime": {
     "end_time": "2023-06-13T08:49:17.610037400Z",
     "start_time": "2023-06-13T08:49:17.591496500Z"
    }
   }
  },
  {
   "cell_type": "code",
   "execution_count": 14,
   "outputs": [
    {
     "name": "stdout",
     "output_type": "stream",
     "text": [
      "<class 'dict'>\n",
      "<class 'dict_items'>\n"
     ]
    }
   ],
   "source": [
    "abbreviation ={'WAN':'Wide Area Network', 'CU':'Control Unit', 'LAN':'Local Area Network', 'GUI':'Graphical User Interface'}\n",
    "\n",
    "print(type(abbreviation))\n",
    "print(type(abbreviation.items()))"
   ],
   "metadata": {
    "collapsed": false,
    "ExecuteTime": {
     "end_time": "2023-06-13T11:54:45.261553700Z",
     "start_time": "2023-06-13T11:54:45.251565600Z"
    }
   }
  },
  {
   "cell_type": "code",
   "execution_count": 15,
   "outputs": [
    {
     "name": "stdout",
     "output_type": "stream",
     "text": [
      "<class 'tuple'>\n",
      "<class 'tuple'>\n",
      "<class 'tuple'>\n",
      "<class 'tuple'>\n"
     ]
    }
   ],
   "source": [
    "abbreviation ={'WAN':'Wide Area Network', 'CU':'Control Unit', 'LAN':'Local Area Network', 'GUI':'Graphical User Interface'}\n",
    "\n",
    "for i in abbreviation.items():\n",
    "    print(type(i))"
   ],
   "metadata": {
    "collapsed": false,
    "ExecuteTime": {
     "end_time": "2023-06-13T12:04:05.178526300Z",
     "start_time": "2023-06-13T12:04:05.126945500Z"
    }
   }
  },
  {
   "cell_type": "code",
   "execution_count": 17,
   "outputs": [
    {
     "name": "stdout",
     "output_type": "stream",
     "text": [
      "<class 'list'> 类型是不是可以遍历的\n",
      "False\n",
      "<class 'tuple'> 类型是不是可以遍历的\n",
      "False\n",
      "<class 'dict'> 类型是不是可以遍历的\n",
      "False\n",
      "<class 'set'> 类型是不是可以遍历的\n",
      "False\n",
      "<class 'str'> 类型是不是可以遍历的\n",
      "False\n",
      "<class 'range'> 类型是不是可以遍历的\n",
      "False\n",
      "<class 'int'> 类型是不是可以遍历的\n",
      "False\n"
     ]
    }
   ],
   "source": [
    "from collections.abc import Iterator\n",
    "print(type([]),\"类型是不是可以遍历的\")\n",
    "print(isinstance([],Iterator))\n",
    "print(type(()),\"类型是不是可以遍历的\")\n",
    "print(isinstance((),Iterator))\n",
    "print(type({1:'one',2:'two'}),\"类型是不是可以遍历的\")\n",
    "print(isinstance({1:'one',2:'two'},Iterator))\n",
    "print(type({'one','two'}),\"类型是不是可以遍历的\")\n",
    "print(isinstance({'one','two'},Iterator))\n",
    "print(type('abcdefg'),\"类型是不是可以遍历的\")\n",
    "print(isinstance('abcdefg',Iterator))\n",
    "print(type(range(10)),\"类型是不是可以遍历的\")\n",
    "print(isinstance(range(10),Iterator))\n",
    "print(type(123),\"类型是不是可以遍历的\")\n",
    "print(isinstance(123,Iterator))"
   ],
   "metadata": {
    "collapsed": false,
    "ExecuteTime": {
     "end_time": "2023-06-13T12:41:18.375912700Z",
     "start_time": "2023-06-13T12:41:18.317647300Z"
    }
   }
  },
  {
   "cell_type": "code",
   "execution_count": null,
   "outputs": [],
   "source": [],
   "metadata": {
    "collapsed": false
   }
  }
 ],
 "metadata": {
  "kernelspec": {
   "display_name": "Python 3",
   "language": "python",
   "name": "python3"
  },
  "language_info": {
   "codemirror_mode": {
    "name": "ipython",
    "version": 2
   },
   "file_extension": ".py",
   "mimetype": "text/x-python",
   "name": "python",
   "nbconvert_exporter": "python",
   "pygments_lexer": "ipython2",
   "version": "2.7.6"
  }
 },
 "nbformat": 4,
 "nbformat_minor": 0
}
