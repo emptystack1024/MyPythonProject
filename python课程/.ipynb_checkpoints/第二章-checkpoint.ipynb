{
 "cells": [
  {
   "cell_type": "markdown",
   "metadata": {},
   "source": [
    "# 1.1 控制台的输入与输出\n",
    "\n",
    "在Python语言中，我们可以用input()函数进行输入，print()函数进行输出，这些都是简单的控制台输入输出函数。"
   ]
  },
  {
   "cell_type": "markdown",
   "metadata": {},
   "source": [
    "Python中提供了input()函数用于输入数据，无论用户输入什么内容，该函数都返回字符串类型。其格式如下：\n",
    "\n",
    "    input(prompt=None, /)\n",
    "\n",
    "其中prompt表示提示信息，默认为空，如果不空，则显示提示信息。然后等待用户输入，输入完毕后按回车键，并将用户输入作为一个字符串返回，并自动忽略换行符。可以将返回结果赋予变量。\n",
    "\n",
    "说明：函数参数中的斜线表示该函数斜线之前的参数只接收位置参数而不接收关键参数，但是在Python中并不允许自定义这样的函数。这样的函数一般是用C语言开发的内置函数或特定对象的方法。位置参数和关键参数相关知识请参考第6章函数。"
   ]
  },
  {
   "cell_type": "code",
   "execution_count": 25,
   "metadata": {
    "ExecuteTime": {
     "end_time": "2023-06-03T02:51:32.089859100Z",
     "start_time": "2023-06-03T02:51:28.133411500Z"
    }
   },
   "outputs": [
    {
     "name": "stdout",
     "output_type": "stream",
     "text": [
      "请输入一个数字(10)：10\n",
      "10\n"
     ]
    },
    {
     "data": {
      "text/plain": [
       "str"
      ]
     },
     "execution_count": 25,
     "metadata": {},
     "output_type": "execute_result"
    }
   ],
   "source": [
    "x = input(\"请输入一个数字(10)：\")\n",
    "print(x)\n",
    "\n",
    "type(x)"
   ]
  },
  {
   "cell_type": "markdown",
   "metadata": {},
   "source": [
    "当用户输入100，按回车键之后，input()函数将字符串'100'赋予变量x，结果就是字符串'100'。内置函数type()返回对象的类型。"
   ]
  },
  {
   "cell_type": "code",
   "execution_count": 26,
   "metadata": {
    "ExecuteTime": {
     "end_time": "2023-06-03T02:51:34.868722400Z",
     "start_time": "2023-06-03T02:51:32.075914600Z"
    }
   },
   "outputs": [
    {
     "name": "stdout",
     "output_type": "stream",
     "text": [
      "请输入一个数字(like)：like\n",
      "like\n"
     ]
    },
    {
     "data": {
      "text/plain": [
       "str"
      ]
     },
     "execution_count": 26,
     "metadata": {},
     "output_type": "execute_result"
    }
   ],
   "source": [
    "x = input(\"请输入一个数字(like)：\")\n",
    "print(x)\n",
    "\n",
    "type(x)"
   ]
  },
  {
   "cell_type": "markdown",
   "metadata": {},
   "source": [
    "当用户输入like，按回车键之后，input()函数将字符串'like'赋予变量x，结果就是字符串'like'。即不管输入什么内容，input()函数的返回结果都是字符串。"
   ]
  },
  {
   "cell_type": "markdown",
   "metadata": {},
   "source": [
    "既然input()函数得到的结果就是字符串，那么要得到其他类型的数据怎么办？如怎么得到数值型数据？如何得到列表数据？这就要通过类型转换函数int()、float()等将字符串转换成数值。有些场合还可以用eval()函数计算字符串所表示的表达式的值。"
   ]
  },
  {
   "cell_type": "markdown",
   "metadata": {},
   "source": [
    "# 1.2 数据的输入\n",
    "\n",
    "# 1.2.1 int()函数\n",
    "\n",
    "int()函数用于将一个字符串或数值转换成整数。其格式如下：\n",
    "\n",
    "    int(x=0, base=10)\n",
    "\n",
    "功能：将x转换成整数，base表示进制，缺省为10进制；如果x是字符串，那么它的内容必须是整数的字符串表示形式，否则将引发ValueError异常；如果不给定参数x，那么返回0。\n",
    "\n",
    "base的有效值范围为2到36"
   ]
  },
  {
   "cell_type": "code",
   "execution_count": 27,
   "metadata": {
    "ExecuteTime": {
     "end_time": "2023-06-03T02:52:45.512274400Z",
     "start_time": "2023-06-03T02:52:45.498631900Z"
    }
   },
   "outputs": [
    {
     "name": "stdout",
     "output_type": "stream",
     "text": [
      "0\n",
      "23\n",
      "-3\n",
      "123\n",
      "-1\n"
     ]
    }
   ],
   "source": [
    "print(int())\n",
    "print(int(23.45))\n",
    "print(int(-3.52))\n",
    "print(int('123'))\n",
    "print(int('-1'))"
   ]
  },
  {
   "cell_type": "code",
   "execution_count": 28,
   "metadata": {
    "ExecuteTime": {
     "end_time": "2023-06-03T02:54:25.341961Z",
     "start_time": "2023-06-03T02:54:25.307553300Z"
    }
   },
   "outputs": [
    {
     "ename": "ValueError",
     "evalue": "invalid literal for int() with base 10: '45.6'",
     "output_type": "error",
     "traceback": [
      "\u001b[1;31m---------------------------------------------------------------------------\u001b[0m",
      "\u001b[1;31mValueError\u001b[0m                                Traceback (most recent call last)",
      "Cell \u001b[1;32mIn[28], line 1\u001b[0m\n\u001b[1;32m----> 1\u001b[0m \u001b[38;5;28mprint\u001b[39m(\u001b[38;5;28;43mint\u001b[39;49m\u001b[43m(\u001b[49m\u001b[38;5;124;43m'\u001b[39;49m\u001b[38;5;124;43m45.6\u001b[39;49m\u001b[38;5;124;43m'\u001b[39;49m\u001b[43m)\u001b[49m)\n",
      "\u001b[1;31mValueError\u001b[0m: invalid literal for int() with base 10: '45.6'"
     ]
    }
   ],
   "source": [
    "print(int('45.6'))\n",
    "#int()函数的参数x是字符串，但是它的内容不是整数的字符串表示形式，因此引发ValueError异常。\n",
    "#int()函数不接受带小数的数字字符串，因为它只能将字符串转换成整数，如果要将字符串转换成浮点数，可以用float()函数。"
   ]
  },
  {
   "cell_type": "code",
   "execution_count": null,
   "metadata": {
    "ExecuteTime": {
     "end_time": "2023-06-03T02:54:36.945427Z",
     "start_time": "2023-06-03T02:54:36.939899400Z"
    }
   },
   "outputs": [],
   "source": [
    "print(float('45.6'))"
   ]
  },
  {
   "cell_type": "code",
   "execution_count": null,
   "metadata": {
    "ExecuteTime": {
     "end_time": "2023-06-03T03:11:54.463153900Z",
     "start_time": "2023-06-03T03:11:54.437724100Z"
    }
   },
   "outputs": [],
   "source": [
    "temp = '13'\n",
    "print(\"10进制：\"+str(int(temp,10)))\n",
    "temp = '1101'\n",
    "print(\"2进制：\"+str(int(temp,2)))\n",
    "temp = '15'\n",
    "print(\"8进制：\"+str(int(temp,8)))\n",
    "\n",
    "print(int('0x10',16)) # 16进制转换为10进制\n",
    "print(int('0x10',0)) # 0表示自动判断进制\n",
    "print(int('0o10',8)) # 8进制转换为10进制\n",
    "print(int('0b10',2)) # 2进制转换为10进制\n",
    "\n",
    "print(int('101.001',2)) # 2进制转换为10进制"
   ]
  },
  {
   "cell_type": "code",
   "execution_count": null,
   "metadata": {
    "ExecuteTime": {
     "end_time": "2023-06-03T03:13:45.704208700Z",
     "start_time": "2023-06-03T03:13:45.677919400Z"
    }
   },
   "outputs": [],
   "source": [
    "int('0b110',0) #将二进制的数110转换为十进制数\n",
    "int('110',base=2)"
   ]
  },
  {
   "cell_type": "markdown",
   "metadata": {},
   "source": [
    "# 1.2.2 float()函数\n",
    "\n",
    "float()函数用于将一个字符串或数值转换成浮点数。其格式如下：\n",
    "\n",
    "    float(x=0)\n",
    "\n",
    "功能：将x转换成浮点数，如果x是字符串，那么它的内容必须是浮点数的字符串表示形式，否则将引发ValueError异常；如果不给定参数x，那么返回0.0。"
   ]
  },
  {
   "cell_type": "code",
   "execution_count": null,
   "metadata": {
    "ExecuteTime": {
     "end_time": "2023-06-03T03:16:14.456576800Z",
     "start_time": "2023-06-03T03:16:14.450497600Z"
    }
   },
   "outputs": [],
   "source": [
    "print(float(5))\n",
    "print(float(-3.52))\n",
    "print(float('123'))\n",
    "print(float('-1'))\n",
    "print(float('inf')) #正无穷大,inf是一个特殊的浮点数,不区分大小写"
   ]
  },
  {
   "cell_type": "markdown",
   "metadata": {},
   "source": [
    "# 1.2.3 eval()函数\n",
    "\n",
    "eval()函数用于计算字符串所表示的表达式的值。其格式如下：\n",
    "\n",
    "    eval(expression, globals=None, locals=None)\n",
    "\n",
    "功能：计算字符串所表示的表达式的值，expression是一个字符串，其中可以包含变量名，如果给定了globals和locals参数，那么它们必须是字典对象，分别表示全局和局部命名空间，如果不给定globals和locals参数，那么它们将默认为当前的全局和局部命名空间。eval()函数的返回值就是表达式的值。\n",
    "\n",
    "参数说明：source是一个字符串，这个字符串能表示成Python表达式，或者是能够通过编译的代码；globals是可选的参数，默认为None，如果设置属性不为None的话，就必须是dictionary对象；locals也是可选的参数，默认为None，如果设置属性不为None的话，可以是任何map对象。"
   ]
  },
  {
   "cell_type": "code",
   "execution_count": null,
   "metadata": {},
   "outputs": [],
   "source": [
    "x = 3\n",
    "print(eval('x+1')) #x是变量名，它的值是3，因此表达式的值是4\n",
    "print(eval('3+5')) #表达式的值是8\n",
    "print(eval('pow(2,3)')) #表达式的值是8\n",
    "print(eval('2+3*5')) #表达式的值是17\n",
    "print(eval('[1,2,3]')) #表达式的值是列表[1,2,3]\n",
    "print(eval('(1,2,3)')) #表达式的值是元组(1,2,3)\n",
    "print(eval('(1,2,3) * 5')) #表达式的值是元组(1,2,3,1,2,3,1,2,3,1,2,3,1,2,3)\n",
    "print(eval('{\"a\":1,\"b\":2,\"c\":3}')) #表达式的值是字典{'a':1,'b':2,'c':3}\n",
    "print(eval('pow(2,3,5)')) #等价于pow(2,3)%5\n",
    "print(eval('2+3*5', {'x':1})) #局部命名空间\n",
    "print(eval('2+3*5', {'x':1}, {'y':2})) #全局命名空间和局部命名空间"
   ]
  },
  {
   "cell_type": "markdown",
   "metadata": {},
   "source": [
    "这里是可以使用在字符串前面加r来使其变成原始字符串来进行输出的，又忘了"
   ]
  },
  {
   "cell_type": "code",
   "execution_count": null,
   "metadata": {
    "ExecuteTime": {
     "end_time": "2023-06-03T03:29:17.800816100Z",
     "start_time": "2023-06-03T03:29:17.794922200Z"
    }
   },
   "outputs": [],
   "source": [
    "#print(eval(\"__import__('os').system('dir')\")) #执行系统命令dir\n",
    "print(\"\"\"C:\\\\Users\\\\33398\\\\.conda\\\\envs\\\\jupy_test\\\\python.exe C:\\\\code\\\\pythonProject\\\\jupy_test\\\\main.py\n",
    " ������ C �еľ��� OS\n",
    " ������к��� 7E0B-02D7\n",
    "\n",
    " C:\\\\code\\\\pythonProject\\\\jupy_test ��Ŀ¼\n",
    "\n",
    "2023-06-03  11:28    <DIR>          .\n",
    "2023-04-21  12:46    <DIR>          ..\n",
    "2023-06-03  11:27    <DIR>          .idea\n",
    "2023-05-24  15:50            10,568 cpp.ipynb\n",
    "2023-06-03  11:28                40 main.py\n",
    "2023-05-29  19:47            40,321 Matlab.ipynb\n",
    "2023-05-31  15:39    <DIR>          Pythonʵ��\n",
    "2023-04-23  14:12    <DIR>          pythonͳ�Ʒ���\n",
    "2023-06-03  11:27    <DIR>          python�γ�\n",
    "2023-05-12  10:51             6,066 �������.ipynb\n",
    "2023-05-09  11:33               616 �������2.ipynb\n",
    "2023-05-09  10:22               615 �������3.ipynb\n",
    "2023-05-09  00:49            16,797 �������4.ipynb\n",
    "2023-05-16  18:48             4,439 ����Python.ipynb\n",
    "2023-05-22  15:06    <DIR>          ����ѧϰ\n",
    "2023-04-24  22:28             4,979 �γ���ҵ.ipynb\n",
    "2023-05-19  10:45             7,196 �γ̱ʼ�.ipynb\n",
    "              10 ���ļ�         91,637 �ֽ�\n",
    "               7 ��Ŀ¼ 53,095,522,304 �����ֽ�\n",
    "\n",
    "进程已结束,退出代码0\n",
    "\"\"\")"
   ]
  },
  {
   "cell_type": "markdown",
   "metadata": {},
   "source": [
    "可以看出，eval()函数接收一个字符串参数时，如果字符串中是表达式可以返回表达式的值；如果字符串中是列表、元组或字典还能得到真正的列表、元组或字典；如果字符串中是能够通过编译的代码，则可以执行代码。"
   ]
  },
  {
   "cell_type": "code",
   "execution_count": null,
   "metadata": {
    "ExecuteTime": {
     "end_time": "2023-06-03T03:32:02.574949100Z",
     "start_time": "2023-06-03T03:32:00.737320100Z"
    }
   },
   "outputs": [],
   "source": [
    "x = int(input('请输入一个整数(10)：'))\n",
    "print(x)\n",
    "print(type(x))"
   ]
  },
  {
   "cell_type": "code",
   "execution_count": null,
   "metadata": {
    "ExecuteTime": {
     "end_time": "2023-06-03T03:32:06.123270400Z",
     "start_time": "2023-06-03T03:32:04.114200200Z"
    }
   },
   "outputs": [],
   "source": [
    "y = float(input('请输入一个浮点数(10.0)：'))\n",
    "print(y)\n",
    "print(type(y))"
   ]
  },
  {
   "cell_type": "code",
   "execution_count": null,
   "metadata": {
    "ExecuteTime": {
     "end_time": "2023-06-03T03:32:46.694194600Z",
     "start_time": "2023-06-03T03:32:44.420224800Z"
    }
   },
   "outputs": [],
   "source": [
    "#但是需要注意的是：期望得到整数的时候，利用int()函数不能输入带小数点的值，请参看前面int()函数的说明。如以下输入则会出错：\n",
    "x = int(input('请输入一个整数(10.0)：'))"
   ]
  },
  {
   "cell_type": "code",
   "execution_count": null,
   "metadata": {
    "ExecuteTime": {
     "end_time": "2023-06-03T03:39:18.850609100Z",
     "start_time": "2023-06-03T03:39:18.184974200Z"
    }
   },
   "outputs": [],
   "source": [
    "#也可以通过eval()函数来输入带小数点的值，如下所示：\n",
    "x = eval(input('请输入一个整数(10.036)：'))\n",
    "print(x)\n",
    "x = eval(input('请输入一个整数(10)：'))\n",
    "print(x)\n",
    "x = eval(input('请输入一个整数(10+20)：'))\n",
    "print(x)\n",
    "x = eval(input('请输入一个整数(10)：')) + 20\n",
    "print(x) #输入10，通过eval()函数得到10，然后再加20，结果为30"
   ]
  },
  {
   "cell_type": "code",
   "execution_count": null,
   "metadata": {
    "ExecuteTime": {
     "end_time": "2023-06-03T03:39:06.434478900Z",
     "start_time": "2023-06-03T03:39:02.084645900Z"
    }
   },
   "outputs": [],
   "source": [
    "#也可以通过eval(0函数获得其他类型的值\n",
    "x = eval(input('请输入一个列表[1,2]：'))\n",
    "print(x)\n",
    "print(type(x))\n",
    "x = eval(input('请输入一个元组(1,2)：'))\n",
    "print(x)\n",
    "print(type(x))\n",
    "x = eval(input('请输入一个字典{\"a\":1,\"b\":2}：'))\n",
    "print(x)\n",
    "print(type(x))"
   ]
  },
  {
   "cell_type": "code",
   "execution_count": null,
   "metadata": {
    "ExecuteTime": {
     "end_time": "2023-06-03T04:58:08.331725200Z",
     "start_time": "2023-06-03T04:58:05.135805800Z"
    }
   },
   "outputs": [],
   "source": [
    "#input()函数也可以同时为多个变量赋值\n",
    "x,y = eval(input('请输入两个数(10,20)：'))\n",
    "format(\"x的值：{}，y的值：{}\".format(x,y))"
   ]
  },
  {
   "cell_type": "markdown",
   "metadata": {},
   "source": [
    "但是，如果想得到x的值'ab'，y的值'cd'，我们直接输入abcd或者ab cd等均是错误的。\n",
    "\n",
    "实际上我们并不会这样做。一般来说，我们会结合split()和map()函数得到多变量的值。因为split()和map()函数比较复杂，这里仅作简单说明，函数的具体用法请参看相关章节和其他资料。"
   ]
  },
  {
   "cell_type": "code",
   "execution_count": 48,
   "metadata": {
    "ExecuteTime": {
     "end_time": "2023-06-03T05:00:09.827787800Z",
     "start_time": "2023-06-03T05:00:06.672525200Z"
    }
   },
   "outputs": [
    {
     "data": {
      "text/plain": [
       "'x的值：ab，y的值：cd'"
      ]
     },
     "execution_count": 48,
     "metadata": {},
     "output_type": "execute_result"
    }
   ],
   "source": [
    "m = input('请输入两个字符串(用空格分隔)：')\n",
    "format(m)\n",
    "x,y = map(str,m.split())\n",
    "format(\"x的值：{}，y的值：{}\".format(x,y))\n",
    "#m是通过input()函数得到的字符串，输入的是ab cd，那么m就得到字符串'ab cd'（注意ab和cd之间用空格分隔），然后通过字符串的split()方法得到元素为字符串的列表（['ab', 'cd']），再通过map()函数将str()函数作用于该列表，得到包含若干字符串的map对象，最后通过对map对象进行序列解包将'ab'和'cd'分别赋给x和y。"
   ]
  },
  {
   "cell_type": "markdown",
   "metadata": {},
   "source": [
    "Python中最简单的输出方式就是使用print函数"
   ]
  },
  {
   "cell_type": "markdown",
   "metadata": {},
   "source": [
    "python中最简单的输出方式就是print()函数。其格式如下：\n",
    "\n",
    "    print(value, ..., sep=' ', end='\\n', file=sys.stdout, flush=False)\n",
    "\n",
    "其中\n",
    "    value表示要输出的值，一次可以输出多个值，用逗号隔开\n",
    "    sep表示分隔符，默认是空格\n",
    "    end表示结束符，默认是换行符\n",
    "    file表示输出位置，可将输出的值写入到文件中，file表示文件路径，默认值是sys.stdout，即输出到控制台\n",
    "    flush表示是否立即刷新缓冲区，True或False，默认是False\n",
    "    这些参数都是可选的，但是value参数是必须的"
   ]
  },
  {
   "cell_type": "code",
   "execution_count": 13,
   "metadata": {
    "ExecuteTime": {
     "end_time": "2023-06-03T08:02:24.297858800Z",
     "start_time": "2023-06-03T08:02:24.284175200Z"
    }
   },
   "outputs": [
    {
     "name": "stdout",
     "output_type": "stream",
     "text": [
      "hello world !\n",
      "hello*world*!\n",
      "hello***world***!\n",
      "hello***world***!\n",
      "这里本来没有换行符的，自己加了一个换行符\n",
      "helloworld!\n",
      "hello world !*\n",
      "桌面上的test.txt中所保存的内容是： \n",
      "hello world !\n",
      "\n"
     ]
    }
   ],
   "source": [
    "print(\"hello\",\"world\",\"!\")\n",
    "print(\"hello\",\"world\",\"!\",sep=\"*\") #sep=\"*\"表示用*号分隔\n",
    "print(\"hello\",\"world\",\"!\",sep=\"***\") #sep=\"***\"表示用***号分隔\n",
    "print(\"hello\",\"world\",\"!\",sep=\"***\",end=\"\") #end=\"\"表示不换行\n",
    "print()\n",
    "print(\"这里本来没有换行符的，自己加了一个换行符\")\n",
    "print(\"hello\",\"world\",\"!\",sep=\"\") #sep=\"\"表示不用分隔符\n",
    "print(\"hello\",\"world\",\"!\",end=\"*\") #end=\"*\"表示用*号结束\n",
    "with open(\"C:\\\\Users\\\\33398\\\\Desktop\\\\test.txt\",\"w\") as f:\n",
    "    print(\"hello\",\"world\",\"!\",file=f) #file=f表示将输出的值写入到文件中\n",
    "\n",
    "print()\n",
    "print(\"桌面上的test.txt中所保存的内容是： \")\n",
    "#打开文件，将文件中的值输出出来\n",
    "with open(\"C:\\\\Users\\\\33398\\\\Desktop\\\\test.txt\",\"r\") as f:\n",
    "    print(f.read())"
   ]
  },
  {
   "cell_type": "code",
   "execution_count": 14,
   "metadata": {
    "ExecuteTime": {
     "end_time": "2023-06-03T08:02:50.099702600Z",
     "start_time": "2023-06-03T08:02:50.082670400Z"
    }
   },
   "outputs": [
    {
     "name": "stdout",
     "output_type": "stream",
     "text": [
      "0\n",
      "1\n",
      "2\n",
      "3\n",
      "4\n"
     ]
    }
   ],
   "source": [
    "#直接输出每个i，每个数字一行\n",
    "for i in [0,1,2,3,4]:\n",
    "    print(i) # 默认end=\"\\n\""
   ]
  },
  {
   "cell_type": "code",
   "execution_count": 15,
   "metadata": {
    "ExecuteTime": {
     "end_time": "2023-06-03T08:02:56.920530700Z",
     "start_time": "2023-06-03T08:02:56.896400100Z"
    }
   },
   "outputs": [
    {
     "name": "stdout",
     "output_type": "stream",
     "text": [
      "0 1 2 3 4 "
     ]
    }
   ],
   "source": [
    "#输出每个i，每个数字一行，但是最后不换行\n",
    "for i in [0,1,2,3,4]:\n",
    "    print(i,end=\" \") # end=\" \"表示用空格结束"
   ]
  },
  {
   "cell_type": "code",
   "execution_count": 17,
   "metadata": {
    "ExecuteTime": {
     "end_time": "2023-06-03T08:04:32.837439500Z",
     "start_time": "2023-06-03T08:04:32.780768Z"
    }
   },
   "outputs": [
    {
     "name": "stdout",
     "output_type": "stream",
     "text": [
      "0*1*2*3*4*"
     ]
    }
   ],
   "source": [
    "#输出每个i，每个数字一行，但是最后不换行\n",
    "for i in [0,1,2,3,4]:\n",
    "    print(i,end=\"*\") # end=\"*\"表示用*号结束"
   ]
  },
  {
   "cell_type": "code",
   "execution_count": 18,
   "metadata": {
    "ExecuteTime": {
     "end_time": "2023-06-03T08:04:56.712350900Z",
     "start_time": "2023-06-03T08:04:56.686717800Z"
    }
   },
   "outputs": [
    {
     "name": "stdout",
     "output_type": "stream",
     "text": [
      "01234"
     ]
    }
   ],
   "source": [
    "#输出每个i，每个数字一行，但是最后不换行\n",
    "for i in [0,1,2,3,4]:\n",
    "    print(i,end=\"\") # end=\"\"表示不换行"
   ]
  },
  {
   "cell_type": "markdown",
   "metadata": {},
   "source": [
    "我们可以看出：print函数默认输出是换行的，如果要实现不换行需要在变量末尾设置 end参数，如end=\"\"表示不换行，end=\" \"表示用空格结束，end=\"*\"表示用*号结束。"
   ]
  },
  {
   "cell_type": "code",
   "execution_count": 19,
   "metadata": {
    "ExecuteTime": {
     "end_time": "2023-06-03T08:07:00.787410300Z",
     "start_time": "2023-06-03T08:07:00.732190500Z"
    }
   },
   "outputs": [
    {
     "name": "stdout",
     "output_type": "stream",
     "text": [
      "我喜欢程序设计\n",
      "我喜欢 程序设计\n",
      "\n",
      "我喜欢\n",
      "程序设计\n",
      "我喜欢程序设计\n"
     ]
    }
   ],
   "source": [
    "#例2.1\n",
    "print(\"我喜欢\" + \"程序设计\") #字符串的连接\n",
    "print(\"我喜欢\",\"程序设计\") #多个字符串的输出\n",
    "print()\n",
    "print(\"我喜欢\")\n",
    "print(\"程序设计\")\n",
    "print(\"我喜欢\",end=\"\")\n",
    "print(\"程序设计\")"
   ]
  },
  {
   "cell_type": "markdown",
   "metadata": {},
   "source": [
    "分析：第1行中的“+”表示字符串的连接，通过print()函数将连接后的字符串在一行输出；第2行中的print()函数打印两个字符串对象，输出的时候中间会插入一个空格作为间隔；第3行通过print()输出一个空行；第4行和第5行分两行单独输出，print()函数默认以换行符结尾；第6行print()函数以空字符串结尾，则第7行print()接在前一行的末尾继续输出。"
   ]
  },
  {
   "cell_type": "code",
   "execution_count": 21,
   "metadata": {
    "ExecuteTime": {
     "end_time": "2023-06-03T08:09:54.191965500Z",
     "start_time": "2023-06-03T08:09:52.453331Z"
    }
   },
   "outputs": [
    {
     "name": "stdout",
     "output_type": "stream",
     "text": [
      "打折后书包的价格是： 850.0 元\n",
      "小明买了书包后剩下的钱 ：  650.0 元\n"
     ]
    }
   ],
   "source": [
    "#例2.2\n",
    "total = 1500\n",
    "price = float(input(\"请输入书包的价格(1000) ： \"))*0.85\n",
    "\n",
    "left = total - price\n",
    "print(\"打折后书包的价格是：\",price,\"元\")\n",
    "print(\"小明买了书包后剩下的钱 ： \",left,\"元\")"
   ]
  },
  {
   "cell_type": "markdown",
   "metadata": {},
   "source": [
    "# 2.1标识符"
   ]
  },
  {
   "cell_type": "markdown",
   "metadata": {},
   "source": [
    "标识符是指用来标识某个实体的一个符号。在不同的应用环境下有不同的含义。在编程语言中，标识符是计算机语言中作为名字的有效字符串集合。标识符是用户编程时使用的名字，变量、常量、函数、语句块也有名字，它们的名字称为标识符。"
   ]
  },
  {
   "cell_type": "markdown",
   "metadata": {},
   "source": [
    "# 2.2.1 合法的标识符\n",
    "\n",
    "在Python中，所有标识符可以包括英文、数字以及下画线，但要符合以下规则：\n",
    "\n",
    "    标识符开头必须是字母或下画线；\n",
    "    标识符不能以数字开头；\n",
    "    标识符是区分大小写的；\n",
    "    标识符中不能出现分隔符、标点符号或者运算符；\n",
    "    标识符不能使用关键字；\n",
    "    最好不要使用内置模块名、类型名、函数名、已经导入的模块名及其成员名作为标识符。\n",
    "\n",
    "A、ABC、aBc、a1b2、ab_123、__（连续两个下画线）、_123 等，都是合法的标识符。6a2b、abc-123、hello world（中间用了空格）、for（关键字）等则是非法的标识符。"
   ]
  },
  {
   "cell_type": "code",
   "execution_count": 23,
   "metadata": {
    "ExecuteTime": {
     "end_time": "2023-06-03T08:12:15.983794100Z",
     "start_time": "2023-06-03T08:12:15.953173200Z"
    }
   },
   "outputs": [
    {
     "ename": "TypeError",
     "evalue": "'int' object is not callable",
     "output_type": "error",
     "traceback": [
      "\u001b[1;31m---------------------------------------------------------------------------\u001b[0m",
      "\u001b[1;31mTypeError\u001b[0m                                 Traceback (most recent call last)",
      "Cell \u001b[1;32mIn[23], line 1\u001b[0m\n\u001b[1;32m----> 1\u001b[0m \u001b[38;5;28mprint\u001b[39m(\u001b[38;5;28;43mpow\u001b[39;49m\u001b[43m(\u001b[49m\u001b[38;5;241;43m2\u001b[39;49m\u001b[43m,\u001b[49m\u001b[38;5;241;43m3\u001b[39;49m\u001b[43m)\u001b[49m)\n\u001b[0;32m      2\u001b[0m \u001b[38;5;28mpow\u001b[39m \u001b[38;5;241m=\u001b[39m \u001b[38;5;241m9\u001b[39m\n\u001b[0;32m      3\u001b[0m \u001b[38;5;28mprint\u001b[39m(\u001b[38;5;28mpow\u001b[39m)\n",
      "\u001b[1;31mTypeError\u001b[0m: 'int' object is not callable"
     ]
    }
   ],
   "source": [
    "print(pow(2,3))\n",
    "pow = 9\n",
    "print(pow)\n",
    "print(pow(2,3))"
   ]
  },
  {
   "cell_type": "markdown",
   "metadata": {},
   "source": [
    "以上代码显示由于使用了内置函数名pow做为变量名（标识符）导致pow()函数原有功能不能使用。"
   ]
  },
  {
   "cell_type": "code",
   "execution_count": 24,
   "metadata": {
    "ExecuteTime": {
     "end_time": "2023-06-03T08:13:03.769822900Z",
     "start_time": "2023-06-03T08:13:03.710792900Z"
    }
   },
   "outputs": [
    {
     "data": {
      "text/plain": [
       "['ArithmeticError',\n",
       " 'AssertionError',\n",
       " 'AttributeError',\n",
       " 'BaseException',\n",
       " 'BlockingIOError',\n",
       " 'BrokenPipeError',\n",
       " 'BufferError',\n",
       " 'BytesWarning',\n",
       " 'ChildProcessError',\n",
       " 'ConnectionAbortedError',\n",
       " 'ConnectionError',\n",
       " 'ConnectionRefusedError',\n",
       " 'ConnectionResetError',\n",
       " 'DeprecationWarning',\n",
       " 'EOFError',\n",
       " 'Ellipsis',\n",
       " 'EncodingWarning',\n",
       " 'EnvironmentError',\n",
       " 'Exception',\n",
       " 'False',\n",
       " 'FileExistsError',\n",
       " 'FileNotFoundError',\n",
       " 'FloatingPointError',\n",
       " 'FutureWarning',\n",
       " 'GeneratorExit',\n",
       " 'IOError',\n",
       " 'ImportError',\n",
       " 'ImportWarning',\n",
       " 'IndentationError',\n",
       " 'IndexError',\n",
       " 'InterruptedError',\n",
       " 'IsADirectoryError',\n",
       " 'KeyError',\n",
       " 'KeyboardInterrupt',\n",
       " 'LookupError',\n",
       " 'MemoryError',\n",
       " 'ModuleNotFoundError',\n",
       " 'NameError',\n",
       " 'None',\n",
       " 'NotADirectoryError',\n",
       " 'NotImplemented',\n",
       " 'NotImplementedError',\n",
       " 'OSError',\n",
       " 'OverflowError',\n",
       " 'PendingDeprecationWarning',\n",
       " 'PermissionError',\n",
       " 'ProcessLookupError',\n",
       " 'RecursionError',\n",
       " 'ReferenceError',\n",
       " 'ResourceWarning',\n",
       " 'RuntimeError',\n",
       " 'RuntimeWarning',\n",
       " 'StopAsyncIteration',\n",
       " 'StopIteration',\n",
       " 'SyntaxError',\n",
       " 'SyntaxWarning',\n",
       " 'SystemError',\n",
       " 'SystemExit',\n",
       " 'TabError',\n",
       " 'TimeoutError',\n",
       " 'True',\n",
       " 'TypeError',\n",
       " 'UnboundLocalError',\n",
       " 'UnicodeDecodeError',\n",
       " 'UnicodeEncodeError',\n",
       " 'UnicodeError',\n",
       " 'UnicodeTranslateError',\n",
       " 'UnicodeWarning',\n",
       " 'UserWarning',\n",
       " 'ValueError',\n",
       " 'Warning',\n",
       " 'WindowsError',\n",
       " 'ZeroDivisionError',\n",
       " '__IPYTHON__',\n",
       " '__build_class__',\n",
       " '__debug__',\n",
       " '__doc__',\n",
       " '__import__',\n",
       " '__loader__',\n",
       " '__name__',\n",
       " '__package__',\n",
       " '__spec__',\n",
       " 'abs',\n",
       " 'aiter',\n",
       " 'all',\n",
       " 'anext',\n",
       " 'any',\n",
       " 'ascii',\n",
       " 'bin',\n",
       " 'bool',\n",
       " 'breakpoint',\n",
       " 'bytearray',\n",
       " 'bytes',\n",
       " 'callable',\n",
       " 'chr',\n",
       " 'classmethod',\n",
       " 'compile',\n",
       " 'complex',\n",
       " 'copyright',\n",
       " 'credits',\n",
       " 'delattr',\n",
       " 'dict',\n",
       " 'dir',\n",
       " 'display',\n",
       " 'divmod',\n",
       " 'enumerate',\n",
       " 'eval',\n",
       " 'exec',\n",
       " 'execfile',\n",
       " 'filter',\n",
       " 'float',\n",
       " 'format',\n",
       " 'frozenset',\n",
       " 'get_ipython',\n",
       " 'getattr',\n",
       " 'globals',\n",
       " 'hasattr',\n",
       " 'hash',\n",
       " 'help',\n",
       " 'hex',\n",
       " 'id',\n",
       " 'input',\n",
       " 'int',\n",
       " 'isinstance',\n",
       " 'issubclass',\n",
       " 'iter',\n",
       " 'len',\n",
       " 'license',\n",
       " 'list',\n",
       " 'locals',\n",
       " 'map',\n",
       " 'max',\n",
       " 'memoryview',\n",
       " 'min',\n",
       " 'next',\n",
       " 'object',\n",
       " 'oct',\n",
       " 'open',\n",
       " 'ord',\n",
       " 'pow',\n",
       " 'print',\n",
       " 'property',\n",
       " 'range',\n",
       " 'repr',\n",
       " 'reversed',\n",
       " 'round',\n",
       " 'runfile',\n",
       " 'set',\n",
       " 'setattr',\n",
       " 'slice',\n",
       " 'sorted',\n",
       " 'staticmethod',\n",
       " 'str',\n",
       " 'sum',\n",
       " 'super',\n",
       " 'tuple',\n",
       " 'type',\n",
       " 'vars',\n",
       " 'zip']"
      ]
     },
     "execution_count": 24,
     "metadata": {},
     "output_type": "execute_result"
    }
   ],
   "source": [
    "#可以通过 dir(__builtins__) 查看内置函数名\n",
    "dir(__builtins__)"
   ]
  },
  {
   "cell_type": "code",
   "execution_count": null,
   "metadata": {},
   "outputs": [],
   "source": []
  }
 ],
 "metadata": {
  "kernelspec": {
   "display_name": "Python 3 (ipykernel)",
   "language": "python",
   "name": "python3"
  },
  "language_info": {
   "codemirror_mode": {
    "name": "ipython",
    "version": 3
   },
   "file_extension": ".py",
   "mimetype": "text/x-python",
   "name": "python",
   "nbconvert_exporter": "python",
   "pygments_lexer": "ipython3",
   "version": "3.10.11"
  }
 },
 "nbformat": 4,
 "nbformat_minor": 1
}
