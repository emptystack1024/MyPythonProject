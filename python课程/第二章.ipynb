{
 "cells": [
  {
   "cell_type": "markdown",
   "metadata": {},
   "source": [
    "# 1.1 控制台的输入与输出\n",
    "\n",
    "在Python语言中，我们可以用input()函数进行输入，print()函数进行输出，这些都是简单的控制台输入输出函数。"
   ]
  },
  {
   "cell_type": "markdown",
   "metadata": {},
   "source": [
    "Python中提供了input()函数用于输入数据，无论用户输入什么内容，该函数都返回字符串类型。其格式如下：\n",
    "\n",
    "    input(prompt=None, /)\n",
    "\n",
    "其中prompt表示提示信息，默认为空，如果不空，则显示提示信息。然后等待用户输入，输入完毕后按回车键，并将用户输入作为一个字符串返回，并自动忽略换行符。可以将返回结果赋予变量。\n",
    "\n",
    "说明：函数参数中的斜线表示该函数斜线之前的参数只接收位置参数而不接收关键参数，但是在Python中并不允许自定义这样的函数。这样的函数一般是用C语言开发的内置函数或特定对象的方法。位置参数和关键参数相关知识请参考第6章函数。"
   ]
  },
  {
   "cell_type": "code",
   "execution_count": 1,
   "metadata": {
    "ExecuteTime": {
     "end_time": "2023-06-12T08:19:21.275241Z",
     "start_time": "2023-06-12T08:19:18.249327200Z"
    }
   },
   "outputs": [
    {
     "name": "stdout",
     "output_type": "stream",
     "text": [
      "10\n"
     ]
    },
    {
     "data": {
      "text/plain": "str"
     },
     "execution_count": 1,
     "metadata": {},
     "output_type": "execute_result"
    }
   ],
   "source": [
    "x = input(\"请输入一个数字(10)：\")\n",
    "print(x)\n",
    "\n",
    "type(x)"
   ]
  },
  {
   "cell_type": "markdown",
   "metadata": {},
   "source": [
    "当用户输入100，按回车键之后，input()函数将字符串'100'赋予变量x，结果就是字符串'100'。内置函数type()返回对象的类型。"
   ]
  },
  {
   "cell_type": "code",
   "execution_count": 2,
   "metadata": {
    "ExecuteTime": {
     "end_time": "2023-06-12T08:19:24.215114300Z",
     "start_time": "2023-06-12T08:19:21.267754300Z"
    }
   },
   "outputs": [
    {
     "name": "stdout",
     "output_type": "stream",
     "text": [
      "like\n"
     ]
    },
    {
     "data": {
      "text/plain": "str"
     },
     "execution_count": 2,
     "metadata": {},
     "output_type": "execute_result"
    }
   ],
   "source": [
    "x = input(\"请输入一个数字(like)：\")\n",
    "print(x)\n",
    "\n",
    "type(x)"
   ]
  },
  {
   "cell_type": "markdown",
   "metadata": {},
   "source": [
    "当用户输入like，按回车键之后，input()函数将字符串'like'赋予变量x，结果就是字符串'like'。即不管输入什么内容，input()函数的返回结果都是字符串。"
   ]
  },
  {
   "cell_type": "markdown",
   "metadata": {},
   "source": [
    "既然input()函数得到的结果就是字符串，那么要得到其他类型的数据怎么办？如怎么得到数值型数据？如何得到列表数据？这就要通过类型转换函数int()、float()等将字符串转换成数值。有些场合还可以用eval()函数计算字符串所表示的表达式的值。"
   ]
  },
  {
   "cell_type": "markdown",
   "metadata": {},
   "source": [
    "# 1.2 数据的输入\n",
    "\n",
    "## 1.2.1 int()函数\n",
    "\n",
    "int()函数用于将一个字符串或数值转换成整数。其格式如下：\n",
    "\n",
    "    int(x=0, base=10)\n",
    "\n",
    "功能：将x转换成整数，base表示进制，缺省为10进制；如果x是字符串，那么它的内容必须是整数的字符串表示形式，否则将引发ValueError异常；如果不给定参数x，那么返回0。\n",
    "\n",
    "base的有效值范围为2到36"
   ]
  },
  {
   "cell_type": "code",
   "execution_count": 3,
   "metadata": {
    "ExecuteTime": {
     "end_time": "2023-06-12T08:19:24.216122200Z",
     "start_time": "2023-06-12T08:19:24.116357600Z"
    }
   },
   "outputs": [
    {
     "name": "stdout",
     "output_type": "stream",
     "text": [
      "0\n",
      "23\n",
      "-3\n",
      "123\n",
      "-1\n"
     ]
    }
   ],
   "source": [
    "print(int())\n",
    "print(int(23.45))\n",
    "print(int(-3.52))\n",
    "print(int('123'))\n",
    "print(int('-1'))"
   ]
  },
  {
   "cell_type": "code",
   "execution_count": 4,
   "outputs": [
    {
     "name": "stdout",
     "output_type": "stream",
     "text": [
      "程序错误\n"
     ]
    }
   ],
   "source": [
    "#print(int('45.6'))\n",
    "print(\"程序错误\")\n",
    "#int()函数的参数x是字符串，但是它的内容不是整数的字符串表示形式，因此引发ValueError异常。\n",
    "#int()函数不接受带小数的数字字符串，因为它只能将字符串转换成整数，如果要将字符串转换成浮点数，可以用float()函数。"
   ],
   "metadata": {
    "collapsed": false,
    "ExecuteTime": {
     "end_time": "2023-06-12T08:19:24.217123900Z",
     "start_time": "2023-06-12T08:19:24.135963600Z"
    }
   }
  },
  {
   "cell_type": "code",
   "execution_count": 5,
   "outputs": [
    {
     "name": "stdout",
     "output_type": "stream",
     "text": [
      "ValueError                                Traceback (most recent call last)\n",
      "Cell In[55], line 1\n",
      "----> 1 print(int('45.6'))\n",
      "\n",
      "ValueError: invalid literal for int() with base 10: '45.6'\n"
     ]
    }
   ],
   "source": [
    "print(r\"\"\"ValueError                                Traceback (most recent call last)\n",
    "Cell In[55], line 1\n",
    "----> 1 print(int('45.6'))\n",
    "\n",
    "ValueError: invalid literal for int() with base 10: '45.6'\"\"\")"
   ],
   "metadata": {
    "collapsed": false,
    "ExecuteTime": {
     "end_time": "2023-06-12T08:19:24.218888700Z",
     "start_time": "2023-06-12T08:19:24.149054600Z"
    }
   }
  },
  {
   "cell_type": "code",
   "execution_count": 6,
   "metadata": {
    "ExecuteTime": {
     "end_time": "2023-06-12T08:19:24.236641500Z",
     "start_time": "2023-06-12T08:19:24.166089200Z"
    }
   },
   "outputs": [
    {
     "name": "stdout",
     "output_type": "stream",
     "text": [
      "45.6\n"
     ]
    }
   ],
   "source": [
    "print(float('45.6'))"
   ]
  },
  {
   "cell_type": "code",
   "execution_count": 7,
   "outputs": [
    {
     "name": "stdout",
     "output_type": "stream",
     "text": [
      "10进制：13\n",
      "2进制：13\n",
      "8进制：13\n",
      "16\n",
      "16\n",
      "8\n",
      "2\n"
     ]
    }
   ],
   "source": [
    "temp = '13'\n",
    "print(\"10进制：\"+str(int(temp,10)))\n",
    "temp = '1101'\n",
    "print(\"2进制：\"+str(int(temp,2)))\n",
    "temp = '15'\n",
    "print(\"8进制：\"+str(int(temp,8)))\n",
    "\n",
    "print(int('0x10',16)) # 16进制转换为10进制\n",
    "print(int('0x10',0)) # 0表示自动判断进制\n",
    "print(int('0o10',8)) # 8进制转换为10进制\n",
    "print(int('0b10',2)) # 2进制转换为10进制\n",
    "\n",
    "#程序报错\n",
    "#print(int('101.001',2)) # 2进制转换为10进制"
   ],
   "metadata": {
    "collapsed": false,
    "ExecuteTime": {
     "end_time": "2023-06-12T08:19:24.237642200Z",
     "start_time": "2023-06-12T08:19:24.183798600Z"
    }
   }
  },
  {
   "cell_type": "code",
   "execution_count": 8,
   "outputs": [
    {
     "name": "stdout",
     "output_type": "stream",
     "text": [
      "---------------------------------------------------------------------------\n",
      "ValueError                                Traceback (most recent call last)\n",
      "Cell In[63], line 13\n",
      "     10 print(int('0o10',8)) # 8进制转换为10进制\n",
      "     11 print(int('0b10',2)) # 2进制转换为10进制\n",
      "---> 13 print(int('101.001',2))\n",
      "\n",
      "ValueError: invalid literal for int() with base 2: '101.001'\n"
     ]
    }
   ],
   "source": [
    "print(\"\"\"---------------------------------------------------------------------------\n",
    "ValueError                                Traceback (most recent call last)\n",
    "Cell In[63], line 13\n",
    "     10 print(int('0o10',8)) # 8进制转换为10进制\n",
    "     11 print(int('0b10',2)) # 2进制转换为10进制\n",
    "---> 13 print(int('101.001',2))\n",
    "\n",
    "ValueError: invalid literal for int() with base 2: '101.001'\"\"\")"
   ],
   "metadata": {
    "collapsed": false,
    "ExecuteTime": {
     "end_time": "2023-06-12T08:19:24.238642300Z",
     "start_time": "2023-06-12T08:19:24.210441200Z"
    }
   }
  },
  {
   "cell_type": "code",
   "execution_count": 9,
   "metadata": {
    "ExecuteTime": {
     "end_time": "2023-06-12T08:19:24.464176800Z",
     "start_time": "2023-06-12T08:19:24.230556Z"
    }
   },
   "outputs": [
    {
     "data": {
      "text/plain": "6"
     },
     "execution_count": 9,
     "metadata": {},
     "output_type": "execute_result"
    }
   ],
   "source": [
    "int('0b110',0) #将二进制的数110转换为十进制数\n",
    "int('110',base=2)"
   ]
  },
  {
   "cell_type": "markdown",
   "metadata": {},
   "source": [
    "## 1.2.2 float()函数\n",
    "\n",
    "float()函数用于将一个字符串或数值转换成浮点数。其格式如下：\n",
    "\n",
    "    float(x=0)\n",
    "\n",
    "功能：将x转换成浮点数，如果x是字符串，那么它的内容必须是浮点数的字符串表示形式，否则将引发ValueError异常；如果不给定参数x，那么返回0.0。"
   ]
  },
  {
   "cell_type": "code",
   "execution_count": 10,
   "metadata": {
    "ExecuteTime": {
     "end_time": "2023-06-12T08:19:24.476236500Z",
     "start_time": "2023-06-12T08:19:24.246747200Z"
    }
   },
   "outputs": [
    {
     "name": "stdout",
     "output_type": "stream",
     "text": [
      "5.0\n",
      "-3.52\n",
      "123.0\n",
      "-1.0\n",
      "inf\n"
     ]
    }
   ],
   "source": [
    "print(float(5))\n",
    "print(float(-3.52))\n",
    "print(float('123'))\n",
    "print(float('-1'))\n",
    "print(float('inf')) #正无穷大,inf是一个特殊的浮点数,不区分大小写"
   ]
  },
  {
   "cell_type": "markdown",
   "metadata": {},
   "source": [
    "# 1.2.3 eval()函数\n",
    "\n",
    "eval()函数用于计算字符串所表示的表达式的值。其格式如下：\n",
    "\n",
    "    eval(expression, globals=None, locals=None)\n",
    "\n",
    "功能：计算字符串所表示的表达式的值，expression是一个字符串，其中可以包含变量名，如果给定了globals和locals参数，那么它们必须是字典对象，分别表示全局和局部命名空间，如果不给定globals和locals参数，那么它们将默认为当前的全局和局部命名空间。eval()函数的返回值就是表达式的值。\n",
    "\n",
    "参数说明：source是一个字符串，这个字符串能表示成Python表达式，或者是能够通过编译的代码；globals是可选的参数，默认为None，如果设置属性不为None的话，就必须是dictionary对象；locals也是可选的参数，默认为None，如果设置属性不为None的话，可以是任何map对象。"
   ]
  },
  {
   "cell_type": "code",
   "execution_count": 11,
   "metadata": {
    "ExecuteTime": {
     "end_time": "2023-06-12T08:19:24.478253400Z",
     "start_time": "2023-06-12T08:19:24.279787200Z"
    }
   },
   "outputs": [
    {
     "name": "stdout",
     "output_type": "stream",
     "text": [
      "4\n",
      "8\n",
      "8\n",
      "17\n",
      "[1, 2, 3]\n",
      "(1, 2, 3)\n",
      "(1, 2, 3, 1, 2, 3, 1, 2, 3, 1, 2, 3, 1, 2, 3)\n",
      "{'a': 1, 'b': 2, 'c': 3}\n",
      "3\n",
      "17\n",
      "17\n"
     ]
    }
   ],
   "source": [
    "x = 3\n",
    "print(eval('x+1')) #x是变量名，它的值是3，因此表达式的值是4\n",
    "print(eval('3+5')) #表达式的值是8\n",
    "\n",
    "print(eval('pow(2,3)')) #表达式的值是8\n",
    "\n",
    "print(eval('2+3*5')) #表达式的值是17\n",
    "print(eval('[1,2,3]')) #表达式的值是列表[1,2,3]\n",
    "print(eval('(1,2,3)')) #表达式的值是元组(1,2,3)\n",
    "print(eval('(1,2,3) * 5')) #表达式的值是元组(1,2,3,1,2,3,1,2,3,1,2,3,1,2,3)\n",
    "print(eval('{\"a\":1,\"b\":2,\"c\":3}')) #表达式的值是字典{'a':1,'b':2,'c':3}\n",
    "print(eval('pow(2,3,5)')) #等价于pow(2,3)%5\n",
    "print(eval('2+3*5', {'x':1})) #局部命名空间\n",
    "print(eval('2+3*5', {'x':1}, {'y':2})) #全局命名空间和局部命名空间"
   ]
  },
  {
   "cell_type": "markdown",
   "metadata": {},
   "source": [
    "这里是可以使用在字符串前面加r来使其变成原始字符串来进行输出的，又忘了"
   ]
  },
  {
   "cell_type": "code",
   "execution_count": 12,
   "metadata": {
    "ExecuteTime": {
     "end_time": "2023-06-12T08:19:24.480246500Z",
     "start_time": "2023-06-12T08:19:24.306337Z"
    }
   },
   "outputs": [
    {
     "name": "stdout",
     "output_type": "stream",
     "text": [
      "C:\\Users\\33398\\.conda\\envs\\jupy_test\\python.exe C:\\code\\pythonProject\\jupy_test\\main.py\n",
      " ������ C �еľ��� OS\n",
      " ������к��� 7E0B-02D7\n",
      "\n",
      " C:\\code\\pythonProject\\jupy_test ��Ŀ¼\n",
      "\n",
      "2023-06-03  11:28    <DIR>          .\n",
      "2023-04-21  12:46    <DIR>          ..\n",
      "2023-06-03  11:27    <DIR>          .idea\n",
      "2023-05-24  15:50            10,568 cpp.ipynb\n",
      "2023-06-03  11:28                40 main.py\n",
      "2023-05-29  19:47            40,321 Matlab.ipynb\n",
      "2023-05-31  15:39    <DIR>          Pythonʵ��\n",
      "2023-04-23  14:12    <DIR>          pythonͳ�Ʒ���\n",
      "2023-06-03  11:27    <DIR>          python�γ�\n",
      "2023-05-12  10:51             6,066 �������.ipynb\n",
      "2023-05-09  11:33               616 �������2.ipynb\n",
      "2023-05-09  10:22               615 �������3.ipynb\n",
      "2023-05-09  00:49            16,797 �������4.ipynb\n",
      "2023-05-16  18:48             4,439 ����Python.ipynb\n",
      "2023-05-22  15:06    <DIR>          ����ѧϰ\n",
      "2023-04-24  22:28             4,979 �γ���ҵ.ipynb\n",
      "2023-05-19  10:45             7,196 �γ̱ʼ�.ipynb\n",
      "              10 ���ļ�         91,637 �ֽ�\n",
      "               7 ��Ŀ¼ 53,095,522,304 �����ֽ�\n",
      "\n",
      "进程已结束,退出代码0\n",
      "\n"
     ]
    }
   ],
   "source": [
    "#print(eval(\"__import__('os').system('dir')\")) #执行系统命令dir\n",
    "print(\"\"\"C:\\\\Users\\\\33398\\\\.conda\\\\envs\\\\jupy_test\\\\python.exe C:\\\\code\\\\pythonProject\\\\jupy_test\\\\main.py\n",
    " ������ C �еľ��� OS\n",
    " ������к��� 7E0B-02D7\n",
    "\n",
    " C:\\\\code\\\\pythonProject\\\\jupy_test ��Ŀ¼\n",
    "\n",
    "2023-06-03  11:28    <DIR>          .\n",
    "2023-04-21  12:46    <DIR>          ..\n",
    "2023-06-03  11:27    <DIR>          .idea\n",
    "2023-05-24  15:50            10,568 cpp.ipynb\n",
    "2023-06-03  11:28                40 main.py\n",
    "2023-05-29  19:47            40,321 Matlab.ipynb\n",
    "2023-05-31  15:39    <DIR>          Pythonʵ��\n",
    "2023-04-23  14:12    <DIR>          pythonͳ�Ʒ���\n",
    "2023-06-03  11:27    <DIR>          python�γ�\n",
    "2023-05-12  10:51             6,066 �������.ipynb\n",
    "2023-05-09  11:33               616 �������2.ipynb\n",
    "2023-05-09  10:22               615 �������3.ipynb\n",
    "2023-05-09  00:49            16,797 �������4.ipynb\n",
    "2023-05-16  18:48             4,439 ����Python.ipynb\n",
    "2023-05-22  15:06    <DIR>          ����ѧϰ\n",
    "2023-04-24  22:28             4,979 �γ���ҵ.ipynb\n",
    "2023-05-19  10:45             7,196 �γ̱ʼ�.ipynb\n",
    "              10 ���ļ�         91,637 �ֽ�\n",
    "               7 ��Ŀ¼ 53,095,522,304 �����ֽ�\n",
    "\n",
    "进程已结束,退出代码0\n",
    "\"\"\")"
   ]
  },
  {
   "cell_type": "markdown",
   "metadata": {},
   "source": [
    "可以看出，eval()函数接收一个字符串参数时，如果字符串中是表达式可以返回表达式的值；如果字符串中是列表、元组或字典还能得到真正的列表、元组或字典；如果字符串中是能够通过编译的代码，则可以执行代码。"
   ]
  },
  {
   "cell_type": "code",
   "execution_count": 13,
   "metadata": {
    "ExecuteTime": {
     "end_time": "2023-06-12T08:19:28.420664500Z",
     "start_time": "2023-06-12T08:19:24.317332Z"
    }
   },
   "outputs": [
    {
     "name": "stdout",
     "output_type": "stream",
     "text": [
      "10\n",
      "<class 'int'>\n"
     ]
    }
   ],
   "source": [
    "x = int(input('请输入一个整数(10)：'))\n",
    "print(x)\n",
    "print(type(x))"
   ]
  },
  {
   "cell_type": "code",
   "execution_count": 14,
   "metadata": {
    "ExecuteTime": {
     "end_time": "2023-06-12T08:19:31.695575900Z",
     "start_time": "2023-06-12T08:19:28.266585400Z"
    }
   },
   "outputs": [
    {
     "name": "stdout",
     "output_type": "stream",
     "text": [
      "10.0\n",
      "<class 'float'>\n"
     ]
    }
   ],
   "source": [
    "y = float(input('请输入一个浮点数(10.0)：'))\n",
    "print(y)\n",
    "print(type(y))"
   ]
  },
  {
   "cell_type": "code",
   "execution_count": 15,
   "metadata": {
    "ExecuteTime": {
     "end_time": "2023-06-12T08:19:31.696556Z",
     "start_time": "2023-06-12T08:19:31.616061600Z"
    }
   },
   "outputs": [
    {
     "name": "stdout",
     "output_type": "stream",
     "text": [
      "---------------------------------------------------------------------------\n",
      "ValueError                                Traceback (most recent call last)\n",
      "Cell In[15], line 2\n",
      "      1 #但是需要注意的是：期望得到整数的时候，利用int()函数不能输入带小数点的值，请参看前面int()函数的说明。如以下输入则会出错：\n",
      "----> 2 x = int(input('请输入一个整数(10.0)：'))\n",
      "\n",
      "ValueError: invalid literal for int() with base 10: '10.0'\n"
     ]
    }
   ],
   "source": [
    "#但是需要注意的是：期望得到整数的时候，利用int()函数不能输入带小数点的值，请参看前面int()函数的说明。如以下输入则会出错：\n",
    "\n",
    "#x = int(input('请输入一个整数(10.0)：'))\n",
    "print(r\"\"\"---------------------------------------------------------------------------\n",
    "ValueError                                Traceback (most recent call last)\n",
    "Cell In[15], line 2\n",
    "      1 #但是需要注意的是：期望得到整数的时候，利用int()函数不能输入带小数点的值，请参看前面int()函数的说明。如以下输入则会出错：\n",
    "----> 2 x = int(input('请输入一个整数(10.0)：'))\n",
    "\n",
    "ValueError: invalid literal for int() with base 10: '10.0'\"\"\")"
   ]
  },
  {
   "cell_type": "code",
   "execution_count": 16,
   "metadata": {
    "ExecuteTime": {
     "end_time": "2023-06-12T08:20:31.934566200Z",
     "start_time": "2023-06-12T08:19:31.631573100Z"
    }
   },
   "outputs": [
    {
     "name": "stdout",
     "output_type": "stream",
     "text": [
      "10.036\n",
      "10\n",
      "30\n",
      "30\n"
     ]
    }
   ],
   "source": [
    "#也可以通过eval()函数来输入带小数点的值，如下所示：\n",
    "x = eval(input('请输入一个整数(10.036)：'))\n",
    "print(x)\n",
    "x = eval(input('请输入一个整数(10)：'))\n",
    "print(x)\n",
    "x = eval(input('请输入一个整数(10+20)：'))\n",
    "print(x)\n",
    "x = eval(input('请输入一个整数(10)：')) + 20\n",
    "print(x) #输入10，通过eval()函数得到10，然后再加20，结果为30"
   ]
  },
  {
   "cell_type": "code",
   "execution_count": 17,
   "metadata": {
    "ExecuteTime": {
     "end_time": "2023-06-12T08:20:52.222964800Z",
     "start_time": "2023-06-12T08:20:31.898416700Z"
    }
   },
   "outputs": [
    {
     "name": "stdout",
     "output_type": "stream",
     "text": [
      "[1, 2]\n",
      "<class 'list'>\n",
      "(1, 2)\n",
      "<class 'tuple'>\n",
      "{'a': 1, 'b': 2}\n",
      "<class 'dict'>\n"
     ]
    }
   ],
   "source": [
    "#也可以通过eval(0函数获得其他类型的值\n",
    "x = eval(input('请输入一个列表[1,2]：'))\n",
    "print(x)\n",
    "print(type(x))\n",
    "x = eval(input('请输入一个元组(1,2)：'))\n",
    "print(x)\n",
    "print(type(x))\n",
    "x = eval(input('请输入一个字典{\"a\":1,\"b\":2}：'))\n",
    "print(x)\n",
    "print(type(x))"
   ]
  },
  {
   "cell_type": "code",
   "execution_count": 18,
   "metadata": {
    "ExecuteTime": {
     "end_time": "2023-06-12T08:20:57.550269800Z",
     "start_time": "2023-06-12T08:20:52.179526100Z"
    }
   },
   "outputs": [
    {
     "data": {
      "text/plain": "'x的值：10，y的值：20'"
     },
     "execution_count": 18,
     "metadata": {},
     "output_type": "execute_result"
    }
   ],
   "source": [
    "#input()函数也可以同时为多个变量赋值\n",
    "x,y = eval(input('请输入两个数(10,20)：'))\n",
    "format(\"x的值：{}，y的值：{}\".format(x,y))"
   ]
  },
  {
   "cell_type": "markdown",
   "metadata": {},
   "source": [
    "但是，如果想得到x的值'ab'，y的值'cd'，我们直接输入abcd或者ab cd等均是错误的。\n",
    "\n",
    "实际上我们并不会这样做。一般来说，我们会结合split()和map()函数得到多变量的值。因为split()和map()函数比较复杂，这里仅作简单说明，函数的具体用法请参看相关章节和其他资料。"
   ]
  },
  {
   "cell_type": "code",
   "execution_count": 19,
   "metadata": {
    "ExecuteTime": {
     "end_time": "2023-06-12T08:21:03.075153900Z",
     "start_time": "2023-06-12T08:20:57.521181700Z"
    }
   },
   "outputs": [
    {
     "data": {
      "text/plain": "'x的值：ab，y的值：cd'"
     },
     "execution_count": 19,
     "metadata": {},
     "output_type": "execute_result"
    }
   ],
   "source": [
    "m = input('请输入两个字符串(用空格分隔) (ab cd)：')\n",
    "format(m)\n",
    "x,y = map(str,m.split())\n",
    "format(\"x的值：{}，y的值：{}\".format(x,y))\n",
    "#m是通过input()函数得到的字符串，输入的是ab cd，那么m就得到字符串'ab cd'（注意ab和cd之间用空格分隔），然后通过字符串的split()方法得到元素为字符串的列表（['ab', 'cd']），再通过map()函数将str()函数作用于该列表，得到包含若干字符串的map对象，最后通过对map对象进行序列解包将'ab'和'cd'分别赋给x和y。"
   ]
  },
  {
   "cell_type": "markdown",
   "metadata": {},
   "source": [
    "Python中最简单的输出方式就是使用print函数"
   ]
  },
  {
   "cell_type": "markdown",
   "metadata": {},
   "source": [
    "python中最简单的输出方式就是print()函数。其格式如下：\n",
    "\n",
    "    print(value, ..., sep=' ', end='\\n', file=sys.stdout, flush=False)\n",
    "\n",
    "其中\n",
    "    value表示要输出的值，一次可以输出多个值，用逗号隔开\n",
    "    sep表示分隔符，默认是空格\n",
    "    end表示结束符，默认是换行符\n",
    "    file表示输出位置，可将输出的值写入到文件中，file表示文件路径，默认值是sys.stdout，即输出到控制台\n",
    "    flush表示是否立即刷新缓冲区，True或False，默认是False\n",
    "    这些参数都是可选的，但是value参数是必须的"
   ]
  },
  {
   "cell_type": "code",
   "execution_count": 20,
   "metadata": {
    "ExecuteTime": {
     "end_time": "2023-06-12T08:21:03.076498600Z",
     "start_time": "2023-06-12T08:21:02.988204700Z"
    }
   },
   "outputs": [
    {
     "name": "stdout",
     "output_type": "stream",
     "text": [
      "hello world !\n",
      "hello*world*!\n",
      "hello***world***!\n",
      "hello***world***!\n",
      "这里本来没有换行符的，自己加了一个换行符\n",
      "helloworld!\n",
      "hello world !*\n",
      "桌面上的test.txt中所保存的内容是： \n",
      "hello world !\n",
      "\n"
     ]
    }
   ],
   "source": [
    "print(\"hello\",\"world\",\"!\")\n",
    "print(\"hello\",\"world\",\"!\",sep=\"*\") #sep=\"*\"表示用*号分隔\n",
    "print(\"hello\",\"world\",\"!\",sep=\"***\") #sep=\"***\"表示用***号分隔\n",
    "print(\"hello\",\"world\",\"!\",sep=\"***\",end=\"\") #end=\"\"表示不换行\n",
    "print()\n",
    "print(\"这里本来没有换行符的，自己加了一个换行符\")\n",
    "print(\"hello\",\"world\",\"!\",sep=\"\") #sep=\"\"表示不用分隔符\n",
    "print(\"hello\",\"world\",\"!\",end=\"*\") #end=\"*\"表示用*号结束\n",
    "with open(\"C:\\\\Users\\\\33398\\\\Desktop\\\\test.txt\",\"w\") as f:\n",
    "    print(\"hello\",\"world\",\"!\",file=f) #file=f表示将输出的值写入到文件中\n",
    "\n",
    "print()\n",
    "print(\"桌面上的test.txt中所保存的内容是： \")\n",
    "#打开文件，将文件中的值输出出来\n",
    "with open(\"C:\\\\Users\\\\33398\\\\Desktop\\\\test.txt\",\"r\") as f:\n",
    "    print(f.read())"
   ]
  },
  {
   "cell_type": "code",
   "execution_count": 21,
   "metadata": {
    "ExecuteTime": {
     "end_time": "2023-06-12T08:21:03.097387500Z",
     "start_time": "2023-06-12T08:21:03.011226900Z"
    }
   },
   "outputs": [
    {
     "name": "stdout",
     "output_type": "stream",
     "text": [
      "0\n",
      "1\n",
      "2\n",
      "3\n",
      "4\n"
     ]
    }
   ],
   "source": [
    "#直接输出每个i，每个数字一行\n",
    "for i in [0,1,2,3,4]:\n",
    "    print(i) # 默认end=\"\\n\""
   ]
  },
  {
   "cell_type": "code",
   "execution_count": 22,
   "metadata": {
    "ExecuteTime": {
     "end_time": "2023-06-12T08:21:03.114466600Z",
     "start_time": "2023-06-12T08:21:03.024914800Z"
    }
   },
   "outputs": [
    {
     "name": "stdout",
     "output_type": "stream",
     "text": [
      "0 1 2 3 4 "
     ]
    }
   ],
   "source": [
    "#输出每个i，每个数字一行，但是最后不换行\n",
    "for i in [0,1,2,3,4]:\n",
    "    print(i,end=\" \") # end=\" \"表示用空格结束"
   ]
  },
  {
   "cell_type": "code",
   "execution_count": 23,
   "metadata": {
    "ExecuteTime": {
     "end_time": "2023-06-12T08:21:03.115992300Z",
     "start_time": "2023-06-12T08:21:03.051900500Z"
    }
   },
   "outputs": [
    {
     "name": "stdout",
     "output_type": "stream",
     "text": [
      "0*1*2*3*4*"
     ]
    }
   ],
   "source": [
    "#输出每个i，每个数字一行，但是最后不换行\n",
    "for i in [0,1,2,3,4]:\n",
    "    print(i,end=\"*\") # end=\"*\"表示用*号结束"
   ]
  },
  {
   "cell_type": "code",
   "execution_count": 24,
   "metadata": {
    "ExecuteTime": {
     "end_time": "2023-06-12T08:21:03.117005600Z",
     "start_time": "2023-06-12T08:21:03.061281Z"
    }
   },
   "outputs": [
    {
     "name": "stdout",
     "output_type": "stream",
     "text": [
      "01234"
     ]
    }
   ],
   "source": [
    "#输出每个i，每个数字一行，但是最后不换行\n",
    "for i in [0,1,2,3,4]:\n",
    "    print(i,end=\"\") # end=\"\"表示不换行"
   ]
  },
  {
   "cell_type": "markdown",
   "metadata": {},
   "source": [
    "我们可以看出：print函数默认输出是换行的，如果要实现不换行需要在变量末尾设置 end参数，如end=\"\"表示不换行，end=\" \"表示用空格结束，end=\"*\"表示用*号结束。"
   ]
  },
  {
   "cell_type": "code",
   "execution_count": 25,
   "metadata": {
    "ExecuteTime": {
     "end_time": "2023-06-12T08:21:03.297933600Z",
     "start_time": "2023-06-12T08:21:03.076498600Z"
    }
   },
   "outputs": [
    {
     "name": "stdout",
     "output_type": "stream",
     "text": [
      "我喜欢程序设计\n",
      "我喜欢 程序设计\n",
      "\n",
      "我喜欢\n",
      "程序设计\n",
      "我喜欢程序设计\n"
     ]
    }
   ],
   "source": [
    "#例2.1\n",
    "print(\"我喜欢\" + \"程序设计\") #字符串的连接\n",
    "print(\"我喜欢\",\"程序设计\") #多个字符串的输出\n",
    "print()\n",
    "print(\"我喜欢\")\n",
    "print(\"程序设计\")\n",
    "print(\"我喜欢\",end=\"\")\n",
    "print(\"程序设计\")"
   ]
  },
  {
   "cell_type": "markdown",
   "metadata": {},
   "source": [
    "分析：第1行中的“+”表示字符串的连接，通过print()函数将连接后的字符串在一行输出；第2行中的print()函数打印两个字符串对象，输出的时候中间会插入一个空格作为间隔；第3行通过print()输出一个空行；第4行和第5行分两行单独输出，print()函数默认以换行符结尾；第6行print()函数以空字符串结尾，则第7行print()接在前一行的末尾继续输出。"
   ]
  },
  {
   "cell_type": "code",
   "execution_count": 26,
   "metadata": {
    "ExecuteTime": {
     "end_time": "2023-06-12T08:21:05.304583300Z",
     "start_time": "2023-06-12T08:21:03.098388500Z"
    }
   },
   "outputs": [
    {
     "name": "stdout",
     "output_type": "stream",
     "text": [
      "打折后书包的价格是： 850.0 元\n",
      "小明买了书包后剩下的钱 ：  650.0 元\n"
     ]
    }
   ],
   "source": [
    "#例2.2\n",
    "total = 1500\n",
    "price = float(input(\"请输入书包的价格(1000) ： \"))*0.85\n",
    "\n",
    "left = total - price\n",
    "print(\"打折后书包的价格是：\",price,\"元\")\n",
    "print(\"小明买了书包后剩下的钱 ： \",left,\"元\")"
   ]
  },
  {
   "cell_type": "markdown",
   "metadata": {},
   "source": [
    "# 2.1标识符"
   ]
  },
  {
   "cell_type": "markdown",
   "metadata": {},
   "source": [
    "标识符是指用来标识某个实体的一个符号。在不同的应用环境下有不同的含义。在编程语言中，标识符是计算机语言中作为名字的有效字符串集合。标识符是用户编程时使用的名字，变量、常量、函数、语句块也有名字，它们的名字称为标识符。"
   ]
  },
  {
   "cell_type": "markdown",
   "metadata": {},
   "source": [
    "## 2.2.1 合法的标识符\n",
    "\n",
    "在Python中，所有标识符可以包括英文、数字以及下画线，但要符合以下规则：\n",
    "\n",
    "    标识符开头必须是字母或下画线；\n",
    "    标识符不能以数字开头；\n",
    "    标识符是区分大小写的；\n",
    "    标识符中不能出现分隔符、标点符号或者运算符；\n",
    "    标识符不能使用关键字；\n",
    "    最好不要使用内置模块名、类型名、函数名、已经导入的模块名及其成员名作为标识符。\n",
    "\n",
    "A、ABC、aBc、a1b2、ab_123、__（连续两个下画线）、_123 等，都是合法的标识符。6a2b、abc-123、hello world（中间用了空格）、for（关键字）等则是非法的标识符。"
   ]
  },
  {
   "cell_type": "code",
   "execution_count": 27,
   "metadata": {
    "ExecuteTime": {
     "end_time": "2023-06-12T08:21:05.306467700Z",
     "start_time": "2023-06-12T08:21:05.266385800Z"
    }
   },
   "outputs": [
    {
     "name": "stdout",
     "output_type": "stream",
     "text": [
      "8\n"
     ]
    }
   ],
   "source": [
    "print(pow(2,3))\n",
    "#pow = 9\n",
    "#print(pow)\n",
    "#print(pow(2,3))"
   ]
  },
  {
   "cell_type": "markdown",
   "metadata": {},
   "source": [
    "以上代码显示由于使用了内置函数名pow做为变量名（标识符）导致pow()函数原有功能不能使用。"
   ]
  },
  {
   "cell_type": "code",
   "execution_count": 28,
   "metadata": {
    "ExecuteTime": {
     "end_time": "2023-06-12T08:21:05.307765500Z",
     "start_time": "2023-06-12T08:21:05.285115300Z"
    }
   },
   "outputs": [
    {
     "data": {
      "text/plain": "['ArithmeticError',\n 'AssertionError',\n 'AttributeError',\n 'BaseException',\n 'BlockingIOError',\n 'BrokenPipeError',\n 'BufferError',\n 'BytesWarning',\n 'ChildProcessError',\n 'ConnectionAbortedError',\n 'ConnectionError',\n 'ConnectionRefusedError',\n 'ConnectionResetError',\n 'DeprecationWarning',\n 'EOFError',\n 'Ellipsis',\n 'EncodingWarning',\n 'EnvironmentError',\n 'Exception',\n 'False',\n 'FileExistsError',\n 'FileNotFoundError',\n 'FloatingPointError',\n 'FutureWarning',\n 'GeneratorExit',\n 'IOError',\n 'ImportError',\n 'ImportWarning',\n 'IndentationError',\n 'IndexError',\n 'InterruptedError',\n 'IsADirectoryError',\n 'KeyError',\n 'KeyboardInterrupt',\n 'LookupError',\n 'MemoryError',\n 'ModuleNotFoundError',\n 'NameError',\n 'None',\n 'NotADirectoryError',\n 'NotImplemented',\n 'NotImplementedError',\n 'OSError',\n 'OverflowError',\n 'PendingDeprecationWarning',\n 'PermissionError',\n 'ProcessLookupError',\n 'RecursionError',\n 'ReferenceError',\n 'ResourceWarning',\n 'RuntimeError',\n 'RuntimeWarning',\n 'StopAsyncIteration',\n 'StopIteration',\n 'SyntaxError',\n 'SyntaxWarning',\n 'SystemError',\n 'SystemExit',\n 'TabError',\n 'TimeoutError',\n 'True',\n 'TypeError',\n 'UnboundLocalError',\n 'UnicodeDecodeError',\n 'UnicodeEncodeError',\n 'UnicodeError',\n 'UnicodeTranslateError',\n 'UnicodeWarning',\n 'UserWarning',\n 'ValueError',\n 'Warning',\n 'WindowsError',\n 'ZeroDivisionError',\n '__IPYTHON__',\n '__build_class__',\n '__debug__',\n '__doc__',\n '__import__',\n '__loader__',\n '__name__',\n '__package__',\n '__spec__',\n 'abs',\n 'aiter',\n 'all',\n 'anext',\n 'any',\n 'ascii',\n 'bin',\n 'bool',\n 'breakpoint',\n 'bytearray',\n 'bytes',\n 'callable',\n 'chr',\n 'classmethod',\n 'compile',\n 'complex',\n 'copyright',\n 'credits',\n 'delattr',\n 'dict',\n 'dir',\n 'display',\n 'divmod',\n 'enumerate',\n 'eval',\n 'exec',\n 'execfile',\n 'filter',\n 'float',\n 'format',\n 'frozenset',\n 'get_ipython',\n 'getattr',\n 'globals',\n 'hasattr',\n 'hash',\n 'help',\n 'hex',\n 'id',\n 'input',\n 'int',\n 'isinstance',\n 'issubclass',\n 'iter',\n 'len',\n 'license',\n 'list',\n 'locals',\n 'map',\n 'max',\n 'memoryview',\n 'min',\n 'next',\n 'object',\n 'oct',\n 'open',\n 'ord',\n 'pow',\n 'print',\n 'property',\n 'range',\n 'repr',\n 'reversed',\n 'round',\n 'runfile',\n 'set',\n 'setattr',\n 'slice',\n 'sorted',\n 'staticmethod',\n 'str',\n 'sum',\n 'super',\n 'tuple',\n 'type',\n 'vars',\n 'zip']"
     },
     "execution_count": 28,
     "metadata": {},
     "output_type": "execute_result"
    }
   ],
   "source": [
    "#可以通过 dir(__builtins__) 查看内置函数名\n",
    "dir(__builtins__)"
   ]
  },
  {
   "cell_type": "markdown",
   "source": [
    "## 2.2.2 关键字\n",
    "\n",
    "在Python中，有一部分是关键字，构成语言的标识符，这样的标识符是保留字，不能用于其他用途，否则会引起语法错误。\n",
    "\n",
    "我们也可以导入keyword模块后使用print(keyword.kwlist)查看所有Python关键字。"
   ],
   "metadata": {
    "collapsed": false
   }
  },
  {
   "cell_type": "code",
   "execution_count": 29,
   "outputs": [
    {
     "name": "stdout",
     "output_type": "stream",
     "text": [
      "['False', 'None', 'True', 'and', 'as', 'assert', 'async', 'await', 'break', 'class', 'continue', 'def', 'del', 'elif', 'else', 'except', 'finally', 'for', 'from', 'global', 'if', 'import', 'in', 'is', 'lambda', 'nonlocal', 'not', 'or', 'pass', 'raise', 'return', 'try', 'while', 'with', 'yield']\n"
     ]
    }
   ],
   "source": [
    "import keyword\n",
    "print(keyword.kwlist)"
   ],
   "metadata": {
    "collapsed": false,
    "ExecuteTime": {
     "end_time": "2023-06-12T08:21:05.327277700Z",
     "start_time": "2023-06-12T08:21:05.312312Z"
    }
   }
  },
  {
   "cell_type": "markdown",
   "source": [
    "这里提一下关键字None。None是一个特殊的Python对象，和False不同，不是0，也不是空字符串、空列表等。None有自己的数据类型NoneType，None和任何其他数据类型进行是否相等比较永远返回False。可以将None赋值给任何变量，但是不能创建其他NoneType对象。"
   ],
   "metadata": {
    "collapsed": false
   }
  },
  {
   "cell_type": "code",
   "execution_count": 30,
   "outputs": [
    {
     "name": "stdout",
     "output_type": "stream",
     "text": [
      "<class 'NoneType'>\n",
      "<class 'NoneType'>\n",
      "False\n",
      "False\n",
      "False\n",
      "False\n"
     ]
    }
   ],
   "source": [
    "a = None\n",
    "print(type(a))\n",
    "print(type(None))\n",
    "print(None == False)\n",
    "print(None == 0)\n",
    "print(None == \"\")\n",
    "print(None == [])"
   ],
   "metadata": {
    "collapsed": false,
    "ExecuteTime": {
     "end_time": "2023-06-12T08:21:05.503711300Z",
     "start_time": "2023-06-12T08:21:05.328277400Z"
    }
   }
  },
  {
   "cell_type": "markdown",
   "source": [
    "## 2.2.3 下划线标识符\n",
    "\n",
    "以下画线开头的标识符是有特殊意义的。\n",
    "\n",
    "    以单下画线开头（_xxx）的标识符代表不能直接访问的类属性，需通过类提供的接口进行访问，不能用“from xxx import *”导入；\n",
    "    以双下画线开头（__xxx）的标识符代表类的私有成员；\n",
    "    以双下画线开头和结尾（__xxx__）的标识符代表Python中特殊方法专用的标识，如__init__代表类的构造函数。\n",
    "\n",
    "这些内容将在类与对象中介绍。"
   ],
   "metadata": {
    "collapsed": false
   }
  },
  {
   "cell_type": "markdown",
   "source": [
    "# 2.3 变量\n",
    "\n",
    "变量是计算机语言中能储存计算结果或能表示值的抽象概念。变量可以通过变量名访问，变量通常是可变的。Python语言同样可以定义变量，用于表示可变的数据。变量具有名字，不同变量是通过名字相互区分的，因此变量名具有标识作用，也就是标识符。"
   ],
   "metadata": {
    "collapsed": false
   }
  },
  {
   "cell_type": "markdown",
   "source": [
    "# 2.4 赋值语句\n",
    "\n",
    "赋值是创建变量的一种方法。赋值的目的是将值与对应的名字进行关联。Python中通过赋值语句实现赋值。赋值语句的格式如下：\n",
    "\n",
    "    <变量> = <表达式>\n",
    "其中“=”表示赋值，“=”左边是一个变量，“=”右边是一个表达式（由常量、变量和运算符构成）。Python首先对表达式进行求值，然后将结果存储到变量中。如果表达式无法求值，则赋值语句出错。一个变量如果未赋值，则称该变量是“未定义的”。在程序中使用未定义的变量会导致错误。\n",
    "\n"
   ],
   "metadata": {
    "collapsed": false
   }
  },
  {
   "cell_type": "code",
   "execution_count": 31,
   "outputs": [
    {
     "name": "stdout",
     "output_type": "stream",
     "text": [
      "Hello World!\n",
      "3.1316\n",
      "18\n",
      "19\n"
     ]
    }
   ],
   "source": [
    "myVar = \"Hello World!\"\n",
    "print(myVar)\n",
    "myVar = 3.1316\n",
    "print(myVar)\n",
    "myVar = 3 + 3*5\n",
    "print(myVar)\n",
    "myVar = myVar + 1\n",
    "print(myVar)"
   ],
   "metadata": {
    "collapsed": false,
    "ExecuteTime": {
     "end_time": "2023-06-12T08:21:05.528225400Z",
     "start_time": "2023-06-12T08:21:05.342486300Z"
    }
   }
  },
  {
   "cell_type": "markdown",
   "source": [
    "需要说明的是python中变量的类型是可以随时变化的。"
   ],
   "metadata": {
    "collapsed": false
   }
  },
  {
   "cell_type": "code",
   "execution_count": 32,
   "outputs": [
    {
     "name": "stdout",
     "output_type": "stream",
     "text": [
      "1\n",
      "2\n",
      "2\n",
      "2\n"
     ]
    }
   ],
   "source": [
    "#Python允许同时对多个变量赋值\n",
    "x,y = 1,2\n",
    "print(x)\n",
    "print(y)\n",
    "\n",
    "a = b = 2\n",
    "print(a)\n",
    "print(b)"
   ],
   "metadata": {
    "collapsed": false,
    "ExecuteTime": {
     "end_time": "2023-06-12T08:21:05.529229900Z",
     "start_time": "2023-06-12T08:21:05.366302400Z"
    }
   }
  },
  {
   "cell_type": "markdown",
   "source": [
    "# 3.1 数据类型\n",
    "\n",
    "Python语言中提供了几种数据类型，如数值（int、float和complex）、字符串（str）、布尔（bool）、列表（list）、元组（tuple）、字典（dict）等。\n",
    "\n",
    "\n",
    "## 3.1.1 整数类型int\n",
    "\n",
    "整数就是没有小数部分的数值，分为正整数、0和负整数。Python语言提供了类型int用于表示现实世界中的整数信息。例如下列都是合法的整数：\n",
    "    100、0、-100\n",
    "\n",
    "\n",
    "## 3.1.2 浮点数类型float\n",
    "\n",
    "浮点数就是包含小数点的数，Python语言提供了类型float用于表示浮点数。例如下列值都是浮点数：\n",
    "    15.0、0.37、-11.2、2.3e2、3.14e-2\n",
    "\n",
    "\n",
    "## 3.1.3 复数类型Complex\n",
    "\n",
    "Python中的复数由两部分组成：实部和虚部。复数的形式为：实部+虚部j。例如2+3j、0.5-0.9j都是复数。\n",
    "值得一提的是，Python支持任意大的数字，仅受内存大小的限制。\n",
    "另外，为了提高可读性，在数值中可以使用下画线。"
   ],
   "metadata": {
    "collapsed": false
   }
  },
  {
   "cell_type": "code",
   "execution_count": 33,
   "outputs": [
    {
     "name": "stdout",
     "output_type": "stream",
     "text": [
      "1234567890\n",
      "19577087\n",
      "123.567\n"
     ]
    }
   ],
   "source": [
    "print(1_23_456_7890)\n",
    "print(0x_12_ab_8ff)\n",
    "print(1_23.5_67)"
   ],
   "metadata": {
    "collapsed": false,
    "ExecuteTime": {
     "end_time": "2023-06-12T08:21:05.531223300Z",
     "start_time": "2023-06-12T08:21:05.392913700Z"
    }
   }
  },
  {
   "cell_type": "markdown",
   "source": [
    "## 3.1.4 布尔类型bool\n",
    "\n",
    "布尔类型是用来表示逻辑“是”、“非”的一种类型，它只有两个值，True和False。例如："
   ],
   "metadata": {
    "collapsed": false
   }
  },
  {
   "cell_type": "code",
   "execution_count": 34,
   "outputs": [
    {
     "name": "stdout",
     "output_type": "stream",
     "text": [
      "True\n",
      "True\n",
      "TypeError: 'a' is an invalid keyword argument for print()\n",
      "True\n"
     ]
    }
   ],
   "source": [
    "print(3>2)\n",
    "print(4+5 == 5+4)\n",
    "#print(a = -8)\n",
    "print(r\"\"\"TypeError: 'a' is an invalid keyword argument for print()\"\"\")\n",
    "print(a * 2 > a)"
   ],
   "metadata": {
    "collapsed": false,
    "ExecuteTime": {
     "end_time": "2023-06-12T08:21:05.531730600Z",
     "start_time": "2023-06-12T08:21:05.419829500Z"
    }
   }
  },
  {
   "cell_type": "markdown",
   "source": [
    "## 3.1.5 字符串类型str\n",
    "\n",
    "字符串是由0个或多个字符组成的有序字符序列，Python语言提供了类型str用于表示字符串。字符串是Python中最常用的数据类型，字符串的值可以用单引号或双引号括起来。\n",
    "Python语言中的字符串是一种序列。用单引号、双引号、三引号作为定界符的字符系列称为字符串，如\"Python\"、' Hello,World '、\"123\"、'''abcd8 ^ '''等。\n",
    "\n",
    "## 3.1.6 列表类型list\n",
    "\n",
    "列表是一种有序的数据集合，列表中的每个元素都有一个对应的位置，称为索引。列表中的元素可以是不同的数据类型，也可以是相同的数据类型。列表的值用中括号括起来，各个元素之间用逗号分隔。\n",
    "Python语言中列表也是一种序列类型。列表用方括号“［”和“］”将列表中的元素括起来。列表中的元素之间以逗号进行分隔。如［1,2,3,True］、［\"one\",\"two\",\"three\",\"four\"］和［3,4.5, \"abc\"］都是列表。\n",
    "\n",
    "## 3.1.7 元组类型tuple\n",
    "\n",
    "元组是一种有序的数据集合，元组中的每个元素都有一个对应的位置，称为索引。元组中的元素可以是不同的数据类型，也可以是相同的数据类型。元组的值用小括号括起来，各个元素之间用逗号分隔。\n",
    "元组也是一种序列。元组用“(”和“)”作为边界将元素括起来。元组中的元素之间以逗号分隔。如(1,2,3,True)、(\"one\",\"two\",\"three\",\"four\")和(3,4.5, \"abc\")都是元组。\n",
    "\n",
    "## 3.1.8 字典类型dict\n",
    "\n",
    "字典是一种无序的数据集合，字典中的每个元素都有一个对应的键和值，称为键值对。字典的值用大括号括起来，各个键值对之间用逗号分隔。\n",
    "字典是Python中唯一内建的映射类型，可用来实现通过数据查找关联数据的功能。字典是键值对的无序集合。字典中的每一个元素都包含两部分：键和值。字典用大括号“{”和“}”来表示，每个元素的键和值用冒号分隔，元素之间用逗号分隔。如{'1801':'张三', '1802':'徐虎', '1803':'张林'}\n",
    "\n",
    "\n",
    "## 3.1.9 集合类型set\n",
    "\n",
    "集合是一种无序的数据集合，集合中的元素不重复。集合的值用大括号括起来，各个元素之间用逗号分隔。\n",
    "Python中集合是一组对象的集合，对象可以是各种不可变数据类型。同一个集合可以由各种不可变类型的元素组成，但元素之间没有任何顺序，并且元素都不重复。如{'car', 'ship', 'train', 'bus'}。"
   ],
   "metadata": {
    "collapsed": false
   }
  },
  {
   "cell_type": "markdown",
   "source": [
    "# 4.1 运算符\n",
    "# 4.1.1 算数运算符\n",
    "\n",
    "算数运算符是用来进行算术运算的符号，包括加、减、乘、除、取余、取整、幂等等。算数运算符的优先级从高到低依次为：幂运算符、正负号、乘除、取余、加减、比较、逻辑运算符。\n",
    "\n",
    "# 4.1.2 关系运算符\n",
    "\n",
    "关系运算符是用来比较两个值的大小关系的符号，包括大于、小于、等于、大于等于、小于等于、不等于等。关系运算符的优先级从高到低依次为：幂运算符、正负号、乘除、取余、加减、比较、逻辑运算符。\n",
    "\n",
    "# 4.1.3 测试运算符\n",
    "\n",
    "在python中，is和==都是用来比较两个值是否相等的运算符，但是它们之间有着本质的区别。is用来比较两个变量的内存地址是否相同，而==用来比较两个变量的值是否相等。\n",
    "in 和 not in 用来判断一个值是否在另一个值中，返回值为布尔类型。\n",
    "is 和 is not 用来判断两个变量是否是同一个变量，返回值为布尔类型。\n",
    "\n",
    "# 4.1.4 逻辑运算符\n",
    "\n",
    "逻辑运算符是用来进行逻辑运算的符号，包括与(and)、或(or)、非(not)等。逻辑运算符的优先级从高到低依次为：非、与、或。"
   ],
   "metadata": {
    "collapsed": false
   }
  },
  {
   "cell_type": "markdown",
   "source": [
    "# 4.2 运算符与表达式\n",
    "\n",
    "运算符：\"+\"，名称：加法运算符，含义：对两个数值进行加法运算，如列表、元组、字符串的链接，返回值：数值类型。\n",
    "运算符：\"-\"，名称：减法运算符，含义：对两个数值进行减法运算，返回值：数值类型。\n",
    "运算符：\"*\"，名称：乘法运算符，含义：对两个数值进行乘法运算，返回值：数值类型。\n",
    "运算符：\"**\"，名称：幂运算符，含义：对两个数值进行幂运算，返回值：数值类型。\n",
    "运算符：\"/\"，名称：除法运算符，含义：对两个数值进行除法运算，返回值：数值类型。\n",
    "运算符：\"//\"，名称：整除运算符，含义：对两个数值进行整除运算，返回值：数值类型。\n",
    "运算符：\"%\"，名称：取余运算符，含义：对两个数值进行取余运算，返回值：数值类型。\n",
    "运算符：\">\"，名称：大于运算符，含义：判断左边的数值是否大于右边的数值，返回值：布尔类型。\n",
    "运算符：\">=\"，名称：大于等于运算符，含义：判断左边的数值是否大于等于右边的数值，返回值：布尔类型。\n",
    "运算符：\"<\"，名称：小于运算符，含义：判断左边的数值是否小于右边的数值，返回值：布尔类型。\n",
    "运算符：\"<=\"，名称：小于等于运算符，含义：判断左边的数值是否小于等于右边的数值，返回值：布尔类型。\n",
    "运算符：\"==\"，名称：等于运算符，含义：判断左边的数值是否等于右边的数值，返回值：布尔类型。\n",
    "运算符：\"!=\"，名称：不等于运算符，含义：判断左边的数值是否不等于右边的数值，返回值：布尔类型。\n",
    "\n",
    "运算符：\"in和not in\"，名称：成员运算符，含义：判断左边的值是否在右边的值中，返回值：布尔类型。\n",
    "运算符：\"is和is not\"，名称：身份运算符，含义：判断左边的值是否是右边的值，返回值：布尔类型。\n",
    "运算符：\"and\"，名称：与运算符，含义：判断两个值是否同时为真，返回值：布尔类型。\n",
    "运算符：\"or\"，名称：或运算符，含义：判断两个值是否有一个为真，返回值：布尔类型。\n",
    "运算符：\"not\"，名称：非运算符，含义：判断一个值是否为假，返回值：布尔类型。"
   ],
   "metadata": {
    "collapsed": false
   }
  },
  {
   "cell_type": "code",
   "execution_count": 35,
   "outputs": [
    {
     "name": "stdout",
     "output_type": "stream",
     "text": [
      "---------------------------------------------------------------------------\n",
      "TypeError                                 Traceback (most recent call last)\n",
      "Cell In[1], line 2\n",
      "      1 #  +运算符不支持不同类型的对象之间的链接\n",
      "----> 2 print(3+\"ab\")\n",
      "\n",
      "TypeError: unsupported operand type(s) for +: 'int' and 'str'\n",
      "***********************************************************\n",
      "[1, 2, 3, 1, 2, 3, 1, 2, 3]\n",
      "---------------------------------------------------------------------------\n",
      "TypeError                                 Traceback (most recent call last)\n",
      "Cell In[4], line 14\n",
      "     12 print(\"***********************************************************\")\n",
      "     13 print([1,2,3]*3)\n",
      "---> 14 print({1801:'Lily'}*2)\n",
      "\n",
      "TypeError: unsupported operand type(s) for *: 'dict' and 'int'\n",
      "***********************************************************\n",
      "8\n",
      "8\n",
      "Help on built-in function pow in module builtins:\n",
      "\n",
      "pow(base, exp, mod=None)\n",
      "    Equivalent to base**exp with 2 arguments or base**exp % mod with 3 arguments\n",
      "    \n",
      "    Some types, such as ints, are able to use a more efficient algorithm when\n",
      "    invoked using the three argument form.\n",
      "\n",
      "None\n",
      "1\n",
      "1\n",
      "所以：\n",
      "pow(2,4,3) = 2**4%3\n",
      "***********************************************************\n",
      "False\n",
      "True\n",
      "False\n",
      "False\n",
      "True\n",
      "True\n",
      "True\n",
      "False\n",
      "True\n"
     ]
    }
   ],
   "source": [
    "#  +运算符不支持不同类型的对象之间的链接\n",
    "#print(3+\"ab\")\n",
    "print(r\"\"\"---------------------------------------------------------------------------\n",
    "TypeError                                 Traceback (most recent call last)\n",
    "Cell In[1], line 2\n",
    "      1 #  +运算符不支持不同类型的对象之间的链接\n",
    "----> 2 print(3+\"ab\")\n",
    "\n",
    "TypeError: unsupported operand type(s) for +: 'int' and 'str'\"\"\")\n",
    "\n",
    "print(\"***********************************************************\")\n",
    "#  *运算符可以用于列表、元组或字符串与整数的相乘，用于将这些序列重复整数所指定的次数。它不适用于字典和结合与整数的相乘。\n",
    "print([1,2,3]*3)\n",
    "#print({1801:'Lily'}*2)\n",
    "print(r\"\"\"---------------------------------------------------------------------------\n",
    "TypeError                                 Traceback (most recent call last)\n",
    "Cell In[4], line 14\n",
    "     12 print(\"***********************************************************\")\n",
    "     13 print([1,2,3]*3)\n",
    "---> 14 print({1801:'Lily'}*2)\n",
    "\n",
    "TypeError: unsupported operand type(s) for *: 'dict' and 'int'\"\"\")\n",
    "\n",
    "print(\"***********************************************************\")\n",
    "#  **运算符与带有两个参数的内置函数pow()的功能相同，表示幂运算\n",
    "print(2**3)\n",
    "print(pow(2,3))\n",
    "\n",
    "#  带有三个参数的内置函数pow()的功能是什么呢？\n",
    "print(help(pow))\n",
    "print(pow(2,4,3))\n",
    "print(2**4%3)\n",
    "print(\"\"\"所以：\n",
    "pow(2,4,3) = 2**4%3\"\"\")\n",
    "\n",
    "print(\"***********************************************************\")\n",
    "#  利用关系运算符比较大小首先要保证操作数之间是可比较大小的；另外关系运算符可以连用\n",
    "print(3>5)\n",
    "print('a'>'A')\n",
    "print('b'<'0')\n",
    "print('abcae'<'abcAb')\n",
    "print('abc'=='abc')\n",
    "print('a' < '我')\n",
    "\n",
    "print(5<6<8)\n",
    "print(5<6 == 8)\n",
    "print(5<6>3)"
   ],
   "metadata": {
    "collapsed": false,
    "ExecuteTime": {
     "end_time": "2023-06-12T08:21:05.532240600Z",
     "start_time": "2023-06-12T08:21:05.439468900Z"
    }
   }
  },
  {
   "cell_type": "code",
   "execution_count": 2,
   "outputs": [
    {
     "name": "stdout",
     "output_type": "stream",
     "text": [
      "True\n",
      "6\n"
     ]
    }
   ],
   "source": [],
   "metadata": {
    "collapsed": false,
    "ExecuteTime": {
     "end_time": "2023-06-13T08:24:36.186176400Z",
     "start_time": "2023-06-13T08:24:34.749618Z"
    }
   }
  }
 ],
 "metadata": {
  "kernelspec": {
   "display_name": "Python 3 (ipykernel)",
   "language": "python",
   "name": "python3"
  },
  "language_info": {
   "codemirror_mode": {
    "name": "ipython",
    "version": 3
   },
   "file_extension": ".py",
   "mimetype": "text/x-python",
   "name": "python",
   "nbconvert_exporter": "python",
   "pygments_lexer": "ipython3",
   "version": "3.10.11"
  }
 },
 "nbformat": 4,
 "nbformat_minor": 1
}
