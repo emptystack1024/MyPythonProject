{
 "cells": [
  {
   "cell_type": "code",
   "execution_count": 1,
   "metadata": {
    "collapsed": true,
    "ExecuteTime": {
     "end_time": "2023-06-14T02:07:56.750364900Z",
     "start_time": "2023-06-14T02:07:56.737727500Z"
    }
   },
   "outputs": [
    {
     "name": "stdout",
     "output_type": "stream",
     "text": [
      "阳关\n",
      "<class 'str'>\n"
     ]
    }
   ],
   "source": [
    "s = '阳关'\n",
    "print(s)\n",
    "print(type(s))"
   ]
  },
  {
   "cell_type": "code",
   "execution_count": 5,
   "outputs": [
    {
     "name": "stdout",
     "output_type": "stream",
     "text": [
      "b'\\xd1\\xf4\\xb9\\xd8'\n",
      "<class 'bytes'>\n"
     ]
    }
   ],
   "source": [
    "b = bytes(s,encoding = 'gbk')\n",
    "print(b)\n",
    "print(type(b))"
   ],
   "metadata": {
    "collapsed": false,
    "ExecuteTime": {
     "end_time": "2023-06-14T02:08:55.597351700Z",
     "start_time": "2023-06-14T02:08:55.585201500Z"
    }
   }
  },
  {
   "cell_type": "code",
   "execution_count": 9,
   "outputs": [
    {
     "name": "stdout",
     "output_type": "stream",
     "text": [
      "b'\\xe9\\x98\\xb3\\xe5\\x85\\xb3'\n",
      "<class 'bytes'>\n"
     ]
    }
   ],
   "source": [
    "u = bytes(s,encoding = 'utf-8')\n",
    "print(u)\n",
    "print(type(u))"
   ],
   "metadata": {
    "collapsed": false,
    "ExecuteTime": {
     "end_time": "2023-06-14T02:10:10.372093900Z",
     "start_time": "2023-06-14T02:10:10.356316600Z"
    }
   }
  },
  {
   "cell_type": "code",
   "execution_count": 10,
   "outputs": [
    {
     "name": "stdout",
     "output_type": "stream",
     "text": [
      "阳关\n",
      "<class 'str'>\n"
     ]
    }
   ],
   "source": [
    "bs = str(b,encoding = 'gbk')\n",
    "print(bs)\n",
    "print(type(bs))"
   ],
   "metadata": {
    "collapsed": false,
    "ExecuteTime": {
     "end_time": "2023-06-14T02:10:10.961583200Z",
     "start_time": "2023-06-14T02:10:10.944904700Z"
    }
   }
  },
  {
   "cell_type": "code",
   "execution_count": 11,
   "outputs": [
    {
     "name": "stdout",
     "output_type": "stream",
     "text": [
      "阳关\n",
      "<class 'str'>\n"
     ]
    }
   ],
   "source": [
    "us = str(u,encoding = 'utf-8')\n",
    "print(us)\n",
    "print(type(us))"
   ],
   "metadata": {
    "collapsed": false,
    "ExecuteTime": {
     "end_time": "2023-06-14T02:10:11.444385300Z",
     "start_time": "2023-06-14T02:10:11.428381100Z"
    }
   }
  },
  {
   "cell_type": "code",
   "execution_count": 1,
   "outputs": [
    {
     "name": "stdout",
     "output_type": "stream",
     "text": [
      "['\\x07bc', '\\x07bc']\n",
      "['\\x07bc', '\\x07bc']\n"
     ]
    }
   ],
   "source": [
    "import re\n",
    "s=r'\\abc'\n",
    "print(re.findall(s,'a\\abca\\abc'))\n",
    "ss = '\\abc'\n",
    "print(re.findall(ss,'a\\abca\\abc'))"
   ],
   "metadata": {
    "collapsed": false,
    "ExecuteTime": {
     "end_time": "2023-06-14T12:16:39.154145Z",
     "start_time": "2023-06-14T12:16:39.140278400Z"
    }
   }
  },
  {
   "cell_type": "code",
   "execution_count": 5,
   "outputs": [
    {
     "name": "stdout",
     "output_type": "stream",
     "text": [
      "a\\nbca\\nbc\n",
      "[]\n",
      "['\\nbc', '\\nbc']\n"
     ]
    }
   ],
   "source": [
    "import re\n",
    "s=r'\\nbc'\n",
    "print(r'a\\nbca\\nbc')\n",
    "print(re.findall(s,r'a\\nbca\\nbc'))\n",
    "ss = '\\nbc'\n",
    "print(re.findall(ss,'a\\nbca\\nbc'))"
   ],
   "metadata": {
    "collapsed": false,
    "ExecuteTime": {
     "end_time": "2023-06-14T12:18:56.925950900Z",
     "start_time": "2023-06-14T12:18:56.905748800Z"
    }
   }
  },
  {
   "cell_type": "code",
   "execution_count": 6,
   "outputs": [
    {
     "name": "stdout",
     "output_type": "stream",
     "text": [
      "a\\nbca\\nbc\n",
      "[]\n"
     ]
    }
   ],
   "source": [
    "import re\n",
    "s=r'\\nbc'\n",
    "print(re.findall(s,r'a\\nbca\\nbc'))"
   ],
   "metadata": {
    "collapsed": false,
    "ExecuteTime": {
     "end_time": "2023-06-14T12:19:21.994519500Z",
     "start_time": "2023-06-14T12:19:21.988176400Z"
    }
   }
  },
  {
   "cell_type": "code",
   "execution_count": 18,
   "outputs": [
    {
     "name": "stdout",
     "output_type": "stream",
     "text": [
      "['ma', 'mi', 'me', 'mw', 'me']\n",
      "['map', 'mit', 'mee', 'mwt', 'meq']\n",
      "['meqw']\n",
      "['meqwt']\n"
     ]
    }
   ],
   "source": [
    "s='map mit mee mwt meqwt'\n",
    "print(re.findall('m\\S',s))\n",
    "print(re.findall('m\\S\\S',s))\n",
    "print(re.findall('m\\S\\S\\S',s))\n",
    "print(re.findall('m\\S\\S\\S\\S',s))"
   ],
   "metadata": {
    "collapsed": false,
    "ExecuteTime": {
     "end_time": "2023-06-14T12:27:40.678664600Z",
     "start_time": "2023-06-14T12:27:40.669089800Z"
    }
   }
  },
  {
   "cell_type": "code",
   "execution_count": null,
   "outputs": [],
   "source": [
    "2\n",
    "rockscissorsscissorspaperpaperrockscissorsscissorspaperpaperrockrock\n",
    "scissorsscissorspaperpaperrockrock"
   ],
   "metadata": {
    "collapsed": false
   }
  }
 ],
 "metadata": {
  "kernelspec": {
   "display_name": "Python 3",
   "language": "python",
   "name": "python3"
  },
  "language_info": {
   "codemirror_mode": {
    "name": "ipython",
    "version": 2
   },
   "file_extension": ".py",
   "mimetype": "text/x-python",
   "name": "python",
   "nbconvert_exporter": "python",
   "pygments_lexer": "ipython2",
   "version": "2.7.6"
  }
 },
 "nbformat": 4,
 "nbformat_minor": 0
}
