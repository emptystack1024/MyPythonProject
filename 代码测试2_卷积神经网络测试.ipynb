{
 "cells": [
  {
   "cell_type": "code",
   "execution_count": 1,
   "outputs": [
    {
     "name": "stdout",
     "output_type": "stream",
     "text": [
      "WARNING:tensorflow:From C:\\Users\\33398\\.conda\\envs\\pythonProject\\Lib\\site-packages\\keras\\src\\losses.py:2976: The name tf.losses.sparse_softmax_cross_entropy is deprecated. Please use tf.compat.v1.losses.sparse_softmax_cross_entropy instead.\n"
     ]
    }
   ],
   "source": [
    "import numpy as np\n",
    "import tensorflow as tf\n",
    "from tensorflow import keras\n",
    "from keras.layers import Dense, Conv2D, Flatten, MaxPooling2D\n",
    "from keras.models import Sequential"
   ],
   "metadata": {
    "collapsed": false,
    "ExecuteTime": {
     "end_time": "2024-04-14T04:35:56.858696Z",
     "start_time": "2024-04-14T04:35:51.296698Z"
    }
   }
  },
  {
   "cell_type": "code",
   "outputs": [],
   "source": [
    "# 导入 TensorFlow 和 MNIST 数据集\n",
    "(train_images, train_labels), (test_images, test_labels) = tf.keras.datasets.mnist.load_data()\n",
    "\n",
    "# 重新塑造图像数据以匹配 CNN 的输入形状\n",
    "train_images = train_images.reshape(60000, 28, 28, 1)  # 将训练集图像重新塑造为 (60000, 28, 28, 1) 的形状\n",
    "test_images = test_images.reshape(10000, 28, 28, 1)    # 将测试集图像重新塑造为 (10000, 28, 28, 1) 的形状\n",
    "\n",
    "# 对标签进行独热编码，以适应模型的输出形式\n",
    "test_labels = tf.keras.utils.to_categorical(test_labels)    # 将测试集标签进行独热编码\n",
    "train_labels = tf.keras.utils.to_categorical(train_labels)  # 将训练集标签进行独热编码\n",
    "\n",
    "# 将像素值标准化至 [0,1] 区间，以提高训练的稳定性和收敛速度\n",
    "train_images = train_images / 255.0  # 将训练集像素值标准化至 [0,1] 区间\n",
    "test_images = test_images / 255.0    # 将测试集像素值标准化至 [0,1] 区间"
   ],
   "metadata": {
    "collapsed": false,
    "ExecuteTime": {
     "end_time": "2024-04-14T04:36:01.900328Z",
     "start_time": "2024-04-14T04:36:01.336892Z"
    }
   },
   "execution_count": 2
  },
  {
   "cell_type": "code",
   "outputs": [
    {
     "name": "stdout",
     "output_type": "stream",
     "text": [
      "WARNING:tensorflow:From C:\\Users\\33398\\.conda\\envs\\pythonProject\\Lib\\site-packages\\keras\\src\\backend.py:873: The name tf.get_default_graph is deprecated. Please use tf.compat.v1.get_default_graph instead.\n",
      "WARNING:tensorflow:From C:\\Users\\33398\\.conda\\envs\\pythonProject\\Lib\\site-packages\\keras\\src\\layers\\pooling\\max_pooling2d.py:161: The name tf.nn.max_pool is deprecated. Please use tf.nn.max_pool2d instead.\n",
      "WARNING:tensorflow:From C:\\Users\\33398\\.conda\\envs\\pythonProject\\Lib\\site-packages\\keras\\src\\optimizers\\__init__.py:309: The name tf.train.Optimizer is deprecated. Please use tf.compat.v1.train.Optimizer instead.\n"
     ]
    }
   ],
   "source": [
    "# 创建一个序贯模型\n",
    "model = Sequential()\n",
    "\n",
    "# 添加第一个卷积层： - 32个卷积核，每个卷积核大小为3x3 - 激活函数为ReLU\n",
    "# - 输入图像大小为28x28，单通道\n",
    "model.add(Conv2D(32, kernel_size=3, activation='relu', input_shape=(28,28,1)))\n",
    "\n",
    "# 添加第一个池化层： - 池化窗口大小为3x3\n",
    "model.add(MaxPooling2D(pool_size=(3, 3)))\n",
    "\n",
    "# 添加第二个卷积层： - 24个卷积核，每个卷积核大小为3x3 - 激活函数为ReLU\n",
    "model.add(Conv2D(24, kernel_size=3, activation='relu'))\n",
    "\n",
    "# 添加第二个池化层： - 池化窗口大小为2x2\n",
    "model.add(MaxPooling2D(pool_size=(2, 2)))\n",
    "\n",
    "# 添加展平层，将多维输入展平为一维\n",
    "model.add(Flatten())\n",
    "\n",
    "# 添加全连接层： - 输出维度为10，因为数据集中有10个类别 - 激活函数为softmax，用于多分类问题\n",
    "model.add(Dense(10, activation='softmax'))\n",
    "\n",
    "# 编译模型： - 优化器为Adam - 损失函数为交叉熵损失，适用于多分类问题 - 评估指标为准确率\n",
    "model.compile(optimizer='adam', loss='categorical_crossentropy', metrics=['accuracy'])"
   ],
   "metadata": {
    "collapsed": false,
    "ExecuteTime": {
     "end_time": "2024-04-14T04:36:07.235230Z",
     "start_time": "2024-04-14T04:36:06.689191Z"
    }
   },
   "execution_count": 3
  },
  {
   "cell_type": "code",
   "outputs": [
    {
     "name": "stdout",
     "output_type": "stream",
     "text": [
      "Epoch 1/5\n",
      "WARNING:tensorflow:From C:\\Users\\33398\\.conda\\envs\\pythonProject\\Lib\\site-packages\\keras\\src\\utils\\tf_utils.py:492: The name tf.ragged.RaggedTensorValue is deprecated. Please use tf.compat.v1.ragged.RaggedTensorValue instead.\n",
      "WARNING:tensorflow:From C:\\Users\\33398\\.conda\\envs\\pythonProject\\Lib\\site-packages\\keras\\src\\engine\\base_layer_utils.py:384: The name tf.executing_eagerly_outside_functions is deprecated. Please use tf.compat.v1.executing_eagerly_outside_functions instead.\n",
      "1875/1875 [==============================] - 11s 5ms/step - loss: 0.2533 - accuracy: 0.9260 - val_loss: 0.0827 - val_accuracy: 0.9735\n",
      "Epoch 2/5\n",
      "1875/1875 [==============================] - 11s 6ms/step - loss: 0.0840 - accuracy: 0.9743 - val_loss: 0.0593 - val_accuracy: 0.9806\n",
      "Epoch 3/5\n",
      "1875/1875 [==============================] - 11s 6ms/step - loss: 0.0637 - accuracy: 0.9803 - val_loss: 0.0433 - val_accuracy: 0.9846\n",
      "Epoch 4/5\n",
      "1875/1875 [==============================] - 10s 6ms/step - loss: 0.0518 - accuracy: 0.9840 - val_loss: 0.0399 - val_accuracy: 0.9867\n",
      "Epoch 5/5\n",
      "1875/1875 [==============================] - 17s 9ms/step - loss: 0.0448 - accuracy: 0.9863 - val_loss: 0.0543 - val_accuracy: 0.9820\n"
     ]
    },
    {
     "data": {
      "text/plain": "<keras.src.callbacks.History at 0x1eac3a45710>"
     },
     "execution_count": 4,
     "metadata": {},
     "output_type": "execute_result"
    }
   ],
   "source": [
    "model.fit(train_images, train_labels, validation_data=(test_images, test_labels), epochs=5)"
   ],
   "metadata": {
    "collapsed": false,
    "ExecuteTime": {
     "end_time": "2024-04-14T04:37:12.199178Z",
     "start_time": "2024-04-14T04:36:11.314008Z"
    }
   },
   "execution_count": 4
  },
  {
   "cell_type": "code",
   "outputs": [],
   "source": [],
   "metadata": {
    "collapsed": false,
    "ExecuteTime": {
     "end_time": "2024-04-14T04:23:27.465499Z",
     "start_time": "2024-04-14T04:23:27.462100Z"
    }
   },
   "execution_count": 8
  }
 ],
 "metadata": {
  "kernelspec": {
   "display_name": "Python 3",
   "language": "python",
   "name": "python3"
  },
  "language_info": {
   "codemirror_mode": {
    "name": "ipython",
    "version": 2
   },
   "file_extension": ".py",
   "mimetype": "text/x-python",
   "name": "python",
   "nbconvert_exporter": "python",
   "pygments_lexer": "ipython2",
   "version": "2.7.6"
  }
 },
 "nbformat": 4,
 "nbformat_minor": 0
}
