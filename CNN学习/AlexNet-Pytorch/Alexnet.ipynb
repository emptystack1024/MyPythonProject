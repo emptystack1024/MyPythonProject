{
 "cells": [
  {
   "cell_type": "code",
   "id": "initial_id",
   "metadata": {
    "collapsed": true,
    "ExecuteTime": {
     "end_time": "2024-05-08T07:04:19.254244Z",
     "start_time": "2024-05-08T07:04:19.219365Z"
    }
   },
   "source": [
    "import pytorch\n",
    "\n",
    "import os\n",
    "import zipfile\n",
    "import random\n",
    "import json\n",
    "import cv2\n",
    "import numpy as np\n",
    "from PIL import Image\n",
    "import matplotlib.pyplot as plt"
   ],
   "outputs": [
    {
     "ename": "ModuleNotFoundError",
     "evalue": "No module named 'pytorch'",
     "output_type": "error",
     "traceback": [
      "\u001B[1;31m---------------------------------------------------------------------------\u001B[0m",
      "\u001B[1;31mModuleNotFoundError\u001B[0m                       Traceback (most recent call last)",
      "Cell \u001B[1;32mIn[5], line 1\u001B[0m\n\u001B[1;32m----> 1\u001B[0m \u001B[38;5;28;01mimport\u001B[39;00m \u001B[38;5;21;01mpytorch\u001B[39;00m\n\u001B[0;32m      3\u001B[0m \u001B[38;5;28;01mimport\u001B[39;00m \u001B[38;5;21;01mos\u001B[39;00m\n\u001B[0;32m      4\u001B[0m \u001B[38;5;28;01mimport\u001B[39;00m \u001B[38;5;21;01mzipfile\u001B[39;00m\n",
      "\u001B[1;31mModuleNotFoundError\u001B[0m: No module named 'pytorch'"
     ]
    }
   ],
   "execution_count": 5
  },
  {
   "metadata": {
    "ExecuteTime": {
     "end_time": "2024-05-08T07:03:57.449679Z",
     "start_time": "2024-05-08T07:03:57.429192Z"
    }
   },
   "cell_type": "code",
   "source": [
    "num_classes = 25\n",
    "##########################################################\n",
    "# 调整的参数\n",
    "picture_size = 224\n",
    "epoch_test = 100\n",
    "batch_size_test = 64\n",
    "learn_rate_tes = 0.004\n",
    "\n",
    "'''\n",
    "参数配置\n",
    "'''\n",
    "train_parameters = {\n",
    "    \"input_size\": [3, 224, 224],                     # 输入图片的shape\n",
    "    \"class_dim\": 25,                                 # 分类数\n",
    "    \"src_path\":\"./archive_train.zip\",   # 原始数据集路径\n",
    "    \"target_path\":\"./data/dataset\",     # 要解压的路径 \n",
    "    \"train_list_path\": \"./train.txt\",                # train_data.txt路径\n",
    "    \"eval_list_path\": \"./eval.txt\",                  # eval_data.txt路径\n",
    "    \"label_dict\":{},                                 # 标签字典\n",
    "    \"num_epochs\":epoch_test,                                 # 训练轮数\n",
    "    \"train_batch_size\": batch_size_test,                          # 批次的大小\n",
    "    \"learning_strategy\": {                           # 优化函数相关的配置\n",
    "        \"lr\": learn_rate_tes                                  # 超参数学习率\n",
    "    }\n",
    "}"
   ],
   "id": "3d9ce13dd5936f70",
   "outputs": [],
   "execution_count": 1
  },
  {
   "metadata": {
    "ExecuteTime": {
     "end_time": "2024-05-08T07:03:57.489157Z",
     "start_time": "2024-05-08T07:03:57.463209Z"
    }
   },
   "cell_type": "code",
   "source": [
    "def unzip_data(src_path,target_path):\n",
    "    '''\n",
    "    解压原始数据集，将src_path路径下的zip包解压至data/dataset目录下\n",
    "    '''\n",
    "    if(not os.path.isdir(target_path)):\n",
    "        z = zipfile.ZipFile(src_path, 'r')\n",
    "        z.extractall(path=target_path)\n",
    "        z.close()\n",
    "    else:\n",
    "        print(\"文件已解压\")"
   ],
   "id": "1c9b44a81c4f56b5",
   "outputs": [],
   "execution_count": 2
  },
  {
   "metadata": {
    "ExecuteTime": {
     "end_time": "2024-05-08T07:04:04.040969Z",
     "start_time": "2024-05-08T07:04:04.023814Z"
    }
   },
   "cell_type": "code",
   "source": [
    "def get_data_list(target_path,train_list_path,eval_list_path):\n",
    "    '''\n",
    "    生成数据列表\n",
    "    '''\n",
    "    # 获取所有类别保存的文件夹名称\n",
    "    data_list_path=target_path\n",
    "    class_dirs = os.listdir(data_list_path)\n",
    "    if '__MACOSX' in class_dirs:\n",
    "        class_dirs.remove('__MACOSX')\n",
    "    # 存储要写进eval.txt和train.txt中的内容\n",
    "    trainer_list=[]\n",
    "    eval_list=[]\n",
    "    class_label=0\n",
    "    i = 0\n",
    "\n",
    "    for class_dir in class_dirs:\n",
    "        path = os.path.join(data_list_path,class_dir)\n",
    "        # 获取所有图片\n",
    "        img_paths = os.listdir(path)\n",
    "        for img_path in img_paths:                                        # 遍历文件夹下的每个图片\n",
    "            i += 1\n",
    "            name_path = os.path.join(path,img_path)                       # 每张图片的路径\n",
    "            if i % 10 == 0:\n",
    "                eval_list.append(name_path + \"\\t%d\" % class_label + \"\\n\")\n",
    "            else:\n",
    "                trainer_list.append(name_path + \"\\t%d\" % class_label + \"\\n\")\n",
    "\n",
    "        train_parameters['label_dict'][str(class_label)]=class_dir\n",
    "        class_label += 1\n",
    "\n",
    "    #乱序  验证集\n",
    "    random.shuffle(eval_list)\n",
    "    with open(eval_list_path, 'a') as f:\n",
    "        for eval_image in eval_list:\n",
    "            f.write(eval_image)\n",
    "\n",
    "            #乱序训练集【补充代码】       \n",
    "    random.shuffle(trainer_list)\n",
    "    with open(train_list_path, 'a') as f:\n",
    "        for trainer_image in trainer_list:\n",
    "            f.write(trainer_image)\n",
    "\n",
    "\n",
    "    print ('生成数据列表完成！')"
   ],
   "id": "a393742cb59836a0",
   "outputs": [],
   "execution_count": 3
  },
  {
   "metadata": {
    "ExecuteTime": {
     "end_time": "2024-05-08T07:04:12.972179Z",
     "start_time": "2024-05-08T07:04:11.402088Z"
    }
   },
   "cell_type": "code",
   "source": [
    "# 参数初始化\n",
    "src_path=train_parameters['src_path']\n",
    "target_path=train_parameters['target_path']\n",
    "train_list_path=train_parameters['train_list_path']\n",
    "eval_list_path=train_parameters['eval_list_path']\n",
    "batch_size=train_parameters['train_batch_size']\n",
    "\n",
    "# 解压原始数据到指定路径\n",
    "unzip_data(src_path,target_path)\n",
    "\n",
    "#每次生成数据列表前，首先清空train.txt和eval.txt\n",
    "with open(train_list_path, 'w') as f:\n",
    "    f.seek(0)\n",
    "    f.truncate()\n",
    "with open(eval_list_path, 'w') as f:\n",
    "    f.seek(0)\n",
    "    f.truncate()\n",
    "\n",
    "#生成数据列表   \n",
    "get_data_list(target_path,train_list_path,eval_list_path)"
   ],
   "id": "c3d94efa74405108",
   "outputs": [
    {
     "ename": "NameError",
     "evalue": "name 'os' is not defined",
     "output_type": "error",
     "traceback": [
      "\u001B[1;31m---------------------------------------------------------------------------\u001B[0m",
      "\u001B[1;31mNameError\u001B[0m                                 Traceback (most recent call last)",
      "Cell \u001B[1;32mIn[4], line 9\u001B[0m\n\u001B[0;32m      6\u001B[0m batch_size\u001B[38;5;241m=\u001B[39mtrain_parameters[\u001B[38;5;124m'\u001B[39m\u001B[38;5;124mtrain_batch_size\u001B[39m\u001B[38;5;124m'\u001B[39m]\n\u001B[0;32m      8\u001B[0m \u001B[38;5;66;03m# 解压原始数据到指定路径\u001B[39;00m\n\u001B[1;32m----> 9\u001B[0m unzip_data(src_path,target_path)\n\u001B[0;32m     11\u001B[0m \u001B[38;5;66;03m#每次生成数据列表前，首先清空train.txt和eval.txt\u001B[39;00m\n\u001B[0;32m     12\u001B[0m \u001B[38;5;28;01mwith\u001B[39;00m \u001B[38;5;28mopen\u001B[39m(train_list_path, \u001B[38;5;124m'\u001B[39m\u001B[38;5;124mw\u001B[39m\u001B[38;5;124m'\u001B[39m) \u001B[38;5;28;01mas\u001B[39;00m f:\n",
      "Cell \u001B[1;32mIn[2], line 5\u001B[0m, in \u001B[0;36munzip_data\u001B[1;34m(src_path, target_path)\u001B[0m\n\u001B[0;32m      1\u001B[0m \u001B[38;5;28;01mdef\u001B[39;00m \u001B[38;5;21munzip_data\u001B[39m(src_path,target_path):\n\u001B[0;32m      2\u001B[0m \u001B[38;5;250m    \u001B[39m\u001B[38;5;124;03m'''\u001B[39;00m\n\u001B[0;32m      3\u001B[0m \u001B[38;5;124;03m    解压原始数据集，将src_path路径下的zip包解压至data/dataset目录下\u001B[39;00m\n\u001B[0;32m      4\u001B[0m \u001B[38;5;124;03m    '''\u001B[39;00m\n\u001B[1;32m----> 5\u001B[0m     \u001B[38;5;28;01mif\u001B[39;00m(\u001B[38;5;129;01mnot\u001B[39;00m os\u001B[38;5;241m.\u001B[39mpath\u001B[38;5;241m.\u001B[39misdir(target_path)):\n\u001B[0;32m      6\u001B[0m         z \u001B[38;5;241m=\u001B[39m zipfile\u001B[38;5;241m.\u001B[39mZipFile(src_path, \u001B[38;5;124m'\u001B[39m\u001B[38;5;124mr\u001B[39m\u001B[38;5;124m'\u001B[39m)\n\u001B[0;32m      7\u001B[0m         z\u001B[38;5;241m.\u001B[39mextractall(path\u001B[38;5;241m=\u001B[39mtarget_path)\n",
      "\u001B[1;31mNameError\u001B[0m: name 'os' is not defined"
     ]
    }
   ],
   "execution_count": 4
  },
  {
   "metadata": {},
   "cell_type": "code",
   "outputs": [],
   "execution_count": null,
   "source": "",
   "id": "89594c1ac32f28e8"
  }
 ],
 "metadata": {
  "kernelspec": {
   "display_name": "Python 3",
   "language": "python",
   "name": "python3"
  },
  "language_info": {
   "codemirror_mode": {
    "name": "ipython",
    "version": 2
   },
   "file_extension": ".py",
   "mimetype": "text/x-python",
   "name": "python",
   "nbconvert_exporter": "python",
   "pygments_lexer": "ipython2",
   "version": "2.7.6"
  }
 },
 "nbformat": 4,
 "nbformat_minor": 5
}
