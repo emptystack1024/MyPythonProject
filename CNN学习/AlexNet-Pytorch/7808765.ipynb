{
 "cells": [
  {
   "cell_type": "markdown",
   "metadata": {
    "collapsed": false
   },
   "source": [
    "# **任务描述：**\n",
    "\n",
    "### 本次实践是一个多分类任务，需要将照片中的宝石分别进行识别，完成**宝石的识别**\n",
    "\n",
    "### **实践平台：百度AI实训平台-AI Studio、PaddlePaddle2.0.0 动态图**\n",
    "### 要求：使用CNN方法实现宝石识别！\n",
    "\n",
    "（1）补充空白代码，包含网络结构设计\n",
    "\n",
    "（2）调节网络结构设计、调节参数设置，主要调整训练轮次epoch，和learning_strategy相关参数，根据训练loss与准确率，观测模型性能\n",
    "\n",
    "（3）学有余力同学，可以在训练阶段，若干轮次epoch（可以自行设定）进行一次验证，随时观测验证集上效果，并把验证集上的loss与acc画成图，根据此可以观测模型是否有过拟合。\n",
    "\n",
    "![](https://ai-studio-static-online.cdn.bcebos.com/7640d4434f894f5dbae1d85c62e54b8476e24856aabc4c5f9915fea1b26f3ebc)\n"
   ]
  },
  {
   "cell_type": "markdown",
   "metadata": {
    "collapsed": false
   },
   "source": [
    "# 卷积神经网络\n",
    "### **卷积神经网络是提取图像特征的经典网络，其结构一般包含多个卷积层与池化层的交替组合。**\n",
    "![](https://ai-studio-static-online.cdn.bcebos.com/5099df2494f144e4b11b49b02b4c113c0507700115504cf98b9a972fd2393d75)\n",
    "\n"
   ]
  },
  {
   "cell_type": "markdown",
   "metadata": {
    "collapsed": false
   },
   "source": [
    "# 数据集介绍\n",
    "\n",
    "* **数据集文件名为archive_train.zip,archive_test.zip。**\n",
    "\n",
    "* **该数据集包含25个类别不同宝石的图像。**\n",
    "\n",
    "* **这些类别已经分为训练和测试数据。**\n",
    "\n",
    "* **图像大小不一，格式为.jpeg。**\n",
    "\n",
    "\n",
    "![](https://ai-studio-static-online.cdn.bcebos.com/7640d4434f894f5dbae1d85c62e54b8476e24856aabc4c5f9915fea1b26f3ebc)\n"
   ]
  },
  {
   "cell_type": "code",
   "execution_count": 2,
   "metadata": {
    "collapsed": false
   },
   "outputs": [],
   "source": [
    "# 查看当前挂载的数据集目录, 该目录下的变更重启环境后会自动还原\n",
    "# View dataset directory. This directory will be recovered automatically after resetting environment. \n",
    "# !ls /home/aistudio/data"
   ]
  },
  {
   "cell_type": "code",
   "execution_count": null,
   "metadata": {
    "collapsed": false
   },
   "outputs": [
    {
     "ename": "",
     "evalue": "",
     "output_type": "error",
     "traceback": [
      "\u001b[1;31mnotebook controller is DISPOSED. \n",
      "\u001b[1;31m有关更多详细信息，请查看 Jupyter <a href='command:jupyter.viewOutput'>log</a>。"
     ]
    },
    {
     "ename": "",
     "evalue": "",
     "output_type": "error",
     "traceback": [
      "\u001b[1;31mnotebook controller is DISPOSED. \n",
      "\u001b[1;31m有关更多详细信息，请查看 Jupyter <a href='command:jupyter.viewOutput'>log</a>。"
     ]
    }
   ],
   "source": []
  },
  {
   "cell_type": "code",
   "execution_count": null,
   "metadata": {
    "collapsed": false
   },
   "outputs": [
    {
     "name": "stdout",
     "output_type": "stream",
     "text": [
      "2.4.2\n"
     ]
    },
    {
     "ename": "",
     "evalue": "",
     "output_type": "error",
     "traceback": [
      "\u001b[1;31mnotebook controller is DISPOSED. \n",
      "\u001b[1;31m有关更多详细信息，请查看 Jupyter <a href='command:jupyter.viewOutput'>log</a>。"
     ]
    },
    {
     "ename": "",
     "evalue": "",
     "output_type": "error",
     "traceback": [
      "\u001b[1;31mnotebook controller is DISPOSED. \n",
      "\u001b[1;31m有关更多详细信息，请查看 Jupyter <a href='command:jupyter.viewOutput'>log</a>。"
     ]
    }
   ],
   "source": [
    "#导入需要的包\n",
    "import os\n",
    "import zipfile\n",
    "import random\n",
    "import json\n",
    "import cv2\n",
    "import numpy as np\n",
    "import paddle.nn.functional as F\n",
    "from PIL import Image\n",
    "import matplotlib.pyplot as plt\n",
    "import paddle\n",
    "from paddle.io import Dataset\n",
    "import paddle.nn as nn \n",
    "\n",
    "print(paddle.__version__)"
   ]
  },
  {
   "cell_type": "code",
   "execution_count": null,
   "metadata": {
    "collapsed": false
   },
   "outputs": [
    {
     "ename": "",
     "evalue": "",
     "output_type": "error",
     "traceback": [
      "\u001b[1;31mnotebook controller is DISPOSED. \n",
      "\u001b[1;31m有关更多详细信息，请查看 Jupyter <a href='command:jupyter.viewOutput'>log</a>。"
     ]
    },
    {
     "ename": "",
     "evalue": "",
     "output_type": "error",
     "traceback": [
      "\u001b[1;31mnotebook controller is DISPOSED. \n",
      "\u001b[1;31m有关更多详细信息，请查看 Jupyter <a href='command:jupyter.viewOutput'>log</a>。"
     ]
    }
   ],
   "source": [
    "# paddle.utils.run_check()"
   ]
  },
  {
   "cell_type": "markdown",
   "metadata": {
    "collapsed": false
   },
   "source": [
    "# 1、数据准备"
   ]
  },
  {
   "cell_type": "code",
   "execution_count": null,
   "metadata": {
    "collapsed": false
   },
   "outputs": [
    {
     "ename": "",
     "evalue": "",
     "output_type": "error",
     "traceback": [
      "\u001b[1;31mnotebook controller is DISPOSED. \n",
      "\u001b[1;31m有关更多详细信息，请查看 Jupyter <a href='command:jupyter.viewOutput'>log</a>。"
     ]
    },
    {
     "ename": "",
     "evalue": "",
     "output_type": "error",
     "traceback": [
      "\u001b[1;31mnotebook controller is DISPOSED. \n",
      "\u001b[1;31m有关更多详细信息，请查看 Jupyter <a href='command:jupyter.viewOutput'>log</a>。"
     ]
    }
   ],
   "source": [
    "num_classes = 25\n",
    "##########################################################\n",
    "# 调整的参数\n",
    "picture_size = 224\n",
    "epoch_test = 100\n",
    "batch_size_test = 64\n",
    "learn_rate_tes = 0.004\n",
    "\n",
    "'''\n",
    "参数配置\n",
    "'''\n",
    "train_parameters = {\n",
    "    \"input_size\": [3, 224, 224],                     # 输入图片的shape\n",
    "    \"class_dim\": 25,                                 # 分类数\n",
    "    \"src_path\":\"./archive_train.zip\",   # 原始数据集路径\n",
    "    \"target_path\":\"/home/asus/文档/GitHub/MyPythonProject/CNN学习/AlexNet-Pytorch/data/dataset\",     # 要解压的路径 \n",
    "    \"train_list_path\": \"./train.txt\",                # train_data.txt路径\n",
    "    \"eval_list_path\": \"./eval.txt\",                  # eval_data.txt路径\n",
    "    \"label_dict\":{},                                 # 标签字典\n",
    "    \"num_epochs\":epoch_test,                                 # 训练轮数\n",
    "    \"train_batch_size\": batch_size_test,                          # 批次的大小\n",
    "    \"learning_strategy\": {                           # 优化函数相关的配置\n",
    "        \"lr\": learn_rate_tes                                  # 超参数学习率\n",
    "    } \n",
    "}\n"
   ]
  },
  {
   "cell_type": "code",
   "execution_count": null,
   "metadata": {
    "collapsed": false
   },
   "outputs": [
    {
     "ename": "",
     "evalue": "",
     "output_type": "error",
     "traceback": [
      "\u001b[1;31mnotebook controller is DISPOSED. \n",
      "\u001b[1;31m有关更多详细信息，请查看 Jupyter <a href='command:jupyter.viewOutput'>log</a>。"
     ]
    },
    {
     "ename": "",
     "evalue": "",
     "output_type": "error",
     "traceback": [
      "\u001b[1;31mnotebook controller is DISPOSED. \n",
      "\u001b[1;31m有关更多详细信息，请查看 Jupyter <a href='command:jupyter.viewOutput'>log</a>。"
     ]
    }
   ],
   "source": [
    "def unzip_data(src_path,target_path):\n",
    "    '''\n",
    "    解压原始数据集，将src_path路径下的zip包解压至data/dataset目录下\n",
    "    ''' \n",
    "    if(not os.path.isdir(target_path)):    \n",
    "        z = zipfile.ZipFile(src_path, 'r')\n",
    "        z.extractall(path=target_path)\n",
    "        z.close()\n",
    "    else:\n",
    "        print(\"文件已解压\")"
   ]
  },
  {
   "cell_type": "code",
   "execution_count": null,
   "metadata": {
    "collapsed": false
   },
   "outputs": [
    {
     "ename": "",
     "evalue": "",
     "output_type": "error",
     "traceback": [
      "\u001b[1;31mnotebook controller is DISPOSED. \n",
      "\u001b[1;31m有关更多详细信息，请查看 Jupyter <a href='command:jupyter.viewOutput'>log</a>。"
     ]
    },
    {
     "ename": "",
     "evalue": "",
     "output_type": "error",
     "traceback": [
      "\u001b[1;31mnotebook controller is DISPOSED. \n",
      "\u001b[1;31m有关更多详细信息，请查看 Jupyter <a href='command:jupyter.viewOutput'>log</a>。"
     ]
    }
   ],
   "source": [
    "def get_data_list(target_path,train_list_path,eval_list_path):\n",
    "    '''\n",
    "    生成数据列表\n",
    "    '''\n",
    "    # 获取所有类别保存的文件夹名称\n",
    "    data_list_path=target_path\n",
    "    class_dirs = os.listdir(data_list_path) \n",
    "    if '__MACOSX' in class_dirs:\n",
    "        class_dirs.remove('__MACOSX')\n",
    "    # 存储要写进eval.txt和train.txt中的内容\n",
    "    trainer_list=[]\n",
    "    eval_list=[]\n",
    "    class_label=0\n",
    "    i = 0\n",
    "    \n",
    "    for class_dir in class_dirs:   \n",
    "        path = os.path.join(data_list_path,class_dir)\n",
    "        # 获取所有图片\n",
    "        img_paths = os.listdir(path)\n",
    "        for img_path in img_paths:                                        # 遍历文件夹下的每个图片\n",
    "            i += 1\n",
    "            name_path = os.path.join(path,img_path)                       # 每张图片的路径\n",
    "            if i % 10 == 0:                                                \n",
    "                eval_list.append(name_path + \"\\t%d\" % class_label + \"\\n\")\n",
    "            else: \n",
    "                trainer_list.append(name_path + \"\\t%d\" % class_label + \"\\n\") \n",
    "        \n",
    "        train_parameters['label_dict'][str(class_label)]=class_dir\n",
    "        class_label += 1\n",
    "            \n",
    "    #乱序  验证集\n",
    "    random.shuffle(eval_list)\n",
    "    with open(eval_list_path, 'a') as f:\n",
    "        for eval_image in eval_list:\n",
    "            f.write(eval_image) \n",
    "            \n",
    "    #乱序训练集【补充代码】       \n",
    "    random.shuffle(trainer_list)\n",
    "    with open(train_list_path, 'a') as f:\n",
    "        for trainer_image in trainer_list:\n",
    "            f.write(trainer_image) \n",
    "\n",
    "\n",
    "    print ('生成数据列表完成！')"
   ]
  },
  {
   "cell_type": "code",
   "execution_count": null,
   "metadata": {
    "collapsed": false
   },
   "outputs": [
    {
     "name": "stdout",
     "output_type": "stream",
     "text": [
      "文件已解压\n",
      "生成数据列表完成！\n"
     ]
    },
    {
     "ename": "",
     "evalue": "",
     "output_type": "error",
     "traceback": [
      "\u001b[1;31mnotebook controller is DISPOSED. \n",
      "\u001b[1;31m有关更多详细信息，请查看 Jupyter <a href='command:jupyter.viewOutput'>log</a>。"
     ]
    },
    {
     "ename": "",
     "evalue": "",
     "output_type": "error",
     "traceback": [
      "\u001b[1;31mnotebook controller is DISPOSED. \n",
      "\u001b[1;31m有关更多详细信息，请查看 Jupyter <a href='command:jupyter.viewOutput'>log</a>。"
     ]
    }
   ],
   "source": [
    "# 参数初始化\n",
    "src_path=train_parameters['src_path']\n",
    "target_path=train_parameters['target_path']\n",
    "train_list_path=train_parameters['train_list_path']\n",
    "eval_list_path=train_parameters['eval_list_path']\n",
    "batch_size=train_parameters['train_batch_size']\n",
    "\n",
    "# 解压原始数据到指定路径\n",
    "unzip_data(src_path,target_path)\n",
    "\n",
    "#每次生成数据列表前，首先清空train.txt和eval.txt\n",
    "with open(train_list_path, 'w') as f: \n",
    "    f.seek(0)\n",
    "    f.truncate() \n",
    "with open(eval_list_path, 'w') as f: \n",
    "    f.seek(0)\n",
    "    f.truncate() \n",
    "    \n",
    "#生成数据列表   \n",
    "get_data_list(target_path,train_list_path,eval_list_path)"
   ]
  },
  {
   "cell_type": "code",
   "execution_count": null,
   "metadata": {
    "collapsed": false
   },
   "outputs": [
    {
     "ename": "",
     "evalue": "",
     "output_type": "error",
     "traceback": [
      "\u001b[1;31mnotebook controller is DISPOSED. \n",
      "\u001b[1;31m有关更多详细信息，请查看 Jupyter <a href='command:jupyter.viewOutput'>log</a>。"
     ]
    },
    {
     "ename": "",
     "evalue": "",
     "output_type": "error",
     "traceback": [
      "\u001b[1;31mnotebook controller is DISPOSED. \n",
      "\u001b[1;31m有关更多详细信息，请查看 Jupyter <a href='command:jupyter.viewOutput'>log</a>。"
     ]
    }
   ],
   "source": [
    "class Reader(Dataset):\n",
    "    def __init__(self, data_path, mode='train'):\n",
    "        \"\"\"\n",
    "        数据读取器\n",
    "        :param data_path: 数据集所在路径\n",
    "        :param mode: train or eval\n",
    "        \"\"\"\n",
    "        super().__init__()\n",
    "        self.data_path = data_path\n",
    "        self.img_paths = []\n",
    "        self.labels = []\n",
    "\n",
    "        if mode == 'train':\n",
    "            with open(os.path.join(self.data_path, \"train.txt\"), \"r\", encoding=\"utf-8\") as f:\n",
    "                self.info = f.readlines()\n",
    "            for img_info in self.info:\n",
    "                img_path, label = img_info.strip().split('\\t')\n",
    "                self.img_paths.append(img_path)\n",
    "                self.labels.append(int(label))\n",
    "\n",
    "        else:\n",
    "            with open(os.path.join(self.data_path, \"eval.txt\"), \"r\", encoding=\"utf-8\") as f:\n",
    "                self.info = f.readlines()\n",
    "            for img_info in self.info:\n",
    "                img_path, label = img_info.strip().split('\\t')\n",
    "                self.img_paths.append(img_path)\n",
    "                self.labels.append(int(label))\n",
    "\n",
    "\n",
    "    def __getitem__(self, index):\n",
    "        \"\"\"\n",
    "        获取一组数据\n",
    "        :param index: 文件索引号\n",
    "        :return:\n",
    "        \"\"\"\n",
    "        # 第一步打开图像文件并获取label值\n",
    "        img_path = self.img_paths[index]\n",
    "        img = Image.open(img_path)\n",
    "        if img.mode != 'RGB':\n",
    "            img = img.convert('RGB') \n",
    "\n",
    "        img = img.resize((picture_size,picture_size), Image.BILINEAR)\n",
    "        img = np.array(img).astype('float32')\n",
    "        img = img.transpose((2, 0, 1)) / 255\n",
    "        label = self.labels[index]\n",
    "        label = np.array([label], dtype=\"int64\")\n",
    "        return img, label\n",
    "\n",
    "    def print_sample(self, index: int = 0):\n",
    "        print(\"文件名\", self.img_paths[index], \"\\t标签值\", self.labels[index])\n",
    "\n",
    "    def __len__(self):\n",
    "        return len(self.img_paths)"
   ]
  },
  {
   "cell_type": "code",
   "execution_count": null,
   "metadata": {
    "collapsed": false
   },
   "outputs": [
    {
     "ename": "",
     "evalue": "",
     "output_type": "error",
     "traceback": [
      "\u001b[1;31mnotebook controller is DISPOSED. \n",
      "\u001b[1;31m有关更多详细信息，请查看 Jupyter <a href='command:jupyter.viewOutput'>log</a>。"
     ]
    },
    {
     "ename": "",
     "evalue": "",
     "output_type": "error",
     "traceback": [
      "\u001b[1;31mnotebook controller is DISPOSED. \n",
      "\u001b[1;31m有关更多详细信息，请查看 Jupyter <a href='command:jupyter.viewOutput'>log</a>。"
     ]
    }
   ],
   "source": [
    "#训练数据加载\n",
    "train_dataset = Reader('./',mode='train')\n",
    "train_loader = paddle.io.DataLoader(train_dataset, batch_size=16, shuffle=True)\n",
    "\n",
    "#测试数据加载\n",
    "eval_dataset = Reader('./',mode='eval')\n",
    "eval_loader = paddle.io.DataLoader(eval_dataset, batch_size = 8, shuffle=False)"
   ]
  },
  {
   "cell_type": "code",
   "execution_count": null,
   "metadata": {
    "collapsed": false
   },
   "outputs": [
    {
     "name": "stdout",
     "output_type": "stream",
     "text": [
      "文件名 /home/asus/文档/GitHub/MyPythonProject/CNN学习/AlexNet-Pytorch/data/dataset/Labradorite/labradorite_20.jpg \t标签值 3\n",
      "730\n",
      "文件名 /home/asus/文档/GitHub/MyPythonProject/CNN学习/AlexNet-Pytorch/data/dataset/Rhodochrosite/rhodochrosite_1.jpg \t标签值 17\n",
      "81\n",
      "(3, 224, 224)\n",
      "(1,)\n"
     ]
    },
    {
     "ename": "",
     "evalue": "",
     "output_type": "error",
     "traceback": [
      "\u001b[1;31mnotebook controller is DISPOSED. \n",
      "\u001b[1;31m有关更多详细信息，请查看 Jupyter <a href='command:jupyter.viewOutput'>log</a>。"
     ]
    },
    {
     "ename": "",
     "evalue": "",
     "output_type": "error",
     "traceback": [
      "\u001b[1;31mnotebook controller is DISPOSED. \n",
      "\u001b[1;31m有关更多详细信息，请查看 Jupyter <a href='command:jupyter.viewOutput'>log</a>。"
     ]
    }
   ],
   "source": [
    "train_dataset.print_sample(200)\n",
    "print(train_dataset.__len__())\n",
    "\n",
    "eval_dataset.print_sample(0)\n",
    "print(eval_dataset.__len__())\n",
    "\n",
    "print(eval_dataset.__getitem__(10)[0].shape)\n",
    "print(eval_dataset.__getitem__(10)[1].shape)"
   ]
  },
  {
   "cell_type": "code",
   "execution_count": null,
   "metadata": {
    "collapsed": false
   },
   "outputs": [
    {
     "ename": "",
     "evalue": "",
     "output_type": "error",
     "traceback": [
      "\u001b[1;31mnotebook controller is DISPOSED. \n",
      "\u001b[1;31m有关更多详细信息，请查看 Jupyter <a href='command:jupyter.viewOutput'>log</a>。"
     ]
    },
    {
     "ename": "",
     "evalue": "",
     "output_type": "error",
     "traceback": [
      "\u001b[1;31mnotebook controller is DISPOSED. \n",
      "\u001b[1;31m有关更多详细信息，请查看 Jupyter <a href='command:jupyter.viewOutput'>log</a>。"
     ]
    }
   ],
   "source": [
    "Batch=0\n",
    "Batchs=[]\n",
    "all_train_accs=[]\n",
    "\n",
    "def draw_train_acc(Batchs, train_accs):\n",
    "    title=\"training accs\"\n",
    "    plt.title(title, fontsize=24)\n",
    "    plt.xlabel(\"batch\", fontsize=14)\n",
    "    plt.ylabel(\"acc\", fontsize=14)\n",
    "    plt.plot(Batchs, train_accs, color='green', label='training accs')\n",
    "    plt.legend()\n",
    "    plt.grid()\n",
    "    plt.show()\n",
    "\n",
    "all_train_loss=[]\n",
    "def draw_train_loss(Batchs, train_loss):\n",
    "    title=\"training loss\"\n",
    "    plt.title(title, fontsize=24)\n",
    "    plt.xlabel(\"batch\", fontsize=14)\n",
    "    plt.ylabel(\"loss\", fontsize=14)\n",
    "    plt.plot(Batchs, train_loss, color='red', label='training loss')\n",
    "    plt.legend()\n",
    "    plt.grid()\n",
    "    plt.show()"
   ]
  },
  {
   "cell_type": "markdown",
   "metadata": {
    "collapsed": false
   },
   "source": [
    "# 2、定义模型"
   ]
  },
  {
   "cell_type": "code",
   "execution_count": null,
   "metadata": {
    "collapsed": false
   },
   "outputs": [
    {
     "data": {
      "text/plain": [
       "'\\n卷积神将网络的计算公式为：\\nN=(W-F+2P)/S+1\\n其中\\nN：输出大小\\nW：输入大小\\nF：卷积核大小\\nP：填充值的大小\\nS：步长大小\\n'"
      ]
     },
     "execution_count": 14,
     "metadata": {},
     "output_type": "execute_result"
    },
    {
     "ename": "",
     "evalue": "",
     "output_type": "error",
     "traceback": [
      "\u001b[1;31mnotebook controller is DISPOSED. \n",
      "\u001b[1;31m有关更多详细信息，请查看 Jupyter <a href='command:jupyter.viewOutput'>log</a>。"
     ]
    },
    {
     "ename": "",
     "evalue": "",
     "output_type": "error",
     "traceback": [
      "\u001b[1;31mnotebook controller is DISPOSED. \n",
      "\u001b[1;31m有关更多详细信息，请查看 Jupyter <a href='command:jupyter.viewOutput'>log</a>。"
     ]
    }
   ],
   "source": [
    "\"\"\"\n",
    "卷积神将网络的计算公式为：\n",
    "N=(W-F+2P)/S+1\n",
    "其中\n",
    "N：输出大小\n",
    "W：输入大小\n",
    "F：卷积核大小\n",
    "P：填充值的大小\n",
    "S：步长大小\n",
    "\"\"\""
   ]
  },
  {
   "cell_type": "code",
   "execution_count": null,
   "metadata": {
    "collapsed": false
   },
   "outputs": [
    {
     "ename": "",
     "evalue": "",
     "output_type": "error",
     "traceback": [
      "\u001b[1;31mnotebook controller is DISPOSED. \n",
      "\u001b[1;31m有关更多详细信息，请查看 Jupyter <a href='command:jupyter.viewOutput'>log</a>。"
     ]
    },
    {
     "ename": "",
     "evalue": "",
     "output_type": "error",
     "traceback": [
      "\u001b[1;31mnotebook controller is DISPOSED. \n",
      "\u001b[1;31m有关更多详细信息，请查看 Jupyter <a href='command:jupyter.viewOutput'>log</a>。"
     ]
    }
   ],
   "source": [
    "# 输入图像大小为224*224 ———— picture size\n",
    "\n",
    "class MyLeNet5(paddle.nn.Layer):\n",
    "    def __init__(self):\n",
    "        super().__init__()\n",
    "        \n",
    "        # 3 个通道输入，32个通道输出 ———— 224 - 3 / 1 + 1 = 222\n",
    "        self.conv1 = paddle.nn.Conv2D(in_channels=3, out_channels=32, kernel_size=(3, 3))\n",
    "        # 222 - 2 / 2 + 1  = 111\n",
    "        self.pool1 = paddle.nn.MaxPool2D(kernel_size=2, stride=2)\n",
    "\n",
    "        # 32个通道输入，64个通道输出  ———— 111 - 3  + 1 = 109\n",
    "        self.conv2 = paddle.nn.Conv2D(in_channels=32, out_channels=64, kernel_size=(3,3))\n",
    "        # 109 - 2/2 + 1 = 54\n",
    "        self.pool2 = paddle.nn.MaxPool2D(kernel_size=2, stride=2)\n",
    "\n",
    "        # 54 - 3 /1 + 1 = 52\n",
    "        self.conv3 = paddle.nn.Conv2D(in_channels=64, out_channels=64, kernel_size=(3,3))\n",
    "\n",
    "        self.flatten = paddle.nn.Flatten()\n",
    "\n",
    "        # 64 * 52 * 52 = 173056\n",
    "        self.linear1 = paddle.nn.Linear(in_features=173056, out_features=1024)\n",
    "        self.linear2 = paddle.nn.Linear(in_features=1024, out_features=25)\n",
    "\n",
    "    def forward(self, x):\n",
    "        x = self.conv1(x)\n",
    "        x = F.relu(x)\n",
    "        x = self.pool1(x)\n",
    "\n",
    "        x = self.conv2(x)\n",
    "        x = F.relu(x)\n",
    "        x = self.pool2(x)\n",
    "\n",
    "        x = self.conv3(x)\n",
    "        x = F.relu(x)\n",
    "\n",
    "        x = self.flatten(x)\n",
    "        x = self.linear1(x)\n",
    "        x = F.relu(x)\n",
    "        x = self.linear2(x)\n",
    "        return x\n"
   ]
  },
  {
   "cell_type": "code",
   "execution_count": null,
   "metadata": {
    "collapsed": false
   },
   "outputs": [
    {
     "ename": "",
     "evalue": "",
     "output_type": "error",
     "traceback": [
      "\u001b[1;31mnotebook controller is DISPOSED. \n",
      "\u001b[1;31m有关更多详细信息，请查看 Jupyter <a href='command:jupyter.viewOutput'>log</a>。"
     ]
    },
    {
     "ename": "",
     "evalue": "",
     "output_type": "error",
     "traceback": [
      "\u001b[1;31mnotebook controller is DISPOSED. \n",
      "\u001b[1;31m有关更多详细信息，请查看 Jupyter <a href='command:jupyter.viewOutput'>log</a>。"
     ]
    }
   ],
   "source": [
    "class MyAlexNet(paddle.nn.Layer):\n",
    "    def __init__(self):\n",
    "        super().__init__()\n",
    "        self.features=nn.Sequential(\n",
    "            # 224 - 11 +1 = 214\n",
    "            nn.Conv2D(3,48, kernel_size=11),\n",
    "            nn.ReLU(),\n",
    "            # 214 - 3 / 2 + 1 = 106\n",
    "            nn.MaxPool2D(kernel_size=3,stride=2),\n",
    "\n",
    "            # 105 - 5 + 2*2  + 1  = 105\n",
    "            nn.Conv2D(48,128, kernel_size=5, padding=2),\n",
    "            nn.ReLU(),\n",
    "            # 105 -3 /2 +1 = 52\n",
    "            nn.MaxPool2D(kernel_size=3,stride=2),\n",
    "\n",
    "            # 52 - 3 + 2 +1 = 52\n",
    "            nn.Conv2D(128,192,kernel_size=3,stride=1,padding=1),\n",
    "            nn.ReLU(),\n",
    "\n",
    "            # 52 - 3 + 2 + 1 = 52\n",
    "            nn.Conv2D(192,192,kernel_size=3,stride=1,padding=1),\n",
    "            nn.ReLU(),\n",
    "\n",
    "            # 52 - 3 +2 +1 = 52\n",
    "            nn.Conv2D(192,128,kernel_size=3,stride=1,padding=1),\n",
    "            nn.ReLU(),\n",
    "\n",
    "            # 52 -3 /2 +1 = 25\n",
    "            nn.MaxPool2D(kernel_size=3,stride=2),\n",
    "        )\n",
    "        self.classifier=nn.Sequential(\n",
    "            # 128 * 25 * 25 = 80000\n",
    "            nn.Linear(80000,2048),\n",
    "            nn.ReLU(),\n",
    "            nn.Dropout(0.5),\n",
    "            nn.Linear(2048,2048),\n",
    "            nn.ReLU(),\n",
    "            nn.Dropout(),\n",
    "            nn.Linear(2048,25),\n",
    "        )\n",
    " \n",
    " \n",
    "    def forward(self,x):\n",
    "        x=self.features(x)\n",
    "        \"\"\"\n",
    "        torch  ———— torch.flatten(input, start_dim=0, end_dim=-1)\n",
    "        paddle ———— paddle.nn.Flatten(start_axis=1, stop_axis=- 1)\n",
    "        \"\"\"\n",
    "        flatten = paddle.nn.Flatten(start_axis=1, stop_axis=-1)\n",
    "        x=flatten(x)\n",
    "        x=self.classifier(x)\n",
    " \n",
    "        return x"
   ]
  },
  {
   "cell_type": "code",
   "execution_count": null,
   "metadata": {
    "collapsed": false
   },
   "outputs": [
    {
     "ename": "",
     "evalue": "",
     "output_type": "error",
     "traceback": [
      "\u001b[1;31mnotebook controller is DISPOSED. \n",
      "\u001b[1;31m有关更多详细信息，请查看 Jupyter <a href='command:jupyter.viewOutput'>log</a>。"
     ]
    },
    {
     "ename": "",
     "evalue": "",
     "output_type": "error",
     "traceback": [
      "\u001b[1;31mnotebook controller is DISPOSED. \n",
      "\u001b[1;31m有关更多详细信息，请查看 Jupyter <a href='command:jupyter.viewOutput'>log</a>。"
     ]
    }
   ],
   "source": [
    "class MyVGG16(paddle.nn.Layer):\n",
    "    def __init__(self):\n",
    "        super(MyVGG16, self).__init__()\n",
    "        # 特征提取层\n",
    "        self.features = nn.Sequential(\n",
    "            # 224 - 3 +2  +1 = 224\n",
    "            nn.Conv2D(in_channels=3,out_channels=64,kernel_size=3,stride=1,padding=1),\n",
    "            # 224 - 3 +2 +1 = 224\n",
    "            nn.Conv2D(in_channels=64,out_channels=64,kernel_size=3,stride=1,padding=1),\n",
    "            # 224 -2 /2 + 1 = 112\n",
    "            nn.MaxPool2D(kernel_size=2,stride=2),\n",
    "            \n",
    "            # 112 -3 + 2 +1 = 112\n",
    "            nn.Conv2D(in_channels=64, out_channels=128, kernel_size=3, stride=1, padding=1),\n",
    "            nn.Conv2D(in_channels=128, out_channels=128, kernel_size=3, stride=1, padding=1),\n",
    "            # 112 -2 /2 +1 = 56\n",
    "            nn.MaxPool2D(kernel_size=2, stride=2),\n",
    "            \n",
    "            # 56 - 3 +2 +1 = 56\n",
    "            nn.Conv2D(in_channels=128, out_channels=256, kernel_size=3, stride=1, padding=1),\n",
    "            nn.Conv2D(in_channels=256, out_channels=256, kernel_size=3, stride=1, padding=1),\n",
    "            nn.Conv2D(in_channels=256, out_channels=256, kernel_size=3, stride=1, padding=1),\n",
    "            # 56 - 2 / 2 +1 = 28\n",
    "            nn.MaxPool2D(kernel_size=2,stride=2),\n",
    "\n",
    "            # 28 -3 +2 +1 = 28\n",
    "            nn.Conv2D(in_channels=256, out_channels=512, kernel_size=3, stride=1, padding=1),\n",
    "            nn.Conv2D(in_channels=512, out_channels=512, kernel_size=3, stride=1, padding=1),\n",
    "            nn.Conv2D(in_channels=512, out_channels=512, kernel_size=3, stride=1, padding=1),\n",
    "            # 28 -2 /2 +1 = 14\n",
    "            nn.MaxPool2D(kernel_size=2, stride=2),\n",
    "\n",
    "            # 14 -3 +2 +1 = 14\n",
    "            nn.Conv2D(in_channels=512, out_channels=512, kernel_size=3, stride=1, padding=1),\n",
    "            nn.Conv2D(in_channels=512, out_channels=512, kernel_size=3, stride=1, padding=1),\n",
    "            nn.Conv2D(in_channels=512, out_channels=512, kernel_size=3, stride=1, padding=1),\n",
    "            # 14 -2 /2 +1 =7\n",
    "            nn.MaxPool2D(kernel_size=2, stride=2),\n",
    "        )\n",
    "\n",
    "        # 分类层\n",
    "        self.classifier = nn.Sequential(\n",
    "            nn.Linear(in_features=7*7*512,out_features=4096),\n",
    "            nn.ReLU(),\n",
    "            nn.Dropout(0.5),\n",
    "            nn.Linear(in_features=4096,out_features=4096),\n",
    "            nn.ReLU(),\n",
    "            nn.Dropout(0.5),\n",
    "            nn.Linear(in_features=4096,out_features=25)\n",
    "        )\n",
    "\n",
    "    def forward(self,x):\n",
    "        x = self.features(x)\n",
    "        flatten = paddle.nn.Flatten(start_axis=1, stop_axis=-1)\n",
    "        x=flatten(x)\n",
    "        result = self.classifier(x)\n",
    "        return result"
   ]
  },
  {
   "cell_type": "code",
   "execution_count": null,
   "metadata": {
    "collapsed": false
   },
   "outputs": [
    {
     "ename": "",
     "evalue": "",
     "output_type": "error",
     "traceback": [
      "\u001b[1;31mnotebook controller is DISPOSED. \n",
      "\u001b[1;31m有关更多详细信息，请查看 Jupyter <a href='command:jupyter.viewOutput'>log</a>。"
     ]
    },
    {
     "ename": "",
     "evalue": "",
     "output_type": "error",
     "traceback": [
      "\u001b[1;31mnotebook controller is DISPOSED. \n",
      "\u001b[1;31m有关更多详细信息，请查看 Jupyter <a href='command:jupyter.viewOutput'>log</a>。"
     ]
    }
   ],
   "source": [
    "class MyGoogLeNet(paddle.nn.Layer):\n",
    "    def __init__(self, num_classes=25, aux_logits=True, init_weights=False):\n",
    "        super(MyGoogLeNet, self).__init__()\n",
    "        self.aux_logits = aux_logits\n",
    "\n",
    "        self.conv1 = BasicConv2D(3, 64, kernel_size=7, stride=2, padding=3)\n",
    "        self.maxpool1 = nn.MaxPool2D(3, stride=2, ceil_mode=True)\n",
    "\n",
    "        self.conv2 = BasicConv2D(64, 64, kernel_size=1)\n",
    "        self.conv3 = BasicConv2D(64, 192, kernel_size=3, padding=1)\n",
    "        self.maxpool2 = nn.MaxPool2D(3, stride=2, ceil_mode=True)\n",
    "\n",
    "        self.inception3a = Inception(192, 64, 96, 128, 16, 32, 32)\n",
    "        self.inception3b = Inception(256, 128, 128, 192, 32, 96, 64)\n",
    "        self.maxpool3 = nn.MaxPool2D(3, stride=2, ceil_mode=True)\n",
    "\n",
    "        self.inception4a = Inception(480, 192, 96, 208, 16, 48, 64)\n",
    "        self.inception4b = Inception(512, 160, 112, 224, 24, 64, 64)\n",
    "        self.inception4c = Inception(512, 128, 128, 256, 24, 64, 64)\n",
    "        self.inception4d = Inception(512, 112, 144, 288, 32, 64, 64)\n",
    "        self.inception4e = Inception(528, 256, 160, 320, 32, 128, 128)\n",
    "        self.maxpool4 = nn.MaxPool2D(3, stride=2, ceil_mode=True)\n",
    "\n",
    "        self.inception5a = Inception(832, 256, 160, 320, 32, 128, 128)\n",
    "        self.inception5b = Inception(832, 384, 192, 384, 48, 128, 128)\n",
    "\n",
    "        if self.aux_logits:\n",
    "            self.aux1 = InceptionAux(512, num_classes)\n",
    "            self.aux2 = InceptionAux(528, num_classes)\n",
    "\n",
    "        self.avgpool = nn.AdaptiveAvgPool2D((1, 1))\n",
    "        self.dropout = nn.Dropout(0.4)\n",
    "        self.fc = nn.Linear(1024, num_classes)\n",
    "        if init_weights:\n",
    "            self._initialize_weights()\n",
    "\n",
    "    def forward(self, x):\n",
    "        # N x 3 x 224 x 224\n",
    "        x = self.conv1(x)\n",
    "        # N x 64 x 112 x 112\n",
    "        x = self.maxpool1(x)\n",
    "        # N x 64 x 56 x 56\n",
    "        x = self.conv2(x)\n",
    "        # N x 64 x 56 x 56\n",
    "        x = self.conv3(x)\n",
    "        # N x 192 x 56 x 56\n",
    "        x = self.maxpool2(x)\n",
    "\n",
    "        # N x 192 x 28 x 28\n",
    "        x = self.inception3a(x)\n",
    "        # N x 256 x 28 x 28\n",
    "        x = self.inception3b(x)\n",
    "        # N x 480 x 28 x 28\n",
    "        x = self.maxpool3(x)\n",
    "        # N x 480 x 14 x 14\n",
    "        x = self.inception4a(x)\n",
    "        # N x 512 x 14 x 14\n",
    "        if self.training and self.aux_logits:    # eval model lose this layer\n",
    "            aux1 = self.aux1(x)\n",
    "\n",
    "        x = self.inception4b(x)\n",
    "        # N x 512 x 14 x 14\n",
    "        x = self.inception4c(x)\n",
    "        # N x 512 x 14 x 14\n",
    "        x = self.inception4d(x)\n",
    "        # N x 528 x 14 x 14\n",
    "        if self.training and self.aux_logits:    # eval model lose this layer\n",
    "            aux2 = self.aux2(x)\n",
    "\n",
    "        x = self.inception4e(x)\n",
    "        # N x 832 x 14 x 14\n",
    "        x = self.maxpool4(x)\n",
    "        # N x 832 x 7 x 7\n",
    "        x = self.inception5a(x)\n",
    "        # N x 832 x 7 x 7\n",
    "        x = self.inception5b(x)\n",
    "        # N x 1024 x 7 x 7\n",
    "\n",
    "        x = self.avgpool(x)\n",
    "        # N x 1024 x 1 x 1\n",
    "        flatten = paddle.nn.Flatten(start_axis=1, stop_axis=-1)\n",
    "        x=flatten(x)\n",
    "        # N x 1024\n",
    "        x = self.dropout(x)\n",
    "        x = self.fc(x)\n",
    "        # N x 1000 (num_classes)\n",
    "        if self.training and self.aux_logits:   # eval model lose this layer\n",
    "            return x, aux2, aux1\n",
    "        return x\n",
    "\n",
    "    def _initialize_weights(self):\n",
    "        for m in self.modules():\n",
    "            if isinstance(m, nn.Conv2D):\n",
    "                nn.init.kaiming_normal_(m.weight, mode='fan_out', nonlinearity='relu')\n",
    "                if m.bias is not None:\n",
    "                    nn.init.constant_(m.bias, 0)\n",
    "            elif isinstance(m, nn.Linear):\n",
    "                nn.init.normal_(m.weight, 0, 0.01)\n",
    "                nn.init.constant_(m.bias, 0)\n",
    "\n",
    "#inception结构\n",
    "class Inception(paddle.nn.Layer):\n",
    "    def __init__(self, in_channels, ch1x1, ch3x3red, ch3x3, ch5x5red, ch5x5, pool_proj):\n",
    "        super(Inception, self).__init__()\n",
    "\n",
    "        self.branch1 = BasicConv2D(in_channels, ch1x1, kernel_size=1)\n",
    "\n",
    "        self.branch2 = nn.Sequential(\n",
    "            BasicConv2D(in_channels, ch3x3red, kernel_size=1),\n",
    "            BasicConv2D(ch3x3red, ch3x3, kernel_size=3, padding=1)   # 保证输出大小等于输入大小\n",
    "        )\n",
    "\n",
    "        self.branch3 = nn.Sequential(\n",
    "            BasicConv2D(in_channels, ch5x5red, kernel_size=1),\n",
    "            BasicConv2D(ch5x5red, ch5x5, kernel_size=5, padding=2)   # 保证输出大小等于输入大小\n",
    "        )\n",
    "\n",
    "        self.branch4 = nn.Sequential(\n",
    "            nn.MaxPool2D(kernel_size=3, stride=1, padding=1),\n",
    "            BasicConv2D(in_channels, pool_proj, kernel_size=1)\n",
    "        )\n",
    "\n",
    "    def forward(self, x):\n",
    "        branch1 = self.branch1(x)\n",
    "        branch2 = self.branch2(x)\n",
    "        branch3 = self.branch3(x)\n",
    "        branch4 = self.branch4(x)\n",
    "\n",
    "        outputs = [branch1, branch2, branch3, branch4]\n",
    "        # return torch.cat(outputs, 1)\n",
    "        return paddle.concat(outputs, axis=1)\n",
    "\n",
    "#辅助分类器\n",
    "class InceptionAux(paddle.nn.Layer):\n",
    "    def __init__(self, in_channels, num_classes = 25):\n",
    "        super(InceptionAux, self).__init__()\n",
    "        self.averagePool = nn.AvgPool2D(kernel_size=5, stride=3)\n",
    "        self.conv = BasicConv2D(in_channels, 128, kernel_size=1)  # output[batch, 128, 4, 4]\n",
    "\n",
    "        self.fc1 = nn.Linear(2048, 1024)\n",
    "        self.fc2 = nn.Linear(1024, num_classes)\n",
    "\n",
    "    def forward(self, x):\n",
    "        # aux1: N x 512 x 14 x 14, aux2: N x 528 x 14 x 14\n",
    "        x = self.averagePool(x)\n",
    "        # aux1: N x 512 x 4 x 4, aux2: N x 528 x 4 x 4\n",
    "        x = self.conv(x)\n",
    "        # N x 128 x 4 x 4\n",
    "        flatten = paddle.nn.Flatten(start_axis=1, stop_axis=-1)\n",
    "        x=flatten(x)\n",
    "\n",
    "        x = F.dropout(x, 0.5, training=self.training)\n",
    "        # N x 2048\n",
    "        x = F.relu(self.fc1(x))\n",
    "        x = F.dropout(x, 0.5, training=self.training)\n",
    "        # N x 1024\n",
    "        x = self.fc2(x)\n",
    "        # N x num_classes\n",
    "        return x\n",
    "\n",
    "\n",
    "class BasicConv2D(paddle.nn.Layer):\n",
    "    def __init__(self, in_channels, out_channels, **kwargs):\n",
    "        super(BasicConv2D, self).__init__()\n",
    "        self.conv = nn.Conv2D(in_channels, out_channels, **kwargs)\n",
    "        self.relu = nn.ReLU()\n",
    "\n",
    "    def forward(self, x):\n",
    "        x = self.conv(x)\n",
    "        x = self.relu(x)\n",
    "        return x\n"
   ]
  },
  {
   "cell_type": "code",
   "execution_count": null,
   "metadata": {
    "collapsed": false
   },
   "outputs": [
    {
     "ename": "",
     "evalue": "",
     "output_type": "error",
     "traceback": [
      "\u001b[1;31mnotebook controller is DISPOSED. \n",
      "\u001b[1;31m有关更多详细信息，请查看 Jupyter <a href='command:jupyter.viewOutput'>log</a>。"
     ]
    },
    {
     "ename": "",
     "evalue": "",
     "output_type": "error",
     "traceback": [
      "\u001b[1;31mnotebook controller is DISPOSED. \n",
      "\u001b[1;31m有关更多详细信息，请查看 Jupyter <a href='command:jupyter.viewOutput'>log</a>。"
     ]
    }
   ],
   "source": [
    "class BasicBlock(nn.Layer):\n",
    "    expansion = 1\n",
    "\n",
    "    def __init__(\n",
    "        self,\n",
    "        inplanes,\n",
    "        planes,\n",
    "        stride=1,\n",
    "        downsample=None,\n",
    "        groups=1,\n",
    "        base_width=64,\n",
    "        dilation=1,\n",
    "        norm_layer=None,\n",
    "    ):\n",
    "        super().__init__()\n",
    "        if norm_layer is None:\n",
    "            norm_layer = nn.BatchNorm2D\n",
    "\n",
    "        if dilation > 1:\n",
    "            raise NotImplementedError(\n",
    "                \"Dilation > 1 not supported in BasicBlock\"\n",
    "            )\n",
    "\n",
    "        self.conv1 = nn.Conv2D(\n",
    "            inplanes, planes, 3, padding=1, stride=stride, bias_attr=False\n",
    "        )\n",
    "        self.bn1 = norm_layer(planes)\n",
    "        self.relu = nn.ReLU()\n",
    "        self.conv2 = nn.Conv2D(planes, planes, 3, padding=1, bias_attr=False)\n",
    "        self.bn2 = norm_layer(planes)\n",
    "        self.downsample = downsample\n",
    "        self.stride = stride\n",
    "\n",
    "    def forward(self, x):\n",
    "        identity = x\n",
    "\n",
    "        out = self.conv1(x)\n",
    "        out = self.bn1(out)\n",
    "        out = self.relu(out)\n",
    "\n",
    "        out = self.conv2(out)\n",
    "        out = self.bn2(out)\n",
    "\n",
    "        if self.downsample is not None:\n",
    "            identity = self.downsample(x)\n",
    "\n",
    "        out += identity\n",
    "        out = self.relu(out)\n",
    "\n",
    "        return out\n",
    "\n",
    "\n",
    "class BottleneckBlock(nn.Layer):\n",
    "    expansion = 4\n",
    "\n",
    "    def __init__(\n",
    "        self,\n",
    "        inplanes,\n",
    "        planes,\n",
    "        stride=1,\n",
    "        downsample=None,\n",
    "        groups=1,\n",
    "        base_width=64,\n",
    "        dilation=1,\n",
    "        norm_layer=None,\n",
    "    ):\n",
    "        super().__init__()\n",
    "        if norm_layer is None:\n",
    "            norm_layer = nn.BatchNorm2D\n",
    "        width = int(planes * (base_width / 64.0)) * groups\n",
    "\n",
    "        self.conv1 = nn.Conv2D(inplanes, width, 1, bias_attr=False)\n",
    "        self.bn1 = norm_layer(width)\n",
    "\n",
    "        self.conv2 = nn.Conv2D(\n",
    "            width,\n",
    "            width,\n",
    "            3,\n",
    "            padding=dilation,\n",
    "            stride=stride,\n",
    "            groups=groups,\n",
    "            dilation=dilation,\n",
    "            bias_attr=False,\n",
    "        )\n",
    "        self.bn2 = norm_layer(width)\n",
    "\n",
    "        self.conv3 = nn.Conv2D(\n",
    "            width, planes * self.expansion, 1, bias_attr=False\n",
    "        )\n",
    "        self.bn3 = norm_layer(planes * self.expansion)\n",
    "        self.relu = nn.ReLU()\n",
    "        self.downsample = downsample\n",
    "        self.stride = stride\n",
    "\n",
    "    def forward(self, x):\n",
    "        identity = x\n",
    "\n",
    "        out = self.conv1(x)\n",
    "        out = self.bn1(out)\n",
    "        out = self.relu(out)\n",
    "\n",
    "        out = self.conv2(out)\n",
    "        out = self.bn2(out)\n",
    "        out = self.relu(out)\n",
    "\n",
    "        out = self.conv3(out)\n",
    "        out = self.bn3(out)\n",
    "\n",
    "        if self.downsample is not None:\n",
    "            identity = self.downsample(x)\n",
    "\n",
    "        out += identity\n",
    "        out = self.relu(out)\n",
    "\n",
    "        return out\n",
    "\n",
    "\n",
    "class MyResNet(nn.Layer):\n",
    "    def __init__(\n",
    "        self,\n",
    "        block,\n",
    "        depth=50,\n",
    "        width=64,\n",
    "        num_classes=1000,\n",
    "        with_pool=True,\n",
    "        groups=1,\n",
    "    ):\n",
    "        super().__init__()\n",
    "        layer_cfg = {\n",
    "            18: [2, 2, 2, 2],\n",
    "            34: [3, 4, 6, 3],\n",
    "            50: [3, 4, 6, 3],\n",
    "            101: [3, 4, 23, 3],\n",
    "            152: [3, 8, 36, 3],\n",
    "        }\n",
    "        layers = layer_cfg[depth]\n",
    "        self.groups = groups\n",
    "        self.base_width = width\n",
    "        self.num_classes = num_classes\n",
    "        self.with_pool = with_pool\n",
    "        self._norm_layer = nn.BatchNorm2D\n",
    "\n",
    "        self.inplanes = 64\n",
    "        self.dilation = 1\n",
    "\n",
    "        self.conv1 = nn.Conv2D(\n",
    "            3,\n",
    "            self.inplanes,\n",
    "            kernel_size=7,\n",
    "            stride=2,\n",
    "            padding=3,\n",
    "            bias_attr=False,\n",
    "        )\n",
    "        self.bn1 = self._norm_layer(self.inplanes)\n",
    "        self.relu = nn.ReLU()\n",
    "        self.maxpool = nn.MaxPool2D(kernel_size=3, stride=2, padding=1)\n",
    "        self.layer1 = self._make_layer(block, 64, layers[0])\n",
    "        self.layer2 = self._make_layer(block, 128, layers[1], stride=2)\n",
    "        self.layer3 = self._make_layer(block, 256, layers[2], stride=2)\n",
    "        self.layer4 = self._make_layer(block, 512, layers[3], stride=2)\n",
    "        if with_pool:\n",
    "            self.avgpool = nn.AdaptiveAvgPool2D((1, 1))\n",
    "\n",
    "        if num_classes > 0:\n",
    "            self.fc = nn.Linear(512 * block.expansion, num_classes)\n",
    "\n",
    "    def _make_layer(self, block, planes, blocks, stride=1, dilate=False):\n",
    "        norm_layer = self._norm_layer\n",
    "        downsample = None\n",
    "        previous_dilation = self.dilation\n",
    "        if dilate:\n",
    "            self.dilation *= stride\n",
    "            stride = 1\n",
    "        if stride != 1 or self.inplanes != planes * block.expansion:\n",
    "            downsample = nn.Sequential(\n",
    "                nn.Conv2D(\n",
    "                    self.inplanes,\n",
    "                    planes * block.expansion,\n",
    "                    1,\n",
    "                    stride=stride,\n",
    "                    bias_attr=False,\n",
    "                ),\n",
    "                norm_layer(planes * block.expansion),\n",
    "            )\n",
    "\n",
    "        layers = []\n",
    "        layers.append(\n",
    "            block(\n",
    "                self.inplanes,\n",
    "                planes,\n",
    "                stride,\n",
    "                downsample,\n",
    "                self.groups,\n",
    "                self.base_width,\n",
    "                previous_dilation,\n",
    "                norm_layer,\n",
    "            )\n",
    "        )\n",
    "        self.inplanes = planes * block.expansion\n",
    "        for _ in range(1, blocks):\n",
    "            layers.append(\n",
    "                block(\n",
    "                    self.inplanes,\n",
    "                    planes,\n",
    "                    groups=self.groups,\n",
    "                    base_width=self.base_width,\n",
    "                    norm_layer=norm_layer,\n",
    "                )\n",
    "            )\n",
    "\n",
    "        return nn.Sequential(*layers)\n",
    "\n",
    "    def forward(self, x):\n",
    "        x = self.conv1(x)\n",
    "        x = self.bn1(x)\n",
    "        x = self.relu(x)\n",
    "        x = self.maxpool(x)\n",
    "        x = self.layer1(x)\n",
    "        x = self.layer2(x)\n",
    "        x = self.layer3(x)\n",
    "        x = self.layer4(x)\n",
    "\n",
    "        if self.with_pool:\n",
    "            x = self.avgpool(x)\n",
    "\n",
    "        if self.num_classes > 0:\n",
    "            x = paddle.flatten(x, 1)\n",
    "            x = self.fc(x)\n",
    "\n",
    "        return x\n",
    "\n",
    "\n",
    "def _resnet(arch, Block, depth, pretrained, **kwargs):\n",
    "    model = MyResNet(Block, depth, **kwargs)\n",
    "    if pretrained:\n",
    "        assert (\n",
    "            arch in model_urls\n",
    "        ), f\"{arch} model do not have a pretrained model now, you should set pretrained=False\"\n",
    "        weight_path = get_weights_path_from_url(\n",
    "            model_urls[arch][0], model_urls[arch][1]\n",
    "        )\n",
    "\n",
    "        param = paddle.load(weight_path)\n",
    "        model.set_dict(param)\n",
    "\n",
    "    return model\n",
    "\n",
    "\n",
    "def MyResNet18(pretrained=False, **kwargs):\n",
    "    return _resnet('resnet18', BasicBlock, 18, pretrained, **kwargs)\n",
    "\n",
    "\n",
    "def MyResNet50(pretrained=False, **kwargs):\n",
    "    return _resnet('resnet50', BottleneckBlock, 50, pretrained, **kwargs)\n",
    "\n",
    "\n",
    "def MyResNet101(pretrained=False, **kwargs):\n",
    "    return _resnet('resnet101', BottleneckBlock, 101, pretrained, **kwargs)\n",
    "\n",
    "\n",
    "def MyResNet152(pretrained=False, **kwargs):\n",
    "    return _resnet('resnet152', BottleneckBlock, 152, pretrained, **kwargs)"
   ]
  },
  {
   "cell_type": "code",
   "execution_count": null,
   "metadata": {
    "collapsed": false
   },
   "outputs": [
    {
     "ename": "",
     "evalue": "",
     "output_type": "error",
     "traceback": [
      "\u001b[1;31mnotebook controller is DISPOSED. \n",
      "\u001b[1;31m有关更多详细信息，请查看 Jupyter <a href='command:jupyter.viewOutput'>log</a>。"
     ]
    },
    {
     "ename": "",
     "evalue": "",
     "output_type": "error",
     "traceback": [
      "\u001b[1;31mnotebook controller is DISPOSED. \n",
      "\u001b[1;31m有关更多详细信息，请查看 Jupyter <a href='command:jupyter.viewOutput'>log</a>。"
     ]
    }
   ],
   "source": [
    "# BN+ReLU+1x1 Conv+BN+ReLU+3x3 Conv结构，最后也加入dropout层以用于训练过程。\n",
    "class _DenseLayer(nn.Sequential):\n",
    "    def __init__(self, num_input_features, growth_rate, bn_size, drop_rate):\n",
    "        super(_DenseLayer, self).__init__()\n",
    "        # 3*224*224\n",
    "        self.add_sublayer(\"norm1\", nn.BatchNorm2D(num_input_features))\n",
    "        # paddle的框架会自动进行inplace的操作，不需要用户进行额外的设置\n",
    "        # 故inplace=True无法设置，也不必要设置\n",
    "        self.add_sublayer(\"relu1\", nn.ReLU())\n",
    "        # 本次卷积不影响尺寸大小 224*224\n",
    "        self.add_sublayer(\"conv1\", nn.Conv2D(num_input_features, bn_size*growth_rate,\n",
    "                                           kernel_size=1, stride=1,bias_attr=False))\n",
    "        self.add_sublayer(\"norm2\", nn.BatchNorm2D(bn_size*growth_rate))\n",
    "        self.add_sublayer(\"relu2\", nn.ReLU())\n",
    "        # 本次卷积不影响尺寸大小 224*224\n",
    "        self.add_sublayer(\"conv2\", nn.Conv2D(bn_size*growth_rate, growth_rate,\n",
    "                                           kernel_size=3, stride=1, padding=1,bias_attr=False))\n",
    "        self.drop_rate = drop_rate\n",
    "\n",
    "    def forward(self, x):\n",
    "        # print(x.size())\n",
    "        new_features = super(_DenseLayer, self).forward(x)\n",
    "        # print(new_features.size())\n",
    "        if self.drop_rate > 0:\n",
    "            # 因此在调用F.dropout()时，直接将self.training传入函数，就可以在训练时应用dropout，评估时关闭dropout。\n",
    "            new_features = F.dropout(new_features, p=self.drop_rate, training=self.training)\n",
    "        # print(torch.cat([x, new_features], 1).size())\n",
    "        # 拼接第二维度\n",
    "        return paddle.concat([x, new_features], 1)\n",
    "\n",
    "class _DenseBlock(nn.Sequential):\n",
    "    def __init__(self, num_layers, num_input_features, bn_size, growth_rate, drop_rate):\n",
    "        super(_DenseBlock, self).__init__()\n",
    "        for i in range(num_layers):\n",
    "            # 根据上一个模块可知，每一个输出的特征数都是累加growth_rate\n",
    "            # 如3，7，11的growth_rate在第3层时，包含了7（x）+4（第三次的growth_rate）\n",
    "            # 此时的7又分为第一层的3（第一层）+4（第二层的growth_rate）\n",
    "            # 相当于第三层连接了1，2层的输入，以此类推实现稠密链接\n",
    "            layer = _DenseLayer(num_input_features+i*growth_rate, growth_rate, bn_size,\n",
    "                                drop_rate)\n",
    "            self.add_sublayer(\"denselayer%d\" % (i+1,), layer)\n",
    "\n",
    "class _Transition(nn.Sequential):\n",
    "    def __init__(self, num_input_feature, num_output_features):\n",
    "        super(_Transition, self).__init__()\n",
    "        # 这里假设输入大小为224\n",
    "        self.add_sublayer(\"norm\", nn.BatchNorm2D(num_input_feature))\n",
    "        self.add_sublayer(\"relu\", nn.ReLU())\n",
    "        # 不改变大小224\n",
    "        self.add_sublayer(\"conv\", nn.Conv2D(num_input_feature, num_output_features,\n",
    "                                          kernel_size=1, stride=1,bias_attr=False))\n",
    "        # 112*112\n",
    "        self.add_sublayer(\"pool\", nn.AvgPool2D(2, stride=2))\n",
    "\n",
    "class MyDenseNet(nn.Layer):\n",
    "    \"DenseNet-BC model\"\n",
    "    def __init__(self, growth_rate=32, block_config=(6, 12, 24, 16), num_init_features=64,\n",
    "                 bn_size=4, compression_rate=0.5, drop_rate=0, num_classes=1000):\n",
    "        super(MyDenseNet, self).__init__()\n",
    "\n",
    "        # first Conv2d\n",
    "        self.features = nn.Sequential(\n",
    "            # 224\n",
    "            (\"conv0\", nn.Conv2D(3, num_init_features, kernel_size=7, stride=2, padding=3, bias_attr=False)),\n",
    "            # (224-7+6)/2+1=111.5+1=112\n",
    "            (\"norm0\", nn.BatchNorm2D(num_init_features)),\n",
    "            (\"relu0\", nn.ReLU()),\n",
    "            # (112-3+2)/2+1=55.5+1=56\n",
    "            (\"pool0\", nn.MaxPool2D(3, stride=2, padding=1))\n",
    "        )\n",
    "\n",
    "        # DenseBlock\n",
    "        num_features = num_init_features\n",
    "        for i, num_layers in enumerate(block_config):\n",
    "            # num_layers分别为6, 12, 24, 16\n",
    "            # 指一个block中的稠密链接层数\n",
    "            block = _DenseBlock(num_layers, num_features, bn_size, growth_rate, drop_rate)\n",
    "            self.features.add_sublayer(\"denseblock%d\" % (i + 1), block)\n",
    "\n",
    "            # 给到下一个block中的稠密链接层数\n",
    "            num_features += num_layers*growth_rate\n",
    "\n",
    "            if i != len(block_config) - 1:\n",
    "                # compression_rate控制输出层数\n",
    "                transition = _Transition(num_features, int(num_features*compression_rate))\n",
    "                # 这里尺寸大小减半4次\n",
    "                # 112->56->28->14->7\n",
    "                self.features.add_sublayer(\"transition%d\" % (i + 1), transition)\n",
    "                # 更新下一个block的稠密链接层数\n",
    "                num_features = int(num_features * compression_rate)\n",
    "\n",
    "        # final bn+ReLU\n",
    "        self.features.add_sublayer(\"norm5\", nn.BatchNorm2D(num_features))\n",
    "        self.features.add_sublayer(\"relu5\", nn.ReLU())\n",
    "\n",
    "        # classification layer\n",
    "        # 这里经过了下面的一个平均池化 已经变成了尺寸1*1的了\n",
    "        self.classifier = nn.Linear(num_features, num_classes)\n",
    "\n",
    "    def forward(self, x):\n",
    "        features = self.features(x)\n",
    "        features=F.avg_pool2d(features, 7, stride=1)\n",
    "        out = paddle.reshape(features,[features.shape[0], -1])\n",
    "        out = self.classifier(out)\n",
    "        return out"
   ]
  },
  {
   "cell_type": "markdown",
   "metadata": {
    "collapsed": false
   },
   "source": [
    "# 3、训练模型-CNN"
   ]
  },
  {
   "cell_type": "code",
   "execution_count": null,
   "metadata": {
    "collapsed": false
   },
   "outputs": [
    {
     "ename": "",
     "evalue": "",
     "output_type": "error",
     "traceback": [
      "\u001b[1;31mnotebook controller is DISPOSED. \n",
      "\u001b[1;31m有关更多详细信息，请查看 Jupyter <a href='command:jupyter.viewOutput'>log</a>。"
     ]
    },
    {
     "ename": "",
     "evalue": "",
     "output_type": "error",
     "traceback": [
      "\u001b[1;31mnotebook controller is DISPOSED. \n",
      "\u001b[1;31m有关更多详细信息，请查看 Jupyter <a href='command:jupyter.viewOutput'>log</a>。"
     ]
    }
   ],
   "source": [
    "model = ['MyLeNet5','MyAlexNet','MyVGG16','MyGoogLeNet','MyResNet18','MyResNet50','MyResNet152','MyDenseNet']"
   ]
  },
  {
   "cell_type": "code",
   "execution_count": null,
   "metadata": {
    "collapsed": false
   },
   "outputs": [
    {
     "ename": "",
     "evalue": "",
     "output_type": "error",
     "traceback": [
      "\u001b[1;31m在当前单元格或上一个单元格中执行代码时 Kernel 崩溃。\n",
      "\u001b[1;31m请查看单元格中的代码，以确定故障的可能原因。\n",
      "\u001b[1;31m单击<a href='https://aka.ms/vscodeJupyterKernelCrash'>此处</a>了解详细信息。\n",
      "\u001b[1;31m有关更多详细信息，请查看 Jupyter <a href='command:jupyter.viewOutput'>log</a>。"
     ]
    },
    {
     "ename": "",
     "evalue": "",
     "output_type": "error",
     "traceback": [
      "\u001b[1;31mnotebook controller is DISPOSED. \n",
      "\u001b[1;31m有关更多详细信息，请查看 Jupyter <a href='command:jupyter.viewOutput'>log</a>。"
     ]
    },
    {
     "ename": "",
     "evalue": "",
     "output_type": "error",
     "traceback": [
      "\u001b[1;31mnotebook controller is DISPOSED. \n",
      "\u001b[1;31m有关更多详细信息，请查看 Jupyter <a href='command:jupyter.viewOutput'>log</a>。"
     ]
    }
   ],
   "source": [
    "# 把下面要修改的四个函数名的地方改为使用参数调用\n",
    "function_name = 'MyAlexNet'\n",
    "\n",
    "model = eval(function_name + '()') # 模型实例化\n",
    "model.train() # 训练模式\n",
    "cross_entropy = paddle.nn.CrossEntropyLoss()\n",
    "opt=paddle.optimizer.SGD(learning_rate=train_parameters['learning_strategy']['lr'],\\\n",
    "                                                    parameters=model.parameters())\n",
    "\n",
    "\n",
    "epochs_num=train_parameters['num_epochs'] #迭代次数\n",
    "epochs_num = 5\n",
    "for pass_num in range(train_parameters['num_epochs']):\n",
    "    for batch_id,data in enumerate(train_loader()):\n",
    "        image = data[0]\n",
    "        label = data[1]\n",
    "        # 如果是googlenet用第二行代码，虽然tensor结构中有shape参数，但是后续代码依然无法访问\n",
    "        # 报错 ： 'tuple' object has no attribute 'shape'\n",
    "        if function_name == 'MyGoogLeNet' or function_name == 'MyResNet34' or function_name == 'MyResNet101':\n",
    "            print(\"是 googlenet 或者 resnet\")\n",
    "            predict = model(image)[0] #数据传入model\n",
    "        else:\n",
    "            predict = model(image)\n",
    "\n",
    "        # print(type(predict))\n",
    "        # print()\n",
    "        # print(type(label))\n",
    "        # print(predict)\n",
    "\n",
    "        loss=cross_entropy(predict,label)\n",
    "        acc=paddle.metric.accuracy(predict,label)#计算精度\n",
    "        if batch_id!=0 and batch_id%5==0:\n",
    "            Batch = Batch+5 \n",
    "            Batchs.append(Batch)\n",
    "            all_train_loss.append(loss.numpy()[0])\n",
    "            all_train_accs.append(acc.numpy()[0]) \n",
    "            print(\"epoch:{},step:{},train_loss:{},train_acc:{}\".format(pass_num,batch_id,loss.numpy(),acc.numpy()))        \n",
    "        loss.backward()       \n",
    "        opt.step()\n",
    "        opt.clear_grad()   #opt.clear_grad()来重置梯度\n",
    "    \n",
    "paddle.save(model.state_dict(),function_name)#保存模型\n",
    "draw_train_acc(Batchs,all_train_accs)\n",
    "draw_train_loss(Batchs,all_train_loss)"
   ]
  },
  {
   "cell_type": "markdown",
   "metadata": {
    "collapsed": false
   },
   "source": [
    "# 4、模型评估-CNN"
   ]
  },
  {
   "cell_type": "code",
   "execution_count": null,
   "metadata": {
    "collapsed": false
   },
   "outputs": [
    {
     "name": "stdout",
     "output_type": "stream",
     "text": [
      "当前模型在验证集上的准确率为: 0.8181818\n"
     ]
    },
    {
     "ename": "",
     "evalue": "",
     "output_type": "error",
     "traceback": [
      "\u001b[1;31mnotebook controller is DISPOSED. \n",
      "\u001b[1;31m有关更多详细信息，请查看 Jupyter <a href='command:jupyter.viewOutput'>log</a>。"
     ]
    },
    {
     "ename": "",
     "evalue": "",
     "output_type": "error",
     "traceback": [
      "\u001b[1;31mnotebook controller is DISPOSED. \n",
      "\u001b[1;31m有关更多详细信息，请查看 Jupyter <a href='command:jupyter.viewOutput'>log</a>。"
     ]
    }
   ],
   "source": [
    "#模型评估\n",
    "para_state_dict = paddle.load(function_name) \n",
    "model = eval(function_name + '()')\n",
    "model.set_state_dict(para_state_dict) #加载模型参数\n",
    "model.eval() #验证模式\n",
    "\n",
    "accs = []\n",
    "\n",
    "for batch_id,data in enumerate(eval_loader()):#测试集\n",
    "    image=data[0]\n",
    "    label=data[1]     \n",
    "    predict=model(image)       \n",
    "    acc=paddle.metric.accuracy(predict,label)\n",
    "    accs.append(acc.numpy()[0])\n",
    "avg_acc = np.mean(accs)\n",
    "print(\"当前模型在验证集上的准确率为:\",avg_acc)"
   ]
  },
  {
   "cell_type": "markdown",
   "metadata": {
    "collapsed": false
   },
   "source": [
    "# 5、模型预测-CNN"
   ]
  },
  {
   "cell_type": "code",
   "execution_count": null,
   "metadata": {
    "collapsed": false
   },
   "outputs": [
    {
     "data": {
      "image/png": "[encoded data removed]",
      "text/plain": [
       "<Figure size 640x480 with 1 Axes>"
      ]
     },
     "metadata": {},
     "output_type": "display_data"
    },
    {
     "name": "stdout",
     "output_type": "stream",
     "text": [
      "第1个样本,被预测为：Onyx Black,真实标签为：alexandrite\n",
      "结束\n"
     ]
    },
    {
     "ename": "",
     "evalue": "",
     "output_type": "error",
     "traceback": [
      "\u001b[1;31mnotebook controller is DISPOSED. \n",
      "\u001b[1;31m有关更多详细信息，请查看 Jupyter <a href='command:jupyter.viewOutput'>log</a>。"
     ]
    },
    {
     "ename": "",
     "evalue": "",
     "output_type": "error",
     "traceback": [
      "\u001b[1;31mnotebook controller is DISPOSED. \n",
      "\u001b[1;31m有关更多详细信息，请查看 Jupyter <a href='command:jupyter.viewOutput'>log</a>。"
     ]
    }
   ],
   "source": [
    "def unzip_infer_data(src_path,target_path):\n",
    "    '''\n",
    "    解压预测数据集\n",
    "    '''\n",
    "    if(not os.path.isdir(target_path)):     \n",
    "        z = zipfile.ZipFile(src_path, 'r')\n",
    "        z.extractall(path=target_path)\n",
    "        z.close()\n",
    "\n",
    "\n",
    "def load_image(img_path):\n",
    "    '''\n",
    "    预测图片预处理\n",
    "    '''\n",
    "    img = Image.open(img_path) \n",
    "    if img.mode != 'RGB': \n",
    "        img = img.convert('RGB') \n",
    "\n",
    "    ############################## 更改图片大小\n",
    "    img = img.resize((picture_size, picture_size), Image.BILINEAR)\n",
    "    img = np.array(img).astype('float32') \n",
    "    img = img.transpose((2, 0, 1))  # HWC to CHW \n",
    "    img = img/255                # 像素值归一化 \n",
    "    return img\n",
    "\n",
    "\n",
    "infer_src_path = '/home/aistudio/data/data55032/archive_test.zip'\n",
    "infer_dst_path = '/home/aistudio/data/archive_test'\n",
    "unzip_infer_data(infer_src_path,infer_dst_path)\n",
    "\n",
    "para_state_dict = paddle.load(\"MyLeNet5\")\n",
    "model = MyLeNet5()\n",
    "model.set_state_dict(para_state_dict) #加载模型参数\n",
    "model.eval() #验证模式\n",
    "\n",
    "#展示预测图片\n",
    "infer_path='data/archive_test/alexandrite_3.jpg'\n",
    "img = Image.open(infer_path)\n",
    "plt.imshow(img)          #根据数组绘制图像\n",
    "plt.show()               #显示图像\n",
    "#对预测图片进行预处理\n",
    "infer_imgs = []\n",
    "infer_imgs.append(load_image(infer_path))\n",
    "infer_imgs = np.array(infer_imgs)\n",
    "label_dic = train_parameters['label_dict']\n",
    "for i in range(len(infer_imgs)):\n",
    "    data = infer_imgs[i]\n",
    "    dy_x_data = np.array(data).astype('float32')\n",
    "    dy_x_data=dy_x_data[np.newaxis,:, : ,:]\n",
    "    img = paddle.to_tensor (dy_x_data)\n",
    "    out = model(img)\n",
    "    lab = np.argmax(out.numpy())  #argmax():返回最大数的索引\n",
    "    print(\"第{}个样本,被预测为：{},真实标签为：{}\".format(i+1,label_dic[str(lab)],infer_path.split('/')[-1].split(\"_\")[0]))       \n",
    "print(\"结束\")\n"
   ]
  },
  {
   "cell_type": "markdown",
   "metadata": {
    "collapsed": false
   },
   "source": [
    "# 6.学有余力"
   ]
  },
  {
   "cell_type": "code",
   "execution_count": null,
   "metadata": {
    "collapsed": false
   },
   "outputs": [
    {
     "ename": "",
     "evalue": "",
     "output_type": "error",
     "traceback": [
      "\u001b[1;31mnotebook controller is DISPOSED. \n",
      "\u001b[1;31m有关更多详细信息，请查看 Jupyter <a href='command:jupyter.viewOutput'>log</a>。"
     ]
    },
    {
     "ename": "",
     "evalue": "",
     "output_type": "error",
     "traceback": [
      "\u001b[1;31mnotebook controller is DISPOSED. \n",
      "\u001b[1;31m有关更多详细信息，请查看 Jupyter <a href='command:jupyter.viewOutput'>log</a>。"
     ]
    }
   ],
   "source": [
    "model = ['MyLeNet5','MyAlexNet','MyVGG16','MyGoogLeNet','MyResNet18','MyResNet50','MyResNet152','MyDenseNet']"
   ]
  },
  {
   "cell_type": "code",
   "execution_count": null,
   "metadata": {
    "collapsed": false
   },
   "outputs": [
    {
     "name": "stdout",
     "output_type": "stream",
     "text": [
      "epoch:0,step:5,train_loss:[3.3668184],train_acc:[0.1875]\n",
      "epoch:0,step:10,train_loss:[3.3103218],train_acc:[0.]\n",
      "epoch:0,step:15,train_loss:[3.2899241],train_acc:[0.]\n",
      "epoch:0,step:20,train_loss:[3.2182581],train_acc:[0.0625]\n",
      "epoch:0,step:25,train_loss:[3.1412125],train_acc:[0.0625]\n",
      "epoch:0,step:30,train_loss:[3.0135736],train_acc:[0.0625]\n",
      "epoch:0,step:35,train_loss:[3.0581088],train_acc:[0.125]\n",
      "epoch:0,step:40,train_loss:[3.0308068],train_acc:[0.0625]\n",
      "epoch:0,step:45,train_loss:[3.0240574],train_acc:[0.]\n",
      "epoch:1,step:5,train_loss:[2.509758],train_acc:[0.3125]\n",
      "epoch:1,step:10,train_loss:[2.7193618],train_acc:[0.1875]\n",
      "epoch:1,step:15,train_loss:[2.7540863],train_acc:[0.]\n",
      "epoch:1,step:20,train_loss:[2.806186],train_acc:[0.125]\n",
      "epoch:1,step:25,train_loss:[2.623798],train_acc:[0.375]\n",
      "epoch:1,step:30,train_loss:[2.5913868],train_acc:[0.3125]\n",
      "epoch:1,step:35,train_loss:[2.7451844],train_acc:[0.125]\n",
      "epoch:1,step:40,train_loss:[2.5861504],train_acc:[0.125]\n",
      "epoch:1,step:45,train_loss:[2.6127324],train_acc:[0.3]\n",
      "epoch:2,step:5,train_loss:[2.69443],train_acc:[0.1875]\n",
      "epoch:2,step:10,train_loss:[2.032721],train_acc:[0.375]\n",
      "epoch:2,step:15,train_loss:[2.2330403],train_acc:[0.25]\n",
      "epoch:2,step:20,train_loss:[2.5502164],train_acc:[0.1875]\n",
      "epoch:2,step:25,train_loss:[2.852724],train_acc:[0.25]\n",
      "epoch:2,step:30,train_loss:[2.3609352],train_acc:[0.4375]\n",
      "epoch:2,step:35,train_loss:[2.637288],train_acc:[0.1875]\n",
      "epoch:2,step:40,train_loss:[1.840311],train_acc:[0.5]\n",
      "epoch:2,step:45,train_loss:[2.6190436],train_acc:[0.1]\n",
      "epoch:3,step:5,train_loss:[2.3273985],train_acc:[0.375]\n",
      "epoch:3,step:10,train_loss:[2.3445096],train_acc:[0.375]\n",
      "epoch:3,step:15,train_loss:[2.2746816],train_acc:[0.375]\n",
      "epoch:3,step:20,train_loss:[1.9580783],train_acc:[0.375]\n",
      "epoch:3,step:25,train_loss:[2.351178],train_acc:[0.375]\n",
      "epoch:3,step:30,train_loss:[1.751379],train_acc:[0.5]\n",
      "epoch:3,step:35,train_loss:[2.129696],train_acc:[0.3125]\n",
      "epoch:3,step:40,train_loss:[2.24199],train_acc:[0.4375]\n",
      "epoch:3,step:45,train_loss:[1.9597747],train_acc:[0.3]\n",
      "epoch:4,step:5,train_loss:[2.2659545],train_acc:[0.25]\n",
      "epoch:4,step:10,train_loss:[2.1645913],train_acc:[0.1875]\n",
      "epoch:4,step:15,train_loss:[2.0797048],train_acc:[0.375]\n",
      "epoch:4,step:20,train_loss:[2.0496716],train_acc:[0.25]\n",
      "epoch:4,step:25,train_loss:[1.773459],train_acc:[0.4375]\n",
      "epoch:4,step:30,train_loss:[1.1943796],train_acc:[0.625]\n",
      "epoch:4,step:35,train_loss:[1.9956298],train_acc:[0.3125]\n",
      "epoch:4,step:40,train_loss:[1.9258933],train_acc:[0.4375]\n",
      "epoch:4,step:45,train_loss:[0.819054],train_acc:[0.8]\n",
      "epoch:5,step:5,train_loss:[1.3148363],train_acc:[0.5625]\n",
      "epoch:5,step:10,train_loss:[2.5667837],train_acc:[0.25]\n",
      "epoch:5,step:15,train_loss:[1.909812],train_acc:[0.375]\n",
      "epoch:5,step:20,train_loss:[1.7482417],train_acc:[0.4375]\n",
      "epoch:5,step:25,train_loss:[1.3333635],train_acc:[0.5]\n",
      "epoch:5,step:30,train_loss:[2.023036],train_acc:[0.4375]\n",
      "epoch:5,step:35,train_loss:[1.7368479],train_acc:[0.375]\n",
      "epoch:5,step:40,train_loss:[1.3504295],train_acc:[0.5625]\n",
      "epoch:5,step:45,train_loss:[1.9619646],train_acc:[0.3]\n",
      "epoch:6,step:5,train_loss:[1.3148937],train_acc:[0.625]\n",
      "epoch:6,step:10,train_loss:[1.5222996],train_acc:[0.5625]\n",
      "epoch:6,step:15,train_loss:[1.3330673],train_acc:[0.6875]\n",
      "epoch:6,step:20,train_loss:[1.6500401],train_acc:[0.375]\n",
      "epoch:6,step:25,train_loss:[1.5788116],train_acc:[0.5]\n",
      "epoch:6,step:30,train_loss:[1.3662947],train_acc:[0.5]\n",
      "epoch:6,step:35,train_loss:[1.312362],train_acc:[0.5625]\n",
      "epoch:6,step:40,train_loss:[1.4437553],train_acc:[0.6875]\n",
      "epoch:6,step:45,train_loss:[1.6316979],train_acc:[0.3]\n",
      "epoch:7,step:5,train_loss:[0.90401435],train_acc:[0.8125]\n",
      "epoch:7,step:10,train_loss:[0.59820557],train_acc:[0.9375]\n",
      "epoch:7,step:15,train_loss:[0.86489475],train_acc:[0.875]\n",
      "epoch:7,step:20,train_loss:[1.3208466],train_acc:[0.6875]\n",
      "epoch:7,step:25,train_loss:[1.0397974],train_acc:[0.75]\n",
      "epoch:7,step:30,train_loss:[1.5796641],train_acc:[0.5625]\n",
      "epoch:7,step:35,train_loss:[0.9965856],train_acc:[0.5625]\n",
      "epoch:7,step:40,train_loss:[1.661319],train_acc:[0.5625]\n",
      "epoch:7,step:45,train_loss:[0.9909062],train_acc:[0.7]\n",
      "epoch:8,step:5,train_loss:[1.8639445],train_acc:[0.5]\n",
      "epoch:8,step:10,train_loss:[1.4208173],train_acc:[0.5625]\n",
      "epoch:8,step:15,train_loss:[1.1821125],train_acc:[0.5625]\n",
      "epoch:8,step:20,train_loss:[1.4701514],train_acc:[0.4375]\n",
      "epoch:8,step:25,train_loss:[1.0965796],train_acc:[0.5625]\n",
      "epoch:8,step:30,train_loss:[0.95460385],train_acc:[0.6875]\n",
      "epoch:8,step:35,train_loss:[1.0116895],train_acc:[0.5625]\n",
      "epoch:8,step:40,train_loss:[1.0340326],train_acc:[0.6875]\n",
      "epoch:8,step:45,train_loss:[1.3679113],train_acc:[0.4]\n",
      "epoch:9,step:5,train_loss:[1.2049644],train_acc:[0.6875]\n",
      "epoch:9,step:10,train_loss:[0.3538407],train_acc:[0.875]\n",
      "epoch:9,step:15,train_loss:[0.6483478],train_acc:[0.75]\n",
      "epoch:9,step:20,train_loss:[0.6513119],train_acc:[0.875]\n",
      "epoch:9,step:25,train_loss:[0.7942613],train_acc:[0.8125]\n",
      "epoch:9,step:30,train_loss:[1.1454904],train_acc:[0.5625]\n",
      "epoch:9,step:35,train_loss:[1.4905813],train_acc:[0.625]\n",
      "epoch:9,step:40,train_loss:[1.010836],train_acc:[0.5625]\n",
      "epoch:9,step:45,train_loss:[0.69662833],train_acc:[0.7]\n",
      "epoch:10,step:5,train_loss:[1.1366334],train_acc:[0.5625]\n",
      "epoch:10,step:10,train_loss:[1.0482022],train_acc:[0.75]\n",
      "epoch:10,step:15,train_loss:[0.7946646],train_acc:[0.8125]\n",
      "epoch:10,step:20,train_loss:[0.83727396],train_acc:[0.625]\n",
      "epoch:10,step:25,train_loss:[0.8206866],train_acc:[0.75]\n",
      "epoch:10,step:30,train_loss:[1.2104032],train_acc:[0.5]\n",
      "epoch:10,step:35,train_loss:[0.511919],train_acc:[0.75]\n",
      "epoch:10,step:40,train_loss:[0.8778911],train_acc:[0.6875]\n",
      "epoch:10,step:45,train_loss:[1.9978663],train_acc:[0.5]\n",
      "epoch:11,step:5,train_loss:[1.2266222],train_acc:[0.625]\n",
      "epoch:11,step:10,train_loss:[0.6064627],train_acc:[0.6875]\n",
      "epoch:11,step:15,train_loss:[1.6637843],train_acc:[0.5625]\n",
      "epoch:11,step:20,train_loss:[0.9048338],train_acc:[0.75]\n",
      "epoch:11,step:25,train_loss:[0.20935065],train_acc:[1.]\n",
      "epoch:11,step:30,train_loss:[0.51372266],train_acc:[0.8125]\n",
      "epoch:11,step:35,train_loss:[0.5586337],train_acc:[0.875]\n",
      "epoch:11,step:40,train_loss:[0.7477429],train_acc:[0.6875]\n",
      "epoch:11,step:45,train_loss:[0.727029],train_acc:[0.7]\n",
      "epoch:12,step:5,train_loss:[0.75586987],train_acc:[0.75]\n",
      "epoch:12,step:10,train_loss:[0.89827234],train_acc:[0.75]\n",
      "epoch:12,step:15,train_loss:[0.6510395],train_acc:[0.75]\n",
      "epoch:12,step:20,train_loss:[0.83802974],train_acc:[0.6875]\n"
     ]
    },
    {
     "ename": "",
     "evalue": "",
     "output_type": "error",
     "traceback": [
      "\u001b[1;31mnotebook controller is DISPOSED. \n",
      "\u001b[1;31m有关更多详细信息，请查看 Jupyter <a href='command:jupyter.viewOutput'>log</a>。"
     ]
    },
    {
     "ename": "",
     "evalue": "",
     "output_type": "error",
     "traceback": [
      "\u001b[1;31mnotebook controller is DISPOSED. \n",
      "\u001b[1;31m有关更多详细信息，请查看 Jupyter <a href='command:jupyter.viewOutput'>log</a>。"
     ]
    }
   ],
   "source": [
    "function_name = 'MyAlexNet'\n",
    "\n",
    "model = eval(function_name + '()') # 模型实例化\n",
    "model.train() # 训练模式\n",
    "cross_entropy = paddle.nn.CrossEntropyLoss()\n",
    "opt=paddle.optimizer.SGD(learning_rate=train_parameters['learning_strategy']['lr'],\\\n",
    "                                                    parameters=model.parameters())\n",
    "\n",
    "result = []\n",
    "\n",
    "epochs_num=train_parameters['num_epochs'] #迭代次数\n",
    "for pass_num in range(train_parameters['num_epochs']):\n",
    "    for batch_id,data in enumerate(train_loader()):\n",
    "        image = data[0]\n",
    "        label = data[1]\n",
    "\n",
    "        if function_name == 'MyGoogLeNet' or function_name == 'MyResNet34' or function_name == 'MyResNet101':\n",
    "            predict = model(image)[0] \n",
    "        else:\n",
    "            predict = model(image)\n",
    "\n",
    "        loss=cross_entropy(predict,label)\n",
    "        acc=paddle.metric.accuracy(predict,label)#计算精度\n",
    "        if batch_id!=0 and batch_id%5==0:\n",
    "            Batch = Batch+5 \n",
    "            Batchs.append(Batch)\n",
    "            all_train_loss.append(loss.numpy()[0])\n",
    "            all_train_accs.append(acc.numpy()[0]) \n",
    "            print(\"epoch:{},step:{},train_loss:{},train_acc:{}\".format(pass_num,batch_id,loss.numpy(),acc.numpy()))        \n",
    "        loss.backward()       \n",
    "        opt.step()\n",
    "        opt.clear_grad()   #opt.clear_grad()来重置梯度\n",
    "        \n",
    "    model.eval() #验证模式\n",
    "\n",
    "    accs = []\n",
    "    for batch_id,data in enumerate(eval_loader()):#测试集\n",
    "        image=data[0]\n",
    "        label=data[1]     \n",
    "        predict=model(image)       \n",
    "        acc=paddle.metric.accuracy(predict,label)\n",
    "        accs.append(acc.numpy()[0])\n",
    "    avg_acc = np.mean(accs)\n",
    "\n",
    "    result.append(avg_acc)\n",
    "\n",
    "    model.train()\n",
    "\n",
    "num = range(0,epoch_test)\n",
    "draw_train_acc(num,result)"
   ]
  },
  {
   "cell_type": "code",
   "execution_count": null,
   "metadata": {
    "collapsed": false
   },
   "outputs": [
    {
     "ename": "",
     "evalue": "",
     "output_type": "error",
     "traceback": [
      "\u001b[1;31mnotebook controller is DISPOSED. \n",
      "\u001b[1;31m有关更多详细信息，请查看 Jupyter <a href='command:jupyter.viewOutput'>log</a>。"
     ]
    },
    {
     "ename": "",
     "evalue": "",
     "output_type": "error",
     "traceback": [
      "\u001b[1;31mnotebook controller is DISPOSED. \n",
      "\u001b[1;31m有关更多详细信息，请查看 Jupyter <a href='command:jupyter.viewOutput'>log</a>。"
     ]
    }
   ],
   "source": []
  }
 ],
 "metadata": {
  "kernelspec": {
   "display_name": "python",
   "language": "python",
   "name": "python3"
  },
  "language_info": {
   "codemirror_mode": {
    "name": "ipython",
    "version": 3
   },
   "file_extension": ".py",
   "mimetype": "text/x-python",
   "name": "python",
   "nbconvert_exporter": "python",
   "pygments_lexer": "ipython3",
   "version": "3.11.9"
  }
 },
 "nbformat": 4,
 "nbformat_minor": 1
}
