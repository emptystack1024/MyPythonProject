{
 "cells": [
  {
   "cell_type": "markdown",
   "id": "dc937ea3",
   "metadata": {},
   "source": [
    "## <small>\n",
    "Copyright (c) 2017-21 Andrew Glassner\n",
    "\n",
    "Permission is hereby granted, free of charge, to any person obtaining a copy of this software and associated documentation files (the \"Software\"), to deal in the Software without restriction, including without limitation the rights to use, copy, modify, merge, publish, distribute, sublicense, and/or sell copies of the Software, and to permit persons to whom the Software is furnished to do so, subject to the following conditions:\n",
    "\n",
    "The above copyright notice and this permission notice shall be included in all copies or substantial portions of the Software.\n",
    "\n",
    "THE SOFTWARE IS PROVIDED \"AS IS\", WITHOUT WARRANTY OF ANY KIND, EXPRESS OR IMPLIED, INCLUDING BUT NOT LIMITED TO THE WARRANTIES OF MERCHANTABILITY, FITNESS FOR A PARTICULAR PURPOSE AND NONINFRINGEMENT. IN NO EVENT SHALL THE AUTHORS OR COPYRIGHT HOLDERS BE LIABLE FOR ANY CLAIM, DAMAGES OR OTHER LIABILITY, WHETHER IN AN ACTION OF CONTRACT, TORT OR OTHERWISE, ARISING FROM, OUT OF OR IN CONNECTION WITH THE SOFTWARE OR THE USE OR OTHER DEALINGS IN THE SOFTWARE.\n",
    "</small>\n",
    "\n",
    "\n",
    "\n",
    "# Deep Learning: A Visual Approach\n",
    "## by Andrew Glassner, https://glassner.com\n",
    "### Order: https://nostarch.com/deep-learning-visual-approach\n",
    "### GitHub: https://github.com/blueberrymusic\n",
    "------\n",
    "\n"
   ]
  },
  {
   "cell_type": "markdown",
   "id": "c5d6e01d",
   "metadata": {},
   "source": [
    "## Chapter 20: Attention and Transformers"
   ]
  },
  {
   "cell_type": "markdown",
   "id": "b0631b11",
   "metadata": {},
   "source": [
    "\n",
    "### Where's the Notebooks?\n",
    "\n",
    "There aren't any explicit notebooks for this chapter, because I mostly used existing (and sometimes pre-trained) large models that are available on the web.\n",
    "\n",
    "My starting point for each model was tremendously useful repository for models at Hugging Face:\n",
    "\n",
    "https://huggingface.co/\n",
    "\n",
    "When I needed additional language data, I either followed their links or searched for some public domain data.\n",
    "\n",
    "Because the models are frequently large and often slow, I trained using the free Colab service from Google, which lets you create and run notebooks on their GPUs:\n",
    "\n",
    "https://colab.research.google.com/notebooks/intro.ipynb\n",
    "\n",
    "There are additional models, often pre-trained, popping up on the web constantly. Often they come with notebooks, or Colab notebooks, already built. The best way to get started with natural language processing is to search for something recent that does roughly what you're interested in. Look for something that is well-written, which you think you'll be able to reverse engineer. Read the code and work out what it does, then modify it for your own purposes.\n",
    "\n"
   ]
  },
  {
   "cell_type": "code",
   "execution_count": null,
   "id": "0228935c",
   "metadata": {},
   "outputs": [],
   "source": []
  }
 ],
 "metadata": {
  "kernelspec": {
   "display_name": "Python 3",
   "language": "python",
   "name": "python3"
  },
  "language_info": {
   "codemirror_mode": {
    "name": "ipython",
    "version": 3
   },
   "file_extension": ".py",
   "mimetype": "text/x-python",
   "name": "python",
   "nbconvert_exporter": "python",
   "pygments_lexer": "ipython3",
   "version": "3.7.10"
  }
 },
 "nbformat": 4,
 "nbformat_minor": 5
}
