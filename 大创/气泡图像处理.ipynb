{
 "cells": [
  {
   "cell_type": "code",
<<<<<<< HEAD
   "execution_count": 21,
=======
   "execution_count": 5,
   "outputs": [
    {
     "name": "stdout",
     "output_type": "stream",
     "text": [
      "Error: Unable to load the image.\n"
     ]
    }
   ],
   "source": [
    "import cv2\n",
    "import matplotlib.pyplot as plt\n",
    "\n",
    "# 读取图像\n",
    "img = cv2.imread('1.png', 0)\n",
    "\n",
    "# 检查图像是否加载成功\n",
    "if img is None:\n",
    "    print(\"Error: Unable to load the image.\")\n",
    "else:\n",
    "    # 绘制直方图\n",
    "    plt.hist(img.ravel(), 256)\n",
    "    plt.show()"
   ],
   "metadata": {
    "collapsed": false,
    "ExecuteTime": {
     "end_time": "2024-01-11T04:19:57.529725500Z",
     "start_time": "2024-01-11T04:19:57.518718600Z"
    }
   },
   "id": "ccb8f79e6fa05193"
  },
  {
   "cell_type": "code",
   "execution_count": 12,
>>>>>>> 71c644bf (test)
   "id": "initial_id",
   "metadata": {
    "collapsed": true,
    "ExecuteTime": {
<<<<<<< HEAD
     "end_time": "2023-12-04T13:58:43.215793500Z",
     "start_time": "2023-12-04T13:58:42.781217900Z"
=======
     "end_time": "2024-01-11T04:25:36.890605700Z",
     "start_time": "2024-01-11T04:25:36.606683800Z"
>>>>>>> 71c644bf (test)
    }
   },
   "outputs": [
    {
     "data": {
      "text/plain": "<Figure size 640x480 with 1 Axes>",
<<<<<<< HEAD
      "image/png": "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"
=======
      "image/png": "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"
>>>>>>> 71c644bf (test)
     },
     "metadata": {},
     "output_type": "display_data"
    }
   ],
   "source": [
    "import cv2\n",
    "import matplotlib.pyplot as plt\n",
<<<<<<< HEAD
    "\n",
    "# 改为灰度图片\n",
    "img = cv2.imread('qipao_tuxiang_chuli.png', 0)\n",
=======
    "import numpy as np\n",
    "\n",
    "# 改为灰度图片\n",
    "img = cv2.imread('test1.png', 1)\n",
>>>>>>> 71c644bf (test)
    "\n",
    "# 绘制直方图\n",
    "hist = cv2.calcHist([img], [0], None, [256], [0, 256])\n",
    "\n",
    "# 绘制直方图\n",
    "plt.hist(img.ravel(), 256)\n",
    "plt.show()"
   ]
  },
  {
   "cell_type": "code",
<<<<<<< HEAD
   "execution_count": 22,
=======
   "execution_count": 13,
>>>>>>> 71c644bf (test)
   "outputs": [],
   "source": [
    "cv2.imshow('img', img)\n",
    "cv2.waitKey(0)\n",
    "cv2.destroyAllWindows()"
   ],
   "metadata": {
    "collapsed": false,
    "ExecuteTime": {
<<<<<<< HEAD
     "end_time": "2023-12-04T13:58:45.691336Z",
     "start_time": "2023-12-04T13:58:43.942465800Z"
=======
     "end_time": "2024-01-11T04:43:53.590793200Z",
     "start_time": "2024-01-11T04:25:37.435441300Z"
>>>>>>> 71c644bf (test)
    }
   },
   "id": "85d18242b5b9bc6a"
  },
  {
   "cell_type": "code",
<<<<<<< HEAD
   "execution_count": 23,
   "outputs": [],
   "source": [
    "# 二值化\n",
    "ret, thresh = cv2.threshold(img, 50, 255, cv2.THRESH_BINARY)\n",
=======
   "execution_count": 9,
   "outputs": [],
   "source": [
    "# 二值化\n",
    "ret, thresh = cv2.threshold(img, 50, 255, cv2.THRESH_BINARY)# cv2.COLOR_BGR2GRAY)#cv2.THRESH_BINARY)\n",
>>>>>>> 71c644bf (test)
    "\n",
    "# 区域分割\n",
    "contours, hierarchy = cv2.findContours(thresh, cv2.RETR_TREE, cv2.CHAIN_APPROX_SIMPLE)\n",
    "\n",
<<<<<<< HEAD
    "# 绘制轮廓\n",
    "cv2.drawContours(img, contours, -1, (0, 0, 255), 3)\n",
    "cv2.imshow('img', img)\n",
=======
    "# 创建一个全白的图像，与原图像大小一致\n",
    "result = np.ones_like(img) * 255\n",
    "\n",
    "# 绘制轮廓\n",
    "cv2.drawContours(result, contours, -1, (0, 0, 255), 3)\n",
    "cv2.imshow('img', result)\n",
>>>>>>> 71c644bf (test)
    "cv2.waitKey(0)\n",
    "\n",
    "# 将轮廓内部填充为红色\n",
    "img = cv2.imread('qipao_tuxiang_chuli.png')\n",
<<<<<<< HEAD
    "cv2.drawContours(img, contours, -1, (0, 0, 255), cv2.FILLED)\n",
    "cv2.imshow('img', img)\n",
=======
    "cv2.drawContours(result, contours, -1, (0, 0, 255), cv2.FILLED)\n",
    "# 将其余部分全部填充为白色\n",
    "\n",
    "cv2.imshow('img', result)\n",
>>>>>>> 71c644bf (test)
    "cv2.waitKey(0)\n",
    "\n",
    "cv2.destroyAllWindows()"
   ],
   "metadata": {
    "collapsed": false,
    "ExecuteTime": {
<<<<<<< HEAD
     "end_time": "2023-12-04T14:02:01.034550Z",
     "start_time": "2023-12-04T13:58:46.385121Z"
=======
     "end_time": "2024-01-11T04:20:20.885922300Z",
     "start_time": "2024-01-11T04:20:16.004687700Z"
>>>>>>> 71c644bf (test)
    }
   },
   "id": "18454c59ef50935a"
  },
  {
   "cell_type": "code",
<<<<<<< HEAD
=======
   "execution_count": 15,
   "outputs": [
    {
     "ename": "error",
     "evalue": "OpenCV(4.8.1) :-1: error: (-5:Bad argument) in function 'inRange'\n> Overload resolution failed:\n>  - inRange() missing required argument 'lowerb' (pos 2)\n>  - inRange() missing required argument 'lowerb' (pos 2)\n",
     "output_type": "error",
     "traceback": [
      "\u001B[1;31m---------------------------------------------------------------------------\u001B[0m",
      "\u001B[1;31merror\u001B[0m                                     Traceback (most recent call last)",
      "Cell \u001B[1;32mIn[15], line 14\u001B[0m\n\u001B[0;32m     11\u001B[0m channel3 \u001B[38;5;241m=\u001B[39m img[\u001B[38;5;241m29\u001B[39m, \u001B[38;5;241m158\u001B[39m, \u001B[38;5;241m2\u001B[39m]\n\u001B[0;32m     13\u001B[0m \u001B[38;5;66;03m# 创建每个通道的阈值范围\u001B[39;00m\n\u001B[1;32m---> 14\u001B[0m channel1_mask \u001B[38;5;241m=\u001B[39m cv2\u001B[38;5;241m.\u001B[39minRange(channel1)\n\u001B[0;32m     15\u001B[0m channel2_mask \u001B[38;5;241m=\u001B[39m cv2\u001B[38;5;241m.\u001B[39minRange(channel2)\n\u001B[0;32m     16\u001B[0m channel3_mask \u001B[38;5;241m=\u001B[39m cv2\u001B[38;5;241m.\u001B[39minRange(channel3)\n",
      "\u001B[1;31merror\u001B[0m: OpenCV(4.8.1) :-1: error: (-5:Bad argument) in function 'inRange'\n> Overload resolution failed:\n>  - inRange() missing required argument 'lowerb' (pos 2)\n>  - inRange() missing required argument 'lowerb' (pos 2)\n"
     ]
    }
   ],
   "source": [
    "import cv2\n",
    "import numpy as np\n",
    "\n",
    "# 读取图像\n",
    "img = cv2.imread('test1.png', 1)\n",
    "\n",
    "\n",
    "# 分离图像通道\n",
    "channel1 = img[81, 223, 0]\n",
    "channel2 = img[38, 151, 1]\n",
    "channel3 = img[29, 158, 2]\n",
    "\n",
    "# 创建每个通道的阈值范围\n",
    "channel1_mask = cv2.inRange(channel1)\n",
    "channel2_mask = cv2.inRange(channel2)\n",
    "channel3_mask = cv2.inRange(channel3)\n",
    "\n",
    "# 将各通道的阈值合并为最终的二值化图像\n",
    "final_mask = cv2.bitwise_and(channel1_mask, cv2.bitwise_and(channel2_mask, channel3_mask))\n",
    "# 应用二值化掩码到原始图像\n",
    "result = cv2.bitwise_and(img, img, mask=final_mask)\n",
    "\n",
    "# 显示原始图像和阈值分割后的图像\n",
    "cv2.imshow('Original Image', img)\n",
    "cv2.imshow('Thresholded Image', result)\n",
    "cv2.waitKey(0)\n",
    "cv2.destroyAllWindows()"
   ],
   "metadata": {
    "collapsed": false,
    "ExecuteTime": {
     "end_time": "2024-01-11T04:45:42.272861400Z",
     "start_time": "2024-01-11T04:45:42.240151Z"
    }
   },
   "id": "3e14b559fdf7bb4b"
  },
  {
   "cell_type": "code",
   "execution_count": 48,
   "outputs": [],
   "source": [
    "# 1.\t彩色目标检测\n",
    "import cv2\n",
    "import numpy as np\n",
    "\n",
    "# 读取图像\n",
    "image = cv2.imread('result.png')\n",
    "\n",
    "# 定义红色范围\n",
    "lower_red1 = np.array([0, 0, 29])  # 最低红色值（第一部分）\n",
    "upper_red1 = np.array([255, 180, 160])  # 最高红色值（第一部分）\n",
    "\n",
    "# 创建红色的掩码\n",
    "red_mask = cv2.inRange(image, lower_red1, upper_red1)\n",
    "\n",
    "# 形态学操作：腐蚀与膨胀\n",
    "kernel = np.ones((1, 1), np.uint8)\n",
    "#red_mask = cv2.dilate(red_mask, kernel, iterations=3)\n",
    "#red_mask = cv2.erode(red_mask, kernel, iterations=3)\n",
    "\n",
    "# 将红色区域修改为红色，其余部分修改为白色\n",
    "result_image = image.copy()\n",
    "result_image[np.where(red_mask == 255)] = [0, 0, 255]  # 将红色区域修改为红色\n",
    "result_image[np.where(red_mask == 0)] = [255, 255, 255]  # 将其余部分修改为白色\n",
    "\n",
    "# 显示结果图像\n",
    "cv2.imshow(\"Result\", result_image)\n",
    "cv2.waitKey(0)\n",
    "cv2.destroyAllWindows()"
   ],
   "metadata": {
    "collapsed": false,
    "ExecuteTime": {
     "end_time": "2024-01-11T10:37:24.870274Z",
     "start_time": "2024-01-11T10:32:15.588409900Z"
    }
   },
   "id": "4be27f1dd3a18217"
  },
  {
   "cell_type": "code",
   "execution_count": 35,
   "outputs": [],
   "source": [],
   "metadata": {
    "collapsed": false,
    "ExecuteTime": {
     "end_time": "2024-01-11T08:38:11.930268300Z",
     "start_time": "2024-01-11T08:37:49.319191800Z"
    }
   },
   "id": "573ce61d5277b7d"
  },
  {
   "cell_type": "code",
>>>>>>> 71c644bf (test)
   "execution_count": null,
   "outputs": [],
   "source": [],
   "metadata": {
    "collapsed": false
   },
<<<<<<< HEAD
   "id": "3e14b559fdf7bb4b"
=======
   "id": "bb60a51cf43faf2e"
>>>>>>> 71c644bf (test)
  }
 ],
 "metadata": {
  "kernelspec": {
   "display_name": "Python 3",
   "language": "python",
   "name": "python3"
  },
  "language_info": {
   "codemirror_mode": {
    "name": "ipython",
    "version": 2
   },
   "file_extension": ".py",
   "mimetype": "text/x-python",
   "name": "python",
   "nbconvert_exporter": "python",
   "pygments_lexer": "ipython2",
   "version": "2.7.6"
  }
 },
 "nbformat": 4,
 "nbformat_minor": 5
}
