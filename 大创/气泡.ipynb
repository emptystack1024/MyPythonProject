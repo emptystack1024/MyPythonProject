{
 "cells": [
  {
   "cell_type": "markdown",
   "source": [
    "# 基础函数"
   ],
   "metadata": {
    "collapsed": false
   },
   "id": "9f4abca6eed91ae9"
  },
  {
   "cell_type": "code",
   "execution_count": 8,
   "id": "initial_id",
   "metadata": {
    "collapsed": true,
    "ExecuteTime": {
     "end_time": "2023-11-20T04:15:08.545446Z",
     "start_time": "2023-11-20T03:44:52.905201Z"
    }
   },
   "outputs": [],
   "source": [
    "import cv2\n",
    "\n",
    "img = cv2.imread(\"2.jpg\")\n",
    "cv2.imshow(\"img\", img)\n",
    "\n",
    "# 二值化\n",
    "th_img = cv2.threshold(img, 127, 255, cv2.THRESH_BINARY)[1]\n",
    "cv2.imshow(\"th_img\", th_img)\n",
    "\n",
    "cv2.waitKey(0)\n",
    "cv2.destroyAllWindows()"
   ]
  },
  {
   "cell_type": "markdown",
   "source": [
    "# 截取图像"
   ],
   "metadata": {
    "collapsed": false
   },
   "id": "903d9f6b8c79feec"
  },
  {
   "cell_type": "code",
   "execution_count": 3,
   "outputs": [
    {
     "ename": "error",
     "evalue": "OpenCV(4.5.5) D:\\Build\\OpenCV\\opencv-4.5.5\\modules\\imgproc\\src\\imgwarp.cpp:3392: error: (-215:Assertion failed) src.checkVector(2, CV_32F) == 4 && dst.checkVector(2, CV_32F) == 4 in function 'cv::getPerspectiveTransform'\n",
     "output_type": "error",
     "traceback": [
      "\u001B[1;31m---------------------------------------------------------------------------\u001B[0m",
      "\u001B[1;31merror\u001B[0m                                     Traceback (most recent call last)",
      "Cell \u001B[1;32mIn[3], line 45\u001B[0m\n\u001B[0;32m     42\u001B[0m quadrilateral_vertices \u001B[38;5;241m=\u001B[39m q_loc\n\u001B[0;32m     44\u001B[0m \u001B[38;5;66;03m# 截取平行四边形\u001B[39;00m\n\u001B[1;32m---> 45\u001B[0m result_image \u001B[38;5;241m=\u001B[39m extract_quadrilateral(image, quadrilateral_vertices)\n\u001B[0;32m     47\u001B[0m \u001B[38;5;66;03m# 显示原始图像和截取后的图像\u001B[39;00m\n\u001B[0;32m     48\u001B[0m cv2\u001B[38;5;241m.\u001B[39mimshow(\u001B[38;5;124m'\u001B[39m\u001B[38;5;124mOriginal Image\u001B[39m\u001B[38;5;124m'\u001B[39m, image)\n",
      "Cell \u001B[1;32mIn[3], line 24\u001B[0m, in \u001B[0;36mextract_quadrilateral\u001B[1;34m(image, vertices)\u001B[0m\n\u001B[0;32m     21\u001B[0m pts_dst \u001B[38;5;241m=\u001B[39m np\u001B[38;5;241m.\u001B[39marray([[\u001B[38;5;241m0\u001B[39m, \u001B[38;5;241m0\u001B[39m], [width \u001B[38;5;241m-\u001B[39m \u001B[38;5;241m1\u001B[39m, \u001B[38;5;241m0\u001B[39m], [width \u001B[38;5;241m-\u001B[39m \u001B[38;5;241m1\u001B[39m, height \u001B[38;5;241m-\u001B[39m \u001B[38;5;241m1\u001B[39m], [\u001B[38;5;241m0\u001B[39m, height \u001B[38;5;241m-\u001B[39m \u001B[38;5;241m1\u001B[39m]], dtype\u001B[38;5;241m=\u001B[39mnp\u001B[38;5;241m.\u001B[39mfloat32)\n\u001B[0;32m     23\u001B[0m \u001B[38;5;66;03m# 计算透视变换矩阵\u001B[39;00m\n\u001B[1;32m---> 24\u001B[0m M \u001B[38;5;241m=\u001B[39m cv2\u001B[38;5;241m.\u001B[39mgetPerspectiveTransform(pts_src, pts_dst)\n\u001B[0;32m     26\u001B[0m \u001B[38;5;66;03m# 应用透视变换\u001B[39;00m\n\u001B[0;32m     27\u001B[0m result \u001B[38;5;241m=\u001B[39m cv2\u001B[38;5;241m.\u001B[39mwarpPerspective(image, M, (width, height))\n",
      "\u001B[1;31merror\u001B[0m: OpenCV(4.5.5) D:\\Build\\OpenCV\\opencv-4.5.5\\modules\\imgproc\\src\\imgwarp.cpp:3392: error: (-215:Assertion failed) src.checkVector(2, CV_32F) == 4 && dst.checkVector(2, CV_32F) == 4 in function 'cv::getPerspectiveTransform'\n"
     ]
    }
   ],
   "source": [
    "import cv2\n",
    "import numpy as np\n",
    "\n",
    "import cv2\n",
    "\n",
    "# 定义回调函数，用于处理鼠标事件\n",
    "def mouse_callback(event, x, y, flags, param):\n",
    "    if event == cv2.EVENT_LBUTTONDOWN:\n",
    "        print(f\"Clicked at ({x}, {y})\")\n",
    "        param['clicks'] += 1\n",
    "        if param['clicks'] == 4:\n",
    "            print(\"Four clicks reached. Exiting...\")\n",
    "            cv2.destroyAllWindows()\n",
    "\n",
    "def extract_quadrilateral(image, vertices):\n",
    "    # 定义平行四边形的四个顶点\n",
    "    pts_src = np.array(vertices, dtype=np.float32)\n",
    "\n",
    "    # 定义输出图像中矩形的四个顶点\n",
    "    height, width = image.shape[:2]\n",
    "    pts_dst = np.array([[0, 0], [width - 1, 0], [width - 1, height - 1], [0, height - 1]], dtype=np.float32)\n",
    "\n",
    "    # 计算透视变换矩阵\n",
    "    M = cv2.getPerspectiveTransform(pts_src, pts_dst)\n",
    "\n",
    "    # 应用透视变换\n",
    "    result = cv2.warpPerspective(image, M, (width, height))\n",
    "\n",
    "    return result\n",
    "\n",
    "# 读取图像\n",
    "image = cv2.imread('2.jpg')\n",
    "global q_loc\n",
    "\n",
    "# 创建窗口并设置鼠标回调函数\n",
    "cv2.namedWindow('Image')\n",
    "clicks_count = {'clicks': 0}\n",
    "cv2.setMouseCallback('Image', mouse_callback, clicks_count)\n",
    "\n",
    "while True:\n",
    "    # 显示图像\n",
    "    cv2.imshow('Image', image)\n",
    "\n",
    "    # 等待用户按键，若按下ESC键则退出循环\n",
    "    key = cv2.waitKey(1)\n",
    "    if key == 27:\n",
    "        break\n",
    "\n",
    "# 定义平行四边形的四个顶点坐标（顺时针或逆时针定义）\n",
    "quadrilateral_vertices = q_loc\n",
    "\n",
    "# 截取平行四边形\n",
    "result_image = extract_quadrilateral(image, quadrilateral_vertices)\n",
    "\n",
    "# 显示原始图像和截取后的图像\n",
    "cv2.imshow('Original Image', image)\n",
    "cv2.imshow('Extracted Quadrilateral', result_image)\n",
    "cv2.waitKey(0)\n",
    "cv2.destroyAllWindows()"
   ],
   "metadata": {
    "collapsed": false,
    "ExecuteTime": {
     "end_time": "2023-11-20T03:33:31.079149700Z",
     "start_time": "2023-11-20T03:33:30.939062900Z"
    }
   },
   "id": "94accbea3a6bd247"
  },
  {
   "cell_type": "code",
   "execution_count": 7,
   "outputs": [
    {
     "name": "stdout",
     "output_type": "stream",
     "text": [
      "Clicked at (1, 604)\n",
      "Clicked at (1278, 14)\n",
      "Clicked at (1278, 189)\n",
      "Clicked at (1, 763)\n",
      "Four clicks reached. Exiting...\n",
      "<class 'int'>\n"
     ]
    },
    {
     "ename": "error",
     "evalue": "OpenCV(4.5.5) D:\\Build\\OpenCV\\opencv-4.5.5\\modules\\imgproc\\src\\imgwarp.cpp:3392: error: (-215:Assertion failed) src.checkVector(2, CV_32F) == 4 && dst.checkVector(2, CV_32F) == 4 in function 'cv::getPerspectiveTransform'\n",
     "output_type": "error",
     "traceback": [
      "\u001B[1;31m---------------------------------------------------------------------------\u001B[0m",
      "\u001B[1;31merror\u001B[0m                                     Traceback (most recent call last)",
      "Cell \u001B[1;32mIn[7], line 56\u001B[0m\n\u001B[0;32m     53\u001B[0m quadrilateral_vertices \u001B[38;5;241m=\u001B[39m q_loc\n\u001B[0;32m     55\u001B[0m \u001B[38;5;66;03m# 截取平行四边形\u001B[39;00m\n\u001B[1;32m---> 56\u001B[0m result_image \u001B[38;5;241m=\u001B[39m extract_quadrilateral(image, quadrilateral_vertices)\n\u001B[0;32m     58\u001B[0m \u001B[38;5;66;03m# 显示原始图像和截取后的图像\u001B[39;00m\n\u001B[0;32m     59\u001B[0m \u001B[38;5;66;03m# cv2.imshow('Original Image', image)\u001B[39;00m\n\u001B[0;32m     60\u001B[0m cv2\u001B[38;5;241m.\u001B[39mimshow(\u001B[38;5;124m'\u001B[39m\u001B[38;5;124mExtracted Quadrilateral\u001B[39m\u001B[38;5;124m'\u001B[39m, result_image)\n",
      "Cell \u001B[1;32mIn[7], line 27\u001B[0m, in \u001B[0;36mextract_quadrilateral\u001B[1;34m(image, vertices)\u001B[0m\n\u001B[0;32m     23\u001B[0m pts_dst \u001B[38;5;241m=\u001B[39m np\u001B[38;5;241m.\u001B[39marray([[\u001B[38;5;241m0\u001B[39m, \u001B[38;5;241m0\u001B[39m], [width \u001B[38;5;241m-\u001B[39m \u001B[38;5;241m1\u001B[39m, \u001B[38;5;241m0\u001B[39m], [width \u001B[38;5;241m-\u001B[39m \u001B[38;5;241m1\u001B[39m, height \u001B[38;5;241m-\u001B[39m \u001B[38;5;241m1\u001B[39m], [\u001B[38;5;241m0\u001B[39m, height \u001B[38;5;241m-\u001B[39m \u001B[38;5;241m1\u001B[39m]], dtype\u001B[38;5;241m=\u001B[39mnp\u001B[38;5;241m.\u001B[39mfloat32)\n\u001B[0;32m     25\u001B[0m \u001B[38;5;66;03m# 将图片截取出来\u001B[39;00m\n\u001B[0;32m     26\u001B[0m \u001B[38;5;66;03m# 计算透视变换矩阵\u001B[39;00m\n\u001B[1;32m---> 27\u001B[0m M \u001B[38;5;241m=\u001B[39m cv2\u001B[38;5;241m.\u001B[39mgetPerspectiveTransform(pts_src, pts_dst)\n\u001B[0;32m     29\u001B[0m \u001B[38;5;66;03m# 应用透视变换\u001B[39;00m\n\u001B[0;32m     30\u001B[0m result \u001B[38;5;241m=\u001B[39m cv2\u001B[38;5;241m.\u001B[39mwarpPerspective(image, M, (width, height))\n",
      "\u001B[1;31merror\u001B[0m: OpenCV(4.5.5) D:\\Build\\OpenCV\\opencv-4.5.5\\modules\\imgproc\\src\\imgwarp.cpp:3392: error: (-215:Assertion failed) src.checkVector(2, CV_32F) == 4 && dst.checkVector(2, CV_32F) == 4 in function 'cv::getPerspectiveTransform'\n"
     ]
    }
   ],
   "source": [
    "import cv2\n",
    "import numpy as np\n",
    "\n",
    "import cv2\n",
    "\n",
    "# 定义回调函数，用于处理鼠标事件\n",
    "def mouse_callback(event, x, y, flags, param):\n",
    "    if event == cv2.EVENT_LBUTTONDOWN:\n",
    "        print(f\"Clicked at ({x}, {y})\")\n",
    "        q_loc.append([x, y])\n",
    "        param['clicks'] += 1\n",
    "        if param['clicks'] == 4:\n",
    "            print(\"Four clicks reached. Exiting...\")\n",
    "            cv2.destroyAllWindows()\n",
    "\n",
    "def extract_quadrilateral(image, vertices):\n",
    "    # 定义平行四边形的四个顶点\n",
    "    pts_src = np.array(vertices, dtype=np.float32)\n",
    "\n",
    "    # 定义输出图像中矩形的四个顶点\n",
    "    height, width = image.shape[:2]\n",
    "    print(type(height))\n",
    "    pts_dst = np.array([[0, 0], [width - 1, 0], [width - 1, height - 1], [0, height - 1]], dtype=np.float32)\n",
    "\n",
    "    # 将图片截取出来\n",
    "    # 计算透视变换矩阵\n",
    "    M = cv2.getPerspectiveTransform(pts_src, pts_dst)\n",
    "    \n",
    "    # 应用透视变换\n",
    "    result = cv2.warpPerspective(image, M, (width, height))\n",
    "\n",
    "    return result\n",
    "\n",
    "# 读取图像\n",
    "image = cv2.imread('2.jpg')\n",
    "global q_loc\n",
    "\n",
    "# 创建窗口并设置鼠标回调函数\n",
    "cv2.namedWindow('Image')\n",
    "clicks_count = {'clicks': 0}\n",
    "cv2.setMouseCallback('Image', mouse_callback, clicks_count)\n",
    "\n",
    "while True:\n",
    "    # 显示图像\n",
    "    cv2.imshow('Image', image)\n",
    "\n",
    "    # 等待用户按键，若按下ESC键则退出循环\n",
    "    key = cv2.waitKey(1)\n",
    "    if key == 27:\n",
    "        break\n",
    "\n",
    "# 定义平行四边形的四个顶点坐标（顺时针或逆时针定义）\n",
    "quadrilateral_vertices = q_loc\n",
    "\n",
    "# 截取平行四边形\n",
    "result_image = extract_quadrilateral(image, quadrilateral_vertices)\n",
    "\n",
    "# 显示原始图像和截取后的图像\n",
    "# cv2.imshow('Original Image', image)\n",
    "cv2.imshow('Extracted Quadrilateral', result_image)\n",
    "cv2.waitKey(0)\n",
    "cv2.destroyAllWindows()"
   ],
   "metadata": {
    "collapsed": false,
    "ExecuteTime": {
     "end_time": "2023-11-20T03:43:10.008540900Z",
     "start_time": "2023-11-20T03:42:43.312165300Z"
    }
   },
   "id": "9c25336c72ef1664"
  },
  {
   "cell_type": "markdown",
   "source": [
    "## 找到管道的四个端点"
   ],
   "metadata": {
    "collapsed": false
   },
   "id": "810450275fa8219d"
  },
  {
   "cell_type": "code",
   "execution_count": 2,
   "outputs": [
    {
     "name": "stdout",
     "output_type": "stream",
     "text": [
      "未能找到四个端点\n",
      "未能找到四个端点\n"
     ]
    }
   ],
   "source": [
    "import cv2\n",
    "import numpy as np\n",
    "\n",
    "def find_pipe_endpoints(image_path):\n",
    "    # 读取图像\n",
    "    image = cv2.imread(image_path)\n",
    "\n",
    "    # 进行边缘检测\n",
    "    edges = cv2.Canny(image, 50, 150, apertureSize=3)\n",
    "    \n",
    "    # 先膨胀后腐蚀\n",
    "    kernel = np.ones((5, 5), np.uint8)\n",
    "    edges = cv2.dilate(edges, kernel, iterations=2)\n",
    "    edges = cv2.erode(edges, kernel, iterations=2)\n",
    "    \n",
    "    \n",
    "    # 查看边缘检测结果\n",
    "    cv2.imshow('Edges', edges)\n",
    "    \n",
    "    # 寻找轮廓\n",
    "    contours, _ = cv2.findContours(edges, cv2.RETR_EXTERNAL, cv2.CHAIN_APPROX_SIMPLE)\n",
    "\n",
    "    # 选择最大的轮廓\n",
    "    largest_contour = max(contours, key=cv2.contourArea)\n",
    "    \n",
    "    # 显示最大的轮廓\n",
    "    cv2.drawContours(image, [largest_contour], -1, (0, 255, 0), 3)\n",
    "    cv2.imshow('Largest Contour', image)\n",
    "\n",
    "    # 进行透视变换\n",
    "    epsilon = 0.02 * cv2.arcLength(largest_contour, True)\n",
    "    approx = cv2.approxPolyDP(largest_contour, epsilon, True)\n",
    "\n",
    "    # 提取四个端点\n",
    "    if len(approx) == 4:\n",
    "        pipe_endpoints = approx.reshape(-1, 2)\n",
    "        return pipe_endpoints\n",
    "    else:\n",
    "        print(\"未能找到四个端点\")\n",
    "\n",
    "# 使用示例\n",
    "image_path = '1.jpg'  # 替换为实际图像路径\n",
    "endpoints = find_pipe_endpoints(image_path)\n",
    "cv2.waitKey(0)\n",
    "cv2.destroyAllWindows()\n",
    "\n",
    "if endpoints is not None:\n",
    "    print(\"管道四个端点的位置：\", endpoints)\n",
    "else:\n",
    "    print(\"未能找到四个端点\")"
   ],
   "metadata": {
    "collapsed": false,
    "ExecuteTime": {
     "end_time": "2023-11-20T03:12:20.846034800Z",
     "start_time": "2023-11-20T03:11:58.345752700Z"
    }
   },
   "id": "fcb4847831045e37"
  },
  {
   "cell_type": "markdown",
   "source": [
    "# 网上代码研究"
   ],
   "metadata": {
    "collapsed": false
   },
   "id": "4e7d5329f99e3689"
  },
  {
   "cell_type": "code",
   "execution_count": 3,
   "outputs": [
    {
     "name": "stdout",
     "output_type": "stream",
     "text": [
      "Clicked at (2, 605)\n",
      "Clicked at (0, 764)\n",
      "Clicked at (1279, 17)\n",
      "Clicked at (1279, 188)\n"
     ]
    }
   ],
   "source": [
    "import cv2\n",
    "\n",
    "# 定义回调函数，用于处理鼠标事件\n",
    "def mouse_callback(event, x, y, flags, param):\n",
    "    if event == cv2.EVENT_LBUTTONDOWN:\n",
    "        print(f\"Clicked at ({x}, {y})\")\n",
    "\n",
    "# 读取图像\n",
    "image = cv2.imread('2.jpg')\n",
    "\n",
    "# 创建窗口并设置鼠标回调函数\n",
    "cv2.namedWindow('Image')\n",
    "cv2.setMouseCallback('Image', mouse_callback)\n",
    "\n",
    "while True:\n",
    "    # 显示图像\n",
    "    cv2.imshow('Image', image)\n",
    "\n",
    "    # 等待用户按键，若按下ESC键则退出循环\n",
    "    key = cv2.waitKey(1)\n",
    "    if key == 27:\n",
    "        break\n",
    "\n",
    "# 关闭窗口\n",
    "cv2.waitKey(0)\n",
    "cv2.destroyAllWindows()"
   ],
   "metadata": {
    "collapsed": false,
    "ExecuteTime": {
     "end_time": "2023-11-20T03:24:05.949820400Z",
     "start_time": "2023-11-20T03:23:44.797533500Z"
    }
   },
   "id": "59fe81b19deb4236"
  },
  {
   "cell_type": "code",
   "execution_count": null,
   "outputs": [],
   "source": [],
   "metadata": {
    "collapsed": false
   },
   "id": "1793b7c5fe916a19"
  }
 ],
 "metadata": {
  "kernelspec": {
   "display_name": "Python 3",
   "language": "python",
   "name": "python3"
  },
  "language_info": {
   "codemirror_mode": {
    "name": "ipython",
    "version": 2
   },
   "file_extension": ".py",
   "mimetype": "text/x-python",
   "name": "python",
   "nbconvert_exporter": "python",
   "pygments_lexer": "ipython2",
   "version": "2.7.6"
  }
 },
 "nbformat": 4,
 "nbformat_minor": 5
}
