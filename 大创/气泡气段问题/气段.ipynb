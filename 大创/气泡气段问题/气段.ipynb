{
 "cells": [
  {
   "cell_type": "markdown",
   "source": [
    "函数1：如何求大气段的体积"
   ],
   "metadata": {
    "collapsed": false
   },
   "id": "dc094ab629657bd4"
  },
  {
   "cell_type": "code",
   "execution_count": 1,
   "outputs": [
    {
     "name": "stdout",
     "output_type": "stream",
     "text": [
      "l_tan 0.6008606190275604\n",
      "r_tan 0.2867453857588079\n",
      "大气段的体积是： 881.5223988478168 ml\n",
      "大气段的体积是： 0.8815223988478168 L\n"
     ]
    }
   ],
   "source": [
    "from scipy import integrate\n",
    "import math\n",
    "\n",
    "# 输入各种参数\n",
    "b_len = float(input(\"下底边(长边)的长度是：\"))\n",
    "l_angel = int(input(\"图像左侧液体夹角是：\"))\n",
    "l_pro_len = float(input(\"图像左侧斜边在长边的投影是：\"))\n",
    "r_angel = int(input(\"图像右侧液体夹角是：\"))\n",
    "r_pro_len = float(input(\"图像右侧斜边在长边的投影是：\"))\n",
    "\n",
    "# 根据角度求tan值\n",
    "l_tan = math.tan(math.radians(l_angel))\n",
    "r_tan = math.tan(math.radians(r_angel))\n",
    "\n",
    "# 管壁半径为2.5cm\n",
    "r = 2.5\n",
    "\n",
    "# 实现分段函数\n",
    "def f(x):\n",
    "    # 气段前端的坡\n",
    "    if 0 < x <= (l_pro_len):\n",
    "        return x * l_tan\n",
    "    # 气段中段的平坡\n",
    "    elif (l_pro_len) < x < (b_len - r_pro_len):\n",
    "        return (l_tan * l_pro_len + r_tan * r_pro_len)/2\n",
    "    # 气段尾端的坡\n",
    "    elif x >= (b_len - r_pro_len):\n",
    "        return (b_len-x)*r_tan\n",
    "\n",
    "# 给定f(x)如何求积分对应的面积\n",
    "def S(x):\n",
    "    d = r - float(f(x)) #当前x左边对应于管壁上方的距离\n",
    "\n",
    "    # 求气段两端点相对于圆心的夹角\n",
    "    angle_rad = 2 * math.acos(d / r)\n",
    "\n",
    "    # 扇形的面积\n",
    "    hu_size = (angle_rad/2) * (r ** 2) # 约去一个pi\n",
    "\n",
    "    # 三角形的面积（圆心和两端点连线组成的三角形）\n",
    "    san_size = d * math.sqrt(r**2 - d**2)\n",
    "\n",
    "    return hu_size-san_size\n",
    "\n",
    "# 从0到b_len求s函数的积分\n",
    "V,err= integrate.quad(S,0,b_len)\n",
    "ml = V\n",
    "L = ml/1000\n",
    "\n",
    "print(\"大气段的体积是：\",ml,\"ml\")\n",
    "print(\"大气段的体积是：\",L,\"L\")"
   ],
   "metadata": {
    "collapsed": false,
    "ExecuteTime": {
     "end_time": "2023-11-19T14:59:05.163699800Z",
     "start_time": "2023-11-19T14:58:47.096589Z"
    }
   },
   "id": "212534ab7a2f0da8"
  },
  {
   "cell_type": "markdown",
   "source": [
    "## 绘制f(x)的图像"
   ],
   "metadata": {
    "collapsed": false
   },
   "id": "6eb878d76dfd26b7"
  },
  {
   "cell_type": "code",
   "execution_count": 2,
   "outputs": [
    {
     "data": {
      "text/plain": "<Figure size 640x480 with 1 Axes>",
      "image/png": "[encoded data removed]"
     },
     "metadata": {},
     "output_type": "display_data"
    }
   ],
   "source": [
    "from scipy import integrate\n",
    "import math\n",
    "import matplotlib.pyplot as plt\n",
    "import numpy as np\n",
    "\n",
    "# 输入各种参数\n",
    "b_len = float(input(\"下底边(长边)的长度是：\"))\n",
    "l_angel = int(input(\"图像左侧液体夹角是：\"))\n",
    "l_pro_len = float(input(\"图像左侧斜边在长边的投影是：\"))\n",
    "r_angel = int(input(\"图像右侧液体夹角是：\"))\n",
    "r_pro_len = float(input(\"图像右侧斜边在长边的投影是：\"))\n",
    "\n",
    "# 根据角度求tan值\n",
    "l_tan = math.tan(math.radians(l_angel))\n",
    "r_tan = math.tan(math.radians(r_angel))\n",
    "\n",
    "# 管壁半径为2.5cm\n",
    "r = 2.5\n",
    "\n",
    "# 实现分段函数\n",
    "def f(x):\n",
    "    # 气段前端的坡\n",
    "    if 0 < x <= (l_pro_len):\n",
    "        return x * l_tan\n",
    "    # 气段中段的平坡\n",
    "    elif (l_pro_len) < x < (b_len - r_pro_len):\n",
    "        return (l_tan * l_pro_len + r_tan * r_pro_len)/2\n",
    "    # 气段尾端的坡\n",
    "    elif x >= (b_len - r_pro_len):\n",
    "        return (b_len-x)*r_tan\n",
    "\n",
    "# 给定f(x)如何求积分对应的面积\n",
    "def S(x):\n",
    "    d = r - float(f(x)) #当前x左边对应于管壁上方的距离\n",
    "\n",
    "    # 求气段两端点相对于圆心的夹角\n",
    "    angle_rad = 2 * math.acos(d / r)\n",
    "\n",
    "    # 扇形的面积\n",
    "    hu_size = (angle_rad/2) * (r ** 2) # 约去一个pi\n",
    "\n",
    "    # 三角形的面积（圆心和两端点连线组成的三角形）\n",
    "    san_size = d * math.sqrt(r**2 - d**2)\n",
    "\n",
    "    return hu_size-san_size\n",
    "\n",
    "# 从0到b_len创建一个连续的x值数组\n",
    "x_values = np.linspace(0, b_len, 1000)\n",
    "\n",
    "# 计算对应的S(x)值\n",
    "S_values = [f(x) for x in x_values]\n",
    "\n",
    "# 绘制S(x)随x的变化曲线\n",
    "plt.plot(x_values, S_values)\n",
    "plt.xlabel('x')\n",
    "plt.ylabel('f(x)')\n",
    "plt.title('f(x) vs x')\n",
    "plt.show()"
   ],
   "metadata": {
    "collapsed": false,
    "ExecuteTime": {
     "end_time": "2023-11-19T15:01:33.868779100Z",
     "start_time": "2023-11-19T15:01:08.968544Z"
    }
   },
   "id": "44de25ddf6cb4292"
  },
  {
   "cell_type": "code",
   "execution_count": null,
   "outputs": [],
   "source": [],
   "metadata": {
    "collapsed": false
   },
   "id": "94f9efa46ece4ed2"
  }
 ],
 "metadata": {
  "kernelspec": {
   "display_name": "Python 3",
   "language": "python",
   "name": "python3"
  },
  "language_info": {
   "codemirror_mode": {
    "name": "ipython",
    "version": 2
   },
   "file_extension": ".py",
   "mimetype": "text/x-python",
   "name": "python",
   "nbconvert_exporter": "python",
   "pygments_lexer": "ipython2",
   "version": "2.7.6"
  }
 },
 "nbformat": 4,
 "nbformat_minor": 5
}
