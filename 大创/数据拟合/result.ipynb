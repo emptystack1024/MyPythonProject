{
 "cells": [
  {
   "cell_type": "code",
   "id": "initial_id",
   "metadata": {
    "collapsed": true,
    "ExecuteTime": {
     "end_time": "2024-04-24T08:19:41.858342Z",
     "start_time": "2024-04-24T08:19:41.835016Z"
    }
   },
   "source": [
    "import numpy as np\n",
    "# 读取data.xlsx中的数据\n",
    "import pandas as pd\n",
    "\n",
    "data = pd.read_excel('data-cm.xlsx')"
   ],
   "outputs": [],
   "execution_count": 63
  },
  {
   "cell_type": "code",
   "source": [
    "# 查看数据的前5行\n",
    "data"
   ],
   "metadata": {
    "collapsed": false,
    "ExecuteTime": {
     "end_time": "2024-04-24T08:19:41.893134Z",
     "start_time": "2024-04-24T08:19:41.875806Z"
    }
   },
   "id": "d686c1e9da5dd56e",
   "outputs": [
    {
     "data": {
      "text/plain": [
       "   Unnamed: 0        船长        船高        x1        x2\n",
       "0           3  0.974381  0.019735  0.054271  0.063529\n",
       "1           6  1.632454  0.034654  0.073682  0.099415\n",
       "2           9  1.171768  0.035698  0.075200  0.110373\n",
       "3          12  0.913274  0.034074  0.065164  0.110408\n",
       "4          15  0.650493  0.032057  0.062302  0.110964\n",
       "5          19  0.703797  0.032119  0.073931  0.116257"
      ],
      "text/html": [
       "<div>\n",
       "<style scoped>\n",
       "    .dataframe tbody tr th:only-of-type {\n",
       "        vertical-align: middle;\n",
       "    }\n",
       "\n",
       "    .dataframe tbody tr th {\n",
       "        vertical-align: top;\n",
       "    }\n",
       "\n",
       "    .dataframe thead th {\n",
       "        text-align: right;\n",
       "    }\n",
       "</style>\n",
       "<table border=\"1\" class=\"dataframe\">\n",
       "  <thead>\n",
       "    <tr style=\"text-align: right;\">\n",
       "      <th></th>\n",
       "      <th>Unnamed: 0</th>\n",
       "      <th>船长</th>\n",
       "      <th>船高</th>\n",
       "      <th>x1</th>\n",
       "      <th>x2</th>\n",
       "    </tr>\n",
       "  </thead>\n",
       "  <tbody>\n",
       "    <tr>\n",
       "      <th>0</th>\n",
       "      <td>3</td>\n",
       "      <td>0.974381</td>\n",
       "      <td>0.019735</td>\n",
       "      <td>0.054271</td>\n",
       "      <td>0.063529</td>\n",
       "    </tr>\n",
       "    <tr>\n",
       "      <th>1</th>\n",
       "      <td>6</td>\n",
       "      <td>1.632454</td>\n",
       "      <td>0.034654</td>\n",
       "      <td>0.073682</td>\n",
       "      <td>0.099415</td>\n",
       "    </tr>\n",
       "    <tr>\n",
       "      <th>2</th>\n",
       "      <td>9</td>\n",
       "      <td>1.171768</td>\n",
       "      <td>0.035698</td>\n",
       "      <td>0.075200</td>\n",
       "      <td>0.110373</td>\n",
       "    </tr>\n",
       "    <tr>\n",
       "      <th>3</th>\n",
       "      <td>12</td>\n",
       "      <td>0.913274</td>\n",
       "      <td>0.034074</td>\n",
       "      <td>0.065164</td>\n",
       "      <td>0.110408</td>\n",
       "    </tr>\n",
       "    <tr>\n",
       "      <th>4</th>\n",
       "      <td>15</td>\n",
       "      <td>0.650493</td>\n",
       "      <td>0.032057</td>\n",
       "      <td>0.062302</td>\n",
       "      <td>0.110964</td>\n",
       "    </tr>\n",
       "    <tr>\n",
       "      <th>5</th>\n",
       "      <td>19</td>\n",
       "      <td>0.703797</td>\n",
       "      <td>0.032119</td>\n",
       "      <td>0.073931</td>\n",
       "      <td>0.116257</td>\n",
       "    </tr>\n",
       "  </tbody>\n",
       "</table>\n",
       "</div>"
      ]
     },
     "execution_count": 64,
     "metadata": {},
     "output_type": "execute_result"
    }
   ],
   "execution_count": 64
  },
  {
   "cell_type": "code",
   "source": [
    "# 导出为4个参数的数组\n",
    "# z  = data['船长'].values # m\n",
    "z = data['船高'].values # m\n",
    "x1 = data['x1'].values # m\n",
    "x2 = data['x2'].values # m\n",
    "\n",
    "print(z)\n",
    "print(x1 + x2)"
   ],
   "metadata": {
    "collapsed": false,
    "ExecuteTime": {
     "end_time": "2024-04-24T08:19:42.002760Z",
     "start_time": "2024-04-24T08:19:41.991954Z"
    }
   },
   "id": "9a5a9af7b634ca1d",
   "outputs": [
    {
     "name": "stdout",
     "output_type": "stream",
     "text": [
      "[0.01973548 0.03465385 0.03569756 0.03407436 0.03205714 0.03211944]\n",
      "[0.1178     0.17309744 0.18557317 0.17557179 0.17326667 0.19018857]\n"
     ]
    }
   ],
   "execution_count": 65
  },
  {
   "cell_type": "code",
   "source": [
    "E = (2 * z) / (x1 + x2)\n",
    "\n",
    "print(E)"
   ],
   "metadata": {
    "collapsed": false,
    "ExecuteTime": {
     "end_time": "2024-04-24T08:19:42.051712Z",
     "start_time": "2024-04-24T08:19:42.043134Z"
    }
   },
   "id": "ed89f9e987c4346e",
   "outputs": [
    {
     "name": "stdout",
     "output_type": "stream",
     "text": [
      "[0.33506764 0.40039699 0.38472761 0.38815299 0.37003243 0.33776419]\n"
     ]
    }
   ],
   "execution_count": 66
  },
  {
   "cell_type": "code",
   "source": [
    "V_sl = 1.2  #m/s\n",
    "d = 0.05#m 玻璃管内径\n",
    "\n",
    "hl = d - z\n",
    "\n",
    "pi = np.pi\n",
    "R = d/2\n",
    "\n",
    "# a = pi * (d**2) * np.arccos((d - hl)/d)\n",
    "# b = 180*(d - hl)*np.sqrt(2*d*hl - hl**2)\n",
    "# c = 45 * pi * (d**2)\n",
    "# \n",
    "# print(a)\n",
    "# print(b)\n",
    "# print(c)\n",
    "# \n",
    "# print((a-b)/c)\n",
    "\n",
    "# Hl = (pi * (d**2) * np.arccos((d - hl)/d) - 180*(d - hl)*np.sqrt(2*d*hl - hl**2)) / (45 * pi * (d**2))\n",
    "Al = ((R**2) * np.arccos((R-hl)/R)) - ((R - hl) * np.sqrt((R**2) - (R - hl)**2))\n",
    "\n",
    "print(Al)\n",
    "\n",
    "Hl = Al / (pi * (R**2))\n",
    "\n",
    "print(\"Hl\",Hl)"
   ],
   "metadata": {
    "collapsed": false,
    "ExecuteTime": {
     "end_time": "2024-04-24T08:19:42.136242Z",
     "start_time": "2024-04-24T08:19:42.126564Z"
    }
   },
   "id": "5c47ed5d92c0a1f0",
   "outputs": [
    {
     "name": "stdout",
     "output_type": "stream",
     "text": [
      "[0.00124301 0.00051134 0.00046367 0.0005382  0.00063363 0.00063065]\n",
      "Hl [0.63306231 0.2604209  0.23614669 0.27410274 0.32270739 0.321186  ]\n"
     ]
    }
   ],
   "execution_count": 67
  },
  {
   "metadata": {
    "ExecuteTime": {
     "end_time": "2024-04-24T08:19:42.247188Z",
     "start_time": "2024-04-24T08:19:42.237490Z"
    }
   },
   "cell_type": "code",
   "source": [
    "u = 1.01 * (10**(-6)) # m^2/s\n",
    "\n",
    "a = V_sl * d\n",
    "b = u * Hl\n",
    "\n",
    "print(a)\n",
    "print(b)\n",
    "\n",
    "Ref = (V_sl * d) / (u * Hl)\n",
    "\n",
    "print(Ref)"
   ],
   "id": "c8db21bb41c3c4c4",
   "outputs": [
    {
     "name": "stdout",
     "output_type": "stream",
     "text": [
      "0.06\n",
      "[6.39392932e-07 2.63025105e-07 2.38508154e-07 2.76843769e-07\n",
      " 3.25934467e-07 3.24397862e-07]\n",
      "[ 93839.01034427 228115.10752718 251563.72660413 216728.73570988\n",
      " 184086.085166   184958.06256659]\n"
     ]
    }
   ],
   "execution_count": 68
  },
  {
   "cell_type": "code",
   "source": [
    "theta = np.array(range(3, 19, 3)) / 25"
   ],
   "metadata": {
    "collapsed": false,
    "ExecuteTime": {
     "end_time": "2024-04-24T08:19:42.482840Z",
     "start_time": "2024-04-24T08:19:42.473995Z"
    }
   },
   "id": "d6bfdb38ab088b61",
   "outputs": [],
   "execution_count": 69
  },
  {
   "metadata": {
    "ExecuteTime": {
     "end_time": "2024-04-24T08:19:42.555003Z",
     "start_time": "2024-04-24T08:19:42.549791Z"
    }
   },
   "cell_type": "code",
   "source": [
    "# # E和Ref归一化\n",
    "# E = (E - np.min(E)) / (np.max(E) - np.min(E))\n",
    "# Ref = (Ref - np.min(Ref)) / (np.max(Ref) - np.min(Ref))"
   ],
   "id": "fec960121c9d0bf0",
   "outputs": [],
   "execution_count": 70
  },
  {
   "cell_type": "code",
   "source": [
    "y = E\n",
    "x = Ref\n",
    "x = x.reshape(-1, 1)\n",
    "\n",
    "print(y)\n",
    "print(x)"
   ],
   "metadata": {
    "collapsed": false,
    "ExecuteTime": {
     "end_time": "2024-04-24T08:19:42.614333Z",
     "start_time": "2024-04-24T08:19:42.606743Z"
    }
   },
   "id": "f2b95a054f0f6a27",
   "outputs": [
    {
     "name": "stdout",
     "output_type": "stream",
     "text": [
      "[0.33506764 0.40039699 0.38472761 0.38815299 0.37003243 0.33776419]\n",
      "[[ 93839.01034427]\n",
      " [228115.10752718]\n",
      " [251563.72660413]\n",
      " [216728.73570988]\n",
      " [184086.085166  ]\n",
      " [184958.06256659]]\n"
     ]
    }
   ],
   "execution_count": 71
  },
  {
   "cell_type": "code",
   "source": [
    "# 绘制Ref 和 E 的图像\n",
    "import matplotlib.pyplot as plt\n",
    "\n",
    "plt.scatter(x, y, c='r', marker='o', label='train')\n",
    "\n",
    "\n",
    "plt.xlabel('Ref')\n",
    "plt.ylabel('E')\n",
    "\n",
    "plt.show()"
   ],
   "metadata": {
    "collapsed": false,
    "ExecuteTime": {
     "end_time": "2024-04-24T08:24:11.904103Z",
     "start_time": "2024-04-24T08:24:11.686687Z"
    }
   },
   "id": "276cc1a085d5e7c9",
   "outputs": [
    {
     "data": {
      "text/plain": [
       "<Figure size 640x480 with 1 Axes>"
      ],
      "image/png": "[encoded data removed]"
     },
     "metadata": {},
     "output_type": "display_data"
    }
   ],
   "execution_count": 75
  },
  {
   "metadata": {
    "ExecuteTime": {
     "end_time": "2024-04-24T08:28:09.897857Z",
     "start_time": "2024-04-24T08:28:09.878193Z"
    }
   },
   "cell_type": "code",
   "source": [
    "import math\n",
    "import copy\n",
    "\n",
    "def compute_cost(X, y, w, b):\n",
    "    m = X.shape[0]\n",
    "    cost = 0.0\n",
    "    for i in range(m):\n",
    "        f_wb_i = np.dot(X[i],w) + b\n",
    "        cost = cost + (f_wb_i - y[i])**2\n",
    "    cost = cost/(2*m)\n",
    "    return(np.squeeze(cost))\n",
    "\n",
    "def compute_gradient_matrix(X, y, w, b):\n",
    "    m,n = X.shape\n",
    "    f_wb = X @ w + b\n",
    "    e   = f_wb - y\n",
    "    dj_dw  = (1/m) * (X.T @ e)\n",
    "    dj_db  = (1/m) * np.sum(e)\n",
    "\n",
    "    return dj_db,dj_dw\n",
    "\n",
    "def gradient_descent(X, y, w_in, b_in, cost_function, gradient_function, alpha, num_iters):\n",
    "    \"\"\"\n",
    "    Performs batch gradient descent to learn theta. Updates theta by taking \n",
    "    num_iters gradient steps with learning rate alpha\n",
    "    \"\"\"\n",
    "\n",
    "    # number of training examples\n",
    "    m = len(X)\n",
    "\n",
    "    # An array to store values at each iteration primarily for graphing later\n",
    "    hist={}\n",
    "    hist[\"cost\"] = []; hist[\"params\"] = []; hist[\"grads\"]=[]; hist[\"iter\"]=[];\n",
    "\n",
    "    w = copy.deepcopy(w_in)  #avoid modifying global w within function\n",
    "    b = b_in\n",
    "    save_interval = np.ceil(num_iters/10000) # prevent resource exhaustion for long runs\n",
    "\n",
    "    for i in range(num_iters):\n",
    "\n",
    "        # Calculate the gradient and update the parameters\n",
    "        dj_db,dj_dw = gradient_function(X, y, w, b)\n",
    "\n",
    "        # Update Parameters using w, b, alpha and gradient\n",
    "        w = w - alpha * dj_dw\n",
    "        b = b - alpha * dj_db\n",
    "\n",
    "        # Save cost J,w,b at each save interval for graphing\n",
    "        if i == 0 or i % save_interval == 0:\n",
    "            hist[\"cost\"].append(cost_function(X, y, w, b))\n",
    "            hist[\"params\"].append([w,b])\n",
    "            hist[\"grads\"].append([dj_dw,dj_db])\n",
    "            hist[\"iter\"].append(i)\n",
    "\n",
    "        # Print cost every at intervals 10 times or as many iterations if < 10\n",
    "        if i% math.ceil(num_iters/10) == 0:\n",
    "            #print(f\"Iteration {i:4d}: Cost {cost_function(X, y, w, b):8.2f}   \")\n",
    "            cst = cost_function(X, y, w, b)\n",
    "            print(f\"Iteration {i:9d}, Cost: {cst:0.5e}\")\n",
    "    return w, b, hist #return w,b and history for graphing\n",
    "\n",
    "def run_gradient_descent_feng(X,y,iterations=1000, alpha = 1e-6):\n",
    "    m,n = X.shape\n",
    "    # initialize parameters\n",
    "    initial_w = np.zeros(n)\n",
    "    print(initial_w)\n",
    "    print(initial_w.shape)\n",
    "    initial_b = 0\n",
    "    # run gradient descent\n",
    "    w_out, b_out, hist_out = gradient_descent(X ,y, initial_w, initial_b,\n",
    "                                              compute_cost, compute_gradient_matrix, alpha, iterations)\n",
    "    print(f\"w,b found by gradient descent: w: {w_out}, b: {b_out:0.4f}\")\n",
    "\n",
    "    return(w_out, b_out)"
   ],
   "id": "d9ed54ec7b8f9db2",
   "outputs": [],
   "execution_count": 76
  },
  {
   "metadata": {
    "ExecuteTime": {
     "end_time": "2024-04-24T08:29:04.449133Z",
     "start_time": "2024-04-24T08:29:04.041246Z"
    }
   },
   "cell_type": "code",
   "source": [
    "x = np.array(x)\n",
    "y = np.array(y)\n",
    "\n",
    "X = np.c_[x/10000,(x**2)/10000]\n",
    "print(X.shape)\n",
    "\n",
    "print(X)\n",
    "print(y)\n",
    "\n",
    "model_w,model_b = run_gradient_descent_feng(X, y, iterations=1000, alpha=0.01)\n",
    "\n",
    "plt.scatter(x, y, marker='x', c='r', label=\"Actual Value\"); plt.title(\"x, x**2, x**3 features\")\n",
    "plt.plot(x, X@model_w + model_b, label=\"Predicted Value\"); plt.xlabel(\"x\"); plt.ylabel(\"y\"); plt.legend(); plt.show()"
   ],
   "id": "cdc79c6501064b6d",
   "outputs": [
    {
     "name": "stdout",
     "output_type": "stream",
     "text": [
      "(6, 2)\n",
      "[[9.38390103e+00 8.80575986e+05]\n",
      " [2.28115108e+01 5.20365023e+06]\n",
      " [2.51563727e+01 6.32843085e+06]\n",
      " [2.16728736e+01 4.69713449e+06]\n",
      " [1.84086085e+01 3.38876868e+06]\n",
      " [1.84958063e+01 3.42094849e+06]]\n",
      "[0.33506764 0.40039699 0.38472761 0.38815299 0.37003243 0.33776419]\n",
      "[0. 0.]\n",
      "(2,)\n",
      "Iteration         0, Cost: 2.14331e+21\n",
      "Iteration       100, Cost: nan\n",
      "Iteration       200, Cost: nan\n",
      "Iteration       300, Cost: nan\n",
      "Iteration       400, Cost: nan\n",
      "Iteration       500, Cost: nan\n",
      "Iteration       600, Cost: nan\n",
      "Iteration       700, Cost: nan\n",
      "Iteration       800, Cost: nan\n",
      "Iteration       900, Cost: nan\n",
      "w,b found by gradient descent: w: [nan nan], b: nan\n"
     ]
    },
    {
     "name": "stderr",
     "output_type": "stream",
     "text": [
      "C:\\Users\\33398\\AppData\\Local\\Temp\\ipykernel_23068\\3506652082.py:9: RuntimeWarning: overflow encountered in scalar power\n",
      "  cost = cost + (f_wb_i - y[i])**2\n",
      "C:\\Users\\33398\\AppData\\Local\\Temp\\ipykernel_23068\\3506652082.py:17: RuntimeWarning: overflow encountered in matmul\n",
      "  dj_dw  = (1/m) * (X.T @ e)\n",
      "C:\\Users\\33398\\AppData\\Local\\Temp\\ipykernel_23068\\3506652082.py:45: RuntimeWarning: invalid value encountered in subtract\n",
      "  w = w - alpha * dj_dw\n"
     ]
    },
    {
     "data": {
      "text/plain": [
       "<Figure size 640x480 with 1 Axes>"
      ],
      "image/png": "[encoded data removed]"
     },
     "metadata": {},
     "output_type": "display_data"
    }
   ],
   "execution_count": 78
  },
  {
   "cell_type": "code",
   "source": "",
   "metadata": {
    "collapsed": false,
    "ExecuteTime": {
     "end_time": "2024-04-24T08:19:43.350913Z",
     "start_time": "2024-04-24T08:19:43.346951Z"
    }
   },
   "id": "2f905c0d3c423ba2",
   "outputs": [],
   "execution_count": 74
  },
  {
   "cell_type": "code",
   "source": [],
   "metadata": {
    "collapsed": false,
    "ExecuteTime": {
     "end_time": "2024-04-24T08:19:43.357732Z",
     "start_time": "2024-04-24T08:19:43.352925Z"
    }
   },
   "id": "fdca8d22145df457",
   "outputs": [],
   "execution_count": 74
  }
 ],
 "metadata": {
  "kernelspec": {
   "display_name": "Python 3",
   "language": "python",
   "name": "python3"
  },
  "language_info": {
   "codemirror_mode": {
    "name": "ipython",
    "version": 2
   },
   "file_extension": ".py",
   "mimetype": "text/x-python",
   "name": "python",
   "nbconvert_exporter": "python",
   "pygments_lexer": "ipython2",
   "version": "2.7.6"
  }
 },
 "nbformat": 4,
 "nbformat_minor": 5
}
