{
 "cells": [
  {
   "cell_type": "code",
   "execution_count": null,
   "metadata": {
    "collapsed": true,
    "is_executing": true
   },
   "outputs": [],
   "source": [
    "import numpy as np\n",
    "import matplotlib.pyplot as plt\n",
    "\n",
    "# 生成x的取值范围，例如从 -2*pi 到 2*pi\n",
    "x = np.linspace(-2 * np.pi, 2 * np.pi, 1000)\n",
    "\n",
    "# 计算sin(x)和arcsin(sin(x))\n",
    "y_sin = np.sin(x)\n",
    "y_arcsin_sin = np.arcsin(np.sin(x))\n",
    "\n",
    "# 绘制sin(x)和arcsin(sin(x))的图像\n",
    "plt.plot(x, y_sin, label='sin(x)')\n",
    "plt.plot(x, y_arcsin_sin, label='arcsin(sin(x))')\n",
    "\n",
    "# 添加图例、坐标轴标签等\n",
    "plt.legend()\n",
    "plt.xlabel('x')\n",
    "plt.ylabel('y')\n",
    "plt.title('Plot of sin(x) and arcsin(sin(x))')\n",
    "\n",
    "# 显示图像\n",
    "plt.grid(True)\n",
    "plt.show()\n"
   ]
  },
  {
   "cell_type": "code",
   "outputs": [],
   "source": [],
   "metadata": {
    "collapsed": false
   }
  }
 ],
 "metadata": {
  "kernelspec": {
   "display_name": "Python 3",
   "language": "python",
   "name": "python3"
  },
  "language_info": {
   "codemirror_mode": {
    "name": "ipython",
    "version": 2
   },
   "file_extension": ".py",
   "mimetype": "text/x-python",
   "name": "python",
   "nbconvert_exporter": "python",
   "pygments_lexer": "ipython2",
   "version": "2.7.6"
  }
 },
 "nbformat": 4,
 "nbformat_minor": 0
}
