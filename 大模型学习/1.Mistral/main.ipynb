{
 "cells": [
  {
   "cell_type": "markdown",
   "metadata": {},
   "source": [
    "### https://mp.weixin.qq.com/s/qNcfNSjnz_lAdm3wd1EulA"
   ]
  },
  {
   "cell_type": "markdown",
   "metadata": {},
   "source": [
    "### 环境：Mistrall"
   ]
  },
  {
   "cell_type": "code",
   "execution_count": 1,
   "metadata": {},
   "outputs": [],
   "source": [
    "import os\n",
    "import torch\n",
    "from transformers import (\n",
    "  AutoTokenizer,\n",
    "  AutoModelForCausalLM,\n",
    "  BitsAndBytesConfig,\n",
    "  pipeline\n",
    ")\n",
    "\n",
    "from transformers import BitsAndBytesConfig\n",
    "\n",
    "from langchain.text_splitter import CharacterTextSplitter\n",
    "\n",
    "from langchain.embeddings.huggingface import HuggingFaceEmbeddings\n",
    "from langchain.vectorstores import FAISS\n",
    "\n",
    "from langchain.prompts import PromptTemplate\n",
    "from langchain.schema.runnable import RunnablePassthrough\n",
    "from langchain.llms import HuggingFacePipeline\n",
    "from langchain.chains import LLMChain\n",
    "import transformers\n",
    "import nest_asyncio\n",
    "\n",
    "nest_asyncio.apply()\n",
    "from tqdm.notebook import tqdm\n",
    "from langchain_community.document_loaders import PyPDFLoader"
   ]
  },
  {
   "cell_type": "code",
   "execution_count": 2,
   "metadata": {},
   "outputs": [
    {
     "name": "stderr",
     "output_type": "stream",
     "text": [
      "`low_cpu_mem_usage` was None, now set to True since model is quantized.\n"
     ]
    },
    {
     "name": "stdout",
     "output_type": "stream",
     "text": [
      "Tokenizer loaded !!\n"
     ]
    },
    {
     "data": {
      "application/vnd.jupyter.widget-view+json": {
       "model_id": "92dbcbea21e74fbcbb049528a6eb3d7e",
       "version_major": 2,
       "version_minor": 0
      },
      "text/plain": [
       "Loading checkpoint shards:   0%|          | 0/3 [00:00<?, ?it/s]"
      ]
     },
     "metadata": {},
     "output_type": "display_data"
    },
    {
     "name": "stderr",
     "output_type": "stream",
     "text": [
      "You are calling `save_pretrained` to a 4-bit converted model, but your `bitsandbytes` version doesn't support it. If you want to save 4-bit models, make sure to have `bitsandbytes>=0.41.3` installed.\n"
     ]
    }
   ],
   "source": [
    "# Load Tokenizer\n",
    "model_name='/home/asus/文档/AIModel/Mistral-7B-Instruct-v0.2'\n",
    "\n",
    "tokenizer = AutoTokenizer.from_pretrained(model_name)\n",
    "tokenizer.pad_token = tokenizer.eos_token\n",
    "tokenizer.padding_side = \"right\"\n",
    "print(\"Tokenizer loaded !!\")\n",
    "## bitsandbytes parameters\n",
    "# Activate 4-bit precision base model loading\n",
    "use_4bit = True\n",
    "\n",
    "# Compute dtype for 4-bit base models\n",
    "bnb_4bit_compute_dtype = \"float16\"\n",
    "\n",
    "# Quantization type (fp4 or nf4)\n",
    "bnb_4bit_quant_type = \"nf4\"\n",
    "\n",
    "# Activate nested quantization for 4-bit base models (double quantization)\n",
    "use_nested_quant = False\n",
    "\n",
    "compute_dtype = getattr(torch, bnb_4bit_compute_dtype)\n",
    "\n",
    "bnb_config = BitsAndBytesConfig(\n",
    "    load_in_4bit=use_4bit,\n",
    "    bnb_4bit_quant_type=bnb_4bit_quant_type,\n",
    "    bnb_4bit_compute_dtype=compute_dtype,\n",
    "    bnb_4bit_use_double_quant=use_nested_quant,\n",
    ")\n",
    "\n",
    "# Check GPU compatibility with bfloat16\n",
    "if compute_dtype == torch.float16 and use_4bit:\n",
    "    major, _ = torch.cuda.get_device_capability()\n",
    "    if major >= 8:\n",
    "        print(\"=\" * 80)\n",
    "        print(\"Your GPU supports bfloat16: accelerate training with bf16=True\")\n",
    "        print(\"=\" * 80)\n",
    "# Load Model\n",
    "model = AutoModelForCausalLM.from_pretrained(\n",
    "        model_name,\n",
    "            quantization_config=bnb_config,\n",
    "        )"
   ]
  },
  {
   "cell_type": "code",
   "execution_count": 3,
   "metadata": {},
   "outputs": [
    {
     "name": "stderr",
     "output_type": "stream",
     "text": [
      "The attention mask and the pad token id were not set. As a consequence, you may observe unexpected behavior. Please pass your input's `attention_mask` to obtain reliable results.\n",
      "Setting `pad_token_id` to `eos_token_id`:2 for open-end generation.\n"
     ]
    },
    {
     "name": "stdout",
     "output_type": "stream",
     "text": [
      "<s> [INST] What changes do I need in my personality to make friends easily? [/INST] Making friends is a complex process that depends on various factors, including your personality, social skills, and environmental factors. Here are some personality traits that are commonly associated with being able to make friends easily:\n",
      "\n",
      "1. Openness: Be open to new experiences and ideas. This can help you connect with a diverse range of people and show that you are interested in getting to know them as individuals.\n",
      "2. Extrovertedness: Being outgoing and sociable can help you meet new people and engage in conversations. This doesn't mean being the life of the party, but rather being friendly, approachable, and interested in other people.\n",
      "3. Agreeableness: Being friendly, kind, and compassionate can help you build strong relationships. This doesn't mean being a doormat, but rather being understanding and empathetic towards others.\n",
      "4. Conscientiousness: Being reliable and dependable can help build trust and strong friendships. This means following through on commitments, being punctual, and being consistent in your actions and attitudes.\n",
      "5. Social intelligence: Being able to read social situations, understand social cues, and respond appropriately can help you build and maintain relationships. This includes being able to listen actively, ask good questions, and use humor effectively.\n",
      "6. Flexibility: Being adaptable and open to change can help you navigate social situations and build relationships in diverse settings.\n",
      "\n",
      "It's important to note that these traits are not fixed, and that developing them takes time, effort, and practice. Building friendships requires ongoing effort and a willingness to invest in relationships. So while you can work on developing these personality traits, keep in mind that making friends also involves being patient, persistent, and authentic.</s>\n"
     ]
    }
   ],
   "source": [
    "def get_vanilla_response(question, tokenizer, model):\n",
    "  inputs = tokenizer.encode_plus(f\"[INST] {question} [/INST]\", return_tensors=\"pt\")['input_ids'].to('cuda')\n",
    "\n",
    "  generated_ids = model.generate(inputs,\n",
    "                                max_new_tokens=1000,\n",
    "                                do_sample=True)\n",
    "  output = tokenizer.batch_decode(generated_ids)\n",
    "  return output[0]\n",
    "\n",
    "question = \"What changes do I need in my personality to make friends easily?\"\n",
    "print(get_vanilla_response(question = question, tokenizer = tokenizer, model = model))"
   ]
  },
  {
   "cell_type": "code",
   "execution_count": 4,
   "metadata": {},
   "outputs": [],
   "source": [
    "# Create a text generation pipeline\n",
    "text_generation_pipeline = pipeline(\n",
    "    model=model,\n",
    "    tokenizer=tokenizer,\n",
    "    task=\"text-generation\",\n",
    "    temperature=0.2,\n",
    "    repetition_penalty=1.1,\n",
    "    return_full_text=True,\n",
    "    max_new_tokens=10000,\n",
    ")\n",
    "\n",
    "mistral_llm = HuggingFacePipeline(pipeline=text_generation_pipeline)"
   ]
  },
  {
   "cell_type": "code",
   "execution_count": 5,
   "metadata": {},
   "outputs": [],
   "source": [
    "# !pip install --upgrade jupyter ipywidgets -i https://pypi.tuna.tsinghua.edu.cn/simple"
   ]
  },
  {
   "cell_type": "code",
   "execution_count": 6,
   "metadata": {},
   "outputs": [
    {
     "data": {
      "application/vnd.jupyter.widget-view+json": {
       "model_id": "7ff1572ec7b447be8bfe15d7c896da1a",
       "version_major": 2,
       "version_minor": 0
      },
      "text/plain": [
       "  0%|          | 0/4 [00:00<?, ?it/s]"
      ]
     },
     "metadata": {},
     "output_type": "display_data"
    }
   ],
   "source": [
    "# add Book paths from Google Drive\n",
    "pdf_paths = ['./data/Dan Ariely - Predictably Irrational_ The Hidden Forces That Shape Our Decisions-HarperCollins (2008).pdf',\n",
    "             './data/Daniel Goleman - Emotional Intelligence_ Why it Can Matter More Than IQ-Bloomsbury (2009).pdf',\n",
    "             './data/Daniel Kahneman-Thinking_Fast and Slow.pdf',\n",
    "             './data/Robert B. Cialdini - Influence_ The Psychology of Persuasion (Collins Business Essentials) (2007).pdf']\n",
    "# './Elliot Aronson - The Social Animal. Tenth Edition-Worth Publishers (2007).pdf', 这本书没有\n",
    "# ‘./Richard H. Thaler, Prof. Cass R. Sunstein - Nudge_ Improving Decisions About Health, Wealth, and Happiness-Yale University Press (2008).pdf', 这本书没有\n",
    "docs = []\n",
    "for pdf_path in tqdm(pdf_paths):\n",
    "  loader = PyPDFLoader(pdf_path)\n",
    "  pages = loader.load_and_split()\n",
    "  docs = docs+pages[8:-10]"
   ]
  },
  {
   "cell_type": "code",
   "execution_count": 7,
   "metadata": {},
   "outputs": [],
   "source": [
    "# Load chunked documents into the FAISS index\n",
    "db = FAISS.from_documents(docs,HuggingFaceEmbeddings(model_name='./bge-base-en-v1.5'))\n",
    "retriever = db.as_retriever()"
   ]
  },
  {
   "cell_type": "code",
   "execution_count": 8,
   "metadata": {},
   "outputs": [
    {
     "name": "stderr",
     "output_type": "stream",
     "text": [
      "/home/asus/anaconda3/envs/Mistrall/lib/python3.12/site-packages/langchain_core/_api/deprecation.py:119: LangChainDeprecationWarning: The class `LLMChain` was deprecated in LangChain 0.1.17 and will be removed in 0.3.0. Use RunnableSequence, e.g., `prompt | llm` instead.\n",
      "  warn_deprecated(\n"
     ]
    }
   ],
   "source": [
    "# Create prompt template\n",
    "prompt_template = \"\"\"\n",
    "### [INST] Instruction: Answer the question based on your human psychology knowledge, you can also use this auxillary knowledge to help:\n",
    "\n",
    "{context}\n",
    "\n",
    "### QUESTION:\n",
    "{question} [/INST]\n",
    " \"\"\"\n",
    "\n",
    "# Create prompt from prompt template\n",
    "prompt = PromptTemplate(\n",
    "    input_variables=[\"context\", \"question\"],\n",
    "    template=prompt_template,\n",
    ")\n",
    "\n",
    "# Create llm chain\n",
    "llm_chain = LLMChain(llm=mistral_llm, prompt=prompt)\n",
    "\n",
    "rag_chain = (\n",
    " {\"context\": retriever, \"question\": RunnablePassthrough()}\n",
    "    | llm_chain\n",
    ")"
   ]
  },
  {
   "cell_type": "code",
   "execution_count": 9,
   "metadata": {},
   "outputs": [
    {
     "name": "stderr",
     "output_type": "stream",
     "text": [
      "/home/asus/anaconda3/envs/Mistrall/lib/python3.12/site-packages/transformers/generation/configuration_utils.py:492: UserWarning: `do_sample` is set to `False`. However, `temperature` is set to `0.2` -- this flag is only used in sample-based generation modes. You should set `do_sample=True` or unset `temperature`.\n",
      "  warnings.warn(\n"
     ]
    },
    {
     "name": "stdout",
     "output_type": "stream",
     "text": [
      "\n",
      "### [INST] Instruction: Answer the question based on your human psychology knowledge, you can also use this auxillary knowledge to help:\n",
      "\n",
      "[Document(page_content='Taken\\ttogether,\\tthese\\tskills\\tare\\tthe\\tstuff\\tof\\tinterpersonal\\tpolish,\\tthe\\tnecessary\\ningredients\\tfor\\tcharm,\\tsocial\\tsuccess,\\teven\\tcharisma.\\tThose\\twho\\tare\\tadept\\tin\\nsocial\\tintelligence\\tcan\\tconnect\\twith\\tpeople\\tquite\\tsmoothly,\\tbe\\tastute\\tin\\treading\\ntheir\\treactions\\tand\\tfeelings,\\tlead\\tand\\torganize,\\tand\\thandle\\tthe\\tdisputes\\tthat\\tare\\nbound\\tto\\tflare\\tup\\tin\\tany\\thuman\\tactivity.\\tThey\\tare\\tthe\\tnatural\\tleaders,\\tthe\\tpeople\\nwho\\tcan\\texpress\\tthe\\tunspoken\\tcollective\\tsentiment\\tand\\tarticulate\\tit\\tso\\tas\\tto\\nguide\\ta\\tgroup\\ttoward\\tits\\tgoals.\\tThey\\tare\\tthe\\tkind\\tof\\tpeople\\tothers\\tlike\\tto\\tbe\\twith\\nbecause\\tthey\\tare\\temotionally\\tnourishing—they\\tleave\\tother\\tpeople\\tin\\ta\\tgood\\nmood,\\tand\\tevoke\\tthe\\tcomment,\\t\"What\\ta\\tpleasure\\tto\\tbe\\taround\\tsomeone\\tlike\\nthat.\"\\nThese\\tinterpersonal\\tabilities\\tbuild\\ton\\tother\\temotional\\tintelligences.\\tPeople\\nwho\\tmake\\tan\\texcellent\\tsocial\\timpression,\\tfor\\texample,\\tare\\tadept\\tat\\tmonitoring\\ntheir\\town\\texpression\\tof\\temotion,\\tare\\tkeenly\\tattuned\\tto\\tthe\\tways\\tothers\\tare\\nreacting,\\tand\\tso\\tare\\table\\tto\\tcontinually\\tfine-tune\\ttheir\\tsocial\\tperformance,\\nadjusting\\tit\\tto\\tmake\\tsure\\tthey\\tare\\thaving\\tthe\\tdesired\\teffect.\\tIn\\tthat\\tsense,\\tthey\\nare\\tlike\\tskilled\\tactors.\\nHowever,\\tif\\tthese\\tinterpersonal\\tabilities\\tare\\tnot\\tbalanced\\tby\\tan\\tastute\\tsense\\tof\\none\\'s\\town\\tneeds\\tand\\tfeelings\\tand\\thow\\tto\\tfulfill\\tthem,\\tthey\\tcan\\tlead\\tto\\ta\\thollow\\nsocial\\tsuccess—a\\tpopularity\\twon\\tat\\tthe\\tcost\\tof\\tone\\'s\\ttrue\\tsatisfaction.\\tSuch\\tis\\tthe\\nargument\\tof\\tMark\\tSnyder,\\ta\\tUniversity\\tof\\tMinnesota\\tpsychologist\\twho\\thas\\nstudied\\tpeople\\twhose\\tsocial\\tskills\\tmake\\tthem\\tfirst-rate\\tsocial\\tchameleons,\\nchampions\\tat\\tmaking\\ta\\tgood\\timpression.\\n8\\n\\tTheir\\tpsychological\\tcredo\\tmight\\twell\\nbe\\ta\\tremark\\tby\\tW.\\tH.\\tAuden,\\twho\\tsaid\\tthat\\this\\tprivate\\timage\\tof\\thimself\\t\"is\\tvery\\ndifferent\\tfrom\\tthe\\timage\\twhich\\tI\\ttry\\tto\\tcreate\\tin\\tthe\\tminds\\tof\\tothers\\tin\\torder\\tthat\\nthey\\tmay\\tlove\\tme.\"\\tThat\\ttrade-off\\tcan\\tbe\\tmade\\tif\\tsocial\\tskills\\toutstrip\\tthe\\tability\\nto\\tknow\\tand\\thonor\\tone\\'s\\town\\tfeelings:\\tin\\torder\\tto\\tbe\\tloved—or\\tat\\tleast\\tliked—\\nthe\\tsocial\\tchameleon\\twill\\tseem\\tto\\tbe\\twhatever\\tthose\\the\\tis\\twith\\tseem\\tto\\twant.\\nThe\\tsign\\tthat\\tsomeone\\tfalls\\tinto\\tthis\\tpattern,\\tSnyder\\tfinds,\\tis\\tthat\\tthey\\tmake\\tan\\nexcellent\\timpression,\\tyet\\thave\\tfew\\tstable\\tor\\tsatisfying\\tintimate\\trelationships.\\tA\\nmore\\thealthy\\tpattern,\\tof\\tcourse,\\tis\\tto\\tbalance\\tbeing\\ttrue\\tto\\toneself\\twith\\tsocial\\nskills,\\tusing\\tthem\\twith\\tintegrity.\\nSocial\\tchameleons,\\tthough,\\tdon\\'t\\tmind\\tin\\tthe\\tleast\\tsaying\\tone\\tthing\\tand\\tdoing\\nanother,\\tif\\tthat\\twill\\twin\\tthem\\tsocial\\tapproval.\\tThey\\tsimply\\tlive\\twith\\tthe\\ndiscrepancy\\tbetween\\ttheir\\tpublic\\tface\\tand\\ttheir\\tprivate\\treality.\\tHelena\\tDeutsch,\\na\\tpsychoanalyst,\\tcalled\\tsuch\\tpeople\\tthe\\t\"as-if\\tpersonality,\"\\tshifting\\tpersonas\\nwith\\tremarkable\\tplasticity\\tas\\tthey\\tpick\\tup\\tsignals\\tfrom\\tthose\\taround\\tthem.\\t\"For\\nsome\\tpeople,\"\\tSnyder\\ttold\\tme,\\t\"the\\tpublic\\tand\\tprivate\\tperson\\tmeshes\\twell,\\twhile\\nfor\\tothers\\tthere\\tseems\\tto\\tbe\\tonly\\ta\\tkaleidoscope\\tof\\tchanging\\tappearances.\\tThey', metadata={'source': './data/Daniel Goleman - Emotional Intelligence_ Why it Can Matter More Than IQ-Bloomsbury (2009).pdf', 'page': 116}), Document(page_content='level,\\tpresumably,\\tthis\\tmeans\\ttheir\\tprefrontal\\tcircuits\\tmissed\\tthe\\tchance\\tto\\tlearn\\nalternate\\tresponses\\tto\\tknee-jerk\\tfear;\\tinstead,\\ttheir\\ttendency\\tfor\\tunbridled\\nfearfulness\\tmay\\thave\\tbeen\\tstrengthened\\tsimply\\tthrough\\trepetition.\\nIn\\tcontrast,\\tas\\tKagan\\ttold\\tme,\\t\"Those\\tchildren\\twho\\thad\\tbecome\\tless\\ttimid\\tby\\nkindergarten\\tseem\\tto\\thave\\thad\\tparents\\twho\\tput\\tgentle\\tpressure\\ton\\tthem\\tto\\tbe\\nmore\\toutgoing.\\tAlthough\\tthis\\ttemperamental\\ttrait\\tseems\\tslightly\\tharder\\tthan\\nothers\\tto\\tchange—probably\\tbecause\\tof\\tits\\tphysiological\\tbasis—no\\thuman\\nquality\\tis\\tbeyond\\tchange.\"\\nThroughout\\tchildhood\\tsome\\ttimid\\tchildren\\tgrow\\tbolder\\tas\\texperience\\ncontinues\\tto\\tmold\\tthe\\tkey\\tneural\\tcircuitry.\\tOne\\tof\\tthe\\tsigns\\tthat\\ta\\ttimid\\tchild\\nwill\\tbe\\tmore\\tlikely\\tto\\tovercome\\tthis\\tnatural\\tinhibition\\tis\\thaving\\ta\\thigher\\tlevel\\tof\\nsocial\\tcompetence:\\tbeing\\tcooperative\\tand\\tgetting\\talong\\twith\\tother\\tchildren;\\nbeing\\tempathic,\\tprone\\tto\\tgiving\\tand\\tsharing,\\tand\\tconsiderate;\\tand\\tbeing\\table\\tto\\ndevelop\\tclose\\tfriendships.\\tThese\\ttraits\\tmarked\\ta\\tgroup\\tof\\tchildren\\tfirst\\tidentified\\nas\\thaving\\ta\\ttimid\\ttemperament\\tat\\tage\\tfour,\\twho\\tshook\\tit\\toff\\tby\\tthe\\ttime\\tthey\\nwere\\tten\\tyears\\told.\\n9\\nBy\\tcontrast,\\tthose\\ttimid\\tfour-year-olds\\twhose\\ttemperament\\tchanged\\tlittle\\tover\\nthe\\tsame\\tsix\\tyears\\ttended\\tto\\tbe\\tless\\table\\temotionally:\\tcrying\\tand\\tfalling\\tapart\\nunder\\tstress\\tmore\\teasily;\\tbeing\\temotionally\\tinappropriate;\\tbeing\\tfearful,\\tsulky,\\nor\\twhiny;\\toverreacting\\tto\\tminor\\tfrustration\\twith\\tanger;\\thaving\\ttrouble\\tdelaying\\ngratification;\\tbeing\\toverly\\tsensitive\\tto\\tcriticism,\\tor\\tmistrustful.\\tThese\\temotional\\nlapses\\tare,\\tof\\tcourse,\\tlikely\\tto\\tmean\\ttheir\\trelationships\\twith\\tother\\tchildren\\twill\\nbe\\ttroubled,\\tshould\\tthey\\tbe\\table\\tto\\tovercome\\ttheir\\tinitial\\treluctance\\tto\\tengage.\\nBy\\tcontrast,\\tit\\tis\\teasy\\tto\\tsee\\twhy\\tthe\\tmore\\temotionally\\tcompetent—though\\nshy\\tby\\ttemperament—children\\tspontaneously\\toutgrew\\ttheir\\ttimidity.\\tBeing\\nmore\\tsocially\\tskilled,\\tthey\\twere\\tfar\\tmore\\tlikely\\tto\\thave\\ta\\tsuccession\\tof\\tpositive\\nexperiences\\twith\\tother\\tchildren.\\tEven\\tif\\tthey\\twere\\ttentative\\tabout,\\tsay,\\tspeaking\\nto\\ta\\tnew\\tplaymate,\\tonce\\tthe\\tice\\twas\\tbroken\\tthey\\twere\\table\\tto\\tshine\\tsocially.\\tThe\\nregular\\trepetition\\tof\\tsuch\\tsocial\\tsuccess\\tover\\tmany\\tyears\\twould\\tnaturally\\ttend\\tto\\nmake\\tthe\\ttimid\\tmore\\tsure\\tof\\tthemselves.\\nThese\\tadvances\\ttoward\\tboldness\\tare\\tencouraging;\\tthey\\tsuggest\\tthat\\tever\\ninnate\\temotional\\tpatterns\\tcan\\tchange\\tto\\tsome\\tdegree.\\tA\\tchild\\twho\\tcomes\\tinto\\nthe\\tworld\\teasily\\tfrightened\\tcan\\tlearn\\tto\\tbe\\tcalmer,\\tor\\teven\\toutgoing,\\tin\\tthe\\tface\\nof\\tthe\\tunfamiliar.\\tFearfulness—or\\tany\\tother\\ttemperament—may\\tbe\\tpart\\tof\\tthe\\nbiological\\tgivens\\tof\\tour\\temotional\\tlives,\\tbut\\twe\\tare\\tnot\\tnecessarily\\tlimited\\tto\\ta\\nspecific\\temotional\\tmenu\\tby\\tour\\tinherited\\ttraits.\\tThere\\tis\\ta\\trange\\tof\\tpossibility\\neven\\twithin\\tgenetic\\tconstraints.\\tAs\\tbehavioral\\tgeneticists\\tobserve,\\tgenes\\talone\\ndo\\tnot\\tdetermine\\tbehavior;\\tour\\tenvironment,\\tespecially\\twhat\\twe\\texperience\\tand', metadata={'source': './data/Daniel Goleman - Emotional Intelligence_ Why it Can Matter More Than IQ-Bloomsbury (2009).pdf', 'page': 217}), Document(page_content='for\\tothers\\tthere\\tseems\\tto\\tbe\\tonly\\ta\\tkaleidoscope\\tof\\tchanging\\tappearances.\\tThey\\nare\\tlike\\tWoody\\tAllen\\'s\\tcharacter\\tZelig,\\tmadly\\ttrying\\tto\\tfit\\tin\\twith\\twhomever\\nthey\\tare\\twith.\"\\nSuch\\tpeople\\ttry\\tto\\tscan\\tsomeone\\tfor\\ta\\thint\\tas\\tto\\twhat\\tis\\twanted\\tfrom\\tthem\\nbefore\\tthey\\tmake\\ta\\tresponse,\\trather\\tthan\\tsimply\\tsaying\\twhat\\tthey\\ttruly\\tfeel.\\tTo\\nget\\talong\\tand\\tbe\\tliked,\\tthey\\tare\\twilling\\tto\\tmake\\tpeople\\tthey\\tdislike\\tthink\\tthey\\nare\\tfriendly\\twith\\tthem.\\tAnd\\tthey\\tuse\\ttheir\\tsocial\\tabilities\\tto\\tmold\\ttheir\\tactions\\tas\\ndisparate\\tsocial\\tsituations\\tdemand,\\tso\\tthat\\tthey\\tmay\\tact\\tlike\\tvery\\tdifferent\\npeople\\tdepending\\ton\\twhom\\tthey\\tare\\twith,\\tswinging\\tfrom\\tbubbly\\tsociability,\\tsay,\\nto\\treserved\\twithdrawal.\\tTo\\tbe\\tsure,\\tto\\tthe\\textent\\tthat\\tthese\\ttraits\\tlead\\tto\\teffective\\nimpression\\tmanagement,\\tthey\\tare\\thighly\\tprized\\tin\\tcertain\\tprofessions,\\tnotably\\nacting,\\ttrial\\tlaw,\\tsales,\\tdiplomacy,\\tand\\tpolitics.\\nAnother,\\tperhaps\\tmore\\tcrucial\\tkind\\tof\\tself-monitoring\\tseems\\tto\\tmake\\tthe\\ndifference\\tbetween\\tthose\\twho\\tend\\tup\\tas\\tanchorless\\tsocial\\tchameleons,\\ttrying\\tto\\nimpress\\teveryone,\\tand\\tthose\\twho\\tcan\\tuse\\ttheir\\tsocial\\tpolish\\tmore\\tin\\tkeeping\\nwith\\ttheir\\ttrue\\tfeelings.\\tThat\\tis\\tthe\\tcapacity\\tto\\tbe\\ttrue,\\tas\\tthe\\tsaying\\thas\\tit,\\t\"to\\nthine\\town\\tself,\"\\twhich\\tallows\\tacting\\tin\\taccord\\twith\\tone\\'s\\tdeepest\\tfeelings\\tand\\nvalues\\tno\\tmatter\\twhat\\tthe\\tsocial\\tconsequences.\\tSuch\\temotional\\tintegrity\\tcould\\nwell\\tlead\\tto,\\tsay,\\tdeliberately\\tprovoking\\ta\\tconfrontation\\tin\\torder\\tto\\tcut\\tthrough\\nduplicity\\tor\\tdenial—a\\tclearing\\tof\\tthe\\tair\\tthat\\ta\\tsocial\\tchameleon\\twould\\tnever\\nattempt.\\nTHE\\tMAKING\\tOF\\tA\\tSOCIAL\\tINCOMPETENT\\nThere\\twas\\tno\\tdoubt\\tCecil\\twas\\tbright;\\the\\twas\\ta\\tcollege-trained\\texpert\\tin\\tforeign\\nlanguages,\\tsuperb\\tat\\ttranslating.\\tBut\\tthere\\twere\\tcrucial\\tways\\tin\\twhich\\the\\twas\\ncompletely\\tinept.\\tCecil\\tseemed\\tto\\tlack\\tthe\\tsimplest\\tsocial\\tskills.\\tHe\\twould\\tmuff\\na\\tcasual\\tconversation\\tover\\tcoffee,\\tand\\tfumble\\twhen\\thaving\\tto\\tpass\\tthe\\ttime\\tof\\nday;\\tin\\tshort,\\the\\tseemed\\tincapable\\tof\\tthe\\tmost\\troutine\\tsocial\\texchange.\\tBecause\\nhis\\tlack\\tof\\tsocial\\tgrace\\twas\\tmost\\tprofound\\twhen\\the\\twas\\taround\\twomen,\\tCecil\\ncame\\tto\\ttherapy\\twondering\\tif\\tperhaps\\the\\thad\\t\"homosexual\\ttendencies\\tof\\tan\\nunderlying\\tnature,\"\\tas\\the\\tput\\tit,\\tthough\\the\\thad\\tno\\tsuch\\tfantasies.\\nThe\\treal\\tproblem,\\tCecil\\tconfided\\tto\\this\\ttherapist,\\twas\\tthat\\the\\tfeared\\tthat\\nnothing\\the\\tcould\\tsay\\twould\\tbe\\tof\\tany\\tinterest\\tto\\tanybody.\\tThis\\tunderlying\\tfear\\nonly\\tcompounded\\ta\\tprofound\\tpaucity\\tof\\tsocial\\tgraces.\\tHis\\tnervousness\\tduring\\nencounters\\tled\\thim\\tto\\tsnicker\\tand\\tlaugh\\tat\\tthe\\tmost\\tawkward\\tmoments,\\teven\\nthough\\the\\tfailed\\tto\\tlaugh\\twhen\\tsomeone\\tsaid\\tsomething\\tgenuinely\\tfunny.\\tCecil\\'s\\nawkwardness,\\the\\tconfided\\tto\\this\\ttherapist,\\twent\\tback\\tto\\tchildhood;\\tall\\this\\tlife\\the\\nhad\\tfelt\\tsocially\\tat\\tease\\tonly\\twhen\\the\\twas\\twith\\this\\tolder\\tbrother,\\twho\\tsomehow', metadata={'source': './data/Daniel Goleman - Emotional Intelligence_ Why it Can Matter More Than IQ-Bloomsbury (2009).pdf', 'page': 117}), Document(page_content='election, he changed his name to Brown—a family name of much\\nOhio political tradition.73\\nHow could such a thing happen? The answer lies partially in the\\nunconscious way that familiarity affects liking. Often we don’t realize\\nthat our attitude toward something has been influenced by the\\nnumber of times we have been exposed to it in the past. For\\nexample, in one experiment, the faces of several individuals were\\nflashed on a screen so quickly that later on, the subjects who were\\nexposed to the faces in this manner couldn’t recall having seen any\\nof them before. Yet, the more frequently a person’s face was flashed\\non the screen, the more these subjects came to like that person\\nwhen they met in a subsequent interaction. And because greater\\nliking leads to greater social influence, these subjects were also\\nmore persuaded by the opinion statements of the individuals whose\\nfaces had appeared on the screen most frequently.74\\n \\nOn the basis of evidence that we are more favorable toward the\\nthings we have had contact with, some people have recommended a\\n“contact” approach to improving race relations. They argue that\\nsimply by providing individuals of different ethnic background with\\nmore exposure to one another as equals, those individuals will\\nnaturally come to like each other better. However, when scientists\\nhave examined school integration—the area offering the single best\\ntest of the contact approach—they have discovered quite the\\nopposite pattern. School desegregation is more likely to increase\\nprejudice between blacks and whites than to decrease it.75\\nLet’s stay with the issue of school desegregation for a while.\\nHowever well intentioned the proponents of interracial harmony\\nthrough simple contact, their approach is unlikely to bear fruit\\nbecause the argument on which it is based is terribly misinformed.\\nFirst of all, the school setting is no melting pot where children\\ninteract as readily with members of other ethnic groups as they do\\nwith their own. Years after formal school integration, there is little\\nsocial integration. The students clot together ethnically, separating\\nthemselves for the most part from other groups. Second, even if\\nthere were much more interethnic interaction, research shows that\\nbecoming familiar with something through repeated contact doesn’t', metadata={'source': './data/Robert B. Cialdini - Influence_ The Psychology of Persuasion (Collins Business Essentials) (2007).pdf', 'page': 169})]\n",
      "\n",
      "### QUESTION:\n",
      "What changes do I need in my personality to make friends easily? [/INST]\n",
      "  According to the text, being more socially skilled and emotionally competent can help you make friends easily. This includes being cooperative and getting along with others, being empathic and prone to giving and sharing, and being considerate and able to develop close friendships. Additionally, having a higher level of social competence can encourage you to overcome natural emotional patterns and learn to be calmer or outgoing in unfamiliar situations. It's important to note that while innate emotional patterns may play a role, they are not necessarily limiting factors. Behavior can be influenced by both genetic and environmental factors, and there is a range of possibility even within genetic constraints.\n"
     ]
    }
   ],
   "source": [
    "# testing on the same question for a comparison\n",
    "question = \"What changes do I need in my personality to make friends easily?\"\n",
    "op = rag_chain.invoke(question)\n",
    "print(op['text'])"
   ]
  },
  {
   "cell_type": "code",
   "execution_count": null,
   "metadata": {},
   "outputs": [],
   "source": []
  }
 ],
 "metadata": {
  "kernelspec": {
   "display_name": "Mistral",
   "language": "python",
   "name": "python3"
  },
  "language_info": {
   "codemirror_mode": {
    "name": "ipython",
    "version": 3
   },
   "file_extension": ".py",
   "mimetype": "text/x-python",
   "name": "python",
   "nbconvert_exporter": "python",
   "pygments_lexer": "ipython3",
   "version": "3.12.3"
  }
 },
 "nbformat": 4,
 "nbformat_minor": 2
}
