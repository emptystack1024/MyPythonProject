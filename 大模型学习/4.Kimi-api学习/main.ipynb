{
 "cells": [
  {
   "cell_type": "markdown",
   "metadata": {},
   "source": [
    "## https://platform.moonshot.cn/docs/api/chat#%E8%B0%83%E7%94%A8%E7%A4%BA%E4%BE%8B\n",
    "## 环境：python"
   ]
  },
  {
   "cell_type": "code",
   "execution_count": 20,
   "metadata": {},
   "outputs": [],
   "source": [
    "# !pip install openai\n",
    "import os\n",
    "kimi_api_key = os.environ.get(\"MOONSHOT_API_KEY\")[1:]"
   ]
  },
  {
   "cell_type": "code",
   "execution_count": 21,
   "metadata": {},
   "outputs": [
    {
     "name": "stdout",
     "output_type": "stream",
     "text": [
      "你好，李雷！1+1等于2。这是一个基本的数学加法问题。如果你有其他问题或需要帮助，请随时告诉我。\n"
     ]
    }
   ],
   "source": [
    "from openai import OpenAI\n",
    "\n",
    "client = OpenAI(\n",
    "    api_key = kimi_api_key,\n",
    "    base_url = \"https://api.moonshot.cn/v1\",\n",
    ")\n",
    " \n",
    "completion = client.chat.completions.create(\n",
    "    model = \"moonshot-v1-8k\",\n",
    "    messages = [\n",
    "        {\"role\": \"system\", \"content\": \"你是 Kimi，由 Moonshot AI 提供的人工智能助手，你更擅长中文和英文的对话。你会为用户提供安全，有帮助，准确的回答。同时，你会拒绝一切涉及恐怖主义，种族歧视，黄色暴力等问题的回答。Moonshot AI 为专有名词，不可翻译成其他语言。\"},\n",
    "        {\"role\": \"user\", \"content\": \"你好，我叫李雷，1+1等于多少？\"}\n",
    "    ],\n",
    "    temperature = 0.3,\n",
    ")\n",
    " \n",
    "print(completion.choices[0].message.content)"
   ]
  },
  {
   "cell_type": "code",
   "execution_count": 24,
   "metadata": {},
   "outputs": [
    {
     "name": "stdout",
     "output_type": "stream",
     "text": [
      "地球的自转周期，也就是它绕自己的轴旋转一周的时间，大约是24小时。这个周期通常被称为一天。不过，严格来说，地球的自转周期比24小时略短一点，这个时间被称为恒星日，大约是23小时56分4秒。恒星日是指地球相对于远处恒星的位置连续两次对准同一恒星的时间间隔。而我们日常生活中使用的24小时，称为太阳日，是指太阳从地球上某一点升起到再次升起的时间，因为地球在绕太阳公转时，自转一周实际上需要稍微多一点的时间来对准太阳。\n",
      "月球的自转周期与它的公转周期相同，这意味着月球的一面总是朝向地球。这种现象称为潮汐锁定。月球绕地球一周大约需要27.3天，这既是月球的公转周期，也是它的自转周期。这个周期称为一个恒星月。\n",
      "\n",
      "然而，由于地球本身也在绕太阳公转，从地球上观察，月球相对于太阳的相位变化周期（即新月、满月等的周期）需要更长的时间，这个周期称为朔望月，大约是29.5天。\n",
      "\n",
      "月球的自转速度较慢，大约是每秒转10厘米（0.1米），这与月球的质量和它与地球之间的距离有关。月球的这种自转速度导致了我们总是只能看到月球的一面，而另一面则被称为月球的“背面”。直到20世纪后半叶，人类通过航天器才得以观察到月球背面的景象。\n"
     ]
    }
   ],
   "source": [
    "from openai import OpenAI\n",
    " \n",
    "client = OpenAI(\n",
    "    api_key = kimi_api_key,\n",
    "    base_url = \"https://api.moonshot.cn/v1\",\n",
    ")\n",
    " \n",
    "history = [\n",
    "    {\"role\": \"system\", \"content\": \"你是 Kimi，由 Moonshot AI 提供的人工智能助手，你更擅长中文和英文的对话。你会为用户提供安全，有帮助，准确的回答。同时，你会拒绝一切涉及恐怖主义，种族歧视，黄色暴力等问题的回答。Moonshot AI 为专有名词，不可翻译成其他语言。\"}\n",
    "]\n",
    " \n",
    "def chat(query, history):\n",
    "    # 注意这里去掉了外层的方括号\n",
    "    history.append({\n",
    "        \"role\": \"user\", \n",
    "        \"content\": query\n",
    "    })\n",
    "    completion = client.chat.completions.create(\n",
    "        model=\"moonshot-v1-8k\",\n",
    "        messages=history,  # 确保这里的 history 是一个字典列表\n",
    "        temperature=0.3,\n",
    "    )\n",
    "    result = completion.choices[0].message.content\n",
    "    # 注意这里去掉了外层的方括号\n",
    "    history.append({\n",
    "        \"role\": \"assistant\",\n",
    "        \"content\": result\n",
    "    })\n",
    "    return result\n",
    " \n",
    "print(chat(\"地球的自转周期是多少？\", history))\n",
    "print(chat(\"月球呢？\", history))"
   ]
  },
  {
   "cell_type": "code",
   "execution_count": 25,
   "metadata": {},
   "outputs": [
    {
     "name": "stdout",
     "output_type": "stream",
     "text": [
      "#1: 你好\n",
      "#2: 你好，\n",
      "#3: 你好，李\n",
      "#4: 你好，李雷\n",
      "#5: 你好，李雷！\n",
      "#6: 你好，李雷！1\n",
      "#7: 你好，李雷！1+\n",
      "#8: 你好，李雷！1+1\n",
      "#9: 你好，李雷！1+1 \n",
      "#10: 你好，李雷！1+1 等于\n",
      "#11: 你好，李雷！1+1 等于 \n",
      "#12: 你好，李雷！1+1 等于 2\n",
      "#13: 你好，李雷！1+1 等于 2。\n",
      "#14: 你好，李雷！1+1 等于 2。这是一个\n",
      "#15: 你好，李雷！1+1 等于 2。这是一个基本\n",
      "#16: 你好，李雷！1+1 等于 2。这是一个基本的\n",
      "#17: 你好，李雷！1+1 等于 2。这是一个基本的数学\n",
      "#18: 你好，李雷！1+1 等于 2。这是一个基本的数学加\n",
      "#19: 你好，李雷！1+1 等于 2。这是一个基本的数学加法\n",
      "#20: 你好，李雷！1+1 等于 2。这是一个基本的数学加法问题\n",
      "#21: 你好，李雷！1+1 等于 2。这是一个基本的数学加法问题。\n",
      "#22: 你好，李雷！1+1 等于 2。这是一个基本的数学加法问题。如果你\n",
      "#23: 你好，李雷！1+1 等于 2。这是一个基本的数学加法问题。如果你有任何\n",
      "#24: 你好，李雷！1+1 等于 2。这是一个基本的数学加法问题。如果你有任何其他\n",
      "#25: 你好，李雷！1+1 等于 2。这是一个基本的数学加法问题。如果你有任何其他问题\n",
      "#26: 你好，李雷！1+1 等于 2。这是一个基本的数学加法问题。如果你有任何其他问题或\n",
      "#27: 你好，李雷！1+1 等于 2。这是一个基本的数学加法问题。如果你有任何其他问题或需要\n",
      "#28: 你好，李雷！1+1 等于 2。这是一个基本的数学加法问题。如果你有任何其他问题或需要帮助\n",
      "#29: 你好，李雷！1+1 等于 2。这是一个基本的数学加法问题。如果你有任何其他问题或需要帮助，请\n",
      "#30: 你好，李雷！1+1 等于 2。这是一个基本的数学加法问题。如果你有任何其他问题或需要帮助，请随时\n",
      "#31: 你好，李雷！1+1 等于 2。这是一个基本的数学加法问题。如果你有任何其他问题或需要帮助，请随时告诉我\n",
      "#32: 你好，李雷！1+1 等于 2。这是一个基本的数学加法问题。如果你有任何其他问题或需要帮助，请随时告诉我。\n",
      "Full conversation received: 你好，李雷！1+1 等于 2。这是一个基本的数学加法问题。如果你有任何其他问题或需要帮助，请随时告诉我。\n"
     ]
    }
   ],
   "source": [
    "from openai import OpenAI\n",
    " \n",
    "client = OpenAI(\n",
    "    api_key = kimi_api_key,\n",
    "    base_url = \"https://api.moonshot.cn/v1\",\n",
    ")\n",
    " \n",
    "response = client.chat.completions.create(\n",
    "    model=\"moonshot-v1-8k\",\n",
    "    messages=[\n",
    "        {\n",
    "            \"role\": \"system\",\n",
    "            \"content\": \"你是 Kimi，由 Moonshot AI 提供的人工智能助手，你更擅长中文和英文的对话。你会为用户提供安全，有帮助，准确的回答。同时，你会拒绝一切涉及恐怖主义，种族歧视，黄色暴力等问题的回答。Moonshot AI 为专有名词，不可翻译成其他语言。\",\n",
    "        },\n",
    "        {\"role\": \"user\", \"content\": \"你好，我叫李雷，1+1等于多少？\"},\n",
    "    ],\n",
    "    temperature=0.3,\n",
    "    stream=True,\n",
    ")\n",
    " \n",
    "collected_messages = []\n",
    "for idx, chunk in enumerate(response):\n",
    "    # print(\"Chunk received, value: \", chunk)\n",
    "    chunk_message = chunk.choices[0].delta\n",
    "    if not chunk_message.content:\n",
    "        continue\n",
    "    collected_messages.append(chunk_message)  # save the message\n",
    "    print(f\"#{idx}: {''.join([m.content for m in collected_messages])}\")\n",
    "print(f\"Full conversation received: {''.join([m.content for m in collected_messages])}\")"
   ]
  },
  {
   "cell_type": "code",
   "execution_count": 27,
   "metadata": {},
   "outputs": [
    {
     "name": "stdout",
     "output_type": "stream",
     "text": [
      "model[0]: moonshot-v1-8k\n",
      "model[1]: moonshot-v1-32k\n",
      "model[2]: moonshot-v1-128k\n"
     ]
    }
   ],
   "source": [
    "from openai import OpenAI\n",
    " \n",
    "client = OpenAI(\n",
    "    api_key = kimi_api_key,\n",
    "    base_url = \"https://api.moonshot.cn/v1\",\n",
    ")\n",
    " \n",
    "model_list = client.models.list()\n",
    "model_data = model_list.data\n",
    " \n",
    "for i, model in enumerate(model_data):\n",
    "    print(f\"model[{i}]:\", model.id)"
   ]
  },
  {
   "cell_type": "code",
   "execution_count": null,
   "metadata": {},
   "outputs": [],
   "source": []
  }
 ],
 "metadata": {
  "kernelspec": {
   "display_name": "python",
   "language": "python",
   "name": "python3"
  },
  "language_info": {
   "codemirror_mode": {
    "name": "ipython",
    "version": 3
   },
   "file_extension": ".py",
   "mimetype": "text/x-python",
   "name": "python",
   "nbconvert_exporter": "python",
   "pygments_lexer": "ipython3",
   "version": "3.12.3"
  }
 },
 "nbformat": 4,
 "nbformat_minor": 2
}
