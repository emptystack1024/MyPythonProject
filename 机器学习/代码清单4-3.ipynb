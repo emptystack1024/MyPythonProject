{
 "cells": [
  {
   "cell_type": "code",
   "execution_count": 1,
   "id": "49b03a77",
   "metadata": {},
   "outputs": [],
   "source": [
    "#1\n",
    "import numpy as np"
   ]
  },
  {
   "cell_type": "code",
   "execution_count": 2,
   "id": "7928361d",
   "metadata": {},
   "outputs": [
    {
     "name": "stdout",
     "output_type": "stream",
     "text": [
      "[[1 2 3]\n",
      " [4 5 6]]\n"
     ]
    }
   ],
   "source": [
    "#2\n",
    "A = np.array([[1,2,3],[4,5,6]])\n",
    "print(A)"
   ]
  },
  {
   "cell_type": "code",
   "execution_count": 3,
   "id": "2d811b72",
   "metadata": {},
   "outputs": [
    {
     "name": "stdout",
     "output_type": "stream",
     "text": [
      "[[ 7  8  9]\n",
      " [10 11 12]]\n"
     ]
    }
   ],
   "source": [
    "#3\n",
    "B = np.array([[7,8,9],[10,11,12]])\n",
    "print(B)"
   ]
  },
  {
   "cell_type": "code",
   "execution_count": 4,
   "id": "f6edbff9",
   "metadata": {},
   "outputs": [
    {
     "name": "stdout",
     "output_type": "stream",
     "text": [
      "[[ 8 10 12]\n",
      " [14 16 18]]\n",
      "[[-6 -6 -6]\n",
      " [-6 -6 -6]]\n"
     ]
    }
   ],
   "source": [
    "#4\n",
    "print(A+B)\n",
    "print(A-B)"
   ]
  },
  {
   "cell_type": "code",
   "execution_count": 5,
   "id": "e797b5b1",
   "metadata": {},
   "outputs": [
    {
     "name": "stdout",
     "output_type": "stream",
     "text": [
      "[[ 2  4  6]\n",
      " [ 8 10 12]]\n"
     ]
    }
   ],
   "source": [
    "#5\n",
    "A = np.array([[1,2,3],[4,5,6]])\n",
    "print(2*A)"
   ]
  },
  {
   "cell_type": "code",
   "execution_count": 6,
   "id": "ef6cda59",
   "metadata": {},
   "outputs": [
    {
     "name": "stdout",
     "output_type": "stream",
     "text": [
      "32\n"
     ]
    }
   ],
   "source": [
    "#6\n",
    "A = np.array([1,2,3])\n",
    "B = np.array([4,5,6])\n",
    "print(A.dot(B))\n"
   ]
  },
  {
   "cell_type": "code",
   "execution_count": 7,
   "id": "c541a423-f488-4c41-ac18-75d4388d06a8",
   "metadata": {},
   "outputs": [
    {
     "name": "stdout",
     "output_type": "stream",
     "text": [
      "[ 4 10 18]\n"
     ]
    }
   ],
   "source": [
    "#7\n",
    "A = np.array([1,2,3])\n",
    "B = np.array([4,5,6])\n",
    "print(A*B)"
   ]
  },
  {
   "cell_type": "code",
   "execution_count": 8,
   "id": "f7f8508e-f7a6-4e40-a1b8-7dcb5e29cca5",
   "metadata": {},
   "outputs": [
    {
     "name": "stdout",
     "output_type": "stream",
     "text": [
      "[0.25 0.4  0.5 ]\n"
     ]
    }
   ],
   "source": [
    "#8\n",
    "A = np.array([1,2,3])\n",
    "B = np.array([4,5,6])\n",
    "print(A/B)\n"
   ]
  },
  {
   "cell_type": "code",
   "execution_count": 9,
   "id": "a71cb06a-f67f-42a2-8d86-c62b6cb3a46f",
   "metadata": {},
   "outputs": [
    {
     "name": "stdout",
     "output_type": "stream",
     "text": [
      "[[ 32 -32]\n",
      " [-32  32]]\n"
     ]
    }
   ],
   "source": [
    "#9 \n",
    "A = np.array([[1,2,3],[-1,-2,-3]])\n",
    "B = np.array([[4,-4],[5,-5],[6,-6]])\n",
    "print(A.dot(B))"
   ]
  },
  {
   "cell_type": "code",
   "execution_count": 10,
   "id": "2673fb17-810c-4692-a50a-ad5330ff36c5",
   "metadata": {},
   "outputs": [
    {
     "name": "stdout",
     "output_type": "stream",
     "text": [
      "[[1. 0. 0.]\n",
      " [0. 1. 0.]\n",
      " [0. 0. 1.]]\n"
     ]
    }
   ],
   "source": [
    "#10\n",
    "A = np.identity(3)\n",
    "print(A)"
   ]
  },
  {
   "cell_type": "code",
   "execution_count": 11,
   "id": "c6b9a7e0-e54d-4b05-adaa-c66422854a7f",
   "metadata": {},
   "outputs": [
    {
     "name": "stdout",
     "output_type": "stream",
     "text": [
      "[[1. 2. 3.]\n",
      " [4. 5. 6.]\n",
      " [7. 8. 9.]]\n"
     ]
    }
   ],
   "source": [
    "#11\n",
    "A = np.identity(3)\n",
    "B = ([[1,2,3],[4,5,6],[7,8,9]])\n",
    "print(A.dot(B))"
   ]
  },
  {
   "cell_type": "code",
   "execution_count": 12,
   "id": "95554af8-b3c3-4717-b35d-6a799238fbdb",
   "metadata": {},
   "outputs": [
    {
     "name": "stdout",
     "output_type": "stream",
     "text": [
      "[[-2.   1. ]\n",
      " [ 1.5 -0.5]]\n",
      "<class 'list'>\n",
      "[[1.00000000e+00 0.00000000e+00]\n",
      " [2.22044605e-16 1.00000000e+00]]\n"
     ]
    }
   ],
   "source": [
    "#12\n",
    "A = ([[1,2],[3,4]])\n",
    "B = np.linalg.inv(A)\n",
    "print(B)\n",
    "#print(A.dot(B))\n",
    "#这样的话会报错\n",
    "print(type(A))\n",
    "#因为A的类型是list不是array\n",
    "\n",
    "#尝试修改上面代码\n",
    "A = np.array([[1,2],[3,4]])\n",
    "B = np.linalg.inv(A)\n",
    "print(B.dot(A))\n",
    "#应该是要A的逆×A"
   ]
  },
  {
   "cell_type": "code",
   "execution_count": 13,
   "id": "79aac22f-9250-42b4-b85d-efd2ba519577",
   "metadata": {},
   "outputs": [
    {
     "name": "stdout",
     "output_type": "stream",
     "text": [
      "[[1 2 3]\n",
      " [4 5 6]]\n",
      "[[1 4]\n",
      " [2 5]\n",
      " [3 6]]\n"
     ]
    }
   ],
   "source": [
    "#13\n",
    "A = np.array([[1,2,3],[4,5,6]])\n",
    "print(A)\n",
    "print(A.T)"
   ]
  },
  {
   "cell_type": "code",
   "execution_count": null,
   "id": "26dadc16-09a6-40f7-9013-aaf03eee8bcf",
   "metadata": {},
   "outputs": [],
   "source": []
  }
 ],
 "metadata": {
  "kernelspec": {
   "display_name": "tensorflow",
   "language": "python",
   "name": "tensorflow"
  },
  "language_info": {
   "codemirror_mode": {
    "name": "ipython",
    "version": 3
   },
   "file_extension": ".py",
   "mimetype": "text/x-python",
   "name": "python",
   "nbconvert_exporter": "python",
   "pygments_lexer": "ipython3",
   "version": "3.6.13"
  }
 },
 "nbformat": 4,
 "nbformat_minor": 5
}
