{
 "cells": [
  {
   "cell_type": "code",
   "execution_count": null,
   "id": "542cc269-23dc-4fc8-a187-059d8fade2cc",
   "metadata": {
    "ExecuteTime": {
     "end_time": "2023-09-24T11:03:17.780224300Z",
     "start_time": "2023-09-24T11:03:17.647702300Z"
    }
   },
   "outputs": [],
   "source": []
  },
  {
   "cell_type": "code",
   "execution_count": null,
   "id": "826a153a-521a-45aa-9e71-b7228aa0e16d",
   "metadata": {},
   "outputs": [],
   "source": []
  }
 ],
 "metadata": {
  "kernelspec": {
   "display_name": "Python 3 (ipykernel)",
   "language": "python",
   "name": "python3"
  },
  "language_info": {
   "codemirror_mode": {
    "name": "ipython",
    "version": 3
   },
   "file_extension": ".py",
   "mimetype": "text/x-python",
   "name": "python",
   "nbconvert_exporter": "python",
   "pygments_lexer": "ipython3",
   "version": "3.9.6"
  }
 },
 "nbformat": 4,
 "nbformat_minor": 5
}
